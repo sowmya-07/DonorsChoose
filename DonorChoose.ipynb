{
 "cells": [
  {
   "cell_type": "code",
   "execution_count": 1,
   "metadata": {},
   "outputs": [],
   "source": [
    "import numpy as np   # Linear Algebra\n",
    "import pandas as pd  # Data manipulation\n",
    "from sklearn.preprocessing import LabelEncoder  #for label encoding\n",
    "import matplotlib.pyplot as plt  # # Data Visualization, magic functio which shows plot inside the J Notebook\n",
    "%matplotlib inline\n",
    "import seaborn as sns  # For Data Visualization\n",
    "import os"
   ]
  },
  {
   "cell_type": "code",
   "execution_count": 2,
   "metadata": {},
   "outputs": [],
   "source": [
    "# Reading required Datasets\n",
    "proj = pd.read_csv('/Users/sowmy/Documents/projects/DonorsChoose/projects.csv/projects.csv')\n",
    "outc = pd.read_csv('/Users/sowmy/Documents/projects/DonorsChoose/outcomes.csv/outcomes.csv')\n",
    "essa = pd.read_csv('/Users/sowmy/Documents/projects/DonorsChoose/essays.csv/essays.csv')"
   ]
  },
  {
   "cell_type": "code",
   "execution_count": 3,
   "metadata": {},
   "outputs": [
    {
     "data": {
      "text/html": [
       "<div>\n",
       "<style scoped>\n",
       "    .dataframe tbody tr th:only-of-type {\n",
       "        vertical-align: middle;\n",
       "    }\n",
       "\n",
       "    .dataframe tbody tr th {\n",
       "        vertical-align: top;\n",
       "    }\n",
       "\n",
       "    .dataframe thead th {\n",
       "        text-align: right;\n",
       "    }\n",
       "</style>\n",
       "<table border=\"1\" class=\"dataframe\">\n",
       "  <thead>\n",
       "    <tr style=\"text-align: right;\">\n",
       "      <th></th>\n",
       "      <th>projectid</th>\n",
       "      <th>teacher_acctid</th>\n",
       "      <th>schoolid</th>\n",
       "      <th>school_ncesid</th>\n",
       "      <th>school_latitude</th>\n",
       "      <th>school_longitude</th>\n",
       "      <th>school_city</th>\n",
       "      <th>school_state</th>\n",
       "      <th>school_zip</th>\n",
       "      <th>school_metro</th>\n",
       "      <th>...</th>\n",
       "      <th>resource_type</th>\n",
       "      <th>poverty_level</th>\n",
       "      <th>grade_level</th>\n",
       "      <th>fulfillment_labor_materials</th>\n",
       "      <th>total_price_excluding_optional_support</th>\n",
       "      <th>total_price_including_optional_support</th>\n",
       "      <th>students_reached</th>\n",
       "      <th>eligible_double_your_impact_match</th>\n",
       "      <th>eligible_almost_home_match</th>\n",
       "      <th>date_posted</th>\n",
       "    </tr>\n",
       "  </thead>\n",
       "  <tbody>\n",
       "    <tr>\n",
       "      <th>0</th>\n",
       "      <td>316ed8fb3b81402ff6ac8f721bb31192</td>\n",
       "      <td>42d43fa6f37314365d08692e08680973</td>\n",
       "      <td>c0e6ce89b244764085691a1b8e28cb81</td>\n",
       "      <td>6.362701e+10</td>\n",
       "      <td>36.576340</td>\n",
       "      <td>-119.608713</td>\n",
       "      <td>Selma</td>\n",
       "      <td>CA</td>\n",
       "      <td>93662.0</td>\n",
       "      <td>NaN</td>\n",
       "      <td>...</td>\n",
       "      <td>Books</td>\n",
       "      <td>highest poverty</td>\n",
       "      <td>Grades 6-8</td>\n",
       "      <td>30.0</td>\n",
       "      <td>555.81</td>\n",
       "      <td>653.89</td>\n",
       "      <td>32.0</td>\n",
       "      <td>f</td>\n",
       "      <td>f</td>\n",
       "      <td>2014-05-12</td>\n",
       "    </tr>\n",
       "    <tr>\n",
       "      <th>1</th>\n",
       "      <td>90de744e368a7e4883223ca49318ae30</td>\n",
       "      <td>864eb466462bf704bf7a16a585ef296a</td>\n",
       "      <td>d711e47810900c96f26a5d0be30c446d</td>\n",
       "      <td>4.837020e+11</td>\n",
       "      <td>32.911179</td>\n",
       "      <td>-96.723640</td>\n",
       "      <td>Dallas</td>\n",
       "      <td>TX</td>\n",
       "      <td>75243.0</td>\n",
       "      <td>urban</td>\n",
       "      <td>...</td>\n",
       "      <td>Books</td>\n",
       "      <td>highest poverty</td>\n",
       "      <td>Grades PreK-2</td>\n",
       "      <td>30.0</td>\n",
       "      <td>296.47</td>\n",
       "      <td>348.79</td>\n",
       "      <td>22.0</td>\n",
       "      <td>f</td>\n",
       "      <td>f</td>\n",
       "      <td>2014-05-12</td>\n",
       "    </tr>\n",
       "    <tr>\n",
       "      <th>2</th>\n",
       "      <td>32943bb1063267de6ed19fc0ceb4b9a7</td>\n",
       "      <td>37f85135259ece793213aca9d8765542</td>\n",
       "      <td>665c3613013ba0a66e3a2a26b89f1b68</td>\n",
       "      <td>4.103270e+11</td>\n",
       "      <td>45.166039</td>\n",
       "      <td>-122.414576</td>\n",
       "      <td>Colton</td>\n",
       "      <td>OR</td>\n",
       "      <td>97017.0</td>\n",
       "      <td>rural</td>\n",
       "      <td>...</td>\n",
       "      <td>Technology</td>\n",
       "      <td>high poverty</td>\n",
       "      <td>Grades PreK-2</td>\n",
       "      <td>30.0</td>\n",
       "      <td>430.89</td>\n",
       "      <td>506.93</td>\n",
       "      <td>17.0</td>\n",
       "      <td>f</td>\n",
       "      <td>f</td>\n",
       "      <td>2014-05-11</td>\n",
       "    </tr>\n",
       "    <tr>\n",
       "      <th>3</th>\n",
       "      <td>bb18f409abda2f264d5acda8cab577a9</td>\n",
       "      <td>2133fc46f951f1e7d60645b0f9e48a6c</td>\n",
       "      <td>4f12c3fa0c1cce823c7ba1df57e90ccb</td>\n",
       "      <td>3.600153e+11</td>\n",
       "      <td>40.641727</td>\n",
       "      <td>-73.965655</td>\n",
       "      <td>Brooklyn</td>\n",
       "      <td>NY</td>\n",
       "      <td>11226.0</td>\n",
       "      <td>urban</td>\n",
       "      <td>...</td>\n",
       "      <td>Books</td>\n",
       "      <td>highest poverty</td>\n",
       "      <td>Grades 3-5</td>\n",
       "      <td>30.0</td>\n",
       "      <td>576.07</td>\n",
       "      <td>677.73</td>\n",
       "      <td>12.0</td>\n",
       "      <td>f</td>\n",
       "      <td>f</td>\n",
       "      <td>2014-05-11</td>\n",
       "    </tr>\n",
       "    <tr>\n",
       "      <th>4</th>\n",
       "      <td>24761b686e18e5eace634607acbcc19f</td>\n",
       "      <td>867ff478a63f5457eaf41049536c47cd</td>\n",
       "      <td>10179fd362d7b8cf0e89baa1ca3025bb</td>\n",
       "      <td>6.227100e+10</td>\n",
       "      <td>34.043939</td>\n",
       "      <td>-118.288371</td>\n",
       "      <td>Los Angeles</td>\n",
       "      <td>CA</td>\n",
       "      <td>90006.0</td>\n",
       "      <td>urban</td>\n",
       "      <td>...</td>\n",
       "      <td>Other</td>\n",
       "      <td>highest poverty</td>\n",
       "      <td>Grades PreK-2</td>\n",
       "      <td>30.0</td>\n",
       "      <td>408.40</td>\n",
       "      <td>480.47</td>\n",
       "      <td>24.0</td>\n",
       "      <td>f</td>\n",
       "      <td>f</td>\n",
       "      <td>2014-05-11</td>\n",
       "    </tr>\n",
       "  </tbody>\n",
       "</table>\n",
       "<p>5 rows × 35 columns</p>\n",
       "</div>"
      ],
      "text/plain": [
       "                          projectid                    teacher_acctid  \\\n",
       "0  316ed8fb3b81402ff6ac8f721bb31192  42d43fa6f37314365d08692e08680973   \n",
       "1  90de744e368a7e4883223ca49318ae30  864eb466462bf704bf7a16a585ef296a   \n",
       "2  32943bb1063267de6ed19fc0ceb4b9a7  37f85135259ece793213aca9d8765542   \n",
       "3  bb18f409abda2f264d5acda8cab577a9  2133fc46f951f1e7d60645b0f9e48a6c   \n",
       "4  24761b686e18e5eace634607acbcc19f  867ff478a63f5457eaf41049536c47cd   \n",
       "\n",
       "                           schoolid  school_ncesid  school_latitude  \\\n",
       "0  c0e6ce89b244764085691a1b8e28cb81   6.362701e+10        36.576340   \n",
       "1  d711e47810900c96f26a5d0be30c446d   4.837020e+11        32.911179   \n",
       "2  665c3613013ba0a66e3a2a26b89f1b68   4.103270e+11        45.166039   \n",
       "3  4f12c3fa0c1cce823c7ba1df57e90ccb   3.600153e+11        40.641727   \n",
       "4  10179fd362d7b8cf0e89baa1ca3025bb   6.227100e+10        34.043939   \n",
       "\n",
       "   school_longitude  school_city school_state  school_zip school_metro  ...  \\\n",
       "0       -119.608713        Selma           CA     93662.0          NaN  ...   \n",
       "1        -96.723640       Dallas           TX     75243.0        urban  ...   \n",
       "2       -122.414576       Colton           OR     97017.0        rural  ...   \n",
       "3        -73.965655     Brooklyn           NY     11226.0        urban  ...   \n",
       "4       -118.288371  Los Angeles           CA     90006.0        urban  ...   \n",
       "\n",
       "  resource_type    poverty_level    grade_level fulfillment_labor_materials  \\\n",
       "0         Books  highest poverty     Grades 6-8                        30.0   \n",
       "1         Books  highest poverty  Grades PreK-2                        30.0   \n",
       "2    Technology     high poverty  Grades PreK-2                        30.0   \n",
       "3         Books  highest poverty     Grades 3-5                        30.0   \n",
       "4         Other  highest poverty  Grades PreK-2                        30.0   \n",
       "\n",
       "  total_price_excluding_optional_support  \\\n",
       "0                                 555.81   \n",
       "1                                 296.47   \n",
       "2                                 430.89   \n",
       "3                                 576.07   \n",
       "4                                 408.40   \n",
       "\n",
       "  total_price_including_optional_support students_reached  \\\n",
       "0                                 653.89             32.0   \n",
       "1                                 348.79             22.0   \n",
       "2                                 506.93             17.0   \n",
       "3                                 677.73             12.0   \n",
       "4                                 480.47             24.0   \n",
       "\n",
       "  eligible_double_your_impact_match eligible_almost_home_match date_posted  \n",
       "0                                 f                          f  2014-05-12  \n",
       "1                                 f                          f  2014-05-12  \n",
       "2                                 f                          f  2014-05-11  \n",
       "3                                 f                          f  2014-05-11  \n",
       "4                                 f                          f  2014-05-11  \n",
       "\n",
       "[5 rows x 35 columns]"
      ]
     },
     "execution_count": 3,
     "metadata": {},
     "output_type": "execute_result"
    }
   ],
   "source": [
    "# reading first five rows of the dataset\n",
    "proj.head()"
   ]
  },
  {
   "cell_type": "code",
   "execution_count": 4,
   "metadata": {},
   "outputs": [
    {
     "name": "stdout",
     "output_type": "stream",
     "text": [
      "Index(['projectid', 'teacher_acctid', 'schoolid', 'school_ncesid',\n",
      "       'school_latitude', 'school_longitude', 'school_city', 'school_state',\n",
      "       'school_zip', 'school_metro', 'school_district', 'school_county',\n",
      "       'school_charter', 'school_magnet', 'school_year_round', 'school_nlns',\n",
      "       'school_kipp', 'school_charter_ready_promise', 'teacher_prefix',\n",
      "       'teacher_teach_for_america', 'teacher_ny_teaching_fellow',\n",
      "       'primary_focus_subject', 'primary_focus_area',\n",
      "       'secondary_focus_subject', 'secondary_focus_area', 'resource_type',\n",
      "       'poverty_level', 'grade_level', 'fulfillment_labor_materials',\n",
      "       'total_price_excluding_optional_support',\n",
      "       'total_price_including_optional_support', 'students_reached',\n",
      "       'eligible_double_your_impact_match', 'eligible_almost_home_match',\n",
      "       'date_posted'],\n",
      "      dtype='object')\n"
     ]
    }
   ],
   "source": [
    "# printing Column names\n",
    "print(proj.columns)"
   ]
  },
  {
   "cell_type": "code",
   "execution_count": 5,
   "metadata": {},
   "outputs": [],
   "source": [
    "#converting 'date_posted' to datetime\n",
    "proj['date_posted'] = pd.to_datetime(proj['date_posted'])"
   ]
  },
  {
   "cell_type": "code",
   "execution_count": 6,
   "metadata": {},
   "outputs": [
    {
     "data": {
      "text/plain": [
       "Timestamp('2002-09-13 00:00:00')"
      ]
     },
     "execution_count": 6,
     "metadata": {},
     "output_type": "execute_result"
    }
   ],
   "source": [
    "# reading min 'date_posed'\n",
    "proj['date_posted'].min()"
   ]
  },
  {
   "cell_type": "code",
   "execution_count": 7,
   "metadata": {},
   "outputs": [
    {
     "data": {
      "text/plain": [
       "Timestamp('2014-05-12 00:00:00')"
      ]
     },
     "execution_count": 7,
     "metadata": {},
     "output_type": "execute_result"
    }
   ],
   "source": [
    "proj.date_posted.max()"
   ]
  },
  {
   "cell_type": "code",
   "execution_count": 8,
   "metadata": {},
   "outputs": [
    {
     "data": {
      "text/plain": [
       "(664098, 35)"
      ]
     },
     "execution_count": 8,
     "metadata": {},
     "output_type": "execute_result"
    }
   ],
   "source": [
    "# Reading no.of rows and columns of the Project data\n",
    "proj.shape"
   ]
  },
  {
   "cell_type": "code",
   "execution_count": 9,
   "metadata": {},
   "outputs": [
    {
     "data": {
      "text/html": [
       "<div>\n",
       "<style scoped>\n",
       "    .dataframe tbody tr th:only-of-type {\n",
       "        vertical-align: middle;\n",
       "    }\n",
       "\n",
       "    .dataframe tbody tr th {\n",
       "        vertical-align: top;\n",
       "    }\n",
       "\n",
       "    .dataframe thead th {\n",
       "        text-align: right;\n",
       "    }\n",
       "</style>\n",
       "<table border=\"1\" class=\"dataframe\">\n",
       "  <thead>\n",
       "    <tr style=\"text-align: right;\">\n",
       "      <th></th>\n",
       "      <th>projectid</th>\n",
       "      <th>teacher_acctid</th>\n",
       "      <th>title</th>\n",
       "      <th>short_description</th>\n",
       "      <th>need_statement</th>\n",
       "      <th>essay</th>\n",
       "    </tr>\n",
       "  </thead>\n",
       "  <tbody>\n",
       "    <tr>\n",
       "      <th>0</th>\n",
       "      <td>ffffc4f85b60efc5b52347df489d0238</td>\n",
       "      <td>c24011b20fc161ed02248e85beb59a90</td>\n",
       "      <td>iMath</td>\n",
       "      <td>It is imperative that teachers bring technolog...</td>\n",
       "      <td>My students need four iPods.</td>\n",
       "      <td>I am a fourth year fifth grade math teacher. T...</td>\n",
       "    </tr>\n",
       "    <tr>\n",
       "      <th>1</th>\n",
       "      <td>ffffac55ee02a49d1abc87ba6fc61135</td>\n",
       "      <td>947066d0af47e0566f334566553dd6a6</td>\n",
       "      <td>Recording Rockin' Readers</td>\n",
       "      <td>Can you imagine having to translate everything...</td>\n",
       "      <td>My students need a camcorder.</td>\n",
       "      <td>Can you imagine having to translate everything...</td>\n",
       "    </tr>\n",
       "    <tr>\n",
       "      <th>2</th>\n",
       "      <td>ffff97ed93720407d70a2787475932b0</td>\n",
       "      <td>462270f5d5c212162fcab11afa2623cb</td>\n",
       "      <td>Kindergarten In Need of Important Materials!</td>\n",
       "      <td>It takes a special person to donate to a group...</td>\n",
       "      <td>My students need 17 assorted classroom materia...</td>\n",
       "      <td>Hi. I teach a wonderful group of 4-5 year old ...</td>\n",
       "    </tr>\n",
       "    <tr>\n",
       "      <th>3</th>\n",
       "      <td>ffff7266778f71242675416e600b94e1</td>\n",
       "      <td>b9a8f14199e0d8109200ece179281f4f</td>\n",
       "      <td>Let's Find Out!</td>\n",
       "      <td>My Kindergarten students come from a variety o...</td>\n",
       "      <td>My students need 25 copies of Scholastic's \"Le...</td>\n",
       "      <td>My Kindergarten students come from a variety o...</td>\n",
       "    </tr>\n",
       "    <tr>\n",
       "      <th>4</th>\n",
       "      <td>ffff418bb42fad24347527ad96100f81</td>\n",
       "      <td>e885fb002a1d0d39aaed9d21a7683549</td>\n",
       "      <td>Whistle While We Work!</td>\n",
       "      <td>By using the cross curricular games requested,...</td>\n",
       "      <td>My students need grade level appropriate games...</td>\n",
       "      <td>All work and no play makes school a dull place...</td>\n",
       "    </tr>\n",
       "  </tbody>\n",
       "</table>\n",
       "</div>"
      ],
      "text/plain": [
       "                          projectid                    teacher_acctid  \\\n",
       "0  ffffc4f85b60efc5b52347df489d0238  c24011b20fc161ed02248e85beb59a90   \n",
       "1  ffffac55ee02a49d1abc87ba6fc61135  947066d0af47e0566f334566553dd6a6   \n",
       "2  ffff97ed93720407d70a2787475932b0  462270f5d5c212162fcab11afa2623cb   \n",
       "3  ffff7266778f71242675416e600b94e1  b9a8f14199e0d8109200ece179281f4f   \n",
       "4  ffff418bb42fad24347527ad96100f81  e885fb002a1d0d39aaed9d21a7683549   \n",
       "\n",
       "                                          title  \\\n",
       "0                                         iMath   \n",
       "1                     Recording Rockin' Readers   \n",
       "2  Kindergarten In Need of Important Materials!   \n",
       "3                               Let's Find Out!   \n",
       "4                        Whistle While We Work!   \n",
       "\n",
       "                                   short_description  \\\n",
       "0  It is imperative that teachers bring technolog...   \n",
       "1  Can you imagine having to translate everything...   \n",
       "2  It takes a special person to donate to a group...   \n",
       "3  My Kindergarten students come from a variety o...   \n",
       "4  By using the cross curricular games requested,...   \n",
       "\n",
       "                                      need_statement  \\\n",
       "0                       My students need four iPods.   \n",
       "1                     My students need a camcorder.    \n",
       "2  My students need 17 assorted classroom materia...   \n",
       "3  My students need 25 copies of Scholastic's \"Le...   \n",
       "4  My students need grade level appropriate games...   \n",
       "\n",
       "                                               essay  \n",
       "0  I am a fourth year fifth grade math teacher. T...  \n",
       "1  Can you imagine having to translate everything...  \n",
       "2  Hi. I teach a wonderful group of 4-5 year old ...  \n",
       "3  My Kindergarten students come from a variety o...  \n",
       "4  All work and no play makes school a dull place...  "
      ]
     },
     "execution_count": 9,
     "metadata": {},
     "output_type": "execute_result"
    }
   ],
   "source": [
    "# reading first five rows of the eassay dataset\n",
    "essa.head()"
   ]
  },
  {
   "cell_type": "code",
   "execution_count": 10,
   "metadata": {},
   "outputs": [
    {
     "data": {
      "text/plain": [
       "(664098, 6)"
      ]
     },
     "execution_count": 10,
     "metadata": {},
     "output_type": "execute_result"
    }
   ],
   "source": [
    "essa.shape"
   ]
  },
  {
   "cell_type": "code",
   "execution_count": 11,
   "metadata": {},
   "outputs": [
    {
     "data": {
      "text/plain": [
       "projectid               0\n",
       "teacher_acctid          0\n",
       "title                  17\n",
       "short_description     132\n",
       "need_statement       1472\n",
       "essay                   3\n",
       "dtype: int64"
      ]
     },
     "execution_count": 11,
     "metadata": {},
     "output_type": "execute_result"
    }
   ],
   "source": [
    "# Checking for missing values\n",
    "essa.isnull().sum()"
   ]
  },
  {
   "cell_type": "code",
   "execution_count": 12,
   "metadata": {},
   "outputs": [],
   "source": [
    "# Droping the missing values\n",
    "essa.dropna(inplace=True)"
   ]
  },
  {
   "cell_type": "code",
   "execution_count": 13,
   "metadata": {},
   "outputs": [
    {
     "data": {
      "text/plain": [
       "projectid            0\n",
       "teacher_acctid       0\n",
       "title                0\n",
       "short_description    0\n",
       "need_statement       0\n",
       "essay                0\n",
       "dtype: int64"
      ]
     },
     "execution_count": 13,
     "metadata": {},
     "output_type": "execute_result"
    }
   ],
   "source": [
    "essa.isnull().sum()"
   ]
  },
  {
   "cell_type": "code",
   "execution_count": 14,
   "metadata": {},
   "outputs": [
    {
     "data": {
      "text/html": [
       "<div>\n",
       "<style scoped>\n",
       "    .dataframe tbody tr th:only-of-type {\n",
       "        vertical-align: middle;\n",
       "    }\n",
       "\n",
       "    .dataframe tbody tr th {\n",
       "        vertical-align: top;\n",
       "    }\n",
       "\n",
       "    .dataframe thead th {\n",
       "        text-align: right;\n",
       "    }\n",
       "</style>\n",
       "<table border=\"1\" class=\"dataframe\">\n",
       "  <thead>\n",
       "    <tr style=\"text-align: right;\">\n",
       "      <th></th>\n",
       "      <th>projectid</th>\n",
       "      <th>is_exciting</th>\n",
       "      <th>at_least_1_teacher_referred_donor</th>\n",
       "      <th>fully_funded</th>\n",
       "      <th>at_least_1_green_donation</th>\n",
       "      <th>great_chat</th>\n",
       "      <th>three_or_more_non_teacher_referred_donors</th>\n",
       "      <th>one_non_teacher_referred_donor_giving_100_plus</th>\n",
       "      <th>donation_from_thoughtful_donor</th>\n",
       "      <th>great_messages_proportion</th>\n",
       "      <th>teacher_referred_count</th>\n",
       "      <th>non_teacher_referred_count</th>\n",
       "    </tr>\n",
       "  </thead>\n",
       "  <tbody>\n",
       "    <tr>\n",
       "      <th>0</th>\n",
       "      <td>ffffc4f85b60efc5b52347df489d0238</td>\n",
       "      <td>f</td>\n",
       "      <td>NaN</td>\n",
       "      <td>f</td>\n",
       "      <td>NaN</td>\n",
       "      <td>f</td>\n",
       "      <td>NaN</td>\n",
       "      <td>NaN</td>\n",
       "      <td>NaN</td>\n",
       "      <td>NaN</td>\n",
       "      <td>NaN</td>\n",
       "      <td>NaN</td>\n",
       "    </tr>\n",
       "    <tr>\n",
       "      <th>1</th>\n",
       "      <td>ffffac55ee02a49d1abc87ba6fc61135</td>\n",
       "      <td>f</td>\n",
       "      <td>f</td>\n",
       "      <td>t</td>\n",
       "      <td>t</td>\n",
       "      <td>f</td>\n",
       "      <td>t</td>\n",
       "      <td>f</td>\n",
       "      <td>f</td>\n",
       "      <td>57.0</td>\n",
       "      <td>0.0</td>\n",
       "      <td>7.0</td>\n",
       "    </tr>\n",
       "    <tr>\n",
       "      <th>2</th>\n",
       "      <td>ffff97ed93720407d70a2787475932b0</td>\n",
       "      <td>f</td>\n",
       "      <td>f</td>\n",
       "      <td>t</td>\n",
       "      <td>t</td>\n",
       "      <td>t</td>\n",
       "      <td>t</td>\n",
       "      <td>t</td>\n",
       "      <td>f</td>\n",
       "      <td>100.0</td>\n",
       "      <td>0.0</td>\n",
       "      <td>3.0</td>\n",
       "    </tr>\n",
       "    <tr>\n",
       "      <th>3</th>\n",
       "      <td>ffff418bb42fad24347527ad96100f81</td>\n",
       "      <td>f</td>\n",
       "      <td>f</td>\n",
       "      <td>f</td>\n",
       "      <td>t</td>\n",
       "      <td>t</td>\n",
       "      <td>f</td>\n",
       "      <td>f</td>\n",
       "      <td>f</td>\n",
       "      <td>100.0</td>\n",
       "      <td>0.0</td>\n",
       "      <td>1.0</td>\n",
       "    </tr>\n",
       "    <tr>\n",
       "      <th>4</th>\n",
       "      <td>ffff2d9c769c8fb5335e949c615425eb</td>\n",
       "      <td>t</td>\n",
       "      <td>t</td>\n",
       "      <td>t</td>\n",
       "      <td>t</td>\n",
       "      <td>t</td>\n",
       "      <td>f</td>\n",
       "      <td>t</td>\n",
       "      <td>f</td>\n",
       "      <td>63.0</td>\n",
       "      <td>6.0</td>\n",
       "      <td>2.0</td>\n",
       "    </tr>\n",
       "  </tbody>\n",
       "</table>\n",
       "</div>"
      ],
      "text/plain": [
       "                          projectid is_exciting  \\\n",
       "0  ffffc4f85b60efc5b52347df489d0238           f   \n",
       "1  ffffac55ee02a49d1abc87ba6fc61135           f   \n",
       "2  ffff97ed93720407d70a2787475932b0           f   \n",
       "3  ffff418bb42fad24347527ad96100f81           f   \n",
       "4  ffff2d9c769c8fb5335e949c615425eb           t   \n",
       "\n",
       "  at_least_1_teacher_referred_donor fully_funded at_least_1_green_donation  \\\n",
       "0                               NaN            f                       NaN   \n",
       "1                                 f            t                         t   \n",
       "2                                 f            t                         t   \n",
       "3                                 f            f                         t   \n",
       "4                                 t            t                         t   \n",
       "\n",
       "  great_chat three_or_more_non_teacher_referred_donors  \\\n",
       "0          f                                       NaN   \n",
       "1          f                                         t   \n",
       "2          t                                         t   \n",
       "3          t                                         f   \n",
       "4          t                                         f   \n",
       "\n",
       "  one_non_teacher_referred_donor_giving_100_plus  \\\n",
       "0                                            NaN   \n",
       "1                                              f   \n",
       "2                                              t   \n",
       "3                                              f   \n",
       "4                                              t   \n",
       "\n",
       "  donation_from_thoughtful_donor  great_messages_proportion  \\\n",
       "0                            NaN                        NaN   \n",
       "1                              f                       57.0   \n",
       "2                              f                      100.0   \n",
       "3                              f                      100.0   \n",
       "4                              f                       63.0   \n",
       "\n",
       "   teacher_referred_count  non_teacher_referred_count  \n",
       "0                     NaN                         NaN  \n",
       "1                     0.0                         7.0  \n",
       "2                     0.0                         3.0  \n",
       "3                     0.0                         1.0  \n",
       "4                     6.0                         2.0  "
      ]
     },
     "execution_count": 14,
     "metadata": {},
     "output_type": "execute_result"
    }
   ],
   "source": [
    "# reading first rows of the outcome dataset\n",
    "outc.head()"
   ]
  },
  {
   "cell_type": "code",
   "execution_count": 15,
   "metadata": {},
   "outputs": [
    {
     "data": {
      "text/plain": [
       "(619326, 12)"
      ]
     },
     "execution_count": 15,
     "metadata": {},
     "output_type": "execute_result"
    }
   ],
   "source": [
    "outc.shape"
   ]
  },
  {
   "cell_type": "code",
   "execution_count": 16,
   "metadata": {},
   "outputs": [],
   "source": [
    "#droping columns\n",
    "outc.drop(columns=['at_least_1_teacher_referred_donor','at_least_1_teacher_referred_donor',\n",
    "     'at_least_1_green_donation','three_or_more_non_teacher_referred_donors',\n",
    "    'one_non_teacher_referred_donor_giving_100_plus','donation_from_thoughtful_donor',\n",
    "     'great_messages_proportion','teacher_referred_count','non_teacher_referred_count','fully_funded','great_chat'], inplace=True)"
   ]
  },
  {
   "cell_type": "code",
   "execution_count": 17,
   "metadata": {},
   "outputs": [
    {
     "data": {
      "text/html": [
       "<div>\n",
       "<style scoped>\n",
       "    .dataframe tbody tr th:only-of-type {\n",
       "        vertical-align: middle;\n",
       "    }\n",
       "\n",
       "    .dataframe tbody tr th {\n",
       "        vertical-align: top;\n",
       "    }\n",
       "\n",
       "    .dataframe thead th {\n",
       "        text-align: right;\n",
       "    }\n",
       "</style>\n",
       "<table border=\"1\" class=\"dataframe\">\n",
       "  <thead>\n",
       "    <tr style=\"text-align: right;\">\n",
       "      <th></th>\n",
       "      <th>projectid</th>\n",
       "      <th>is_exciting</th>\n",
       "    </tr>\n",
       "  </thead>\n",
       "  <tbody>\n",
       "    <tr>\n",
       "      <th>0</th>\n",
       "      <td>ffffc4f85b60efc5b52347df489d0238</td>\n",
       "      <td>f</td>\n",
       "    </tr>\n",
       "    <tr>\n",
       "      <th>1</th>\n",
       "      <td>ffffac55ee02a49d1abc87ba6fc61135</td>\n",
       "      <td>f</td>\n",
       "    </tr>\n",
       "    <tr>\n",
       "      <th>2</th>\n",
       "      <td>ffff97ed93720407d70a2787475932b0</td>\n",
       "      <td>f</td>\n",
       "    </tr>\n",
       "    <tr>\n",
       "      <th>3</th>\n",
       "      <td>ffff418bb42fad24347527ad96100f81</td>\n",
       "      <td>f</td>\n",
       "    </tr>\n",
       "    <tr>\n",
       "      <th>4</th>\n",
       "      <td>ffff2d9c769c8fb5335e949c615425eb</td>\n",
       "      <td>t</td>\n",
       "    </tr>\n",
       "  </tbody>\n",
       "</table>\n",
       "</div>"
      ],
      "text/plain": [
       "                          projectid is_exciting\n",
       "0  ffffc4f85b60efc5b52347df489d0238           f\n",
       "1  ffffac55ee02a49d1abc87ba6fc61135           f\n",
       "2  ffff97ed93720407d70a2787475932b0           f\n",
       "3  ffff418bb42fad24347527ad96100f81           f\n",
       "4  ffff2d9c769c8fb5335e949c615425eb           t"
      ]
     },
     "execution_count": 17,
     "metadata": {},
     "output_type": "execute_result"
    }
   ],
   "source": [
    "outc.head()"
   ]
  },
  {
   "cell_type": "code",
   "execution_count": 18,
   "metadata": {},
   "outputs": [
    {
     "name": "stdout",
     "output_type": "stream",
     "text": [
      "<class 'pandas.core.frame.DataFrame'>\n",
      "RangeIndex: 619326 entries, 0 to 619325\n",
      "Data columns (total 2 columns):\n",
      " #   Column       Non-Null Count   Dtype \n",
      "---  ------       --------------   ----- \n",
      " 0   projectid    619326 non-null  object\n",
      " 1   is_exciting  619326 non-null  object\n",
      "dtypes: object(2)\n",
      "memory usage: 9.5+ MB\n"
     ]
    }
   ],
   "source": [
    "outc.info()"
   ]
  },
  {
   "cell_type": "code",
   "execution_count": 19,
   "metadata": {},
   "outputs": [
    {
     "data": {
      "text/plain": [
       "f    582616\n",
       "t     36710\n",
       "Name: is_exciting, dtype: int64"
      ]
     },
     "execution_count": 19,
     "metadata": {},
     "output_type": "execute_result"
    }
   ],
   "source": [
    "outc['is_exciting'].value_counts()"
   ]
  },
  {
   "cell_type": "code",
   "execution_count": 20,
   "metadata": {},
   "outputs": [
    {
     "data": {
      "text/plain": [
       "f    94.072589\n",
       "t     5.927411\n",
       "Name: is_exciting, dtype: float64"
      ]
     },
     "execution_count": 20,
     "metadata": {},
     "output_type": "execute_result"
    }
   ],
   "source": [
    "outc['is_exciting'].value_counts(normalize = True) * 100"
   ]
  },
  {
   "cell_type": "markdown",
   "metadata": {},
   "source": [
    "# Merging Datasets\n",
    "\n",
    "\n"
   ]
  },
  {
   "cell_type": "code",
   "execution_count": 21,
   "metadata": {},
   "outputs": [],
   "source": [
    "#merging project and essay datasets\n",
    "data = pd.merge(proj, essa)"
   ]
  },
  {
   "cell_type": "code",
   "execution_count": 22,
   "metadata": {},
   "outputs": [
    {
     "data": {
      "text/html": [
       "<div>\n",
       "<style scoped>\n",
       "    .dataframe tbody tr th:only-of-type {\n",
       "        vertical-align: middle;\n",
       "    }\n",
       "\n",
       "    .dataframe tbody tr th {\n",
       "        vertical-align: top;\n",
       "    }\n",
       "\n",
       "    .dataframe thead th {\n",
       "        text-align: right;\n",
       "    }\n",
       "</style>\n",
       "<table border=\"1\" class=\"dataframe\">\n",
       "  <thead>\n",
       "    <tr style=\"text-align: right;\">\n",
       "      <th></th>\n",
       "      <th>projectid</th>\n",
       "      <th>teacher_acctid</th>\n",
       "      <th>schoolid</th>\n",
       "      <th>school_ncesid</th>\n",
       "      <th>school_latitude</th>\n",
       "      <th>school_longitude</th>\n",
       "      <th>school_city</th>\n",
       "      <th>school_state</th>\n",
       "      <th>school_zip</th>\n",
       "      <th>school_metro</th>\n",
       "      <th>...</th>\n",
       "      <th>total_price_excluding_optional_support</th>\n",
       "      <th>total_price_including_optional_support</th>\n",
       "      <th>students_reached</th>\n",
       "      <th>eligible_double_your_impact_match</th>\n",
       "      <th>eligible_almost_home_match</th>\n",
       "      <th>date_posted</th>\n",
       "      <th>title</th>\n",
       "      <th>short_description</th>\n",
       "      <th>need_statement</th>\n",
       "      <th>essay</th>\n",
       "    </tr>\n",
       "  </thead>\n",
       "  <tbody>\n",
       "    <tr>\n",
       "      <th>0</th>\n",
       "      <td>316ed8fb3b81402ff6ac8f721bb31192</td>\n",
       "      <td>42d43fa6f37314365d08692e08680973</td>\n",
       "      <td>c0e6ce89b244764085691a1b8e28cb81</td>\n",
       "      <td>6.362701e+10</td>\n",
       "      <td>36.576340</td>\n",
       "      <td>-119.608713</td>\n",
       "      <td>Selma</td>\n",
       "      <td>CA</td>\n",
       "      <td>93662.0</td>\n",
       "      <td>NaN</td>\n",
       "      <td>...</td>\n",
       "      <td>555.81</td>\n",
       "      <td>653.89</td>\n",
       "      <td>32.0</td>\n",
       "      <td>f</td>\n",
       "      <td>f</td>\n",
       "      <td>2014-05-12</td>\n",
       "      <td>Multiculturalism in Literacy</td>\n",
       "      <td>Can we read one more chapter? Do we have to go...</td>\n",
       "      <td>My students need 3 novel sets with multicultur...</td>\n",
       "      <td>Can we read one more chapter? Do we have to go...</td>\n",
       "    </tr>\n",
       "    <tr>\n",
       "      <th>1</th>\n",
       "      <td>90de744e368a7e4883223ca49318ae30</td>\n",
       "      <td>864eb466462bf704bf7a16a585ef296a</td>\n",
       "      <td>d711e47810900c96f26a5d0be30c446d</td>\n",
       "      <td>4.837020e+11</td>\n",
       "      <td>32.911179</td>\n",
       "      <td>-96.723640</td>\n",
       "      <td>Dallas</td>\n",
       "      <td>TX</td>\n",
       "      <td>75243.0</td>\n",
       "      <td>urban</td>\n",
       "      <td>...</td>\n",
       "      <td>296.47</td>\n",
       "      <td>348.79</td>\n",
       "      <td>22.0</td>\n",
       "      <td>f</td>\n",
       "      <td>f</td>\n",
       "      <td>2014-05-12</td>\n",
       "      <td>Reading is the Window to the World!</td>\n",
       "      <td>Engaging reading materials sent right to my st...</td>\n",
       "      <td>My students need exciting reading materials li...</td>\n",
       "      <td>Engaging reading materials sent right to my st...</td>\n",
       "    </tr>\n",
       "    <tr>\n",
       "      <th>2</th>\n",
       "      <td>32943bb1063267de6ed19fc0ceb4b9a7</td>\n",
       "      <td>37f85135259ece793213aca9d8765542</td>\n",
       "      <td>665c3613013ba0a66e3a2a26b89f1b68</td>\n",
       "      <td>4.103270e+11</td>\n",
       "      <td>45.166039</td>\n",
       "      <td>-122.414576</td>\n",
       "      <td>Colton</td>\n",
       "      <td>OR</td>\n",
       "      <td>97017.0</td>\n",
       "      <td>rural</td>\n",
       "      <td>...</td>\n",
       "      <td>430.89</td>\n",
       "      <td>506.93</td>\n",
       "      <td>17.0</td>\n",
       "      <td>f</td>\n",
       "      <td>f</td>\n",
       "      <td>2014-05-11</td>\n",
       "      <td>A Little Tech Goes A Long Way</td>\n",
       "      <td>Our second grade in rural Oregon is an adventu...</td>\n",
       "      <td>My students need an iPad Mini.</td>\n",
       "      <td>Our second grade in rural Oregon is an adventu...</td>\n",
       "    </tr>\n",
       "    <tr>\n",
       "      <th>3</th>\n",
       "      <td>bb18f409abda2f264d5acda8cab577a9</td>\n",
       "      <td>2133fc46f951f1e7d60645b0f9e48a6c</td>\n",
       "      <td>4f12c3fa0c1cce823c7ba1df57e90ccb</td>\n",
       "      <td>3.600153e+11</td>\n",
       "      <td>40.641727</td>\n",
       "      <td>-73.965655</td>\n",
       "      <td>Brooklyn</td>\n",
       "      <td>NY</td>\n",
       "      <td>11226.0</td>\n",
       "      <td>urban</td>\n",
       "      <td>...</td>\n",
       "      <td>576.07</td>\n",
       "      <td>677.73</td>\n",
       "      <td>12.0</td>\n",
       "      <td>f</td>\n",
       "      <td>f</td>\n",
       "      <td>2014-05-11</td>\n",
       "      <td>Provide Content Aligned, Leveled Texts, For Sc...</td>\n",
       "      <td>Help give 12 Brooklyn students access and orga...</td>\n",
       "      <td>My students need social studies literature res...</td>\n",
       "      <td>Help give 12 Brooklyn students access and orga...</td>\n",
       "    </tr>\n",
       "    <tr>\n",
       "      <th>4</th>\n",
       "      <td>24761b686e18e5eace634607acbcc19f</td>\n",
       "      <td>867ff478a63f5457eaf41049536c47cd</td>\n",
       "      <td>10179fd362d7b8cf0e89baa1ca3025bb</td>\n",
       "      <td>6.227100e+10</td>\n",
       "      <td>34.043939</td>\n",
       "      <td>-118.288371</td>\n",
       "      <td>Los Angeles</td>\n",
       "      <td>CA</td>\n",
       "      <td>90006.0</td>\n",
       "      <td>urban</td>\n",
       "      <td>...</td>\n",
       "      <td>408.40</td>\n",
       "      <td>480.47</td>\n",
       "      <td>24.0</td>\n",
       "      <td>f</td>\n",
       "      <td>f</td>\n",
       "      <td>2014-05-11</td>\n",
       "      <td>Multi-Media Cart</td>\n",
       "      <td>Technology is changing the world as we speak. ...</td>\n",
       "      <td>My students need a multi-media workstation car...</td>\n",
       "      <td>Technology is changing the world as we speak. ...</td>\n",
       "    </tr>\n",
       "  </tbody>\n",
       "</table>\n",
       "<p>5 rows × 39 columns</p>\n",
       "</div>"
      ],
      "text/plain": [
       "                          projectid                    teacher_acctid  \\\n",
       "0  316ed8fb3b81402ff6ac8f721bb31192  42d43fa6f37314365d08692e08680973   \n",
       "1  90de744e368a7e4883223ca49318ae30  864eb466462bf704bf7a16a585ef296a   \n",
       "2  32943bb1063267de6ed19fc0ceb4b9a7  37f85135259ece793213aca9d8765542   \n",
       "3  bb18f409abda2f264d5acda8cab577a9  2133fc46f951f1e7d60645b0f9e48a6c   \n",
       "4  24761b686e18e5eace634607acbcc19f  867ff478a63f5457eaf41049536c47cd   \n",
       "\n",
       "                           schoolid  school_ncesid  school_latitude  \\\n",
       "0  c0e6ce89b244764085691a1b8e28cb81   6.362701e+10        36.576340   \n",
       "1  d711e47810900c96f26a5d0be30c446d   4.837020e+11        32.911179   \n",
       "2  665c3613013ba0a66e3a2a26b89f1b68   4.103270e+11        45.166039   \n",
       "3  4f12c3fa0c1cce823c7ba1df57e90ccb   3.600153e+11        40.641727   \n",
       "4  10179fd362d7b8cf0e89baa1ca3025bb   6.227100e+10        34.043939   \n",
       "\n",
       "   school_longitude  school_city school_state  school_zip school_metro  ...  \\\n",
       "0       -119.608713        Selma           CA     93662.0          NaN  ...   \n",
       "1        -96.723640       Dallas           TX     75243.0        urban  ...   \n",
       "2       -122.414576       Colton           OR     97017.0        rural  ...   \n",
       "3        -73.965655     Brooklyn           NY     11226.0        urban  ...   \n",
       "4       -118.288371  Los Angeles           CA     90006.0        urban  ...   \n",
       "\n",
       "  total_price_excluding_optional_support  \\\n",
       "0                                 555.81   \n",
       "1                                 296.47   \n",
       "2                                 430.89   \n",
       "3                                 576.07   \n",
       "4                                 408.40   \n",
       "\n",
       "  total_price_including_optional_support students_reached  \\\n",
       "0                                 653.89             32.0   \n",
       "1                                 348.79             22.0   \n",
       "2                                 506.93             17.0   \n",
       "3                                 677.73             12.0   \n",
       "4                                 480.47             24.0   \n",
       "\n",
       "  eligible_double_your_impact_match eligible_almost_home_match date_posted  \\\n",
       "0                                 f                          f  2014-05-12   \n",
       "1                                 f                          f  2014-05-12   \n",
       "2                                 f                          f  2014-05-11   \n",
       "3                                 f                          f  2014-05-11   \n",
       "4                                 f                          f  2014-05-11   \n",
       "\n",
       "                                               title  \\\n",
       "0                       Multiculturalism in Literacy   \n",
       "1                Reading is the Window to the World!   \n",
       "2                      A Little Tech Goes A Long Way   \n",
       "3  Provide Content Aligned, Leveled Texts, For Sc...   \n",
       "4                                   Multi-Media Cart   \n",
       "\n",
       "                                   short_description  \\\n",
       "0  Can we read one more chapter? Do we have to go...   \n",
       "1  Engaging reading materials sent right to my st...   \n",
       "2  Our second grade in rural Oregon is an adventu...   \n",
       "3  Help give 12 Brooklyn students access and orga...   \n",
       "4  Technology is changing the world as we speak. ...   \n",
       "\n",
       "                                      need_statement  \\\n",
       "0  My students need 3 novel sets with multicultur...   \n",
       "1  My students need exciting reading materials li...   \n",
       "2                     My students need an iPad Mini.   \n",
       "3  My students need social studies literature res...   \n",
       "4  My students need a multi-media workstation car...   \n",
       "\n",
       "                                               essay  \n",
       "0  Can we read one more chapter? Do we have to go...  \n",
       "1  Engaging reading materials sent right to my st...  \n",
       "2  Our second grade in rural Oregon is an adventu...  \n",
       "3  Help give 12 Brooklyn students access and orga...  \n",
       "4  Technology is changing the world as we speak. ...  \n",
       "\n",
       "[5 rows x 39 columns]"
      ]
     },
     "execution_count": 22,
     "metadata": {},
     "output_type": "execute_result"
    }
   ],
   "source": [
    "data.head()"
   ]
  },
  {
   "cell_type": "code",
   "execution_count": 23,
   "metadata": {},
   "outputs": [
    {
     "data": {
      "text/plain": [
       "(662484, 39)"
      ]
     },
     "execution_count": 23,
     "metadata": {},
     "output_type": "execute_result"
    }
   ],
   "source": [
    "data.shape"
   ]
  },
  {
   "cell_type": "code",
   "execution_count": 24,
   "metadata": {},
   "outputs": [],
   "source": [
    "#merging data and outcome dataset\n",
    "doch = pd.merge(data,outc, on='projectid', how='left') "
   ]
  },
  {
   "cell_type": "code",
   "execution_count": 25,
   "metadata": {},
   "outputs": [
    {
     "data": {
      "text/html": [
       "<div>\n",
       "<style scoped>\n",
       "    .dataframe tbody tr th:only-of-type {\n",
       "        vertical-align: middle;\n",
       "    }\n",
       "\n",
       "    .dataframe tbody tr th {\n",
       "        vertical-align: top;\n",
       "    }\n",
       "\n",
       "    .dataframe thead th {\n",
       "        text-align: right;\n",
       "    }\n",
       "</style>\n",
       "<table border=\"1\" class=\"dataframe\">\n",
       "  <thead>\n",
       "    <tr style=\"text-align: right;\">\n",
       "      <th></th>\n",
       "      <th>projectid</th>\n",
       "      <th>teacher_acctid</th>\n",
       "      <th>schoolid</th>\n",
       "      <th>school_ncesid</th>\n",
       "      <th>school_latitude</th>\n",
       "      <th>school_longitude</th>\n",
       "      <th>school_city</th>\n",
       "      <th>school_state</th>\n",
       "      <th>school_zip</th>\n",
       "      <th>school_metro</th>\n",
       "      <th>...</th>\n",
       "      <th>total_price_including_optional_support</th>\n",
       "      <th>students_reached</th>\n",
       "      <th>eligible_double_your_impact_match</th>\n",
       "      <th>eligible_almost_home_match</th>\n",
       "      <th>date_posted</th>\n",
       "      <th>title</th>\n",
       "      <th>short_description</th>\n",
       "      <th>need_statement</th>\n",
       "      <th>essay</th>\n",
       "      <th>is_exciting</th>\n",
       "    </tr>\n",
       "  </thead>\n",
       "  <tbody>\n",
       "    <tr>\n",
       "      <th>0</th>\n",
       "      <td>316ed8fb3b81402ff6ac8f721bb31192</td>\n",
       "      <td>42d43fa6f37314365d08692e08680973</td>\n",
       "      <td>c0e6ce89b244764085691a1b8e28cb81</td>\n",
       "      <td>6.362701e+10</td>\n",
       "      <td>36.576340</td>\n",
       "      <td>-119.608713</td>\n",
       "      <td>Selma</td>\n",
       "      <td>CA</td>\n",
       "      <td>93662.0</td>\n",
       "      <td>NaN</td>\n",
       "      <td>...</td>\n",
       "      <td>653.89</td>\n",
       "      <td>32.0</td>\n",
       "      <td>f</td>\n",
       "      <td>f</td>\n",
       "      <td>2014-05-12</td>\n",
       "      <td>Multiculturalism in Literacy</td>\n",
       "      <td>Can we read one more chapter? Do we have to go...</td>\n",
       "      <td>My students need 3 novel sets with multicultur...</td>\n",
       "      <td>Can we read one more chapter? Do we have to go...</td>\n",
       "      <td>NaN</td>\n",
       "    </tr>\n",
       "    <tr>\n",
       "      <th>1</th>\n",
       "      <td>90de744e368a7e4883223ca49318ae30</td>\n",
       "      <td>864eb466462bf704bf7a16a585ef296a</td>\n",
       "      <td>d711e47810900c96f26a5d0be30c446d</td>\n",
       "      <td>4.837020e+11</td>\n",
       "      <td>32.911179</td>\n",
       "      <td>-96.723640</td>\n",
       "      <td>Dallas</td>\n",
       "      <td>TX</td>\n",
       "      <td>75243.0</td>\n",
       "      <td>urban</td>\n",
       "      <td>...</td>\n",
       "      <td>348.79</td>\n",
       "      <td>22.0</td>\n",
       "      <td>f</td>\n",
       "      <td>f</td>\n",
       "      <td>2014-05-12</td>\n",
       "      <td>Reading is the Window to the World!</td>\n",
       "      <td>Engaging reading materials sent right to my st...</td>\n",
       "      <td>My students need exciting reading materials li...</td>\n",
       "      <td>Engaging reading materials sent right to my st...</td>\n",
       "      <td>NaN</td>\n",
       "    </tr>\n",
       "    <tr>\n",
       "      <th>2</th>\n",
       "      <td>32943bb1063267de6ed19fc0ceb4b9a7</td>\n",
       "      <td>37f85135259ece793213aca9d8765542</td>\n",
       "      <td>665c3613013ba0a66e3a2a26b89f1b68</td>\n",
       "      <td>4.103270e+11</td>\n",
       "      <td>45.166039</td>\n",
       "      <td>-122.414576</td>\n",
       "      <td>Colton</td>\n",
       "      <td>OR</td>\n",
       "      <td>97017.0</td>\n",
       "      <td>rural</td>\n",
       "      <td>...</td>\n",
       "      <td>506.93</td>\n",
       "      <td>17.0</td>\n",
       "      <td>f</td>\n",
       "      <td>f</td>\n",
       "      <td>2014-05-11</td>\n",
       "      <td>A Little Tech Goes A Long Way</td>\n",
       "      <td>Our second grade in rural Oregon is an adventu...</td>\n",
       "      <td>My students need an iPad Mini.</td>\n",
       "      <td>Our second grade in rural Oregon is an adventu...</td>\n",
       "      <td>NaN</td>\n",
       "    </tr>\n",
       "    <tr>\n",
       "      <th>3</th>\n",
       "      <td>bb18f409abda2f264d5acda8cab577a9</td>\n",
       "      <td>2133fc46f951f1e7d60645b0f9e48a6c</td>\n",
       "      <td>4f12c3fa0c1cce823c7ba1df57e90ccb</td>\n",
       "      <td>3.600153e+11</td>\n",
       "      <td>40.641727</td>\n",
       "      <td>-73.965655</td>\n",
       "      <td>Brooklyn</td>\n",
       "      <td>NY</td>\n",
       "      <td>11226.0</td>\n",
       "      <td>urban</td>\n",
       "      <td>...</td>\n",
       "      <td>677.73</td>\n",
       "      <td>12.0</td>\n",
       "      <td>f</td>\n",
       "      <td>f</td>\n",
       "      <td>2014-05-11</td>\n",
       "      <td>Provide Content Aligned, Leveled Texts, For Sc...</td>\n",
       "      <td>Help give 12 Brooklyn students access and orga...</td>\n",
       "      <td>My students need social studies literature res...</td>\n",
       "      <td>Help give 12 Brooklyn students access and orga...</td>\n",
       "      <td>NaN</td>\n",
       "    </tr>\n",
       "    <tr>\n",
       "      <th>4</th>\n",
       "      <td>24761b686e18e5eace634607acbcc19f</td>\n",
       "      <td>867ff478a63f5457eaf41049536c47cd</td>\n",
       "      <td>10179fd362d7b8cf0e89baa1ca3025bb</td>\n",
       "      <td>6.227100e+10</td>\n",
       "      <td>34.043939</td>\n",
       "      <td>-118.288371</td>\n",
       "      <td>Los Angeles</td>\n",
       "      <td>CA</td>\n",
       "      <td>90006.0</td>\n",
       "      <td>urban</td>\n",
       "      <td>...</td>\n",
       "      <td>480.47</td>\n",
       "      <td>24.0</td>\n",
       "      <td>f</td>\n",
       "      <td>f</td>\n",
       "      <td>2014-05-11</td>\n",
       "      <td>Multi-Media Cart</td>\n",
       "      <td>Technology is changing the world as we speak. ...</td>\n",
       "      <td>My students need a multi-media workstation car...</td>\n",
       "      <td>Technology is changing the world as we speak. ...</td>\n",
       "      <td>NaN</td>\n",
       "    </tr>\n",
       "  </tbody>\n",
       "</table>\n",
       "<p>5 rows × 40 columns</p>\n",
       "</div>"
      ],
      "text/plain": [
       "                          projectid                    teacher_acctid  \\\n",
       "0  316ed8fb3b81402ff6ac8f721bb31192  42d43fa6f37314365d08692e08680973   \n",
       "1  90de744e368a7e4883223ca49318ae30  864eb466462bf704bf7a16a585ef296a   \n",
       "2  32943bb1063267de6ed19fc0ceb4b9a7  37f85135259ece793213aca9d8765542   \n",
       "3  bb18f409abda2f264d5acda8cab577a9  2133fc46f951f1e7d60645b0f9e48a6c   \n",
       "4  24761b686e18e5eace634607acbcc19f  867ff478a63f5457eaf41049536c47cd   \n",
       "\n",
       "                           schoolid  school_ncesid  school_latitude  \\\n",
       "0  c0e6ce89b244764085691a1b8e28cb81   6.362701e+10        36.576340   \n",
       "1  d711e47810900c96f26a5d0be30c446d   4.837020e+11        32.911179   \n",
       "2  665c3613013ba0a66e3a2a26b89f1b68   4.103270e+11        45.166039   \n",
       "3  4f12c3fa0c1cce823c7ba1df57e90ccb   3.600153e+11        40.641727   \n",
       "4  10179fd362d7b8cf0e89baa1ca3025bb   6.227100e+10        34.043939   \n",
       "\n",
       "   school_longitude  school_city school_state  school_zip school_metro  ...  \\\n",
       "0       -119.608713        Selma           CA     93662.0          NaN  ...   \n",
       "1        -96.723640       Dallas           TX     75243.0        urban  ...   \n",
       "2       -122.414576       Colton           OR     97017.0        rural  ...   \n",
       "3        -73.965655     Brooklyn           NY     11226.0        urban  ...   \n",
       "4       -118.288371  Los Angeles           CA     90006.0        urban  ...   \n",
       "\n",
       "  total_price_including_optional_support students_reached  \\\n",
       "0                                 653.89             32.0   \n",
       "1                                 348.79             22.0   \n",
       "2                                 506.93             17.0   \n",
       "3                                 677.73             12.0   \n",
       "4                                 480.47             24.0   \n",
       "\n",
       "  eligible_double_your_impact_match eligible_almost_home_match date_posted  \\\n",
       "0                                 f                          f  2014-05-12   \n",
       "1                                 f                          f  2014-05-12   \n",
       "2                                 f                          f  2014-05-11   \n",
       "3                                 f                          f  2014-05-11   \n",
       "4                                 f                          f  2014-05-11   \n",
       "\n",
       "                                               title  \\\n",
       "0                       Multiculturalism in Literacy   \n",
       "1                Reading is the Window to the World!   \n",
       "2                      A Little Tech Goes A Long Way   \n",
       "3  Provide Content Aligned, Leveled Texts, For Sc...   \n",
       "4                                   Multi-Media Cart   \n",
       "\n",
       "                                   short_description  \\\n",
       "0  Can we read one more chapter? Do we have to go...   \n",
       "1  Engaging reading materials sent right to my st...   \n",
       "2  Our second grade in rural Oregon is an adventu...   \n",
       "3  Help give 12 Brooklyn students access and orga...   \n",
       "4  Technology is changing the world as we speak. ...   \n",
       "\n",
       "                                      need_statement  \\\n",
       "0  My students need 3 novel sets with multicultur...   \n",
       "1  My students need exciting reading materials li...   \n",
       "2                     My students need an iPad Mini.   \n",
       "3  My students need social studies literature res...   \n",
       "4  My students need a multi-media workstation car...   \n",
       "\n",
       "                                               essay is_exciting  \n",
       "0  Can we read one more chapter? Do we have to go...         NaN  \n",
       "1  Engaging reading materials sent right to my st...         NaN  \n",
       "2  Our second grade in rural Oregon is an adventu...         NaN  \n",
       "3  Help give 12 Brooklyn students access and orga...         NaN  \n",
       "4  Technology is changing the world as we speak. ...         NaN  \n",
       "\n",
       "[5 rows x 40 columns]"
      ]
     },
     "execution_count": 25,
     "metadata": {},
     "output_type": "execute_result"
    }
   ],
   "source": [
    "doch.head()"
   ]
  },
  {
   "cell_type": "code",
   "execution_count": 26,
   "metadata": {},
   "outputs": [
    {
     "data": {
      "text/plain": [
       "(662484, 40)"
      ]
     },
     "execution_count": 26,
     "metadata": {},
     "output_type": "execute_result"
    }
   ],
   "source": [
    "doch.shape"
   ]
  },
  {
   "cell_type": "code",
   "execution_count": 27,
   "metadata": {},
   "outputs": [
    {
     "data": {
      "text/plain": [
       "Timestamp('2014-05-12 00:00:00')"
      ]
     },
     "execution_count": 27,
     "metadata": {},
     "output_type": "execute_result"
    }
   ],
   "source": [
    "doch.date_posted.max()"
   ]
  },
  {
   "cell_type": "code",
   "execution_count": 28,
   "metadata": {},
   "outputs": [
    {
     "data": {
      "text/plain": [
       "projectid                                      0\n",
       "teacher_acctid                                 0\n",
       "schoolid                                       0\n",
       "school_ncesid                              42492\n",
       "school_latitude                                0\n",
       "school_longitude                               0\n",
       "school_city                                    0\n",
       "school_state                                   0\n",
       "school_zip                                     4\n",
       "school_metro                               81771\n",
       "school_district                              915\n",
       "school_county                                 17\n",
       "school_charter                                 0\n",
       "school_magnet                                  0\n",
       "school_year_round                              0\n",
       "school_nlns                                    0\n",
       "school_kipp                                    0\n",
       "school_charter_ready_promise                   0\n",
       "teacher_prefix                                 4\n",
       "teacher_teach_for_america                      0\n",
       "teacher_ny_teaching_fellow                     0\n",
       "primary_focus_subject                         38\n",
       "primary_focus_area                            38\n",
       "secondary_focus_subject                   206731\n",
       "secondary_focus_area                      206731\n",
       "resource_type                                 44\n",
       "poverty_level                                  0\n",
       "grade_level                                    8\n",
       "fulfillment_labor_materials                33529\n",
       "total_price_excluding_optional_support         0\n",
       "total_price_including_optional_support         0\n",
       "students_reached                             146\n",
       "eligible_double_your_impact_match              0\n",
       "eligible_almost_home_match                     0\n",
       "date_posted                                    0\n",
       "title                                          0\n",
       "short_description                              0\n",
       "need_statement                                 0\n",
       "essay                                          0\n",
       "is_exciting                                44772\n",
       "dtype: int64"
      ]
     },
     "execution_count": 28,
     "metadata": {},
     "output_type": "execute_result"
    }
   ],
   "source": [
    "doch.isnull().sum()"
   ]
  },
  {
   "cell_type": "code",
   "execution_count": 29,
   "metadata": {},
   "outputs": [
    {
     "data": {
      "text/plain": [
       "Timestamp('2014-05-12 00:00:00')"
      ]
     },
     "execution_count": 29,
     "metadata": {},
     "output_type": "execute_result"
    }
   ],
   "source": [
    "data['date_posted'].max()"
   ]
  },
  {
   "cell_type": "code",
   "execution_count": 30,
   "metadata": {},
   "outputs": [],
   "source": [
    "#Spliting data into  train and test set according to date \n",
    "train = doch[doch['date_posted'] <='2014-01-01']\n",
    "test = doch[doch['date_posted']>='2014-01-01']\n"
   ]
  },
  {
   "cell_type": "code",
   "execution_count": 31,
   "metadata": {},
   "outputs": [
    {
     "data": {
      "text/html": [
       "<div>\n",
       "<style scoped>\n",
       "    .dataframe tbody tr th:only-of-type {\n",
       "        vertical-align: middle;\n",
       "    }\n",
       "\n",
       "    .dataframe tbody tr th {\n",
       "        vertical-align: top;\n",
       "    }\n",
       "\n",
       "    .dataframe thead th {\n",
       "        text-align: right;\n",
       "    }\n",
       "</style>\n",
       "<table border=\"1\" class=\"dataframe\">\n",
       "  <thead>\n",
       "    <tr style=\"text-align: right;\">\n",
       "      <th></th>\n",
       "      <th>projectid</th>\n",
       "      <th>teacher_acctid</th>\n",
       "      <th>schoolid</th>\n",
       "      <th>school_ncesid</th>\n",
       "      <th>school_latitude</th>\n",
       "      <th>school_longitude</th>\n",
       "      <th>school_city</th>\n",
       "      <th>school_state</th>\n",
       "      <th>school_zip</th>\n",
       "      <th>school_metro</th>\n",
       "      <th>...</th>\n",
       "      <th>total_price_including_optional_support</th>\n",
       "      <th>students_reached</th>\n",
       "      <th>eligible_double_your_impact_match</th>\n",
       "      <th>eligible_almost_home_match</th>\n",
       "      <th>date_posted</th>\n",
       "      <th>title</th>\n",
       "      <th>short_description</th>\n",
       "      <th>need_statement</th>\n",
       "      <th>essay</th>\n",
       "      <th>is_exciting</th>\n",
       "    </tr>\n",
       "  </thead>\n",
       "  <tbody>\n",
       "    <tr>\n",
       "      <th>44405</th>\n",
       "      <td>bb085d3e4e07deeff4992ca2eb4d1bce</td>\n",
       "      <td>e8f9a695f9e07f94a66408c6ef1960dd</td>\n",
       "      <td>20331a9c4068c933774735311861fd9c</td>\n",
       "      <td>3.600078e+11</td>\n",
       "      <td>40.774338</td>\n",
       "      <td>-73.984751</td>\n",
       "      <td>New York</td>\n",
       "      <td>NY</td>\n",
       "      <td>10023.0</td>\n",
       "      <td>urban</td>\n",
       "      <td>...</td>\n",
       "      <td>908.45</td>\n",
       "      <td>100.0</td>\n",
       "      <td>f</td>\n",
       "      <td>f</td>\n",
       "      <td>2014-01-01</td>\n",
       "      <td>Technology - Like Jumping Through The Rabbit's...</td>\n",
       "      <td>Ever have that sinking feeling when the copy m...</td>\n",
       "      <td>My students need a laptop Chromebook computer ...</td>\n",
       "      <td>Ever have that sinking feeling when the copy m...</td>\n",
       "      <td>NaN</td>\n",
       "    </tr>\n",
       "    <tr>\n",
       "      <th>44406</th>\n",
       "      <td>cc06856f0e48ca63b529352abf4203fd</td>\n",
       "      <td>bcb9c8fcacb7ff431ba73d002b0e7d75</td>\n",
       "      <td>b74ff738ff6dff9943701adbaac7efc7</td>\n",
       "      <td>3.600078e+11</td>\n",
       "      <td>40.773753</td>\n",
       "      <td>-73.985376</td>\n",
       "      <td>New York</td>\n",
       "      <td>NY</td>\n",
       "      <td>10023.0</td>\n",
       "      <td>urban</td>\n",
       "      <td>...</td>\n",
       "      <td>545.14</td>\n",
       "      <td>198.0</td>\n",
       "      <td>f</td>\n",
       "      <td>f</td>\n",
       "      <td>2014-01-01</td>\n",
       "      <td>We Need Bunsen Burners!</td>\n",
       "      <td>The lab is where science comes to life and stu...</td>\n",
       "      <td>My students need 17 Bunsen burners for our lab...</td>\n",
       "      <td>The lab is where science comes to life and stu...</td>\n",
       "      <td>NaN</td>\n",
       "    </tr>\n",
       "    <tr>\n",
       "      <th>44407</th>\n",
       "      <td>ae1d159a475fcd677f12c964bf8e3d24</td>\n",
       "      <td>0e19db1513a0c79b954c9b6deab0a3ec</td>\n",
       "      <td>8be9741df5fca4a18c9786a2e924e6dc</td>\n",
       "      <td>5.063300e+10</td>\n",
       "      <td>35.351376</td>\n",
       "      <td>-94.340373</td>\n",
       "      <td>Fort Smith</td>\n",
       "      <td>AR</td>\n",
       "      <td>72903.0</td>\n",
       "      <td>urban</td>\n",
       "      <td>...</td>\n",
       "      <td>488.39</td>\n",
       "      <td>28.0</td>\n",
       "      <td>t</td>\n",
       "      <td>f</td>\n",
       "      <td>2014-01-01</td>\n",
       "      <td>Teaching Econ Through Technology</td>\n",
       "      <td>How bored do you get just sitting in a desk an...</td>\n",
       "      <td>My students need an iPad mini with cover!</td>\n",
       "      <td>How bored do you get just sitting in a desk an...</td>\n",
       "      <td>NaN</td>\n",
       "    </tr>\n",
       "    <tr>\n",
       "      <th>44408</th>\n",
       "      <td>c4d5660b590be04fbce7448581152150</td>\n",
       "      <td>da18d82137b7b748b62c0663ba981fd6</td>\n",
       "      <td>3f84ab7c50ec28a525a4ca895c501f5b</td>\n",
       "      <td>2.744190e+11</td>\n",
       "      <td>46.617071</td>\n",
       "      <td>-92.382084</td>\n",
       "      <td>Wrenshall</td>\n",
       "      <td>MN</td>\n",
       "      <td>55797.0</td>\n",
       "      <td>rural</td>\n",
       "      <td>...</td>\n",
       "      <td>228.49</td>\n",
       "      <td>15.0</td>\n",
       "      <td>f</td>\n",
       "      <td>f</td>\n",
       "      <td>2014-01-01</td>\n",
       "      <td>Shaken' It Up With Shuffles!</td>\n",
       "      <td>Recently, during a workshop, I was given a par...</td>\n",
       "      <td>My students need three iPod shuffles to rejuve...</td>\n",
       "      <td>Recently, during a workshop, I was given a par...</td>\n",
       "      <td>NaN</td>\n",
       "    </tr>\n",
       "    <tr>\n",
       "      <th>44409</th>\n",
       "      <td>ab9306f017a1866836db431ed4110f25</td>\n",
       "      <td>085c3acfa53bc13ea2d5b0752c523df8</td>\n",
       "      <td>a2da3241bccb97ea967039fe12734cc7</td>\n",
       "      <td>2.200125e+11</td>\n",
       "      <td>30.515228</td>\n",
       "      <td>-90.992871</td>\n",
       "      <td>Greenwel Spgs</td>\n",
       "      <td>LA</td>\n",
       "      <td>70739.0</td>\n",
       "      <td>NaN</td>\n",
       "      <td>...</td>\n",
       "      <td>354.92</td>\n",
       "      <td>21.0</td>\n",
       "      <td>f</td>\n",
       "      <td>f</td>\n",
       "      <td>2014-01-01</td>\n",
       "      <td>No Habla Ingles</td>\n",
       "      <td>Successful completion of kindergarten includes...</td>\n",
       "      <td>My students need 2 sets of realistic photo car...</td>\n",
       "      <td>Successful completion of kindergarten includes...</td>\n",
       "      <td>NaN</td>\n",
       "    </tr>\n",
       "  </tbody>\n",
       "</table>\n",
       "<p>5 rows × 40 columns</p>\n",
       "</div>"
      ],
      "text/plain": [
       "                              projectid                    teacher_acctid  \\\n",
       "44405  bb085d3e4e07deeff4992ca2eb4d1bce  e8f9a695f9e07f94a66408c6ef1960dd   \n",
       "44406  cc06856f0e48ca63b529352abf4203fd  bcb9c8fcacb7ff431ba73d002b0e7d75   \n",
       "44407  ae1d159a475fcd677f12c964bf8e3d24  0e19db1513a0c79b954c9b6deab0a3ec   \n",
       "44408  c4d5660b590be04fbce7448581152150  da18d82137b7b748b62c0663ba981fd6   \n",
       "44409  ab9306f017a1866836db431ed4110f25  085c3acfa53bc13ea2d5b0752c523df8   \n",
       "\n",
       "                               schoolid  school_ncesid  school_latitude  \\\n",
       "44405  20331a9c4068c933774735311861fd9c   3.600078e+11        40.774338   \n",
       "44406  b74ff738ff6dff9943701adbaac7efc7   3.600078e+11        40.773753   \n",
       "44407  8be9741df5fca4a18c9786a2e924e6dc   5.063300e+10        35.351376   \n",
       "44408  3f84ab7c50ec28a525a4ca895c501f5b   2.744190e+11        46.617071   \n",
       "44409  a2da3241bccb97ea967039fe12734cc7   2.200125e+11        30.515228   \n",
       "\n",
       "       school_longitude    school_city school_state  school_zip school_metro  \\\n",
       "44405        -73.984751       New York           NY     10023.0        urban   \n",
       "44406        -73.985376       New York           NY     10023.0        urban   \n",
       "44407        -94.340373     Fort Smith           AR     72903.0        urban   \n",
       "44408        -92.382084      Wrenshall           MN     55797.0        rural   \n",
       "44409        -90.992871  Greenwel Spgs           LA     70739.0          NaN   \n",
       "\n",
       "       ... total_price_including_optional_support students_reached  \\\n",
       "44405  ...                                 908.45            100.0   \n",
       "44406  ...                                 545.14            198.0   \n",
       "44407  ...                                 488.39             28.0   \n",
       "44408  ...                                 228.49             15.0   \n",
       "44409  ...                                 354.92             21.0   \n",
       "\n",
       "      eligible_double_your_impact_match eligible_almost_home_match  \\\n",
       "44405                                 f                          f   \n",
       "44406                                 f                          f   \n",
       "44407                                 t                          f   \n",
       "44408                                 f                          f   \n",
       "44409                                 f                          f   \n",
       "\n",
       "      date_posted                                              title  \\\n",
       "44405  2014-01-01  Technology - Like Jumping Through The Rabbit's...   \n",
       "44406  2014-01-01                            We Need Bunsen Burners!   \n",
       "44407  2014-01-01                   Teaching Econ Through Technology   \n",
       "44408  2014-01-01                       Shaken' It Up With Shuffles!   \n",
       "44409  2014-01-01                                    No Habla Ingles   \n",
       "\n",
       "                                       short_description  \\\n",
       "44405  Ever have that sinking feeling when the copy m...   \n",
       "44406  The lab is where science comes to life and stu...   \n",
       "44407  How bored do you get just sitting in a desk an...   \n",
       "44408  Recently, during a workshop, I was given a par...   \n",
       "44409  Successful completion of kindergarten includes...   \n",
       "\n",
       "                                          need_statement  \\\n",
       "44405  My students need a laptop Chromebook computer ...   \n",
       "44406  My students need 17 Bunsen burners for our lab...   \n",
       "44407          My students need an iPad mini with cover!   \n",
       "44408  My students need three iPod shuffles to rejuve...   \n",
       "44409  My students need 2 sets of realistic photo car...   \n",
       "\n",
       "                                                   essay is_exciting  \n",
       "44405  Ever have that sinking feeling when the copy m...         NaN  \n",
       "44406  The lab is where science comes to life and stu...         NaN  \n",
       "44407  How bored do you get just sitting in a desk an...         NaN  \n",
       "44408  Recently, during a workshop, I was given a par...         NaN  \n",
       "44409  Successful completion of kindergarten includes...         NaN  \n",
       "\n",
       "[5 rows x 40 columns]"
      ]
     },
     "execution_count": 31,
     "metadata": {},
     "output_type": "execute_result"
    }
   ],
   "source": [
    "train.head()"
   ]
  },
  {
   "cell_type": "code",
   "execution_count": 32,
   "metadata": {},
   "outputs": [
    {
     "data": {
      "text/plain": [
       "(618079, 40)"
      ]
     },
     "execution_count": 32,
     "metadata": {},
     "output_type": "execute_result"
    }
   ],
   "source": [
    "train.shape"
   ]
  },
  {
   "cell_type": "code",
   "execution_count": 33,
   "metadata": {},
   "outputs": [
    {
     "data": {
      "text/html": [
       "<div>\n",
       "<style scoped>\n",
       "    .dataframe tbody tr th:only-of-type {\n",
       "        vertical-align: middle;\n",
       "    }\n",
       "\n",
       "    .dataframe tbody tr th {\n",
       "        vertical-align: top;\n",
       "    }\n",
       "\n",
       "    .dataframe thead th {\n",
       "        text-align: right;\n",
       "    }\n",
       "</style>\n",
       "<table border=\"1\" class=\"dataframe\">\n",
       "  <thead>\n",
       "    <tr style=\"text-align: right;\">\n",
       "      <th></th>\n",
       "      <th>projectid</th>\n",
       "      <th>teacher_acctid</th>\n",
       "      <th>schoolid</th>\n",
       "      <th>school_ncesid</th>\n",
       "      <th>school_latitude</th>\n",
       "      <th>school_longitude</th>\n",
       "      <th>school_city</th>\n",
       "      <th>school_state</th>\n",
       "      <th>school_zip</th>\n",
       "      <th>school_metro</th>\n",
       "      <th>...</th>\n",
       "      <th>total_price_including_optional_support</th>\n",
       "      <th>students_reached</th>\n",
       "      <th>eligible_double_your_impact_match</th>\n",
       "      <th>eligible_almost_home_match</th>\n",
       "      <th>date_posted</th>\n",
       "      <th>title</th>\n",
       "      <th>short_description</th>\n",
       "      <th>need_statement</th>\n",
       "      <th>essay</th>\n",
       "      <th>is_exciting</th>\n",
       "    </tr>\n",
       "  </thead>\n",
       "  <tbody>\n",
       "    <tr>\n",
       "      <th>0</th>\n",
       "      <td>316ed8fb3b81402ff6ac8f721bb31192</td>\n",
       "      <td>42d43fa6f37314365d08692e08680973</td>\n",
       "      <td>c0e6ce89b244764085691a1b8e28cb81</td>\n",
       "      <td>6.362701e+10</td>\n",
       "      <td>36.576340</td>\n",
       "      <td>-119.608713</td>\n",
       "      <td>Selma</td>\n",
       "      <td>CA</td>\n",
       "      <td>93662.0</td>\n",
       "      <td>NaN</td>\n",
       "      <td>...</td>\n",
       "      <td>653.89</td>\n",
       "      <td>32.0</td>\n",
       "      <td>f</td>\n",
       "      <td>f</td>\n",
       "      <td>2014-05-12</td>\n",
       "      <td>Multiculturalism in Literacy</td>\n",
       "      <td>Can we read one more chapter? Do we have to go...</td>\n",
       "      <td>My students need 3 novel sets with multicultur...</td>\n",
       "      <td>Can we read one more chapter? Do we have to go...</td>\n",
       "      <td>NaN</td>\n",
       "    </tr>\n",
       "    <tr>\n",
       "      <th>1</th>\n",
       "      <td>90de744e368a7e4883223ca49318ae30</td>\n",
       "      <td>864eb466462bf704bf7a16a585ef296a</td>\n",
       "      <td>d711e47810900c96f26a5d0be30c446d</td>\n",
       "      <td>4.837020e+11</td>\n",
       "      <td>32.911179</td>\n",
       "      <td>-96.723640</td>\n",
       "      <td>Dallas</td>\n",
       "      <td>TX</td>\n",
       "      <td>75243.0</td>\n",
       "      <td>urban</td>\n",
       "      <td>...</td>\n",
       "      <td>348.79</td>\n",
       "      <td>22.0</td>\n",
       "      <td>f</td>\n",
       "      <td>f</td>\n",
       "      <td>2014-05-12</td>\n",
       "      <td>Reading is the Window to the World!</td>\n",
       "      <td>Engaging reading materials sent right to my st...</td>\n",
       "      <td>My students need exciting reading materials li...</td>\n",
       "      <td>Engaging reading materials sent right to my st...</td>\n",
       "      <td>NaN</td>\n",
       "    </tr>\n",
       "    <tr>\n",
       "      <th>2</th>\n",
       "      <td>32943bb1063267de6ed19fc0ceb4b9a7</td>\n",
       "      <td>37f85135259ece793213aca9d8765542</td>\n",
       "      <td>665c3613013ba0a66e3a2a26b89f1b68</td>\n",
       "      <td>4.103270e+11</td>\n",
       "      <td>45.166039</td>\n",
       "      <td>-122.414576</td>\n",
       "      <td>Colton</td>\n",
       "      <td>OR</td>\n",
       "      <td>97017.0</td>\n",
       "      <td>rural</td>\n",
       "      <td>...</td>\n",
       "      <td>506.93</td>\n",
       "      <td>17.0</td>\n",
       "      <td>f</td>\n",
       "      <td>f</td>\n",
       "      <td>2014-05-11</td>\n",
       "      <td>A Little Tech Goes A Long Way</td>\n",
       "      <td>Our second grade in rural Oregon is an adventu...</td>\n",
       "      <td>My students need an iPad Mini.</td>\n",
       "      <td>Our second grade in rural Oregon is an adventu...</td>\n",
       "      <td>NaN</td>\n",
       "    </tr>\n",
       "    <tr>\n",
       "      <th>3</th>\n",
       "      <td>bb18f409abda2f264d5acda8cab577a9</td>\n",
       "      <td>2133fc46f951f1e7d60645b0f9e48a6c</td>\n",
       "      <td>4f12c3fa0c1cce823c7ba1df57e90ccb</td>\n",
       "      <td>3.600153e+11</td>\n",
       "      <td>40.641727</td>\n",
       "      <td>-73.965655</td>\n",
       "      <td>Brooklyn</td>\n",
       "      <td>NY</td>\n",
       "      <td>11226.0</td>\n",
       "      <td>urban</td>\n",
       "      <td>...</td>\n",
       "      <td>677.73</td>\n",
       "      <td>12.0</td>\n",
       "      <td>f</td>\n",
       "      <td>f</td>\n",
       "      <td>2014-05-11</td>\n",
       "      <td>Provide Content Aligned, Leveled Texts, For Sc...</td>\n",
       "      <td>Help give 12 Brooklyn students access and orga...</td>\n",
       "      <td>My students need social studies literature res...</td>\n",
       "      <td>Help give 12 Brooklyn students access and orga...</td>\n",
       "      <td>NaN</td>\n",
       "    </tr>\n",
       "    <tr>\n",
       "      <th>4</th>\n",
       "      <td>24761b686e18e5eace634607acbcc19f</td>\n",
       "      <td>867ff478a63f5457eaf41049536c47cd</td>\n",
       "      <td>10179fd362d7b8cf0e89baa1ca3025bb</td>\n",
       "      <td>6.227100e+10</td>\n",
       "      <td>34.043939</td>\n",
       "      <td>-118.288371</td>\n",
       "      <td>Los Angeles</td>\n",
       "      <td>CA</td>\n",
       "      <td>90006.0</td>\n",
       "      <td>urban</td>\n",
       "      <td>...</td>\n",
       "      <td>480.47</td>\n",
       "      <td>24.0</td>\n",
       "      <td>f</td>\n",
       "      <td>f</td>\n",
       "      <td>2014-05-11</td>\n",
       "      <td>Multi-Media Cart</td>\n",
       "      <td>Technology is changing the world as we speak. ...</td>\n",
       "      <td>My students need a multi-media workstation car...</td>\n",
       "      <td>Technology is changing the world as we speak. ...</td>\n",
       "      <td>NaN</td>\n",
       "    </tr>\n",
       "  </tbody>\n",
       "</table>\n",
       "<p>5 rows × 40 columns</p>\n",
       "</div>"
      ],
      "text/plain": [
       "                          projectid                    teacher_acctid  \\\n",
       "0  316ed8fb3b81402ff6ac8f721bb31192  42d43fa6f37314365d08692e08680973   \n",
       "1  90de744e368a7e4883223ca49318ae30  864eb466462bf704bf7a16a585ef296a   \n",
       "2  32943bb1063267de6ed19fc0ceb4b9a7  37f85135259ece793213aca9d8765542   \n",
       "3  bb18f409abda2f264d5acda8cab577a9  2133fc46f951f1e7d60645b0f9e48a6c   \n",
       "4  24761b686e18e5eace634607acbcc19f  867ff478a63f5457eaf41049536c47cd   \n",
       "\n",
       "                           schoolid  school_ncesid  school_latitude  \\\n",
       "0  c0e6ce89b244764085691a1b8e28cb81   6.362701e+10        36.576340   \n",
       "1  d711e47810900c96f26a5d0be30c446d   4.837020e+11        32.911179   \n",
       "2  665c3613013ba0a66e3a2a26b89f1b68   4.103270e+11        45.166039   \n",
       "3  4f12c3fa0c1cce823c7ba1df57e90ccb   3.600153e+11        40.641727   \n",
       "4  10179fd362d7b8cf0e89baa1ca3025bb   6.227100e+10        34.043939   \n",
       "\n",
       "   school_longitude  school_city school_state  school_zip school_metro  ...  \\\n",
       "0       -119.608713        Selma           CA     93662.0          NaN  ...   \n",
       "1        -96.723640       Dallas           TX     75243.0        urban  ...   \n",
       "2       -122.414576       Colton           OR     97017.0        rural  ...   \n",
       "3        -73.965655     Brooklyn           NY     11226.0        urban  ...   \n",
       "4       -118.288371  Los Angeles           CA     90006.0        urban  ...   \n",
       "\n",
       "  total_price_including_optional_support students_reached  \\\n",
       "0                                 653.89             32.0   \n",
       "1                                 348.79             22.0   \n",
       "2                                 506.93             17.0   \n",
       "3                                 677.73             12.0   \n",
       "4                                 480.47             24.0   \n",
       "\n",
       "  eligible_double_your_impact_match eligible_almost_home_match date_posted  \\\n",
       "0                                 f                          f  2014-05-12   \n",
       "1                                 f                          f  2014-05-12   \n",
       "2                                 f                          f  2014-05-11   \n",
       "3                                 f                          f  2014-05-11   \n",
       "4                                 f                          f  2014-05-11   \n",
       "\n",
       "                                               title  \\\n",
       "0                       Multiculturalism in Literacy   \n",
       "1                Reading is the Window to the World!   \n",
       "2                      A Little Tech Goes A Long Way   \n",
       "3  Provide Content Aligned, Leveled Texts, For Sc...   \n",
       "4                                   Multi-Media Cart   \n",
       "\n",
       "                                   short_description  \\\n",
       "0  Can we read one more chapter? Do we have to go...   \n",
       "1  Engaging reading materials sent right to my st...   \n",
       "2  Our second grade in rural Oregon is an adventu...   \n",
       "3  Help give 12 Brooklyn students access and orga...   \n",
       "4  Technology is changing the world as we speak. ...   \n",
       "\n",
       "                                      need_statement  \\\n",
       "0  My students need 3 novel sets with multicultur...   \n",
       "1  My students need exciting reading materials li...   \n",
       "2                     My students need an iPad Mini.   \n",
       "3  My students need social studies literature res...   \n",
       "4  My students need a multi-media workstation car...   \n",
       "\n",
       "                                               essay is_exciting  \n",
       "0  Can we read one more chapter? Do we have to go...         NaN  \n",
       "1  Engaging reading materials sent right to my st...         NaN  \n",
       "2  Our second grade in rural Oregon is an adventu...         NaN  \n",
       "3  Help give 12 Brooklyn students access and orga...         NaN  \n",
       "4  Technology is changing the world as we speak. ...         NaN  \n",
       "\n",
       "[5 rows x 40 columns]"
      ]
     },
     "execution_count": 33,
     "metadata": {},
     "output_type": "execute_result"
    }
   ],
   "source": [
    "test.head()"
   ]
  },
  {
   "cell_type": "code",
   "execution_count": 34,
   "metadata": {},
   "outputs": [
    {
     "data": {
      "text/plain": [
       "(44772, 40)"
      ]
     },
     "execution_count": 34,
     "metadata": {},
     "output_type": "execute_result"
    }
   ],
   "source": [
    "test.shape"
   ]
  },
  {
   "cell_type": "markdown",
   "metadata": {},
   "source": [
    "# Exploratory Data Analysis"
   ]
  },
  {
   "cell_type": "code",
   "execution_count": 35,
   "metadata": {},
   "outputs": [
    {
     "data": {
      "text/html": [
       "<div>\n",
       "<style scoped>\n",
       "    .dataframe tbody tr th:only-of-type {\n",
       "        vertical-align: middle;\n",
       "    }\n",
       "\n",
       "    .dataframe tbody tr th {\n",
       "        vertical-align: top;\n",
       "    }\n",
       "\n",
       "    .dataframe thead th {\n",
       "        text-align: right;\n",
       "    }\n",
       "</style>\n",
       "<table border=\"1\" class=\"dataframe\">\n",
       "  <thead>\n",
       "    <tr style=\"text-align: right;\">\n",
       "      <th></th>\n",
       "      <th>school_ncesid</th>\n",
       "      <th>school_latitude</th>\n",
       "      <th>school_longitude</th>\n",
       "      <th>school_zip</th>\n",
       "      <th>fulfillment_labor_materials</th>\n",
       "      <th>total_price_excluding_optional_support</th>\n",
       "      <th>total_price_including_optional_support</th>\n",
       "      <th>students_reached</th>\n",
       "    </tr>\n",
       "  </thead>\n",
       "  <tbody>\n",
       "    <tr>\n",
       "      <th>count</th>\n",
       "      <td>5.794490e+05</td>\n",
       "      <td>618079.000000</td>\n",
       "      <td>618079.000000</td>\n",
       "      <td>618075.000000</td>\n",
       "      <td>584550.000000</td>\n",
       "      <td>618079.000000</td>\n",
       "      <td>6.180790e+05</td>\n",
       "      <td>617935.000000</td>\n",
       "    </tr>\n",
       "    <tr>\n",
       "      <th>mean</th>\n",
       "      <td>2.614825e+11</td>\n",
       "      <td>37.225841</td>\n",
       "      <td>-93.394701</td>\n",
       "      <td>53061.645990</td>\n",
       "      <td>27.306097</td>\n",
       "      <td>519.786371</td>\n",
       "      <td>6.182976e+02</td>\n",
       "      <td>97.633578</td>\n",
       "    </tr>\n",
       "    <tr>\n",
       "      <th>std</th>\n",
       "      <td>1.589610e+11</td>\n",
       "      <td>4.651434</td>\n",
       "      <td>17.755313</td>\n",
       "      <td>31192.047665</td>\n",
       "      <td>8.957319</td>\n",
       "      <td>1634.653072</td>\n",
       "      <td>1.981175e+03</td>\n",
       "      <td>2366.451161</td>\n",
       "    </tr>\n",
       "    <tr>\n",
       "      <th>min</th>\n",
       "      <td>1.000050e+10</td>\n",
       "      <td>18.249140</td>\n",
       "      <td>-176.634989</td>\n",
       "      <td>410.000000</td>\n",
       "      <td>9.000000</td>\n",
       "      <td>0.000000</td>\n",
       "      <td>0.000000e+00</td>\n",
       "      <td>0.000000</td>\n",
       "    </tr>\n",
       "    <tr>\n",
       "      <th>25%</th>\n",
       "      <td>1.000200e+11</td>\n",
       "      <td>34.037704</td>\n",
       "      <td>-112.026142</td>\n",
       "      <td>27608.000000</td>\n",
       "      <td>17.000000</td>\n",
       "      <td>267.420000</td>\n",
       "      <td>3.180100e+02</td>\n",
       "      <td>22.000000</td>\n",
       "    </tr>\n",
       "    <tr>\n",
       "      <th>50%</th>\n",
       "      <td>2.620340e+11</td>\n",
       "      <td>37.624116</td>\n",
       "      <td>-87.688786</td>\n",
       "      <td>53029.000000</td>\n",
       "      <td>30.000000</td>\n",
       "      <td>410.990000</td>\n",
       "      <td>4.879400e+02</td>\n",
       "      <td>30.000000</td>\n",
       "    </tr>\n",
       "    <tr>\n",
       "      <th>75%</th>\n",
       "      <td>3.704720e+11</td>\n",
       "      <td>40.758552</td>\n",
       "      <td>-79.287151</td>\n",
       "      <td>85122.000000</td>\n",
       "      <td>35.000000</td>\n",
       "      <td>580.680000</td>\n",
       "      <td>6.902400e+02</td>\n",
       "      <td>100.000000</td>\n",
       "    </tr>\n",
       "    <tr>\n",
       "      <th>max</th>\n",
       "      <td>6.100009e+11</td>\n",
       "      <td>67.258157</td>\n",
       "      <td>-66.628036</td>\n",
       "      <td>99950.000000</td>\n",
       "      <td>35.000000</td>\n",
       "      <td>1000000.000000</td>\n",
       "      <td>1.219512e+06</td>\n",
       "      <td>999999.000000</td>\n",
       "    </tr>\n",
       "  </tbody>\n",
       "</table>\n",
       "</div>"
      ],
      "text/plain": [
       "       school_ncesid  school_latitude  school_longitude     school_zip  \\\n",
       "count   5.794490e+05    618079.000000     618079.000000  618075.000000   \n",
       "mean    2.614825e+11        37.225841        -93.394701   53061.645990   \n",
       "std     1.589610e+11         4.651434         17.755313   31192.047665   \n",
       "min     1.000050e+10        18.249140       -176.634989     410.000000   \n",
       "25%     1.000200e+11        34.037704       -112.026142   27608.000000   \n",
       "50%     2.620340e+11        37.624116        -87.688786   53029.000000   \n",
       "75%     3.704720e+11        40.758552        -79.287151   85122.000000   \n",
       "max     6.100009e+11        67.258157        -66.628036   99950.000000   \n",
       "\n",
       "       fulfillment_labor_materials  total_price_excluding_optional_support  \\\n",
       "count                584550.000000                           618079.000000   \n",
       "mean                     27.306097                              519.786371   \n",
       "std                       8.957319                             1634.653072   \n",
       "min                       9.000000                                0.000000   \n",
       "25%                      17.000000                              267.420000   \n",
       "50%                      30.000000                              410.990000   \n",
       "75%                      35.000000                              580.680000   \n",
       "max                      35.000000                          1000000.000000   \n",
       "\n",
       "       total_price_including_optional_support  students_reached  \n",
       "count                            6.180790e+05     617935.000000  \n",
       "mean                             6.182976e+02         97.633578  \n",
       "std                              1.981175e+03       2366.451161  \n",
       "min                              0.000000e+00          0.000000  \n",
       "25%                              3.180100e+02         22.000000  \n",
       "50%                              4.879400e+02         30.000000  \n",
       "75%                              6.902400e+02        100.000000  \n",
       "max                              1.219512e+06     999999.000000  "
      ]
     },
     "execution_count": 35,
     "metadata": {},
     "output_type": "execute_result"
    }
   ],
   "source": [
    "train.describe()"
   ]
  },
  {
   "cell_type": "code",
   "execution_count": 36,
   "metadata": {},
   "outputs": [
    {
     "data": {
      "text/html": [
       "<div>\n",
       "<style scoped>\n",
       "    .dataframe tbody tr th:only-of-type {\n",
       "        vertical-align: middle;\n",
       "    }\n",
       "\n",
       "    .dataframe tbody tr th {\n",
       "        vertical-align: top;\n",
       "    }\n",
       "\n",
       "    .dataframe thead th {\n",
       "        text-align: right;\n",
       "    }\n",
       "</style>\n",
       "<table border=\"1\" class=\"dataframe\">\n",
       "  <thead>\n",
       "    <tr style=\"text-align: right;\">\n",
       "      <th></th>\n",
       "      <th>school_ncesid</th>\n",
       "      <th>school_latitude</th>\n",
       "      <th>school_longitude</th>\n",
       "      <th>school_zip</th>\n",
       "      <th>fulfillment_labor_materials</th>\n",
       "      <th>total_price_excluding_optional_support</th>\n",
       "      <th>total_price_including_optional_support</th>\n",
       "      <th>students_reached</th>\n",
       "    </tr>\n",
       "  </thead>\n",
       "  <tbody>\n",
       "    <tr>\n",
       "      <th>count</th>\n",
       "      <td>4.088400e+04</td>\n",
       "      <td>44772.000000</td>\n",
       "      <td>44772.000000</td>\n",
       "      <td>44772.000000</td>\n",
       "      <td>44772.0</td>\n",
       "      <td>44772.000000</td>\n",
       "      <td>44772.000000</td>\n",
       "      <td>44770.000000</td>\n",
       "    </tr>\n",
       "    <tr>\n",
       "      <th>mean</th>\n",
       "      <td>2.537160e+11</td>\n",
       "      <td>37.377279</td>\n",
       "      <td>-93.233501</td>\n",
       "      <td>52270.920620</td>\n",
       "      <td>30.0</td>\n",
       "      <td>625.865619</td>\n",
       "      <td>736.312543</td>\n",
       "      <td>94.383449</td>\n",
       "    </tr>\n",
       "    <tr>\n",
       "      <th>std</th>\n",
       "      <td>1.596667e+11</td>\n",
       "      <td>4.941962</td>\n",
       "      <td>17.862444</td>\n",
       "      <td>31005.482616</td>\n",
       "      <td>0.0</td>\n",
       "      <td>772.735486</td>\n",
       "      <td>909.100622</td>\n",
       "      <td>154.550441</td>\n",
       "    </tr>\n",
       "    <tr>\n",
       "      <th>min</th>\n",
       "      <td>1.000050e+10</td>\n",
       "      <td>19.387832</td>\n",
       "      <td>-170.184872</td>\n",
       "      <td>1020.000000</td>\n",
       "      <td>30.0</td>\n",
       "      <td>50.300000</td>\n",
       "      <td>59.180000</td>\n",
       "      <td>1.000000</td>\n",
       "    </tr>\n",
       "    <tr>\n",
       "      <th>25%</th>\n",
       "      <td>1.000680e+11</td>\n",
       "      <td>34.011274</td>\n",
       "      <td>-111.851896</td>\n",
       "      <td>28054.000000</td>\n",
       "      <td>30.0</td>\n",
       "      <td>270.127500</td>\n",
       "      <td>317.797500</td>\n",
       "      <td>22.000000</td>\n",
       "    </tr>\n",
       "    <tr>\n",
       "      <th>50%</th>\n",
       "      <td>2.502790e+11</td>\n",
       "      <td>37.764591</td>\n",
       "      <td>-87.338636</td>\n",
       "      <td>48313.000000</td>\n",
       "      <td>30.0</td>\n",
       "      <td>415.690000</td>\n",
       "      <td>489.050000</td>\n",
       "      <td>30.000000</td>\n",
       "    </tr>\n",
       "    <tr>\n",
       "      <th>75%</th>\n",
       "      <td>3.703480e+11</td>\n",
       "      <td>40.765168</td>\n",
       "      <td>-79.946002</td>\n",
       "      <td>84306.250000</td>\n",
       "      <td>30.0</td>\n",
       "      <td>694.550000</td>\n",
       "      <td>817.115000</td>\n",
       "      <td>100.000000</td>\n",
       "    </tr>\n",
       "    <tr>\n",
       "      <th>max</th>\n",
       "      <td>5.605160e+11</td>\n",
       "      <td>67.258157</td>\n",
       "      <td>-67.618477</td>\n",
       "      <td>99925.000000</td>\n",
       "      <td>30.0</td>\n",
       "      <td>40722.360000</td>\n",
       "      <td>47908.660000</td>\n",
       "      <td>999.000000</td>\n",
       "    </tr>\n",
       "  </tbody>\n",
       "</table>\n",
       "</div>"
      ],
      "text/plain": [
       "       school_ncesid  school_latitude  school_longitude    school_zip  \\\n",
       "count   4.088400e+04     44772.000000      44772.000000  44772.000000   \n",
       "mean    2.537160e+11        37.377279        -93.233501  52270.920620   \n",
       "std     1.596667e+11         4.941962         17.862444  31005.482616   \n",
       "min     1.000050e+10        19.387832       -170.184872   1020.000000   \n",
       "25%     1.000680e+11        34.011274       -111.851896  28054.000000   \n",
       "50%     2.502790e+11        37.764591        -87.338636  48313.000000   \n",
       "75%     3.703480e+11        40.765168        -79.946002  84306.250000   \n",
       "max     5.605160e+11        67.258157        -67.618477  99925.000000   \n",
       "\n",
       "       fulfillment_labor_materials  total_price_excluding_optional_support  \\\n",
       "count                      44772.0                            44772.000000   \n",
       "mean                          30.0                              625.865619   \n",
       "std                            0.0                              772.735486   \n",
       "min                           30.0                               50.300000   \n",
       "25%                           30.0                              270.127500   \n",
       "50%                           30.0                              415.690000   \n",
       "75%                           30.0                              694.550000   \n",
       "max                           30.0                            40722.360000   \n",
       "\n",
       "       total_price_including_optional_support  students_reached  \n",
       "count                            44772.000000      44770.000000  \n",
       "mean                               736.312543         94.383449  \n",
       "std                                909.100622        154.550441  \n",
       "min                                 59.180000          1.000000  \n",
       "25%                                317.797500         22.000000  \n",
       "50%                                489.050000         30.000000  \n",
       "75%                                817.115000        100.000000  \n",
       "max                              47908.660000        999.000000  "
      ]
     },
     "execution_count": 36,
     "metadata": {},
     "output_type": "execute_result"
    }
   ],
   "source": [
    "test.describe()"
   ]
  },
  {
   "cell_type": "code",
   "execution_count": 37,
   "metadata": {},
   "outputs": [
    {
     "data": {
      "text/plain": [
       "projectid                                      0\n",
       "teacher_acctid                                 0\n",
       "schoolid                                       0\n",
       "school_ncesid                              38630\n",
       "school_latitude                                0\n",
       "school_longitude                               0\n",
       "school_city                                    0\n",
       "school_state                                   0\n",
       "school_zip                                     4\n",
       "school_metro                               75410\n",
       "school_district                              889\n",
       "school_county                                 17\n",
       "school_charter                                 0\n",
       "school_magnet                                  0\n",
       "school_year_round                              0\n",
       "school_nlns                                    0\n",
       "school_kipp                                    0\n",
       "school_charter_ready_promise                   0\n",
       "teacher_prefix                                 0\n",
       "teacher_teach_for_america                      0\n",
       "teacher_ny_teaching_fellow                     0\n",
       "primary_focus_subject                         35\n",
       "primary_focus_area                            35\n",
       "secondary_focus_subject                   192907\n",
       "secondary_focus_area                      192907\n",
       "resource_type                                 42\n",
       "poverty_level                                  0\n",
       "grade_level                                    6\n",
       "fulfillment_labor_materials                33529\n",
       "total_price_excluding_optional_support         0\n",
       "total_price_including_optional_support         0\n",
       "students_reached                             144\n",
       "eligible_double_your_impact_match              0\n",
       "eligible_almost_home_match                     0\n",
       "date_posted                                    0\n",
       "title                                          0\n",
       "short_description                              0\n",
       "need_statement                                 0\n",
       "essay                                          0\n",
       "is_exciting                                  367\n",
       "dtype: int64"
      ]
     },
     "execution_count": 37,
     "metadata": {},
     "output_type": "execute_result"
    }
   ],
   "source": [
    "train.isnull().sum()"
   ]
  },
  {
   "cell_type": "code",
   "execution_count": 38,
   "metadata": {},
   "outputs": [
    {
     "data": {
      "text/plain": [
       "projectid                                  0.000000\n",
       "teacher_acctid                             0.000000\n",
       "schoolid                                   0.000000\n",
       "school_ncesid                              6.250010\n",
       "school_latitude                            0.000000\n",
       "school_longitude                           0.000000\n",
       "school_city                                0.000000\n",
       "school_state                               0.000000\n",
       "school_zip                                 0.000647\n",
       "school_metro                              12.200706\n",
       "school_district                            0.143833\n",
       "school_county                              0.002750\n",
       "school_charter                             0.000000\n",
       "school_magnet                              0.000000\n",
       "school_year_round                          0.000000\n",
       "school_nlns                                0.000000\n",
       "school_kipp                                0.000000\n",
       "school_charter_ready_promise               0.000000\n",
       "teacher_prefix                             0.000000\n",
       "teacher_teach_for_america                  0.000000\n",
       "teacher_ny_teaching_fellow                 0.000000\n",
       "primary_focus_subject                      0.005663\n",
       "primary_focus_area                         0.005663\n",
       "secondary_focus_subject                   31.210735\n",
       "secondary_focus_area                      31.210735\n",
       "resource_type                              0.006795\n",
       "poverty_level                              0.000000\n",
       "grade_level                                0.000971\n",
       "fulfillment_labor_materials                5.424711\n",
       "total_price_excluding_optional_support     0.000000\n",
       "total_price_including_optional_support     0.000000\n",
       "students_reached                           0.023298\n",
       "eligible_double_your_impact_match          0.000000\n",
       "eligible_almost_home_match                 0.000000\n",
       "date_posted                                0.000000\n",
       "title                                      0.000000\n",
       "short_description                          0.000000\n",
       "need_statement                             0.000000\n",
       "essay                                      0.000000\n",
       "is_exciting                                0.059378\n",
       "dtype: float64"
      ]
     },
     "execution_count": 38,
     "metadata": {},
     "output_type": "execute_result"
    }
   ],
   "source": [
    "# Checking percentage of missing values\n",
    "train.isnull().sum() / train.shape[0] * 100"
   ]
  },
  {
   "cell_type": "code",
   "execution_count": 39,
   "metadata": {},
   "outputs": [
    {
     "data": {
      "text/plain": [
       "projectid                                     0\n",
       "teacher_acctid                                0\n",
       "schoolid                                      0\n",
       "school_ncesid                              3888\n",
       "school_latitude                               0\n",
       "school_longitude                              0\n",
       "school_city                                   0\n",
       "school_state                                  0\n",
       "school_zip                                    0\n",
       "school_metro                               6420\n",
       "school_district                              26\n",
       "school_county                                 0\n",
       "school_charter                                0\n",
       "school_magnet                                 0\n",
       "school_year_round                             0\n",
       "school_nlns                                   0\n",
       "school_kipp                                   0\n",
       "school_charter_ready_promise                  0\n",
       "teacher_prefix                                4\n",
       "teacher_teach_for_america                     0\n",
       "teacher_ny_teaching_fellow                    0\n",
       "primary_focus_subject                         3\n",
       "primary_focus_area                            3\n",
       "secondary_focus_subject                   13944\n",
       "secondary_focus_area                      13944\n",
       "resource_type                                 2\n",
       "poverty_level                                 0\n",
       "grade_level                                   2\n",
       "fulfillment_labor_materials                   0\n",
       "total_price_excluding_optional_support        0\n",
       "total_price_including_optional_support        0\n",
       "students_reached                              2\n",
       "eligible_double_your_impact_match             0\n",
       "eligible_almost_home_match                    0\n",
       "date_posted                                   0\n",
       "title                                         0\n",
       "short_description                             0\n",
       "need_statement                                0\n",
       "essay                                         0\n",
       "is_exciting                               44772\n",
       "dtype: int64"
      ]
     },
     "execution_count": 39,
     "metadata": {},
     "output_type": "execute_result"
    }
   ],
   "source": [
    "test.isnull().sum()"
   ]
  },
  {
   "cell_type": "code",
   "execution_count": 40,
   "metadata": {},
   "outputs": [
    {
     "data": {
      "text/plain": [
       "projectid                                   0.000000\n",
       "teacher_acctid                              0.000000\n",
       "schoolid                                    0.000000\n",
       "school_ncesid                               8.683999\n",
       "school_latitude                             0.000000\n",
       "school_longitude                            0.000000\n",
       "school_city                                 0.000000\n",
       "school_state                                0.000000\n",
       "school_zip                                  0.000000\n",
       "school_metro                               14.339319\n",
       "school_district                             0.058072\n",
       "school_county                               0.000000\n",
       "school_charter                              0.000000\n",
       "school_magnet                               0.000000\n",
       "school_year_round                           0.000000\n",
       "school_nlns                                 0.000000\n",
       "school_kipp                                 0.000000\n",
       "school_charter_ready_promise                0.000000\n",
       "teacher_prefix                              0.008934\n",
       "teacher_teach_for_america                   0.000000\n",
       "teacher_ny_teaching_fellow                  0.000000\n",
       "primary_focus_subject                       0.006701\n",
       "primary_focus_area                          0.006701\n",
       "secondary_focus_subject                    31.144465\n",
       "secondary_focus_area                       31.144465\n",
       "resource_type                               0.004467\n",
       "poverty_level                               0.000000\n",
       "grade_level                                 0.004467\n",
       "fulfillment_labor_materials                 0.000000\n",
       "total_price_excluding_optional_support      0.000000\n",
       "total_price_including_optional_support      0.000000\n",
       "students_reached                            0.004467\n",
       "eligible_double_your_impact_match           0.000000\n",
       "eligible_almost_home_match                  0.000000\n",
       "date_posted                                 0.000000\n",
       "title                                       0.000000\n",
       "short_description                           0.000000\n",
       "need_statement                              0.000000\n",
       "essay                                       0.000000\n",
       "is_exciting                               100.000000\n",
       "dtype: float64"
      ]
     },
     "execution_count": 40,
     "metadata": {},
     "output_type": "execute_result"
    }
   ],
   "source": [
    "test.isnull().sum() / test.shape[0] * 100"
   ]
  },
  {
   "cell_type": "code",
   "execution_count": 41,
   "metadata": {},
   "outputs": [
    {
     "data": {
      "text/plain": [
       "<AxesSubplot:xlabel='school_ncesid'>"
      ]
     },
     "execution_count": 41,
     "metadata": {},
     "output_type": "execute_result"
    },
    {
     "data": {
      "image/png": "[encoded data removed]",
      "text/plain": [
       "<Figure size 432x288 with 1 Axes>"
      ]
     },
     "metadata": {
      "needs_background": "light"
     },
     "output_type": "display_data"
    }
   ],
   "source": [
    "sns.boxplot(x=train['school_ncesid']) # checking for outliers"
   ]
  },
  {
   "cell_type": "code",
   "execution_count": 42,
   "metadata": {},
   "outputs": [
    {
     "name": "stderr",
     "output_type": "stream",
     "text": [
      "C:\\Users\\sowmy\\anaconda3\\envs\\tens\\lib\\site-packages\\ipykernel_launcher.py:2: SettingWithCopyWarning: \n",
      "A value is trying to be set on a copy of a slice from a DataFrame.\n",
      "Try using .loc[row_indexer,col_indexer] = value instead\n",
      "\n",
      "See the caveats in the documentation: https://pandas.pydata.org/pandas-docs/stable/user_guide/indexing.html#returning-a-view-versus-a-copy\n",
      "  \n"
     ]
    }
   ],
   "source": [
    "#filling values with most occur values\n",
    "train['school_ncesid'] = train['school_ncesid'].fillna(train['school_ncesid'].median())"
   ]
  },
  {
   "cell_type": "code",
   "execution_count": 43,
   "metadata": {},
   "outputs": [
    {
     "data": {
      "text/plain": [
       "8.683998927901367"
      ]
     },
     "execution_count": 43,
     "metadata": {},
     "output_type": "execute_result"
    }
   ],
   "source": [
    "test['school_ncesid'].isnull().sum() / test['school_ncesid'].shape[0] * 100"
   ]
  },
  {
   "cell_type": "code",
   "execution_count": 44,
   "metadata": {},
   "outputs": [
    {
     "name": "stderr",
     "output_type": "stream",
     "text": [
      "C:\\Users\\sowmy\\anaconda3\\envs\\tens\\lib\\site-packages\\ipykernel_launcher.py:1: SettingWithCopyWarning: \n",
      "A value is trying to be set on a copy of a slice from a DataFrame.\n",
      "Try using .loc[row_indexer,col_indexer] = value instead\n",
      "\n",
      "See the caveats in the documentation: https://pandas.pydata.org/pandas-docs/stable/user_guide/indexing.html#returning-a-view-versus-a-copy\n",
      "  \"\"\"Entry point for launching an IPython kernel.\n"
     ]
    }
   ],
   "source": [
    "test['school_ncesid'] = test['school_ncesid'].fillna(test['school_ncesid'].median())"
   ]
  },
  {
   "cell_type": "code",
   "execution_count": 45,
   "metadata": {},
   "outputs": [
    {
     "data": {
      "text/plain": [
       "CA    118541\n",
       "NY     69266\n",
       "NC     41207\n",
       "IL     37934\n",
       "TX     37217\n",
       "FL     28053\n",
       "SC     17589\n",
       "IN     16048\n",
       "OK     14101\n",
       "GA     13755\n",
       "PA     13300\n",
       "TN     13279\n",
       "LA     11662\n",
       "MO     11278\n",
       "MI     11027\n",
       "VA      9871\n",
       "WA      9722\n",
       "MD      8972\n",
       "AZ      8949\n",
       "NJ      8812\n",
       "UT      8707\n",
       "MA      8522\n",
       "NV      8333\n",
       "CT      7149\n",
       "OH      7021\n",
       "MS      6621\n",
       "CO      6481\n",
       "WI      6432\n",
       "OR      6213\n",
       "DC      5754\n",
       "AR      5251\n",
       "AL      5088\n",
       "MN      4137\n",
       "KY      4077\n",
       "ME      3165\n",
       "IA      2982\n",
       "KS      2667\n",
       "NM      2414\n",
       "HI      2342\n",
       "WV      2149\n",
       "RI      1987\n",
       "ID      1707\n",
       "DE      1464\n",
       "NE      1438\n",
       "NH      1302\n",
       "AK      1229\n",
       "SD       889\n",
       "MT       649\n",
       "VT       501\n",
       "ND       436\n",
       "WY       386\n",
       "La         3\n",
       "Name: school_state, dtype: int64"
      ]
     },
     "execution_count": 45,
     "metadata": {},
     "output_type": "execute_result"
    }
   ],
   "source": [
    "train['school_state'].value_counts()"
   ]
  },
  {
   "cell_type": "code",
   "execution_count": 46,
   "metadata": {},
   "outputs": [
    {
     "name": "stdout",
     "output_type": "stream",
     "text": [
      "float64\n"
     ]
    },
    {
     "data": {
      "text/plain": [
       "4"
      ]
     },
     "execution_count": 46,
     "metadata": {},
     "output_type": "execute_result"
    }
   ],
   "source": [
    "print(train['school_zip'].dtype)\n",
    "train['school_zip'].isnull().sum()"
   ]
  },
  {
   "cell_type": "code",
   "execution_count": 47,
   "metadata": {},
   "outputs": [
    {
     "name": "stderr",
     "output_type": "stream",
     "text": [
      "C:\\Users\\sowmy\\anaconda3\\envs\\tens\\lib\\site-packages\\ipykernel_launcher.py:2: SettingWithCopyWarning: \n",
      "A value is trying to be set on a copy of a slice from a DataFrame.\n",
      "Try using .loc[row_indexer,col_indexer] = value instead\n",
      "\n",
      "See the caveats in the documentation: https://pandas.pydata.org/pandas-docs/stable/user_guide/indexing.html#returning-a-view-versus-a-copy\n",
      "  \n"
     ]
    }
   ],
   "source": [
    "#filling values with median  zip code\n",
    "train['school_zip'] = train['school_zip'].fillna(train['school_zip'].median())\n"
   ]
  },
  {
   "cell_type": "code",
   "execution_count": 48,
   "metadata": {},
   "outputs": [
    {
     "data": {
      "text/plain": [
       "urban       327471\n",
       "suburban    140866\n",
       "rural        74332\n",
       "Name: school_metro, dtype: int64"
      ]
     },
     "execution_count": 48,
     "metadata": {},
     "output_type": "execute_result"
    }
   ],
   "source": [
    "train['school_metro'].value_counts()"
   ]
  },
  {
   "cell_type": "code",
   "execution_count": 49,
   "metadata": {},
   "outputs": [
    {
     "data": {
      "text/plain": [
       "<AxesSubplot:xlabel='school_metro', ylabel='count'>"
      ]
     },
     "execution_count": 49,
     "metadata": {},
     "output_type": "execute_result"
    },
    {
     "data": {
      "image/png": "[encoded data removed]",
      "text/plain": [
       "<Figure size 432x288 with 1 Axes>"
      ]
     },
     "metadata": {
      "needs_background": "light"
     },
     "output_type": "display_data"
    }
   ],
   "source": [
    "sns.countplot(x=train['school_metro'])"
   ]
  },
  {
   "cell_type": "code",
   "execution_count": 50,
   "metadata": {},
   "outputs": [
    {
     "data": {
      "text/plain": [
       "urban       20987\n",
       "suburban    11426\n",
       "rural        5939\n",
       "Name: school_metro, dtype: int64"
      ]
     },
     "execution_count": 50,
     "metadata": {},
     "output_type": "execute_result"
    }
   ],
   "source": [
    "test['school_metro'].value_counts()"
   ]
  },
  {
   "cell_type": "code",
   "execution_count": 51,
   "metadata": {},
   "outputs": [
    {
     "name": "stderr",
     "output_type": "stream",
     "text": [
      "C:\\Users\\sowmy\\anaconda3\\envs\\tens\\lib\\site-packages\\ipykernel_launcher.py:2: SettingWithCopyWarning: \n",
      "A value is trying to be set on a copy of a slice from a DataFrame.\n",
      "Try using .loc[row_indexer,col_indexer] = value instead\n",
      "\n",
      "See the caveats in the documentation: https://pandas.pydata.org/pandas-docs/stable/user_guide/indexing.html#returning-a-view-versus-a-copy\n",
      "  \n",
      "C:\\Users\\sowmy\\anaconda3\\envs\\tens\\lib\\site-packages\\ipykernel_launcher.py:3: SettingWithCopyWarning: \n",
      "A value is trying to be set on a copy of a slice from a DataFrame.\n",
      "Try using .loc[row_indexer,col_indexer] = value instead\n",
      "\n",
      "See the caveats in the documentation: https://pandas.pydata.org/pandas-docs/stable/user_guide/indexing.html#returning-a-view-versus-a-copy\n",
      "  This is separate from the ipykernel package so we can avoid doing imports until\n"
     ]
    }
   ],
   "source": [
    "#filling values with most occured values\n",
    "train['school_metro'] = train['school_metro'].fillna('urban')\n",
    "test['school_metro'] = test['school_metro'].fillna('urban')"
   ]
  },
  {
   "cell_type": "code",
   "execution_count": 52,
   "metadata": {},
   "outputs": [
    {
     "data": {
      "text/plain": [
       "New York City Dept Of Ed          52756\n",
       "Los Angeles Unif Sch Dist         38126\n",
       "Charlotte-mecklenburg Sch Dist     8335\n",
       "Clark Co School District           7528\n",
       "Hillsborough Co Pub Sch Dist       7288\n",
       "                                  ...  \n",
       "Alba Golden Ind School Dist           1\n",
       "Chester Union Free School Dist        1\n",
       "Kohler School District                1\n",
       "Middleburgh Ctl School Dist           1\n",
       "Keytesville School Dist R3            1\n",
       "Name: school_district, Length: 9043, dtype: int64"
      ]
     },
     "execution_count": 52,
     "metadata": {},
     "output_type": "execute_result"
    }
   ],
   "source": [
    "train['school_district'].value_counts()"
   ]
  },
  {
   "cell_type": "code",
   "execution_count": 53,
   "metadata": {},
   "outputs": [
    {
     "data": {
      "text/plain": [
       "New York City Dept Of Ed          2453\n",
       "Los Angeles Unif Sch Dist         1803\n",
       "Camden City School District        790\n",
       "Philadelphia City School Dist      516\n",
       "Charlotte-mecklenburg Sch Dist     513\n",
       "                                  ... \n",
       "St Martin Parish School Dist         1\n",
       "School Administrative Unit 57        1\n",
       "Perry County School District         1\n",
       "Wyomissing Area Sch District         1\n",
       "Madelia Ind School Dist 837          1\n",
       "Name: school_district, Length: 4173, dtype: int64"
      ]
     },
     "execution_count": 53,
     "metadata": {},
     "output_type": "execute_result"
    }
   ],
   "source": [
    "test['school_district'].value_counts()"
   ]
  },
  {
   "cell_type": "code",
   "execution_count": 54,
   "metadata": {},
   "outputs": [
    {
     "name": "stderr",
     "output_type": "stream",
     "text": [
      "C:\\Users\\sowmy\\anaconda3\\envs\\tens\\lib\\site-packages\\ipykernel_launcher.py:2: SettingWithCopyWarning: \n",
      "A value is trying to be set on a copy of a slice from a DataFrame.\n",
      "Try using .loc[row_indexer,col_indexer] = value instead\n",
      "\n",
      "See the caveats in the documentation: https://pandas.pydata.org/pandas-docs/stable/user_guide/indexing.html#returning-a-view-versus-a-copy\n",
      "  \n",
      "C:\\Users\\sowmy\\anaconda3\\envs\\tens\\lib\\site-packages\\ipykernel_launcher.py:3: SettingWithCopyWarning: \n",
      "A value is trying to be set on a copy of a slice from a DataFrame.\n",
      "Try using .loc[row_indexer,col_indexer] = value instead\n",
      "\n",
      "See the caveats in the documentation: https://pandas.pydata.org/pandas-docs/stable/user_guide/indexing.html#returning-a-view-versus-a-copy\n",
      "  This is separate from the ipykernel package so we can avoid doing imports until\n"
     ]
    }
   ],
   "source": [
    "#filling values with most occured values\n",
    "train['school_district'] = train['school_district'].fillna('New York City Dept Of Ed')\n",
    "test['school_district'] = test['school_district'].fillna('New York City Dept Of Ed')"
   ]
  },
  {
   "cell_type": "code",
   "execution_count": 55,
   "metadata": {},
   "outputs": [
    {
     "data": {
      "text/plain": [
       "Los Angeles             47554\n",
       "Cook                    30063\n",
       "Kings (Brooklyn)        18490\n",
       "Bronx                   17252\n",
       "New York (Manhattan)    13177\n",
       "                        ...  \n",
       "Fergus                      1\n",
       "Searcy                      1\n",
       "Rich                        1\n",
       "Poweshiek                   1\n",
       "Gilliam                     1\n",
       "Name: school_county, Length: 1689, dtype: int64"
      ]
     },
     "execution_count": 55,
     "metadata": {},
     "output_type": "execute_result"
    }
   ],
   "source": [
    "train['school_county'].value_counts()"
   ]
  },
  {
   "cell_type": "code",
   "execution_count": 56,
   "metadata": {},
   "outputs": [
    {
     "name": "stderr",
     "output_type": "stream",
     "text": [
      "C:\\Users\\sowmy\\anaconda3\\envs\\tens\\lib\\site-packages\\ipykernel_launcher.py:2: SettingWithCopyWarning: \n",
      "A value is trying to be set on a copy of a slice from a DataFrame.\n",
      "Try using .loc[row_indexer,col_indexer] = value instead\n",
      "\n",
      "See the caveats in the documentation: https://pandas.pydata.org/pandas-docs/stable/user_guide/indexing.html#returning-a-view-versus-a-copy\n",
      "  \n"
     ]
    }
   ],
   "source": [
    "#filling values with most occured values\n",
    "train['school_county'] = train['school_county'].fillna(\"Los Angeles\")"
   ]
  },
  {
   "cell_type": "code",
   "execution_count": 57,
   "metadata": {},
   "outputs": [
    {
     "data": {
      "text/plain": [
       "Literacy                 188325\n",
       "Literature & Writing      76849\n",
       "Mathematics               74587\n",
       "Special Needs             39027\n",
       "Applied Sciences          29027\n",
       "Visual Arts               28707\n",
       "Environmental Science     24877\n",
       "Health & Life Science     23013\n",
       "Music                     19233\n",
       "History & Geography       15915\n",
       "Early Development         13154\n",
       "Other                     12419\n",
       "Social Sciences            9580\n",
       "ESL                        9206\n",
       "Character Education        9144\n",
       "Performing Arts            7892\n",
       "Gym & Fitness              6493\n",
       "Health & Wellness          5995\n",
       "College & Career Prep      5951\n",
       "Foreign Languages          5103\n",
       "Sports                     3262\n",
       "Extracurricular            2890\n",
       "Civics & Government        2311\n",
       "Economics                  1488\n",
       "Community Service          1392\n",
       "Parent Involvement         1216\n",
       "Nutrition                   988\n",
       "Name: primary_focus_subject, dtype: int64"
      ]
     },
     "execution_count": 57,
     "metadata": {},
     "output_type": "execute_result"
    }
   ],
   "source": [
    "train['primary_focus_subject'].value_counts()"
   ]
  },
  {
   "cell_type": "code",
   "execution_count": 58,
   "metadata": {},
   "outputs": [
    {
     "data": {
      "text/plain": [
       "Literacy                 12774\n",
       "Mathematics               6292\n",
       "Literature & Writing      5320\n",
       "Special Needs             2948\n",
       "Applied Sciences          2530\n",
       "Environmental Science     2247\n",
       "Visual Arts               1973\n",
       "Health & Life Science     1577\n",
       "Music                     1336\n",
       "Early Development          918\n",
       "History & Geography        881\n",
       "Health & Wellness          722\n",
       "Other                      671\n",
       "Performing Arts            632\n",
       "ESL                        591\n",
       "College & Career Prep      569\n",
       "Gym & Fitness              560\n",
       "Character Education        403\n",
       "Social Sciences            385\n",
       "Economics                  314\n",
       "Foreign Languages          284\n",
       "Sports                     267\n",
       "Extracurricular            188\n",
       "Nutrition                  138\n",
       "Civics & Government        109\n",
       "Community Service           99\n",
       "Parent Involvement          41\n",
       "Name: primary_focus_subject, dtype: int64"
      ]
     },
     "execution_count": 58,
     "metadata": {},
     "output_type": "execute_result"
    }
   ],
   "source": [
    "test['primary_focus_subject'].value_counts()"
   ]
  },
  {
   "cell_type": "code",
   "execution_count": 59,
   "metadata": {
    "scrolled": true
   },
   "outputs": [
    {
     "name": "stderr",
     "output_type": "stream",
     "text": [
      "C:\\Users\\sowmy\\anaconda3\\envs\\tens\\lib\\site-packages\\ipykernel_launcher.py:2: SettingWithCopyWarning: \n",
      "A value is trying to be set on a copy of a slice from a DataFrame.\n",
      "Try using .loc[row_indexer,col_indexer] = value instead\n",
      "\n",
      "See the caveats in the documentation: https://pandas.pydata.org/pandas-docs/stable/user_guide/indexing.html#returning-a-view-versus-a-copy\n",
      "  \n",
      "C:\\Users\\sowmy\\anaconda3\\envs\\tens\\lib\\site-packages\\ipykernel_launcher.py:3: SettingWithCopyWarning: \n",
      "A value is trying to be set on a copy of a slice from a DataFrame.\n",
      "Try using .loc[row_indexer,col_indexer] = value instead\n",
      "\n",
      "See the caveats in the documentation: https://pandas.pydata.org/pandas-docs/stable/user_guide/indexing.html#returning-a-view-versus-a-copy\n",
      "  This is separate from the ipykernel package so we can avoid doing imports until\n"
     ]
    }
   ],
   "source": [
    "#filling values with most occured values\n",
    "train['primary_focus_subject'] = train['primary_focus_subject'].fillna(\"Literacy\")\n",
    "test['primary_focus_subject'] = test['primary_focus_subject'].fillna(\"Literacy\")"
   ]
  },
  {
   "cell_type": "code",
   "execution_count": 60,
   "metadata": {},
   "outputs": [
    {
     "data": {
      "text/plain": [
       "Literacy & Language    279483\n",
       "Math & Science         151504\n",
       "Music & The Arts        55832\n",
       "Applied Learning        46166\n",
       "Special Needs           39027\n",
       "History & Civics        29294\n",
       "Health & Sports         16738\n",
       "Name: primary_focus_area, dtype: int64"
      ]
     },
     "execution_count": 60,
     "metadata": {},
     "output_type": "execute_result"
    }
   ],
   "source": [
    "train['primary_focus_area'].value_counts()"
   ]
  },
  {
   "cell_type": "code",
   "execution_count": 61,
   "metadata": {},
   "outputs": [
    {
     "data": {
      "text/plain": [
       "Literacy & Language    18969\n",
       "Math & Science         12646\n",
       "Music & The Arts        3941\n",
       "Special Needs           2948\n",
       "Applied Learning        2889\n",
       "History & Civics        1689\n",
       "Health & Sports         1687\n",
       "Name: primary_focus_area, dtype: int64"
      ]
     },
     "execution_count": 61,
     "metadata": {},
     "output_type": "execute_result"
    }
   ],
   "source": [
    "test['primary_focus_area'].value_counts()"
   ]
  },
  {
   "cell_type": "code",
   "execution_count": 62,
   "metadata": {},
   "outputs": [
    {
     "name": "stderr",
     "output_type": "stream",
     "text": [
      "C:\\Users\\sowmy\\anaconda3\\envs\\tens\\lib\\site-packages\\ipykernel_launcher.py:2: SettingWithCopyWarning: \n",
      "A value is trying to be set on a copy of a slice from a DataFrame.\n",
      "Try using .loc[row_indexer,col_indexer] = value instead\n",
      "\n",
      "See the caveats in the documentation: https://pandas.pydata.org/pandas-docs/stable/user_guide/indexing.html#returning-a-view-versus-a-copy\n",
      "  \n"
     ]
    }
   ],
   "source": [
    "#filling values with most occured values\n",
    "train['primary_focus_area'] = train['primary_focus_area'].fillna(\"Literacy & Language\")"
   ]
  },
  {
   "cell_type": "code",
   "execution_count": 63,
   "metadata": {},
   "outputs": [
    {
     "name": "stderr",
     "output_type": "stream",
     "text": [
      "C:\\Users\\sowmy\\anaconda3\\envs\\tens\\lib\\site-packages\\ipykernel_launcher.py:1: SettingWithCopyWarning: \n",
      "A value is trying to be set on a copy of a slice from a DataFrame.\n",
      "Try using .loc[row_indexer,col_indexer] = value instead\n",
      "\n",
      "See the caveats in the documentation: https://pandas.pydata.org/pandas-docs/stable/user_guide/indexing.html#returning-a-view-versus-a-copy\n",
      "  \"\"\"Entry point for launching an IPython kernel.\n"
     ]
    }
   ],
   "source": [
    "test['primary_focus_area'] = test['primary_focus_area'].fillna(\"Literacy & Language\")"
   ]
  },
  {
   "cell_type": "code",
   "execution_count": 64,
   "metadata": {},
   "outputs": [
    {
     "data": {
      "text/plain": [
       "Supplies      213738\n",
       "Technology    199955\n",
       "Books         133942\n",
       "Other          64871\n",
       "Trips           4633\n",
       "Visitors         898\n",
       "Name: resource_type, dtype: int64"
      ]
     },
     "execution_count": 64,
     "metadata": {},
     "output_type": "execute_result"
    }
   ],
   "source": [
    "train['resource_type'].value_counts()"
   ]
  },
  {
   "cell_type": "code",
   "execution_count": 65,
   "metadata": {},
   "outputs": [
    {
     "data": {
      "text/plain": [
       "Technology    16098\n",
       "Supplies      15043\n",
       "Books          8186\n",
       "Other          4612\n",
       "Trips           730\n",
       "Visitors        101\n",
       "Name: resource_type, dtype: int64"
      ]
     },
     "execution_count": 65,
     "metadata": {},
     "output_type": "execute_result"
    }
   ],
   "source": [
    "test['resource_type'].value_counts()"
   ]
  },
  {
   "cell_type": "code",
   "execution_count": 66,
   "metadata": {},
   "outputs": [
    {
     "name": "stderr",
     "output_type": "stream",
     "text": [
      "C:\\Users\\sowmy\\anaconda3\\envs\\tens\\lib\\site-packages\\ipykernel_launcher.py:2: SettingWithCopyWarning: \n",
      "A value is trying to be set on a copy of a slice from a DataFrame.\n",
      "Try using .loc[row_indexer,col_indexer] = value instead\n",
      "\n",
      "See the caveats in the documentation: https://pandas.pydata.org/pandas-docs/stable/user_guide/indexing.html#returning-a-view-versus-a-copy\n",
      "  \n"
     ]
    }
   ],
   "source": [
    "#filling values with most occured values\n",
    "train['resource_type'] = train['resource_type'].fillna(\"supplies\")"
   ]
  },
  {
   "cell_type": "code",
   "execution_count": 67,
   "metadata": {},
   "outputs": [
    {
     "name": "stderr",
     "output_type": "stream",
     "text": [
      "C:\\Users\\sowmy\\anaconda3\\envs\\tens\\lib\\site-packages\\ipykernel_launcher.py:1: SettingWithCopyWarning: \n",
      "A value is trying to be set on a copy of a slice from a DataFrame.\n",
      "Try using .loc[row_indexer,col_indexer] = value instead\n",
      "\n",
      "See the caveats in the documentation: https://pandas.pydata.org/pandas-docs/stable/user_guide/indexing.html#returning-a-view-versus-a-copy\n",
      "  \"\"\"Entry point for launching an IPython kernel.\n"
     ]
    }
   ],
   "source": [
    "test['resource_type'] = test['resource_type'].fillna(\"Technology\")"
   ]
  },
  {
   "cell_type": "code",
   "execution_count": 68,
   "metadata": {},
   "outputs": [
    {
     "data": {
      "text/plain": [
       "Grades PreK-2    228177\n",
       "Grades 3-5       190318\n",
       "Grades 6-8       106793\n",
       "Grades 9-12       92785\n",
       "Name: grade_level, dtype: int64"
      ]
     },
     "execution_count": 68,
     "metadata": {},
     "output_type": "execute_result"
    }
   ],
   "source": [
    "train['grade_level'].value_counts()"
   ]
  },
  {
   "cell_type": "code",
   "execution_count": 69,
   "metadata": {},
   "outputs": [
    {
     "data": {
      "text/plain": [
       "Grades PreK-2    17385\n",
       "Grades 3-5       13757\n",
       "Grades 6-8        7582\n",
       "Grades 9-12       6046\n",
       "Name: grade_level, dtype: int64"
      ]
     },
     "execution_count": 69,
     "metadata": {},
     "output_type": "execute_result"
    }
   ],
   "source": [
    "test['grade_level'].value_counts()"
   ]
  },
  {
   "cell_type": "code",
   "execution_count": 70,
   "metadata": {},
   "outputs": [
    {
     "name": "stderr",
     "output_type": "stream",
     "text": [
      "C:\\Users\\sowmy\\anaconda3\\envs\\tens\\lib\\site-packages\\ipykernel_launcher.py:2: SettingWithCopyWarning: \n",
      "A value is trying to be set on a copy of a slice from a DataFrame.\n",
      "Try using .loc[row_indexer,col_indexer] = value instead\n",
      "\n",
      "See the caveats in the documentation: https://pandas.pydata.org/pandas-docs/stable/user_guide/indexing.html#returning-a-view-versus-a-copy\n",
      "  \n"
     ]
    }
   ],
   "source": [
    "#filling values with most occured values\n",
    "train['grade_level'] = train['grade_level'].fillna(\"Grades PreK-2\")"
   ]
  },
  {
   "cell_type": "code",
   "execution_count": 71,
   "metadata": {},
   "outputs": [
    {
     "name": "stderr",
     "output_type": "stream",
     "text": [
      "C:\\Users\\sowmy\\anaconda3\\envs\\tens\\lib\\site-packages\\ipykernel_launcher.py:1: SettingWithCopyWarning: \n",
      "A value is trying to be set on a copy of a slice from a DataFrame.\n",
      "Try using .loc[row_indexer,col_indexer] = value instead\n",
      "\n",
      "See the caveats in the documentation: https://pandas.pydata.org/pandas-docs/stable/user_guide/indexing.html#returning-a-view-versus-a-copy\n",
      "  \"\"\"Entry point for launching an IPython kernel.\n"
     ]
    }
   ],
   "source": [
    "test['grade_level'] = test['grade_level'].fillna(\"Grades PreK-2\")"
   ]
  },
  {
   "cell_type": "code",
   "execution_count": 72,
   "metadata": {
    "scrolled": true
   },
   "outputs": [
    {
     "data": {
      "text/plain": [
       "Literature & Writing     65210\n",
       "Literacy                 61583\n",
       "Mathematics              50918\n",
       "Special Needs            26823\n",
       "ESL                      23088\n",
       "Early Development        19423\n",
       "Health & Life Science    17991\n",
       "Applied Sciences         16884\n",
       "Environmental Science    15938\n",
       "History & Geography      15571\n",
       "Visual Arts              13619\n",
       "Performing Arts          12938\n",
       "Social Sciences          12412\n",
       "Other                    11134\n",
       "Character Education      10827\n",
       "College & Career Prep     9483\n",
       "Health & Wellness         6929\n",
       "Music                     6747\n",
       "Extracurricular           5270\n",
       "Parent Involvement        4183\n",
       "Civics & Government       4004\n",
       "Gym & Fitness             3442\n",
       "Community Service         2878\n",
       "Sports                    2692\n",
       "Foreign Languages         2048\n",
       "Economics                 1824\n",
       "Nutrition                 1313\n",
       "Name: secondary_focus_subject, dtype: int64"
      ]
     },
     "execution_count": 72,
     "metadata": {},
     "output_type": "execute_result"
    }
   ],
   "source": [
    "train['secondary_focus_subject'].value_counts()"
   ]
  },
  {
   "cell_type": "code",
   "execution_count": 73,
   "metadata": {},
   "outputs": [
    {
     "data": {
      "text/plain": [
       "Mathematics              5035\n",
       "Literacy                 4491\n",
       "Literature & Writing     4386\n",
       "Special Needs            1774\n",
       "ESL                      1518\n",
       "Applied Sciences         1364\n",
       "Early Development        1202\n",
       "Health & Life Science    1139\n",
       "Environmental Science    1133\n",
       "History & Geography       997\n",
       "Performing Arts           894\n",
       "Visual Arts               844\n",
       "College & Career Prep     788\n",
       "Social Sciences           747\n",
       "Health & Wellness         688\n",
       "Other                     661\n",
       "Character Education       640\n",
       "Music                     421\n",
       "Economics                 332\n",
       "Extracurricular           330\n",
       "Gym & Fitness             328\n",
       "Community Service         224\n",
       "Sports                    216\n",
       "Civics & Government       200\n",
       "Nutrition                 194\n",
       "Parent Involvement        153\n",
       "Foreign Languages         129\n",
       "Name: secondary_focus_subject, dtype: int64"
      ]
     },
     "execution_count": 73,
     "metadata": {},
     "output_type": "execute_result"
    }
   ],
   "source": [
    "test['secondary_focus_subject'].value_counts()"
   ]
  },
  {
   "cell_type": "code",
   "execution_count": 74,
   "metadata": {},
   "outputs": [
    {
     "name": "stderr",
     "output_type": "stream",
     "text": [
      "C:\\Users\\sowmy\\anaconda3\\envs\\tens\\lib\\site-packages\\ipykernel_launcher.py:2: SettingWithCopyWarning: \n",
      "A value is trying to be set on a copy of a slice from a DataFrame.\n",
      "Try using .loc[row_indexer,col_indexer] = value instead\n",
      "\n",
      "See the caveats in the documentation: https://pandas.pydata.org/pandas-docs/stable/user_guide/indexing.html#returning-a-view-versus-a-copy\n",
      "  \n"
     ]
    }
   ],
   "source": [
    "#filling values with most occured values\n",
    "train['secondary_focus_subject'] = train['secondary_focus_subject'].fillna('Literature & Writing')"
   ]
  },
  {
   "cell_type": "code",
   "execution_count": 75,
   "metadata": {},
   "outputs": [
    {
     "name": "stderr",
     "output_type": "stream",
     "text": [
      "C:\\Users\\sowmy\\anaconda3\\envs\\tens\\lib\\site-packages\\ipykernel_launcher.py:1: SettingWithCopyWarning: \n",
      "A value is trying to be set on a copy of a slice from a DataFrame.\n",
      "Try using .loc[row_indexer,col_indexer] = value instead\n",
      "\n",
      "See the caveats in the documentation: https://pandas.pydata.org/pandas-docs/stable/user_guide/indexing.html#returning-a-view-versus-a-copy\n",
      "  \"\"\"Entry point for launching an IPython kernel.\n"
     ]
    }
   ],
   "source": [
    "test['secondary_focus_subject'] = test['secondary_focus_subject'].fillna('Mathematics')"
   ]
  },
  {
   "cell_type": "code",
   "execution_count": 76,
   "metadata": {},
   "outputs": [
    {
     "data": {
      "text/plain": [
       "Literacy & Language    151929\n",
       "Math & Science         101731\n",
       "Applied Learning        63198\n",
       "History & Civics        33811\n",
       "Music & The Arts        33304\n",
       "Special Needs           26823\n",
       "Health & Sports         14376\n",
       "Name: secondary_focus_area, dtype: int64"
      ]
     },
     "execution_count": 76,
     "metadata": {},
     "output_type": "execute_result"
    }
   ],
   "source": [
    "train['secondary_focus_area'].value_counts()"
   ]
  },
  {
   "cell_type": "code",
   "execution_count": 77,
   "metadata": {},
   "outputs": [
    {
     "data": {
      "text/plain": [
       "Literacy & Language    10524\n",
       "Math & Science          8671\n",
       "Applied Learning        3998\n",
       "History & Civics        2276\n",
       "Music & The Arts        2159\n",
       "Special Needs           1774\n",
       "Health & Sports         1426\n",
       "Name: secondary_focus_area, dtype: int64"
      ]
     },
     "execution_count": 77,
     "metadata": {},
     "output_type": "execute_result"
    }
   ],
   "source": [
    "test['secondary_focus_area'].value_counts()"
   ]
  },
  {
   "cell_type": "code",
   "execution_count": 78,
   "metadata": {},
   "outputs": [
    {
     "name": "stderr",
     "output_type": "stream",
     "text": [
      "C:\\Users\\sowmy\\anaconda3\\envs\\tens\\lib\\site-packages\\ipykernel_launcher.py:2: SettingWithCopyWarning: \n",
      "A value is trying to be set on a copy of a slice from a DataFrame.\n",
      "Try using .loc[row_indexer,col_indexer] = value instead\n",
      "\n",
      "See the caveats in the documentation: https://pandas.pydata.org/pandas-docs/stable/user_guide/indexing.html#returning-a-view-versus-a-copy\n",
      "  \n"
     ]
    }
   ],
   "source": [
    "#filling values with most occured values\n",
    "train['secondary_focus_area']= train['secondary_focus_area'].fillna('Literacy & Language')"
   ]
  },
  {
   "cell_type": "code",
   "execution_count": 79,
   "metadata": {},
   "outputs": [
    {
     "name": "stderr",
     "output_type": "stream",
     "text": [
      "C:\\Users\\sowmy\\anaconda3\\envs\\tens\\lib\\site-packages\\ipykernel_launcher.py:1: SettingWithCopyWarning: \n",
      "A value is trying to be set on a copy of a slice from a DataFrame.\n",
      "Try using .loc[row_indexer,col_indexer] = value instead\n",
      "\n",
      "See the caveats in the documentation: https://pandas.pydata.org/pandas-docs/stable/user_guide/indexing.html#returning-a-view-versus-a-copy\n",
      "  \"\"\"Entry point for launching an IPython kernel.\n"
     ]
    }
   ],
   "source": [
    "test['secondary_focus_area']= test['secondary_focus_area'].fillna('Literacy & Language')"
   ]
  },
  {
   "cell_type": "code",
   "execution_count": 80,
   "metadata": {},
   "outputs": [
    {
     "name": "stderr",
     "output_type": "stream",
     "text": [
      "C:\\Users\\sowmy\\anaconda3\\envs\\tens\\lib\\site-packages\\ipykernel_launcher.py:2: SettingWithCopyWarning: \n",
      "A value is trying to be set on a copy of a slice from a DataFrame.\n",
      "Try using .loc[row_indexer,col_indexer] = value instead\n",
      "\n",
      "See the caveats in the documentation: https://pandas.pydata.org/pandas-docs/stable/user_guide/indexing.html#returning-a-view-versus-a-copy\n",
      "  \n"
     ]
    }
   ],
   "source": [
    "#filling values with mean value\n",
    "train['fulfillment_labor_materials'] = train['fulfillment_labor_materials'].fillna(train['fulfillment_labor_materials'].mean())"
   ]
  },
  {
   "cell_type": "code",
   "execution_count": 81,
   "metadata": {},
   "outputs": [
    {
     "name": "stderr",
     "output_type": "stream",
     "text": [
      "C:\\Users\\sowmy\\anaconda3\\envs\\tens\\lib\\site-packages\\ipykernel_launcher.py:2: SettingWithCopyWarning: \n",
      "A value is trying to be set on a copy of a slice from a DataFrame.\n",
      "Try using .loc[row_indexer,col_indexer] = value instead\n",
      "\n",
      "See the caveats in the documentation: https://pandas.pydata.org/pandas-docs/stable/user_guide/indexing.html#returning-a-view-versus-a-copy\n",
      "  \n"
     ]
    }
   ],
   "source": [
    "#filling values with most occured values\n",
    "train['students_reached'] = train['students_reached'].fillna(test['students_reached'].mean())"
   ]
  },
  {
   "cell_type": "code",
   "execution_count": 82,
   "metadata": {},
   "outputs": [
    {
     "name": "stderr",
     "output_type": "stream",
     "text": [
      "C:\\Users\\sowmy\\anaconda3\\envs\\tens\\lib\\site-packages\\ipykernel_launcher.py:1: SettingWithCopyWarning: \n",
      "A value is trying to be set on a copy of a slice from a DataFrame.\n",
      "Try using .loc[row_indexer,col_indexer] = value instead\n",
      "\n",
      "See the caveats in the documentation: https://pandas.pydata.org/pandas-docs/stable/user_guide/indexing.html#returning-a-view-versus-a-copy\n",
      "  \"\"\"Entry point for launching an IPython kernel.\n"
     ]
    }
   ],
   "source": [
    "test['students_reached'] = test['students_reached'].fillna(test['students_reached'].mean())"
   ]
  },
  {
   "cell_type": "code",
   "execution_count": 83,
   "metadata": {},
   "outputs": [
    {
     "data": {
      "text/plain": [
       "projectid                                   0\n",
       "teacher_acctid                              0\n",
       "schoolid                                    0\n",
       "school_ncesid                               0\n",
       "school_latitude                             0\n",
       "school_longitude                            0\n",
       "school_city                                 0\n",
       "school_state                                0\n",
       "school_zip                                  0\n",
       "school_metro                                0\n",
       "school_district                             0\n",
       "school_county                               0\n",
       "school_charter                              0\n",
       "school_magnet                               0\n",
       "school_year_round                           0\n",
       "school_nlns                                 0\n",
       "school_kipp                                 0\n",
       "school_charter_ready_promise                0\n",
       "teacher_prefix                              0\n",
       "teacher_teach_for_america                   0\n",
       "teacher_ny_teaching_fellow                  0\n",
       "primary_focus_subject                       0\n",
       "primary_focus_area                          0\n",
       "secondary_focus_subject                     0\n",
       "secondary_focus_area                        0\n",
       "resource_type                               0\n",
       "poverty_level                               0\n",
       "grade_level                                 0\n",
       "fulfillment_labor_materials                 0\n",
       "total_price_excluding_optional_support      0\n",
       "total_price_including_optional_support      0\n",
       "students_reached                            0\n",
       "eligible_double_your_impact_match           0\n",
       "eligible_almost_home_match                  0\n",
       "date_posted                                 0\n",
       "title                                       0\n",
       "short_description                           0\n",
       "need_statement                              0\n",
       "essay                                       0\n",
       "is_exciting                               367\n",
       "dtype: int64"
      ]
     },
     "execution_count": 83,
     "metadata": {},
     "output_type": "execute_result"
    }
   ],
   "source": [
    "train.isnull().sum()"
   ]
  },
  {
   "cell_type": "code",
   "execution_count": 84,
   "metadata": {},
   "outputs": [
    {
     "data": {
      "text/plain": [
       "projectid                                     0\n",
       "teacher_acctid                                0\n",
       "schoolid                                      0\n",
       "school_ncesid                                 0\n",
       "school_latitude                               0\n",
       "school_longitude                              0\n",
       "school_city                                   0\n",
       "school_state                                  0\n",
       "school_zip                                    0\n",
       "school_metro                                  0\n",
       "school_district                               0\n",
       "school_county                                 0\n",
       "school_charter                                0\n",
       "school_magnet                                 0\n",
       "school_year_round                             0\n",
       "school_nlns                                   0\n",
       "school_kipp                                   0\n",
       "school_charter_ready_promise                  0\n",
       "teacher_prefix                                4\n",
       "teacher_teach_for_america                     0\n",
       "teacher_ny_teaching_fellow                    0\n",
       "primary_focus_subject                         0\n",
       "primary_focus_area                            0\n",
       "secondary_focus_subject                       0\n",
       "secondary_focus_area                          0\n",
       "resource_type                                 0\n",
       "poverty_level                                 0\n",
       "grade_level                                   0\n",
       "fulfillment_labor_materials                   0\n",
       "total_price_excluding_optional_support        0\n",
       "total_price_including_optional_support        0\n",
       "students_reached                              0\n",
       "eligible_double_your_impact_match             0\n",
       "eligible_almost_home_match                    0\n",
       "date_posted                                   0\n",
       "title                                         0\n",
       "short_description                             0\n",
       "need_statement                                0\n",
       "essay                                         0\n",
       "is_exciting                               44772\n",
       "dtype: int64"
      ]
     },
     "execution_count": 84,
     "metadata": {},
     "output_type": "execute_result"
    }
   ],
   "source": [
    "test.isnull().sum()"
   ]
  },
  {
   "cell_type": "code",
   "execution_count": 85,
   "metadata": {},
   "outputs": [
    {
     "data": {
      "text/plain": [
       "Mrs.    21324\n",
       "Ms.     17451\n",
       "Mr.      5991\n",
       "Dr.         2\n",
       "Name: teacher_prefix, dtype: int64"
      ]
     },
     "execution_count": 85,
     "metadata": {},
     "output_type": "execute_result"
    }
   ],
   "source": [
    "test['teacher_prefix'].value_counts()"
   ]
  },
  {
   "cell_type": "code",
   "execution_count": 86,
   "metadata": {},
   "outputs": [
    {
     "name": "stderr",
     "output_type": "stream",
     "text": [
      "C:\\Users\\sowmy\\anaconda3\\envs\\tens\\lib\\site-packages\\ipykernel_launcher.py:1: SettingWithCopyWarning: \n",
      "A value is trying to be set on a copy of a slice from a DataFrame.\n",
      "Try using .loc[row_indexer,col_indexer] = value instead\n",
      "\n",
      "See the caveats in the documentation: https://pandas.pydata.org/pandas-docs/stable/user_guide/indexing.html#returning-a-view-versus-a-copy\n",
      "  \"\"\"Entry point for launching an IPython kernel.\n"
     ]
    }
   ],
   "source": [
    "test['teacher_prefix']= test['teacher_prefix'].fillna('Mrs.')"
   ]
  },
  {
   "cell_type": "code",
   "execution_count": 87,
   "metadata": {},
   "outputs": [
    {
     "name": "stderr",
     "output_type": "stream",
     "text": [
      "C:\\Users\\sowmy\\anaconda3\\envs\\tens\\lib\\site-packages\\pandas\\core\\frame.py:4312: SettingWithCopyWarning: \n",
      "A value is trying to be set on a copy of a slice from a DataFrame\n",
      "\n",
      "See the caveats in the documentation: https://pandas.pydata.org/pandas-docs/stable/user_guide/indexing.html#returning-a-view-versus-a-copy\n",
      "  errors=errors,\n"
     ]
    }
   ],
   "source": [
    "test.drop(['is_exciting'], inplace=True, axis=1)"
   ]
  },
  {
   "cell_type": "code",
   "execution_count": 88,
   "metadata": {},
   "outputs": [
    {
     "data": {
      "text/plain": [
       "projectid                                 0\n",
       "teacher_acctid                            0\n",
       "schoolid                                  0\n",
       "school_ncesid                             0\n",
       "school_latitude                           0\n",
       "school_longitude                          0\n",
       "school_city                               0\n",
       "school_state                              0\n",
       "school_zip                                0\n",
       "school_metro                              0\n",
       "school_district                           0\n",
       "school_county                             0\n",
       "school_charter                            0\n",
       "school_magnet                             0\n",
       "school_year_round                         0\n",
       "school_nlns                               0\n",
       "school_kipp                               0\n",
       "school_charter_ready_promise              0\n",
       "teacher_prefix                            0\n",
       "teacher_teach_for_america                 0\n",
       "teacher_ny_teaching_fellow                0\n",
       "primary_focus_subject                     0\n",
       "primary_focus_area                        0\n",
       "secondary_focus_subject                   0\n",
       "secondary_focus_area                      0\n",
       "resource_type                             0\n",
       "poverty_level                             0\n",
       "grade_level                               0\n",
       "fulfillment_labor_materials               0\n",
       "total_price_excluding_optional_support    0\n",
       "total_price_including_optional_support    0\n",
       "students_reached                          0\n",
       "eligible_double_your_impact_match         0\n",
       "eligible_almost_home_match                0\n",
       "date_posted                               0\n",
       "title                                     0\n",
       "short_description                         0\n",
       "need_statement                            0\n",
       "essay                                     0\n",
       "dtype: int64"
      ]
     },
     "execution_count": 88,
     "metadata": {},
     "output_type": "execute_result"
    }
   ],
   "source": [
    "test.isnull().sum()"
   ]
  },
  {
   "cell_type": "code",
   "execution_count": 89,
   "metadata": {},
   "outputs": [
    {
     "name": "stderr",
     "output_type": "stream",
     "text": [
      "C:\\Users\\sowmy\\anaconda3\\envs\\tens\\lib\\site-packages\\ipykernel_launcher.py:1: SettingWithCopyWarning: \n",
      "A value is trying to be set on a copy of a slice from a DataFrame\n",
      "\n",
      "See the caveats in the documentation: https://pandas.pydata.org/pandas-docs/stable/user_guide/indexing.html#returning-a-view-versus-a-copy\n",
      "  \"\"\"Entry point for launching an IPython kernel.\n"
     ]
    }
   ],
   "source": [
    "train.dropna(inplace=True)"
   ]
  },
  {
   "cell_type": "code",
   "execution_count": 90,
   "metadata": {},
   "outputs": [
    {
     "name": "stderr",
     "output_type": "stream",
     "text": [
      "C:\\Users\\sowmy\\anaconda3\\envs\\tens\\lib\\site-packages\\ipykernel_launcher.py:1: SettingWithCopyWarning: \n",
      "A value is trying to be set on a copy of a slice from a DataFrame\n",
      "\n",
      "See the caveats in the documentation: https://pandas.pydata.org/pandas-docs/stable/user_guide/indexing.html#returning-a-view-versus-a-copy\n",
      "  \"\"\"Entry point for launching an IPython kernel.\n"
     ]
    }
   ],
   "source": [
    "test.dropna(inplace=True)"
   ]
  },
  {
   "cell_type": "code",
   "execution_count": 91,
   "metadata": {},
   "outputs": [
    {
     "data": {
      "text/html": [
       "<div>\n",
       "<style scoped>\n",
       "    .dataframe tbody tr th:only-of-type {\n",
       "        vertical-align: middle;\n",
       "    }\n",
       "\n",
       "    .dataframe tbody tr th {\n",
       "        vertical-align: top;\n",
       "    }\n",
       "\n",
       "    .dataframe thead th {\n",
       "        text-align: right;\n",
       "    }\n",
       "</style>\n",
       "<table border=\"1\" class=\"dataframe\">\n",
       "  <thead>\n",
       "    <tr style=\"text-align: right;\">\n",
       "      <th></th>\n",
       "      <th>school_ncesid</th>\n",
       "      <th>school_latitude</th>\n",
       "      <th>school_longitude</th>\n",
       "      <th>school_zip</th>\n",
       "      <th>fulfillment_labor_materials</th>\n",
       "      <th>total_price_excluding_optional_support</th>\n",
       "      <th>total_price_including_optional_support</th>\n",
       "      <th>students_reached</th>\n",
       "    </tr>\n",
       "  </thead>\n",
       "  <tbody>\n",
       "    <tr>\n",
       "      <th>count</th>\n",
       "      <td>6.177120e+05</td>\n",
       "      <td>617712.000000</td>\n",
       "      <td>617712.000000</td>\n",
       "      <td>617712.000000</td>\n",
       "      <td>617712.000000</td>\n",
       "      <td>617712.000000</td>\n",
       "      <td>6.177120e+05</td>\n",
       "      <td>617712.000000</td>\n",
       "    </tr>\n",
       "    <tr>\n",
       "      <th>mean</th>\n",
       "      <td>2.615109e+11</td>\n",
       "      <td>37.225709</td>\n",
       "      <td>-93.395891</td>\n",
       "      <td>53064.188093</td>\n",
       "      <td>27.304496</td>\n",
       "      <td>519.800801</td>\n",
       "      <td>6.183186e+02</td>\n",
       "      <td>97.650012</td>\n",
       "    </tr>\n",
       "    <tr>\n",
       "      <th>std</th>\n",
       "      <td>1.539131e+11</td>\n",
       "      <td>4.651317</td>\n",
       "      <td>17.755667</td>\n",
       "      <td>31192.287122</td>\n",
       "      <td>8.713317</td>\n",
       "      <td>1635.103173</td>\n",
       "      <td>1.981723e+03</td>\n",
       "      <td>2366.876671</td>\n",
       "    </tr>\n",
       "    <tr>\n",
       "      <th>min</th>\n",
       "      <td>1.000050e+10</td>\n",
       "      <td>18.249140</td>\n",
       "      <td>-176.634989</td>\n",
       "      <td>410.000000</td>\n",
       "      <td>9.000000</td>\n",
       "      <td>0.000000</td>\n",
       "      <td>0.000000e+00</td>\n",
       "      <td>0.000000</td>\n",
       "    </tr>\n",
       "    <tr>\n",
       "      <th>25%</th>\n",
       "      <td>1.200390e+11</td>\n",
       "      <td>34.037704</td>\n",
       "      <td>-112.026351</td>\n",
       "      <td>27609.000000</td>\n",
       "      <td>17.000000</td>\n",
       "      <td>267.440000</td>\n",
       "      <td>3.180400e+02</td>\n",
       "      <td>22.000000</td>\n",
       "    </tr>\n",
       "    <tr>\n",
       "      <th>50%</th>\n",
       "      <td>2.620340e+11</td>\n",
       "      <td>37.624116</td>\n",
       "      <td>-87.689727</td>\n",
       "      <td>53038.500000</td>\n",
       "      <td>30.000000</td>\n",
       "      <td>411.000000</td>\n",
       "      <td>4.879800e+02</td>\n",
       "      <td>30.000000</td>\n",
       "    </tr>\n",
       "    <tr>\n",
       "      <th>75%</th>\n",
       "      <td>3.702970e+11</td>\n",
       "      <td>40.758552</td>\n",
       "      <td>-79.287151</td>\n",
       "      <td>85122.000000</td>\n",
       "      <td>35.000000</td>\n",
       "      <td>580.710000</td>\n",
       "      <td>6.902400e+02</td>\n",
       "      <td>100.000000</td>\n",
       "    </tr>\n",
       "    <tr>\n",
       "      <th>max</th>\n",
       "      <td>6.100009e+11</td>\n",
       "      <td>67.258157</td>\n",
       "      <td>-66.628036</td>\n",
       "      <td>99950.000000</td>\n",
       "      <td>35.000000</td>\n",
       "      <td>1000000.000000</td>\n",
       "      <td>1.219512e+06</td>\n",
       "      <td>999999.000000</td>\n",
       "    </tr>\n",
       "  </tbody>\n",
       "</table>\n",
       "</div>"
      ],
      "text/plain": [
       "       school_ncesid  school_latitude  school_longitude     school_zip  \\\n",
       "count   6.177120e+05    617712.000000     617712.000000  617712.000000   \n",
       "mean    2.615109e+11        37.225709        -93.395891   53064.188093   \n",
       "std     1.539131e+11         4.651317         17.755667   31192.287122   \n",
       "min     1.000050e+10        18.249140       -176.634989     410.000000   \n",
       "25%     1.200390e+11        34.037704       -112.026351   27609.000000   \n",
       "50%     2.620340e+11        37.624116        -87.689727   53038.500000   \n",
       "75%     3.702970e+11        40.758552        -79.287151   85122.000000   \n",
       "max     6.100009e+11        67.258157        -66.628036   99950.000000   \n",
       "\n",
       "       fulfillment_labor_materials  total_price_excluding_optional_support  \\\n",
       "count                617712.000000                           617712.000000   \n",
       "mean                     27.304496                              519.800801   \n",
       "std                       8.713317                             1635.103173   \n",
       "min                       9.000000                                0.000000   \n",
       "25%                      17.000000                              267.440000   \n",
       "50%                      30.000000                              411.000000   \n",
       "75%                      35.000000                              580.710000   \n",
       "max                      35.000000                          1000000.000000   \n",
       "\n",
       "       total_price_including_optional_support  students_reached  \n",
       "count                            6.177120e+05     617712.000000  \n",
       "mean                             6.183186e+02         97.650012  \n",
       "std                              1.981723e+03       2366.876671  \n",
       "min                              0.000000e+00          0.000000  \n",
       "25%                              3.180400e+02         22.000000  \n",
       "50%                              4.879800e+02         30.000000  \n",
       "75%                              6.902400e+02        100.000000  \n",
       "max                              1.219512e+06     999999.000000  "
      ]
     },
     "execution_count": 91,
     "metadata": {},
     "output_type": "execute_result"
    }
   ],
   "source": [
    "train.describe()"
   ]
  },
  {
   "cell_type": "code",
   "execution_count": 92,
   "metadata": {},
   "outputs": [
    {
     "data": {
      "text/plain": [
       "<AxesSubplot:xlabel='school_ncesid'>"
      ]
     },
     "execution_count": 92,
     "metadata": {},
     "output_type": "execute_result"
    },
    {
     "data": {
      "image/png": "[encoded data removed]",
      "text/plain": [
       "<Figure size 432x288 with 1 Axes>"
      ]
     },
     "metadata": {
      "needs_background": "light"
     },
     "output_type": "display_data"
    }
   ],
   "source": [
    "sns.boxplot(x = train['school_ncesid'])"
   ]
  },
  {
   "cell_type": "code",
   "execution_count": 93,
   "metadata": {},
   "outputs": [
    {
     "data": {
      "text/plain": [
       "<AxesSubplot:xlabel='school_latitude'>"
      ]
     },
     "execution_count": 93,
     "metadata": {},
     "output_type": "execute_result"
    },
    {
     "data": {
      "image/png": "[encoded data removed]",
      "text/plain": [
       "<Figure size 432x288 with 1 Axes>"
      ]
     },
     "metadata": {
      "needs_background": "light"
     },
     "output_type": "display_data"
    }
   ],
   "source": [
    "sns.boxplot(x = train['school_latitude'])"
   ]
  },
  {
   "cell_type": "code",
   "execution_count": 94,
   "metadata": {},
   "outputs": [
    {
     "data": {
      "text/plain": [
       "<AxesSubplot:xlabel='school_longitude'>"
      ]
     },
     "execution_count": 94,
     "metadata": {},
     "output_type": "execute_result"
    },
    {
     "data": {
      "image/png": "[encoded data removed]",
      "text/plain": [
       "<Figure size 432x288 with 1 Axes>"
      ]
     },
     "metadata": {
      "needs_background": "light"
     },
     "output_type": "display_data"
    }
   ],
   "source": [
    "sns.boxplot(x = train['school_longitude'])"
   ]
  },
  {
   "cell_type": "code",
   "execution_count": 95,
   "metadata": {},
   "outputs": [
    {
     "data": {
      "text/plain": [
       "<AxesSubplot:xlabel='total_price_excluding_optional_support'>"
      ]
     },
     "execution_count": 95,
     "metadata": {},
     "output_type": "execute_result"
    },
    {
     "data": {
      "image/png": "[encoded data removed]",
      "text/plain": [
       "<Figure size 432x288 with 1 Axes>"
      ]
     },
     "metadata": {
      "needs_background": "light"
     },
     "output_type": "display_data"
    }
   ],
   "source": [
    "sns.boxplot(x = train['total_price_excluding_optional_support'])"
   ]
  },
  {
   "cell_type": "code",
   "execution_count": 96,
   "metadata": {},
   "outputs": [
    {
     "data": {
      "text/plain": [
       "<AxesSubplot:xlabel='students_reached'>"
      ]
     },
     "execution_count": 96,
     "metadata": {},
     "output_type": "execute_result"
    },
    {
     "data": {
      "image/png": "[encoded data removed]",
      "text/plain": [
       "<Figure size 432x288 with 1 Axes>"
      ]
     },
     "metadata": {
      "needs_background": "light"
     },
     "output_type": "display_data"
    }
   ],
   "source": [
    "sns.boxplot(x = train['students_reached'])"
   ]
  },
  {
   "cell_type": "code",
   "execution_count": 97,
   "metadata": {},
   "outputs": [
    {
     "name": "stderr",
     "output_type": "stream",
     "text": [
      "C:\\Users\\sowmy\\anaconda3\\envs\\tens\\lib\\site-packages\\pandas\\core\\frame.py:4312: SettingWithCopyWarning: \n",
      "A value is trying to be set on a copy of a slice from a DataFrame\n",
      "\n",
      "See the caveats in the documentation: https://pandas.pydata.org/pandas-docs/stable/user_guide/indexing.html#returning-a-view-versus-a-copy\n",
      "  errors=errors,\n"
     ]
    }
   ],
   "source": [
    "train.drop(['total_price_excluding_optional_support','total_price_including_optional_support', 'students_reached'], axis=1, inplace=True)"
   ]
  },
  {
   "cell_type": "code",
   "execution_count": 98,
   "metadata": {},
   "outputs": [
    {
     "data": {
      "text/plain": [
       "<matplotlib.collections.PathCollection at 0x2700c3fd7c8>"
      ]
     },
     "execution_count": 98,
     "metadata": {},
     "output_type": "execute_result"
    },
    {
     "data": {
      "image/png": "[encoded data removed]",
      "text/plain": [
       "<Figure size 432x288 with 1 Axes>"
      ]
     },
     "metadata": {
      "needs_background": "light"
     },
     "output_type": "display_data"
    }
   ],
   "source": [
    "plt.scatter(x = train['school_ncesid'], y = train['school_latitude'])"
   ]
  },
  {
   "cell_type": "code",
   "execution_count": 99,
   "metadata": {},
   "outputs": [
    {
     "data": {
      "text/plain": [
       "<matplotlib.collections.PathCollection at 0x2700c467d88>"
      ]
     },
     "execution_count": 99,
     "metadata": {},
     "output_type": "execute_result"
    },
    {
     "data": {
      "image/png": "[encoded data removed]",
      "text/plain": [
       "<Figure size 432x288 with 1 Axes>"
      ]
     },
     "metadata": {
      "needs_background": "light"
     },
     "output_type": "display_data"
    }
   ],
   "source": [
    "plt.scatter(x = train['school_latitude'], y = train['school_longitude'])"
   ]
  },
  {
   "cell_type": "code",
   "execution_count": 100,
   "metadata": {},
   "outputs": [
    {
     "data": {
      "text/plain": [
       "<AxesSubplot:xlabel='school_ncesid', ylabel='is_exciting'>"
      ]
     },
     "execution_count": 100,
     "metadata": {},
     "output_type": "execute_result"
    },
    {
     "data": {
      "image/png": "[encoded data removed]",
      "text/plain": [
       "<Figure size 432x288 with 1 Axes>"
      ]
     },
     "metadata": {
      "needs_background": "light"
     },
     "output_type": "display_data"
    }
   ],
   "source": [
    "sns.boxplot(x = train['school_ncesid'], y = train['is_exciting'])"
   ]
  },
  {
   "cell_type": "code",
   "execution_count": 101,
   "metadata": {},
   "outputs": [
    {
     "data": {
      "text/plain": [
       "<AxesSubplot:xlabel='school_latitude', ylabel='is_exciting'>"
      ]
     },
     "execution_count": 101,
     "metadata": {},
     "output_type": "execute_result"
    },
    {
     "data": {
      "image/png": "[encoded data removed]",
      "text/plain": [
       "<Figure size 432x288 with 1 Axes>"
      ]
     },
     "metadata": {
      "needs_background": "light"
     },
     "output_type": "display_data"
    }
   ],
   "source": [
    "sns.boxplot(x = train['school_latitude'], y = train['is_exciting'])"
   ]
  },
  {
   "cell_type": "markdown",
   "metadata": {},
   "source": [
    "# Feature Engineering"
   ]
  },
  {
   "cell_type": "code",
   "execution_count": 102,
   "metadata": {},
   "outputs": [
    {
     "name": "stderr",
     "output_type": "stream",
     "text": [
      "C:\\Users\\sowmy\\anaconda3\\envs\\tens\\lib\\site-packages\\ipykernel_launcher.py:3: SettingWithCopyWarning: \n",
      "A value is trying to be set on a copy of a slice from a DataFrame.\n",
      "Try using .loc[row_indexer,col_indexer] = value instead\n",
      "\n",
      "See the caveats in the documentation: https://pandas.pydata.org/pandas-docs/stable/user_guide/indexing.html#returning-a-view-versus-a-copy\n",
      "  This is separate from the ipykernel package so we can avoid doing imports until\n"
     ]
    }
   ],
   "source": [
    "#label encoding for object data type\n",
    "enc = LabelEncoder()\n",
    "train['is_exciting'] = (enc.fit_transform(train['is_exciting']))"
   ]
  },
  {
   "cell_type": "code",
   "execution_count": 103,
   "metadata": {},
   "outputs": [
    {
     "name": "stderr",
     "output_type": "stream",
     "text": [
      "C:\\Users\\sowmy\\anaconda3\\envs\\tens\\lib\\site-packages\\ipykernel_launcher.py:1: SettingWithCopyWarning: \n",
      "A value is trying to be set on a copy of a slice from a DataFrame.\n",
      "Try using .loc[row_indexer,col_indexer] = value instead\n",
      "\n",
      "See the caveats in the documentation: https://pandas.pydata.org/pandas-docs/stable/user_guide/indexing.html#returning-a-view-versus-a-copy\n",
      "  \"\"\"Entry point for launching an IPython kernel.\n",
      "C:\\Users\\sowmy\\anaconda3\\envs\\tens\\lib\\site-packages\\ipykernel_launcher.py:2: SettingWithCopyWarning: \n",
      "A value is trying to be set on a copy of a slice from a DataFrame.\n",
      "Try using .loc[row_indexer,col_indexer] = value instead\n",
      "\n",
      "See the caveats in the documentation: https://pandas.pydata.org/pandas-docs/stable/user_guide/indexing.html#returning-a-view-versus-a-copy\n",
      "  \n",
      "C:\\Users\\sowmy\\anaconda3\\envs\\tens\\lib\\site-packages\\ipykernel_launcher.py:3: SettingWithCopyWarning: \n",
      "A value is trying to be set on a copy of a slice from a DataFrame.\n",
      "Try using .loc[row_indexer,col_indexer] = value instead\n",
      "\n",
      "See the caveats in the documentation: https://pandas.pydata.org/pandas-docs/stable/user_guide/indexing.html#returning-a-view-versus-a-copy\n",
      "  This is separate from the ipykernel package so we can avoid doing imports until\n",
      "C:\\Users\\sowmy\\anaconda3\\envs\\tens\\lib\\site-packages\\ipykernel_launcher.py:4: SettingWithCopyWarning: \n",
      "A value is trying to be set on a copy of a slice from a DataFrame.\n",
      "Try using .loc[row_indexer,col_indexer] = value instead\n",
      "\n",
      "See the caveats in the documentation: https://pandas.pydata.org/pandas-docs/stable/user_guide/indexing.html#returning-a-view-versus-a-copy\n",
      "  after removing the cwd from sys.path.\n",
      "C:\\Users\\sowmy\\anaconda3\\envs\\tens\\lib\\site-packages\\ipykernel_launcher.py:5: SettingWithCopyWarning: \n",
      "A value is trying to be set on a copy of a slice from a DataFrame.\n",
      "Try using .loc[row_indexer,col_indexer] = value instead\n",
      "\n",
      "See the caveats in the documentation: https://pandas.pydata.org/pandas-docs/stable/user_guide/indexing.html#returning-a-view-versus-a-copy\n",
      "  \"\"\"\n",
      "C:\\Users\\sowmy\\anaconda3\\envs\\tens\\lib\\site-packages\\ipykernel_launcher.py:6: SettingWithCopyWarning: \n",
      "A value is trying to be set on a copy of a slice from a DataFrame.\n",
      "Try using .loc[row_indexer,col_indexer] = value instead\n",
      "\n",
      "See the caveats in the documentation: https://pandas.pydata.org/pandas-docs/stable/user_guide/indexing.html#returning-a-view-versus-a-copy\n",
      "  \n",
      "C:\\Users\\sowmy\\anaconda3\\envs\\tens\\lib\\site-packages\\ipykernel_launcher.py:7: SettingWithCopyWarning: \n",
      "A value is trying to be set on a copy of a slice from a DataFrame.\n",
      "Try using .loc[row_indexer,col_indexer] = value instead\n",
      "\n",
      "See the caveats in the documentation: https://pandas.pydata.org/pandas-docs/stable/user_guide/indexing.html#returning-a-view-versus-a-copy\n",
      "  import sys\n",
      "C:\\Users\\sowmy\\anaconda3\\envs\\tens\\lib\\site-packages\\ipykernel_launcher.py:8: SettingWithCopyWarning: \n",
      "A value is trying to be set on a copy of a slice from a DataFrame.\n",
      "Try using .loc[row_indexer,col_indexer] = value instead\n",
      "\n",
      "See the caveats in the documentation: https://pandas.pydata.org/pandas-docs/stable/user_guide/indexing.html#returning-a-view-versus-a-copy\n",
      "  \n"
     ]
    }
   ],
   "source": [
    "train['school_metro'] = (enc.fit_transform(train['school_metro']))\n",
    "train['school_magnet'] = (enc.fit_transform(train['school_magnet']))\n",
    "train['school_state'] = (enc.fit_transform(train['school_state']))\n",
    "train['school_charter'] = (enc.fit_transform(train['school_charter']))\n",
    "train['primary_focus_subject'] = (enc.fit_transform(train['primary_focus_subject']))\n",
    "train['primary_focus_area'] = (enc.fit_transform(train['primary_focus_area']))\n",
    "train['secondary_focus_subject'] = (enc.fit_transform(train['secondary_focus_subject']))\n",
    "train['grade_level'] = (enc.fit_transform(train['grade_level']))"
   ]
  },
  {
   "cell_type": "code",
   "execution_count": 104,
   "metadata": {},
   "outputs": [
    {
     "name": "stderr",
     "output_type": "stream",
     "text": [
      "C:\\Users\\sowmy\\anaconda3\\envs\\tens\\lib\\site-packages\\ipykernel_launcher.py:1: SettingWithCopyWarning: \n",
      "A value is trying to be set on a copy of a slice from a DataFrame.\n",
      "Try using .loc[row_indexer,col_indexer] = value instead\n",
      "\n",
      "See the caveats in the documentation: https://pandas.pydata.org/pandas-docs/stable/user_guide/indexing.html#returning-a-view-versus-a-copy\n",
      "  \"\"\"Entry point for launching an IPython kernel.\n",
      "C:\\Users\\sowmy\\anaconda3\\envs\\tens\\lib\\site-packages\\ipykernel_launcher.py:2: SettingWithCopyWarning: \n",
      "A value is trying to be set on a copy of a slice from a DataFrame.\n",
      "Try using .loc[row_indexer,col_indexer] = value instead\n",
      "\n",
      "See the caveats in the documentation: https://pandas.pydata.org/pandas-docs/stable/user_guide/indexing.html#returning-a-view-versus-a-copy\n",
      "  \n",
      "C:\\Users\\sowmy\\anaconda3\\envs\\tens\\lib\\site-packages\\ipykernel_launcher.py:3: SettingWithCopyWarning: \n",
      "A value is trying to be set on a copy of a slice from a DataFrame.\n",
      "Try using .loc[row_indexer,col_indexer] = value instead\n",
      "\n",
      "See the caveats in the documentation: https://pandas.pydata.org/pandas-docs/stable/user_guide/indexing.html#returning-a-view-versus-a-copy\n",
      "  This is separate from the ipykernel package so we can avoid doing imports until\n",
      "C:\\Users\\sowmy\\anaconda3\\envs\\tens\\lib\\site-packages\\ipykernel_launcher.py:4: SettingWithCopyWarning: \n",
      "A value is trying to be set on a copy of a slice from a DataFrame.\n",
      "Try using .loc[row_indexer,col_indexer] = value instead\n",
      "\n",
      "See the caveats in the documentation: https://pandas.pydata.org/pandas-docs/stable/user_guide/indexing.html#returning-a-view-versus-a-copy\n",
      "  after removing the cwd from sys.path.\n",
      "C:\\Users\\sowmy\\anaconda3\\envs\\tens\\lib\\site-packages\\ipykernel_launcher.py:5: SettingWithCopyWarning: \n",
      "A value is trying to be set on a copy of a slice from a DataFrame.\n",
      "Try using .loc[row_indexer,col_indexer] = value instead\n",
      "\n",
      "See the caveats in the documentation: https://pandas.pydata.org/pandas-docs/stable/user_guide/indexing.html#returning-a-view-versus-a-copy\n",
      "  \"\"\"\n",
      "C:\\Users\\sowmy\\anaconda3\\envs\\tens\\lib\\site-packages\\ipykernel_launcher.py:6: SettingWithCopyWarning: \n",
      "A value is trying to be set on a copy of a slice from a DataFrame.\n",
      "Try using .loc[row_indexer,col_indexer] = value instead\n",
      "\n",
      "See the caveats in the documentation: https://pandas.pydata.org/pandas-docs/stable/user_guide/indexing.html#returning-a-view-versus-a-copy\n",
      "  \n",
      "C:\\Users\\sowmy\\anaconda3\\envs\\tens\\lib\\site-packages\\ipykernel_launcher.py:7: SettingWithCopyWarning: \n",
      "A value is trying to be set on a copy of a slice from a DataFrame.\n",
      "Try using .loc[row_indexer,col_indexer] = value instead\n",
      "\n",
      "See the caveats in the documentation: https://pandas.pydata.org/pandas-docs/stable/user_guide/indexing.html#returning-a-view-versus-a-copy\n",
      "  import sys\n",
      "C:\\Users\\sowmy\\anaconda3\\envs\\tens\\lib\\site-packages\\ipykernel_launcher.py:8: SettingWithCopyWarning: \n",
      "A value is trying to be set on a copy of a slice from a DataFrame.\n",
      "Try using .loc[row_indexer,col_indexer] = value instead\n",
      "\n",
      "See the caveats in the documentation: https://pandas.pydata.org/pandas-docs/stable/user_guide/indexing.html#returning-a-view-versus-a-copy\n",
      "  \n"
     ]
    }
   ],
   "source": [
    "test['school_metro'] = (enc.fit_transform(test['school_metro']))\n",
    "test['school_magnet'] = (enc.fit_transform(test['school_magnet']))\n",
    "test['school_state'] = (enc.fit_transform(test['school_state']))\n",
    "test['school_charter'] = (enc.fit_transform(test['school_charter']))\n",
    "test['primary_focus_subject'] = (enc.fit_transform(test['primary_focus_subject']))\n",
    "test['primary_focus_area'] = (enc.fit_transform(test['primary_focus_area']))\n",
    "test['secondary_focus_subject'] = (enc.fit_transform(test['secondary_focus_subject']))\n",
    "test['grade_level'] = (enc.fit_transform(test['grade_level']))"
   ]
  },
  {
   "cell_type": "code",
   "execution_count": 105,
   "metadata": {},
   "outputs": [
    {
     "name": "stdout",
     "output_type": "stream",
     "text": [
      "<class 'pandas.core.frame.DataFrame'>\n",
      "Int64Index: 617712 entries, 44772 to 662483\n",
      "Data columns (total 37 columns):\n",
      " #   Column                             Non-Null Count   Dtype         \n",
      "---  ------                             --------------   -----         \n",
      " 0   projectid                          617712 non-null  object        \n",
      " 1   teacher_acctid                     617712 non-null  object        \n",
      " 2   schoolid                           617712 non-null  object        \n",
      " 3   school_ncesid                      617712 non-null  float64       \n",
      " 4   school_latitude                    617712 non-null  float64       \n",
      " 5   school_longitude                   617712 non-null  float64       \n",
      " 6   school_city                        617712 non-null  object        \n",
      " 7   school_state                       617712 non-null  int32         \n",
      " 8   school_zip                         617712 non-null  float64       \n",
      " 9   school_metro                       617712 non-null  int32         \n",
      " 10  school_district                    617712 non-null  object        \n",
      " 11  school_county                      617712 non-null  object        \n",
      " 12  school_charter                     617712 non-null  int32         \n",
      " 13  school_magnet                      617712 non-null  int32         \n",
      " 14  school_year_round                  617712 non-null  object        \n",
      " 15  school_nlns                        617712 non-null  object        \n",
      " 16  school_kipp                        617712 non-null  object        \n",
      " 17  school_charter_ready_promise       617712 non-null  object        \n",
      " 18  teacher_prefix                     617712 non-null  object        \n",
      " 19  teacher_teach_for_america          617712 non-null  object        \n",
      " 20  teacher_ny_teaching_fellow         617712 non-null  object        \n",
      " 21  primary_focus_subject              617712 non-null  int32         \n",
      " 22  primary_focus_area                 617712 non-null  int32         \n",
      " 23  secondary_focus_subject            617712 non-null  int32         \n",
      " 24  secondary_focus_area               617712 non-null  object        \n",
      " 25  resource_type                      617712 non-null  object        \n",
      " 26  poverty_level                      617712 non-null  object        \n",
      " 27  grade_level                        617712 non-null  int32         \n",
      " 28  fulfillment_labor_materials        617712 non-null  float64       \n",
      " 29  eligible_double_your_impact_match  617712 non-null  object        \n",
      " 30  eligible_almost_home_match         617712 non-null  object        \n",
      " 31  date_posted                        617712 non-null  datetime64[ns]\n",
      " 32  title                              617712 non-null  object        \n",
      " 33  short_description                  617712 non-null  object        \n",
      " 34  need_statement                     617712 non-null  object        \n",
      " 35  essay                              617712 non-null  object        \n",
      " 36  is_exciting                        617712 non-null  int32         \n",
      "dtypes: datetime64[ns](1), float64(5), int32(9), object(22)\n",
      "memory usage: 174.0+ MB\n"
     ]
    }
   ],
   "source": [
    "train.info()"
   ]
  },
  {
   "cell_type": "code",
   "execution_count": 106,
   "metadata": {},
   "outputs": [
    {
     "data": {
      "text/html": [
       "<div>\n",
       "<style scoped>\n",
       "    .dataframe tbody tr th:only-of-type {\n",
       "        vertical-align: middle;\n",
       "    }\n",
       "\n",
       "    .dataframe tbody tr th {\n",
       "        vertical-align: top;\n",
       "    }\n",
       "\n",
       "    .dataframe thead th {\n",
       "        text-align: right;\n",
       "    }\n",
       "</style>\n",
       "<table border=\"1\" class=\"dataframe\">\n",
       "  <thead>\n",
       "    <tr style=\"text-align: right;\">\n",
       "      <th></th>\n",
       "      <th>school_ncesid</th>\n",
       "      <th>school_latitude</th>\n",
       "      <th>school_longitude</th>\n",
       "      <th>school_state</th>\n",
       "      <th>school_zip</th>\n",
       "      <th>school_metro</th>\n",
       "      <th>school_charter</th>\n",
       "      <th>school_magnet</th>\n",
       "      <th>primary_focus_subject</th>\n",
       "      <th>primary_focus_area</th>\n",
       "      <th>secondary_focus_subject</th>\n",
       "      <th>grade_level</th>\n",
       "      <th>fulfillment_labor_materials</th>\n",
       "      <th>is_exciting</th>\n",
       "    </tr>\n",
       "  </thead>\n",
       "  <tbody>\n",
       "    <tr>\n",
       "      <th>school_ncesid</th>\n",
       "      <td>1.000000</td>\n",
       "      <td>0.192254</td>\n",
       "      <td>0.419152</td>\n",
       "      <td>0.963357</td>\n",
       "      <td>-0.360306</td>\n",
       "      <td>-0.056832</td>\n",
       "      <td>-0.095539</td>\n",
       "      <td>-0.056189</td>\n",
       "      <td>-0.006263</td>\n",
       "      <td>-0.009394</td>\n",
       "      <td>0.000208</td>\n",
       "      <td>-0.007960</td>\n",
       "      <td>-0.075011</td>\n",
       "      <td>-0.011940</td>\n",
       "    </tr>\n",
       "    <tr>\n",
       "      <th>school_latitude</th>\n",
       "      <td>0.192254</td>\n",
       "      <td>1.000000</td>\n",
       "      <td>0.142958</td>\n",
       "      <td>0.210266</td>\n",
       "      <td>-0.192925</td>\n",
       "      <td>0.119357</td>\n",
       "      <td>-0.022381</td>\n",
       "      <td>0.035457</td>\n",
       "      <td>0.024081</td>\n",
       "      <td>0.001855</td>\n",
       "      <td>0.024765</td>\n",
       "      <td>0.001541</td>\n",
       "      <td>-0.071486</td>\n",
       "      <td>0.022282</td>\n",
       "    </tr>\n",
       "    <tr>\n",
       "      <th>school_longitude</th>\n",
       "      <td>0.419152</td>\n",
       "      <td>0.142958</td>\n",
       "      <td>1.000000</td>\n",
       "      <td>0.418411</td>\n",
       "      <td>-0.937052</td>\n",
       "      <td>-0.009014</td>\n",
       "      <td>-0.051465</td>\n",
       "      <td>0.037747</td>\n",
       "      <td>0.009004</td>\n",
       "      <td>-0.010895</td>\n",
       "      <td>0.030321</td>\n",
       "      <td>-0.006253</td>\n",
       "      <td>-0.109889</td>\n",
       "      <td>-0.003111</td>\n",
       "    </tr>\n",
       "    <tr>\n",
       "      <th>school_state</th>\n",
       "      <td>0.963357</td>\n",
       "      <td>0.210266</td>\n",
       "      <td>0.418411</td>\n",
       "      <td>1.000000</td>\n",
       "      <td>-0.364457</td>\n",
       "      <td>-0.042672</td>\n",
       "      <td>-0.093322</td>\n",
       "      <td>-0.055963</td>\n",
       "      <td>-0.001237</td>\n",
       "      <td>-0.006046</td>\n",
       "      <td>0.002810</td>\n",
       "      <td>-0.011085</td>\n",
       "      <td>-0.073268</td>\n",
       "      <td>-0.011309</td>\n",
       "    </tr>\n",
       "    <tr>\n",
       "      <th>school_zip</th>\n",
       "      <td>-0.360306</td>\n",
       "      <td>-0.192925</td>\n",
       "      <td>-0.937052</td>\n",
       "      <td>-0.364457</td>\n",
       "      <td>1.000000</td>\n",
       "      <td>-0.006190</td>\n",
       "      <td>0.061482</td>\n",
       "      <td>-0.026369</td>\n",
       "      <td>-0.015822</td>\n",
       "      <td>0.008156</td>\n",
       "      <td>-0.036415</td>\n",
       "      <td>0.008223</td>\n",
       "      <td>0.099523</td>\n",
       "      <td>-0.000099</td>\n",
       "    </tr>\n",
       "    <tr>\n",
       "      <th>school_metro</th>\n",
       "      <td>-0.056832</td>\n",
       "      <td>0.119357</td>\n",
       "      <td>-0.009014</td>\n",
       "      <td>-0.042672</td>\n",
       "      <td>-0.006190</td>\n",
       "      <td>1.000000</td>\n",
       "      <td>0.102111</td>\n",
       "      <td>0.141184</td>\n",
       "      <td>0.017097</td>\n",
       "      <td>-0.000821</td>\n",
       "      <td>0.003211</td>\n",
       "      <td>0.006716</td>\n",
       "      <td>-0.020346</td>\n",
       "      <td>0.021461</td>\n",
       "    </tr>\n",
       "    <tr>\n",
       "      <th>school_charter</th>\n",
       "      <td>-0.095539</td>\n",
       "      <td>-0.022381</td>\n",
       "      <td>-0.051465</td>\n",
       "      <td>-0.093322</td>\n",
       "      <td>0.061482</td>\n",
       "      <td>0.102111</td>\n",
       "      <td>1.000000</td>\n",
       "      <td>-0.084541</td>\n",
       "      <td>-0.010057</td>\n",
       "      <td>-0.012948</td>\n",
       "      <td>-0.002002</td>\n",
       "      <td>0.006800</td>\n",
       "      <td>0.035669</td>\n",
       "      <td>0.046583</td>\n",
       "    </tr>\n",
       "    <tr>\n",
       "      <th>school_magnet</th>\n",
       "      <td>-0.056189</td>\n",
       "      <td>0.035457</td>\n",
       "      <td>0.037747</td>\n",
       "      <td>-0.055963</td>\n",
       "      <td>-0.026369</td>\n",
       "      <td>0.141184</td>\n",
       "      <td>-0.084541</td>\n",
       "      <td>1.000000</td>\n",
       "      <td>-0.012675</td>\n",
       "      <td>0.002453</td>\n",
       "      <td>-0.002081</td>\n",
       "      <td>-0.007515</td>\n",
       "      <td>-0.026043</td>\n",
       "      <td>-0.002383</td>\n",
       "    </tr>\n",
       "    <tr>\n",
       "      <th>primary_focus_subject</th>\n",
       "      <td>-0.006263</td>\n",
       "      <td>0.024081</td>\n",
       "      <td>0.009004</td>\n",
       "      <td>-0.001237</td>\n",
       "      <td>-0.015822</td>\n",
       "      <td>0.017097</td>\n",
       "      <td>-0.010057</td>\n",
       "      <td>-0.012675</td>\n",
       "      <td>1.000000</td>\n",
       "      <td>0.430642</td>\n",
       "      <td>0.047469</td>\n",
       "      <td>-0.004172</td>\n",
       "      <td>0.002234</td>\n",
       "      <td>0.008939</td>\n",
       "    </tr>\n",
       "    <tr>\n",
       "      <th>primary_focus_area</th>\n",
       "      <td>-0.009394</td>\n",
       "      <td>0.001855</td>\n",
       "      <td>-0.010895</td>\n",
       "      <td>-0.006046</td>\n",
       "      <td>0.008156</td>\n",
       "      <td>-0.000821</td>\n",
       "      <td>-0.012948</td>\n",
       "      <td>0.002453</td>\n",
       "      <td>0.430642</td>\n",
       "      <td>1.000000</td>\n",
       "      <td>-0.023943</td>\n",
       "      <td>-0.064998</td>\n",
       "      <td>0.009711</td>\n",
       "      <td>0.012113</td>\n",
       "    </tr>\n",
       "    <tr>\n",
       "      <th>secondary_focus_subject</th>\n",
       "      <td>0.000208</td>\n",
       "      <td>0.024765</td>\n",
       "      <td>0.030321</td>\n",
       "      <td>0.002810</td>\n",
       "      <td>-0.036415</td>\n",
       "      <td>0.003211</td>\n",
       "      <td>-0.002002</td>\n",
       "      <td>-0.002081</td>\n",
       "      <td>0.047469</td>\n",
       "      <td>-0.023943</td>\n",
       "      <td>1.000000</td>\n",
       "      <td>-0.033923</td>\n",
       "      <td>-0.002719</td>\n",
       "      <td>0.001194</td>\n",
       "    </tr>\n",
       "    <tr>\n",
       "      <th>grade_level</th>\n",
       "      <td>-0.007960</td>\n",
       "      <td>0.001541</td>\n",
       "      <td>-0.006253</td>\n",
       "      <td>-0.011085</td>\n",
       "      <td>0.008223</td>\n",
       "      <td>0.006716</td>\n",
       "      <td>0.006800</td>\n",
       "      <td>-0.007515</td>\n",
       "      <td>-0.004172</td>\n",
       "      <td>-0.064998</td>\n",
       "      <td>-0.033923</td>\n",
       "      <td>1.000000</td>\n",
       "      <td>0.006605</td>\n",
       "      <td>0.006840</td>\n",
       "    </tr>\n",
       "    <tr>\n",
       "      <th>fulfillment_labor_materials</th>\n",
       "      <td>-0.075011</td>\n",
       "      <td>-0.071486</td>\n",
       "      <td>-0.109889</td>\n",
       "      <td>-0.073268</td>\n",
       "      <td>0.099523</td>\n",
       "      <td>-0.020346</td>\n",
       "      <td>0.035669</td>\n",
       "      <td>-0.026043</td>\n",
       "      <td>0.002234</td>\n",
       "      <td>0.009711</td>\n",
       "      <td>-0.002719</td>\n",
       "      <td>0.006605</td>\n",
       "      <td>1.000000</td>\n",
       "      <td>0.149907</td>\n",
       "    </tr>\n",
       "    <tr>\n",
       "      <th>is_exciting</th>\n",
       "      <td>-0.011940</td>\n",
       "      <td>0.022282</td>\n",
       "      <td>-0.003111</td>\n",
       "      <td>-0.011309</td>\n",
       "      <td>-0.000099</td>\n",
       "      <td>0.021461</td>\n",
       "      <td>0.046583</td>\n",
       "      <td>-0.002383</td>\n",
       "      <td>0.008939</td>\n",
       "      <td>0.012113</td>\n",
       "      <td>0.001194</td>\n",
       "      <td>0.006840</td>\n",
       "      <td>0.149907</td>\n",
       "      <td>1.000000</td>\n",
       "    </tr>\n",
       "  </tbody>\n",
       "</table>\n",
       "</div>"
      ],
      "text/plain": [
       "                             school_ncesid  school_latitude  school_longitude  \\\n",
       "school_ncesid                     1.000000         0.192254          0.419152   \n",
       "school_latitude                   0.192254         1.000000          0.142958   \n",
       "school_longitude                  0.419152         0.142958          1.000000   \n",
       "school_state                      0.963357         0.210266          0.418411   \n",
       "school_zip                       -0.360306        -0.192925         -0.937052   \n",
       "school_metro                     -0.056832         0.119357         -0.009014   \n",
       "school_charter                   -0.095539        -0.022381         -0.051465   \n",
       "school_magnet                    -0.056189         0.035457          0.037747   \n",
       "primary_focus_subject            -0.006263         0.024081          0.009004   \n",
       "primary_focus_area               -0.009394         0.001855         -0.010895   \n",
       "secondary_focus_subject           0.000208         0.024765          0.030321   \n",
       "grade_level                      -0.007960         0.001541         -0.006253   \n",
       "fulfillment_labor_materials      -0.075011        -0.071486         -0.109889   \n",
       "is_exciting                      -0.011940         0.022282         -0.003111   \n",
       "\n",
       "                             school_state  school_zip  school_metro  \\\n",
       "school_ncesid                    0.963357   -0.360306     -0.056832   \n",
       "school_latitude                  0.210266   -0.192925      0.119357   \n",
       "school_longitude                 0.418411   -0.937052     -0.009014   \n",
       "school_state                     1.000000   -0.364457     -0.042672   \n",
       "school_zip                      -0.364457    1.000000     -0.006190   \n",
       "school_metro                    -0.042672   -0.006190      1.000000   \n",
       "school_charter                  -0.093322    0.061482      0.102111   \n",
       "school_magnet                   -0.055963   -0.026369      0.141184   \n",
       "primary_focus_subject           -0.001237   -0.015822      0.017097   \n",
       "primary_focus_area              -0.006046    0.008156     -0.000821   \n",
       "secondary_focus_subject          0.002810   -0.036415      0.003211   \n",
       "grade_level                     -0.011085    0.008223      0.006716   \n",
       "fulfillment_labor_materials     -0.073268    0.099523     -0.020346   \n",
       "is_exciting                     -0.011309   -0.000099      0.021461   \n",
       "\n",
       "                             school_charter  school_magnet  \\\n",
       "school_ncesid                     -0.095539      -0.056189   \n",
       "school_latitude                   -0.022381       0.035457   \n",
       "school_longitude                  -0.051465       0.037747   \n",
       "school_state                      -0.093322      -0.055963   \n",
       "school_zip                         0.061482      -0.026369   \n",
       "school_metro                       0.102111       0.141184   \n",
       "school_charter                     1.000000      -0.084541   \n",
       "school_magnet                     -0.084541       1.000000   \n",
       "primary_focus_subject             -0.010057      -0.012675   \n",
       "primary_focus_area                -0.012948       0.002453   \n",
       "secondary_focus_subject           -0.002002      -0.002081   \n",
       "grade_level                        0.006800      -0.007515   \n",
       "fulfillment_labor_materials        0.035669      -0.026043   \n",
       "is_exciting                        0.046583      -0.002383   \n",
       "\n",
       "                             primary_focus_subject  primary_focus_area  \\\n",
       "school_ncesid                            -0.006263           -0.009394   \n",
       "school_latitude                           0.024081            0.001855   \n",
       "school_longitude                          0.009004           -0.010895   \n",
       "school_state                             -0.001237           -0.006046   \n",
       "school_zip                               -0.015822            0.008156   \n",
       "school_metro                              0.017097           -0.000821   \n",
       "school_charter                           -0.010057           -0.012948   \n",
       "school_magnet                            -0.012675            0.002453   \n",
       "primary_focus_subject                     1.000000            0.430642   \n",
       "primary_focus_area                        0.430642            1.000000   \n",
       "secondary_focus_subject                   0.047469           -0.023943   \n",
       "grade_level                              -0.004172           -0.064998   \n",
       "fulfillment_labor_materials               0.002234            0.009711   \n",
       "is_exciting                               0.008939            0.012113   \n",
       "\n",
       "                             secondary_focus_subject  grade_level  \\\n",
       "school_ncesid                               0.000208    -0.007960   \n",
       "school_latitude                             0.024765     0.001541   \n",
       "school_longitude                            0.030321    -0.006253   \n",
       "school_state                                0.002810    -0.011085   \n",
       "school_zip                                 -0.036415     0.008223   \n",
       "school_metro                                0.003211     0.006716   \n",
       "school_charter                             -0.002002     0.006800   \n",
       "school_magnet                              -0.002081    -0.007515   \n",
       "primary_focus_subject                       0.047469    -0.004172   \n",
       "primary_focus_area                         -0.023943    -0.064998   \n",
       "secondary_focus_subject                     1.000000    -0.033923   \n",
       "grade_level                                -0.033923     1.000000   \n",
       "fulfillment_labor_materials                -0.002719     0.006605   \n",
       "is_exciting                                 0.001194     0.006840   \n",
       "\n",
       "                             fulfillment_labor_materials  is_exciting  \n",
       "school_ncesid                                  -0.075011    -0.011940  \n",
       "school_latitude                                -0.071486     0.022282  \n",
       "school_longitude                               -0.109889    -0.003111  \n",
       "school_state                                   -0.073268    -0.011309  \n",
       "school_zip                                      0.099523    -0.000099  \n",
       "school_metro                                   -0.020346     0.021461  \n",
       "school_charter                                  0.035669     0.046583  \n",
       "school_magnet                                  -0.026043    -0.002383  \n",
       "primary_focus_subject                           0.002234     0.008939  \n",
       "primary_focus_area                              0.009711     0.012113  \n",
       "secondary_focus_subject                        -0.002719     0.001194  \n",
       "grade_level                                     0.006605     0.006840  \n",
       "fulfillment_labor_materials                     1.000000     0.149907  \n",
       "is_exciting                                     0.149907     1.000000  "
      ]
     },
     "execution_count": 106,
     "metadata": {},
     "output_type": "execute_result"
    }
   ],
   "source": [
    "#checking correlation for train dataset\n",
    "train.corr()"
   ]
  },
  {
   "cell_type": "code",
   "execution_count": 107,
   "metadata": {},
   "outputs": [
    {
     "data": {
      "text/plain": [
       "<AxesSubplot:>"
      ]
     },
     "execution_count": 107,
     "metadata": {},
     "output_type": "execute_result"
    },
    {
     "data": {
      "image/png": "[encoded data removed]",
      "text/plain": [
       "<Figure size 720x432 with 2 Axes>"
      ]
     },
     "metadata": {
      "needs_background": "light"
     },
     "output_type": "display_data"
    }
   ],
   "source": [
    "# check\n",
    "fig, ax = plt.subplots(figsize=(10,6))\n",
    "sns.heatmap(train.corr())"
   ]
  },
  {
   "cell_type": "code",
   "execution_count": 108,
   "metadata": {},
   "outputs": [
    {
     "name": "stderr",
     "output_type": "stream",
     "text": [
      "C:\\Users\\sowmy\\anaconda3\\envs\\tens\\lib\\site-packages\\pandas\\core\\frame.py:4312: SettingWithCopyWarning: \n",
      "A value is trying to be set on a copy of a slice from a DataFrame\n",
      "\n",
      "See the caveats in the documentation: https://pandas.pydata.org/pandas-docs/stable/user_guide/indexing.html#returning-a-view-versus-a-copy\n",
      "  errors=errors,\n"
     ]
    }
   ],
   "source": [
    "#droping columns \n",
    "train.drop(['school_nlns','school_charter_ready_promise'], axis=1, inplace=True)"
   ]
  },
  {
   "cell_type": "code",
   "execution_count": 109,
   "metadata": {},
   "outputs": [],
   "source": [
    "train.drop(['teacher_acctid', 'schoolid','school_latitude', 'school_longitude', 'school_city',\n",
    "            'school_zip', 'school_district', 'school_county','teacher_prefix','teacher_teach_for_america', \n",
    "            'teacher_ny_teaching_fellow','secondary_focus_subject', 'secondary_focus_area', 'resource_type',\n",
    "            'poverty_level', 'grade_level', 'fulfillment_labor_materials','eligible_double_your_impact_match',\n",
    "            'eligible_almost_home_match','date_posted', 'title','school_ncesid', 'school_state', 'school_metro',\n",
    "            'school_charter', 'school_magnet', 'primary_focus_subject','primary_focus_area','short_description'], axis=1, inplace=True)"
   ]
  },
  {
   "cell_type": "code",
   "execution_count": 110,
   "metadata": {},
   "outputs": [],
   "source": [
    "train.drop(['school_year_round', 'school_kipp','need_statement'], axis=1, inplace=True)"
   ]
  },
  {
   "cell_type": "code",
   "execution_count": 111,
   "metadata": {},
   "outputs": [
    {
     "data": {
      "text/plain": [
       "Index(['projectid', 'essay', 'is_exciting'], dtype='object')"
      ]
     },
     "execution_count": 111,
     "metadata": {},
     "output_type": "execute_result"
    }
   ],
   "source": [
    "train.columns"
   ]
  },
  {
   "cell_type": "code",
   "execution_count": 112,
   "metadata": {},
   "outputs": [
    {
     "data": {
      "text/html": [
       "<div>\n",
       "<style scoped>\n",
       "    .dataframe tbody tr th:only-of-type {\n",
       "        vertical-align: middle;\n",
       "    }\n",
       "\n",
       "    .dataframe tbody tr th {\n",
       "        vertical-align: top;\n",
       "    }\n",
       "\n",
       "    .dataframe thead th {\n",
       "        text-align: right;\n",
       "    }\n",
       "</style>\n",
       "<table border=\"1\" class=\"dataframe\">\n",
       "  <thead>\n",
       "    <tr style=\"text-align: right;\">\n",
       "      <th></th>\n",
       "      <th>projectid</th>\n",
       "      <th>essay</th>\n",
       "      <th>is_exciting</th>\n",
       "    </tr>\n",
       "  </thead>\n",
       "  <tbody>\n",
       "    <tr>\n",
       "      <th>44772</th>\n",
       "      <td>62526d85d2a1818432d03d600969e99c</td>\n",
       "      <td>If they can't learn the way we teach, we teach...</td>\n",
       "      <td>0</td>\n",
       "    </tr>\n",
       "    <tr>\n",
       "      <th>44773</th>\n",
       "      <td>33d59ac771b80222ad63ef0f4ac47ade</td>\n",
       "      <td>Which is bigger, three liters or three quarts?...</td>\n",
       "      <td>0</td>\n",
       "    </tr>\n",
       "    <tr>\n",
       "      <th>44774</th>\n",
       "      <td>1a3aaeffc56dd2a421e37d8298024c0a</td>\n",
       "      <td>Do you remember classrooms that used just book...</td>\n",
       "      <td>0</td>\n",
       "    </tr>\n",
       "    <tr>\n",
       "      <th>44775</th>\n",
       "      <td>33aa19ee4da4c5adf47d0dfb84fab5ef</td>\n",
       "      <td>My class was given the beautiful gift of books...</td>\n",
       "      <td>0</td>\n",
       "    </tr>\n",
       "    <tr>\n",
       "      <th>44776</th>\n",
       "      <td>e31c0ea8b68f404699dfb0d39e9bc99b</td>\n",
       "      <td>Thinking back in school science was either rea...</td>\n",
       "      <td>0</td>\n",
       "    </tr>\n",
       "  </tbody>\n",
       "</table>\n",
       "</div>"
      ],
      "text/plain": [
       "                              projectid  \\\n",
       "44772  62526d85d2a1818432d03d600969e99c   \n",
       "44773  33d59ac771b80222ad63ef0f4ac47ade   \n",
       "44774  1a3aaeffc56dd2a421e37d8298024c0a   \n",
       "44775  33aa19ee4da4c5adf47d0dfb84fab5ef   \n",
       "44776  e31c0ea8b68f404699dfb0d39e9bc99b   \n",
       "\n",
       "                                                   essay  is_exciting  \n",
       "44772  If they can't learn the way we teach, we teach...            0  \n",
       "44773  Which is bigger, three liters or three quarts?...            0  \n",
       "44774  Do you remember classrooms that used just book...            0  \n",
       "44775  My class was given the beautiful gift of books...            0  \n",
       "44776  Thinking back in school science was either rea...            0  "
      ]
     },
     "execution_count": 112,
     "metadata": {},
     "output_type": "execute_result"
    }
   ],
   "source": [
    "train.head()"
   ]
  },
  {
   "cell_type": "code",
   "execution_count": 113,
   "metadata": {},
   "outputs": [
    {
     "name": "stderr",
     "output_type": "stream",
     "text": [
      "C:\\Users\\sowmy\\anaconda3\\envs\\tens\\lib\\site-packages\\pandas\\core\\frame.py:4312: SettingWithCopyWarning: \n",
      "A value is trying to be set on a copy of a slice from a DataFrame\n",
      "\n",
      "See the caveats in the documentation: https://pandas.pydata.org/pandas-docs/stable/user_guide/indexing.html#returning-a-view-versus-a-copy\n",
      "  errors=errors,\n"
     ]
    }
   ],
   "source": [
    "test.drop(['teacher_acctid', 'schoolid','school_latitude', 'school_longitude', 'school_city', \n",
    "            'school_zip', 'school_district', 'school_county','teacher_prefix','teacher_teach_for_america', 'teacher_ny_teaching_fellow','secondary_focus_subject',\n",
    "            'secondary_focus_area', 'resource_type',\n",
    "            'poverty_level', 'grade_level', 'fulfillment_labor_materials','total_price_excluding_optional_support',\n",
    "            'total_price_including_optional_support','eligible_double_your_impact_match', 'eligible_almost_home_match','date_posted', 'title', \n",
    "            'short_description','school_ncesid', 'school_state', 'school_metro',\n",
    "            'school_charter', 'school_magnet', 'primary_focus_subject','primary_focus_area', 'students_reached',], axis=1, inplace=True)"
   ]
  },
  {
   "cell_type": "code",
   "execution_count": 114,
   "metadata": {},
   "outputs": [],
   "source": [
    "test.drop(['school_nlns','school_charter_ready_promise','school_year_round',\n",
    "           'need_statement','school_kipp'], axis=1, inplace=True)"
   ]
  },
  {
   "cell_type": "code",
   "execution_count": 115,
   "metadata": {},
   "outputs": [],
   "source": [
    "test_x = test[['essay']]"
   ]
  },
  {
   "cell_type": "markdown",
   "metadata": {},
   "source": [
    "# Text Preprocessing"
   ]
  },
  {
   "cell_type": "code",
   "execution_count": 116,
   "metadata": {},
   "outputs": [
    {
     "data": {
      "text/plain": [
       "44772    If they can't learn the way we teach, we teach...\n",
       "44773    Which is bigger, three liters or three quarts?...\n",
       "44774    Do you remember classrooms that used just book...\n",
       "44775    My class was given the beautiful gift of books...\n",
       "44776    Thinking back in school science was either rea...\n",
       "44777    My classroom involves lots of creativity while...\n",
       "Name: essay, dtype: object"
      ]
     },
     "execution_count": 116,
     "metadata": {},
     "output_type": "execute_result"
    }
   ],
   "source": [
    "train['essay'][:6]"
   ]
  },
  {
   "cell_type": "code",
   "execution_count": 117,
   "metadata": {},
   "outputs": [
    {
     "data": {
      "text/plain": [
       "0    Can we read one more chapter? Do we have to go...\n",
       "1    Engaging reading materials sent right to my st...\n",
       "2    Our second grade in rural Oregon is an adventu...\n",
       "3    Help give 12 Brooklyn students access and orga...\n",
       "4    Technology is changing the world as we speak. ...\n",
       "5    In my class we have \"Spectacular Style\". My st...\n",
       "Name: essay, dtype: object"
      ]
     },
     "execution_count": 117,
     "metadata": {},
     "output_type": "execute_result"
    }
   ],
   "source": [
    "test_x['essay'][:6]"
   ]
  },
  {
   "cell_type": "code",
   "execution_count": 118,
   "metadata": {},
   "outputs": [
    {
     "name": "stderr",
     "output_type": "stream",
     "text": [
      "C:\\Users\\sowmy\\anaconda3\\envs\\tens\\lib\\site-packages\\ipykernel_launcher.py:1: SettingWithCopyWarning: \n",
      "A value is trying to be set on a copy of a slice from a DataFrame.\n",
      "Try using .loc[row_indexer,col_indexer] = value instead\n",
      "\n",
      "See the caveats in the documentation: https://pandas.pydata.org/pandas-docs/stable/user_guide/indexing.html#returning-a-view-versus-a-copy\n",
      "  \"\"\"Entry point for launching an IPython kernel.\n"
     ]
    }
   ],
   "source": [
    "train['essay'] = train['essay'].astype(str)"
   ]
  },
  {
   "cell_type": "code",
   "execution_count": 119,
   "metadata": {},
   "outputs": [
    {
     "name": "stderr",
     "output_type": "stream",
     "text": [
      "C:\\Users\\sowmy\\anaconda3\\envs\\tens\\lib\\site-packages\\ipykernel_launcher.py:1: SettingWithCopyWarning: \n",
      "A value is trying to be set on a copy of a slice from a DataFrame.\n",
      "Try using .loc[row_indexer,col_indexer] = value instead\n",
      "\n",
      "See the caveats in the documentation: https://pandas.pydata.org/pandas-docs/stable/user_guide/indexing.html#returning-a-view-versus-a-copy\n",
      "  \"\"\"Entry point for launching an IPython kernel.\n"
     ]
    }
   ],
   "source": [
    "test_x['essay'] = test_x['essay'].astype(str)"
   ]
  },
  {
   "cell_type": "code",
   "execution_count": 120,
   "metadata": {},
   "outputs": [
    {
     "name": "stderr",
     "output_type": "stream",
     "text": [
      "C:\\Users\\sowmy\\anaconda3\\envs\\tens\\lib\\site-packages\\ipykernel_launcher.py:2: SettingWithCopyWarning: \n",
      "A value is trying to be set on a copy of a slice from a DataFrame.\n",
      "Try using .loc[row_indexer,col_indexer] = value instead\n",
      "\n",
      "See the caveats in the documentation: https://pandas.pydata.org/pandas-docs/stable/user_guide/indexing.html#returning-a-view-versus-a-copy\n",
      "  \n"
     ]
    }
   ],
   "source": [
    "#converting lower values\n",
    "train['essay'] = train['essay'].str.lower()"
   ]
  },
  {
   "cell_type": "code",
   "execution_count": 121,
   "metadata": {},
   "outputs": [
    {
     "name": "stderr",
     "output_type": "stream",
     "text": [
      "C:\\Users\\sowmy\\anaconda3\\envs\\tens\\lib\\site-packages\\ipykernel_launcher.py:1: SettingWithCopyWarning: \n",
      "A value is trying to be set on a copy of a slice from a DataFrame.\n",
      "Try using .loc[row_indexer,col_indexer] = value instead\n",
      "\n",
      "See the caveats in the documentation: https://pandas.pydata.org/pandas-docs/stable/user_guide/indexing.html#returning-a-view-versus-a-copy\n",
      "  \"\"\"Entry point for launching an IPython kernel.\n"
     ]
    }
   ],
   "source": [
    "test_x['essay'] = test_x['essay'].str.lower()"
   ]
  },
  {
   "cell_type": "code",
   "execution_count": 122,
   "metadata": {},
   "outputs": [
    {
     "name": "stderr",
     "output_type": "stream",
     "text": [
      "C:\\Users\\sowmy\\anaconda3\\envs\\tens\\lib\\site-packages\\ipykernel_launcher.py:1: SettingWithCopyWarning: \n",
      "A value is trying to be set on a copy of a slice from a DataFrame.\n",
      "Try using .loc[row_indexer,col_indexer] = value instead\n",
      "\n",
      "See the caveats in the documentation: https://pandas.pydata.org/pandas-docs/stable/user_guide/indexing.html#returning-a-view-versus-a-copy\n",
      "  \"\"\"Entry point for launching an IPython kernel.\n",
      "C:\\Users\\sowmy\\anaconda3\\envs\\tens\\lib\\site-packages\\ipykernel_launcher.py:2: SettingWithCopyWarning: \n",
      "A value is trying to be set on a copy of a slice from a DataFrame.\n",
      "Try using .loc[row_indexer,col_indexer] = value instead\n",
      "\n",
      "See the caveats in the documentation: https://pandas.pydata.org/pandas-docs/stable/user_guide/indexing.html#returning-a-view-versus-a-copy\n",
      "  \n"
     ]
    }
   ],
   "source": [
    "train['essay'] = train['essay'].str.strip() \n",
    "test_x['essay'] = test_x['essay'].str.strip() "
   ]
  },
  {
   "cell_type": "code",
   "execution_count": 123,
   "metadata": {},
   "outputs": [
    {
     "name": "stderr",
     "output_type": "stream",
     "text": [
      "C:\\Users\\sowmy\\anaconda3\\envs\\tens\\lib\\site-packages\\pandas\\core\\series.py:4485: SettingWithCopyWarning: \n",
      "A value is trying to be set on a copy of a slice from a DataFrame\n",
      "\n",
      "See the caveats in the documentation: https://pandas.pydata.org/pandas-docs/stable/user_guide/indexing.html#returning-a-view-versus-a-copy\n",
      "  method=method,\n"
     ]
    }
   ],
   "source": [
    "#https://stackoverflow.com/questions/44227748/removing-newlines-from-messy-strings-in-pandas-dataframe-cells\n",
    "#removing unnecessary charecters from the paragraph\n",
    "train['essay'].replace(to_replace=[r\"\\\\t|\\\\n|\\\\r\", \"\\t|\\n|\\r\"], value=[\"\",\"\"], regex=True, inplace=True)\n",
    "test_x['essay'].replace(to_replace=[r\"\\\\t|\\\\n|\\\\r\", \"\\t|\\n|\\r\"], value=[\"\",\"\"], regex=True, inplace=True)"
   ]
  },
  {
   "cell_type": "code",
   "execution_count": 124,
   "metadata": {},
   "outputs": [],
   "source": [
    "#https://stackoverflow.com/questions/41719259/how-to-remove-numbers-from-string-terms-in-a-pandas-dataframe#:~:text=Similarly%2C%20you%20can%20use%20.,the%20end%20of%20each%20string.&text=if%20you%20want%20to%20change%20source%20dataframe%20use%20inplace%3DTrue%20.\n",
    "#removing numbers from the text\n",
    "train['essay'].replace('\\d+', '', regex=True, inplace=True)\n",
    "test_x['essay'].replace('\\d+', '', regex=True, inplace=True)"
   ]
  },
  {
   "cell_type": "code",
   "execution_count": 125,
   "metadata": {},
   "outputs": [],
   "source": [
    "#removing punctuation marks from text\n",
    "import string   \n",
    "def remove_punctuations(text):\n",
    "    for punctuation in string.punctuation:\n",
    "        text = text.replace(punctuation, '')\n",
    "    return text"
   ]
  },
  {
   "cell_type": "code",
   "execution_count": 126,
   "metadata": {},
   "outputs": [
    {
     "name": "stderr",
     "output_type": "stream",
     "text": [
      "C:\\Users\\sowmy\\anaconda3\\envs\\tens\\lib\\site-packages\\ipykernel_launcher.py:1: SettingWithCopyWarning: \n",
      "A value is trying to be set on a copy of a slice from a DataFrame.\n",
      "Try using .loc[row_indexer,col_indexer] = value instead\n",
      "\n",
      "See the caveats in the documentation: https://pandas.pydata.org/pandas-docs/stable/user_guide/indexing.html#returning-a-view-versus-a-copy\n",
      "  \"\"\"Entry point for launching an IPython kernel.\n",
      "C:\\Users\\sowmy\\anaconda3\\envs\\tens\\lib\\site-packages\\ipykernel_launcher.py:2: SettingWithCopyWarning: \n",
      "A value is trying to be set on a copy of a slice from a DataFrame.\n",
      "Try using .loc[row_indexer,col_indexer] = value instead\n",
      "\n",
      "See the caveats in the documentation: https://pandas.pydata.org/pandas-docs/stable/user_guide/indexing.html#returning-a-view-versus-a-copy\n",
      "  \n"
     ]
    }
   ],
   "source": [
    "train['essay'] = train['essay'].apply(remove_punctuations)\n",
    "test_x['essay'] = test_x['essay'].apply(remove_punctuations)"
   ]
  },
  {
   "cell_type": "code",
   "execution_count": 127,
   "metadata": {},
   "outputs": [
    {
     "data": {
      "text/plain": [
       "44772    if they cant learn the way we teach we teach t...\n",
       "44773    which is bigger three liters or three quarts m...\n",
       "44774    do you remember classrooms that used just book...\n",
       "44775    my class was given the beautiful gift of books...\n",
       "44776    thinking back in school science was either rea...\n",
       "44777    my classroom involves lots of creativity while...\n",
       "Name: essay, dtype: object"
      ]
     },
     "execution_count": 127,
     "metadata": {},
     "output_type": "execute_result"
    }
   ],
   "source": [
    "train['essay'][:6]"
   ]
  },
  {
   "cell_type": "code",
   "execution_count": 128,
   "metadata": {},
   "outputs": [
    {
     "data": {
      "text/plain": [
       "0    Can we read one more chapter? Do we have to go...\n",
       "1    Engaging reading materials sent right to my st...\n",
       "2    Our second grade in rural Oregon is an adventu...\n",
       "3    Help give 12 Brooklyn students access and orga...\n",
       "4    Technology is changing the world as we speak. ...\n",
       "5    In my class we have \"Spectacular Style\". My st...\n",
       "Name: essay, dtype: object"
      ]
     },
     "execution_count": 128,
     "metadata": {},
     "output_type": "execute_result"
    }
   ],
   "source": [
    "test['essay'][:6]"
   ]
  },
  {
   "cell_type": "code",
   "execution_count": 129,
   "metadata": {},
   "outputs": [],
   "source": [
    "train_x = train[['essay']]"
   ]
  },
  {
   "cell_type": "code",
   "execution_count": 130,
   "metadata": {},
   "outputs": [],
   "source": [
    "train_y = train[['is_exciting']]"
   ]
  },
  {
   "cell_type": "code",
   "execution_count": 131,
   "metadata": {},
   "outputs": [
    {
     "data": {
      "text/html": [
       "<div>\n",
       "<style scoped>\n",
       "    .dataframe tbody tr th:only-of-type {\n",
       "        vertical-align: middle;\n",
       "    }\n",
       "\n",
       "    .dataframe tbody tr th {\n",
       "        vertical-align: top;\n",
       "    }\n",
       "\n",
       "    .dataframe thead th {\n",
       "        text-align: right;\n",
       "    }\n",
       "</style>\n",
       "<table border=\"1\" class=\"dataframe\">\n",
       "  <thead>\n",
       "    <tr style=\"text-align: right;\">\n",
       "      <th></th>\n",
       "      <th>essay</th>\n",
       "    </tr>\n",
       "  </thead>\n",
       "  <tbody>\n",
       "    <tr>\n",
       "      <th>44772</th>\n",
       "      <td>if they cant learn the way we teach we teach t...</td>\n",
       "    </tr>\n",
       "    <tr>\n",
       "      <th>44773</th>\n",
       "      <td>which is bigger three liters or three quarts m...</td>\n",
       "    </tr>\n",
       "    <tr>\n",
       "      <th>44774</th>\n",
       "      <td>do you remember classrooms that used just book...</td>\n",
       "    </tr>\n",
       "    <tr>\n",
       "      <th>44775</th>\n",
       "      <td>my class was given the beautiful gift of books...</td>\n",
       "    </tr>\n",
       "    <tr>\n",
       "      <th>44776</th>\n",
       "      <td>thinking back in school science was either rea...</td>\n",
       "    </tr>\n",
       "  </tbody>\n",
       "</table>\n",
       "</div>"
      ],
      "text/plain": [
       "                                                   essay\n",
       "44772  if they cant learn the way we teach we teach t...\n",
       "44773  which is bigger three liters or three quarts m...\n",
       "44774  do you remember classrooms that used just book...\n",
       "44775  my class was given the beautiful gift of books...\n",
       "44776  thinking back in school science was either rea..."
      ]
     },
     "execution_count": 131,
     "metadata": {},
     "output_type": "execute_result"
    }
   ],
   "source": [
    "train_x.head()"
   ]
  },
  {
   "cell_type": "code",
   "execution_count": 132,
   "metadata": {},
   "outputs": [
    {
     "data": {
      "text/html": [
       "<div>\n",
       "<style scoped>\n",
       "    .dataframe tbody tr th:only-of-type {\n",
       "        vertical-align: middle;\n",
       "    }\n",
       "\n",
       "    .dataframe tbody tr th {\n",
       "        vertical-align: top;\n",
       "    }\n",
       "\n",
       "    .dataframe thead th {\n",
       "        text-align: right;\n",
       "    }\n",
       "</style>\n",
       "<table border=\"1\" class=\"dataframe\">\n",
       "  <thead>\n",
       "    <tr style=\"text-align: right;\">\n",
       "      <th></th>\n",
       "      <th>essay</th>\n",
       "    </tr>\n",
       "  </thead>\n",
       "  <tbody>\n",
       "    <tr>\n",
       "      <th>0</th>\n",
       "      <td>can we read one more chapter do we have to go ...</td>\n",
       "    </tr>\n",
       "    <tr>\n",
       "      <th>1</th>\n",
       "      <td>engaging reading materials sent right to my st...</td>\n",
       "    </tr>\n",
       "    <tr>\n",
       "      <th>2</th>\n",
       "      <td>our second grade in rural oregon is an adventu...</td>\n",
       "    </tr>\n",
       "    <tr>\n",
       "      <th>3</th>\n",
       "      <td>help give  brooklyn students access and organi...</td>\n",
       "    </tr>\n",
       "    <tr>\n",
       "      <th>4</th>\n",
       "      <td>technology is changing the world as we speak  ...</td>\n",
       "    </tr>\n",
       "  </tbody>\n",
       "</table>\n",
       "</div>"
      ],
      "text/plain": [
       "                                               essay\n",
       "0  can we read one more chapter do we have to go ...\n",
       "1  engaging reading materials sent right to my st...\n",
       "2  our second grade in rural oregon is an adventu...\n",
       "3  help give  brooklyn students access and organi...\n",
       "4  technology is changing the world as we speak  ..."
      ]
     },
     "execution_count": 132,
     "metadata": {},
     "output_type": "execute_result"
    }
   ],
   "source": [
    "test_x.head()"
   ]
  },
  {
   "cell_type": "code",
   "execution_count": 133,
   "metadata": {},
   "outputs": [],
   "source": [
    "li = list(train_x['essay'])\n",
    "st = list(test_x['essay'])"
   ]
  },
  {
   "cell_type": "code",
   "execution_count": 134,
   "metadata": {},
   "outputs": [],
   "source": [
    "import sklearn.feature_extraction.text as text\n",
    "tfidf=text.TfidfVectorizer(input=li,stop_words='english',max_features=1000,ngram_range=(1,2))\n",
    "tfidf_1=text.TfidfVectorizer(input=st,stop_words='english',max_features=1000,ngram_range=(1,2))"
   ]
  },
  {
   "cell_type": "code",
   "execution_count": 135,
   "metadata": {},
   "outputs": [],
   "source": [
    "x_train=tfidf.fit_transform(li)"
   ]
  },
  {
   "cell_type": "code",
   "execution_count": 136,
   "metadata": {},
   "outputs": [],
   "source": [
    "x_test = tfidf_1.fit_transform(st)"
   ]
  },
  {
   "cell_type": "code",
   "execution_count": 137,
   "metadata": {},
   "outputs": [
    {
     "data": {
      "text/plain": [
       "(617712, 1000)"
      ]
     },
     "execution_count": 137,
     "metadata": {},
     "output_type": "execute_result"
    }
   ],
   "source": [
    "x_train.shape"
   ]
  },
  {
   "cell_type": "code",
   "execution_count": 138,
   "metadata": {},
   "outputs": [
    {
     "name": "stdout",
     "output_type": "stream",
     "text": [
      "0    581002\n",
      "1     36710\n",
      "Name: is_exciting, dtype: int64\n",
      "0    94.057101\n",
      "1     5.942899\n",
      "Name: is_exciting, dtype: float64\n"
     ]
    }
   ],
   "source": [
    "print(train_y['is_exciting'].value_counts())\n",
    "print(train_y['is_exciting'].value_counts(normalize=True)*100)"
   ]
  },
  {
   "cell_type": "code",
   "execution_count": 139,
   "metadata": {},
   "outputs": [
    {
     "data": {
      "text/plain": [
       "<AxesSubplot:xlabel='is_exciting', ylabel='count'>"
      ]
     },
     "execution_count": 139,
     "metadata": {},
     "output_type": "execute_result"
    },
    {
     "data": {
      "image/png": "[encoded data removed]",
      "text/plain": [
       "<Figure size 432x288 with 1 Axes>"
      ]
     },
     "metadata": {
      "needs_background": "light"
     },
     "output_type": "display_data"
    }
   ],
   "source": [
    "sns.countplot(x=train_y['is_exciting'])"
   ]
  },
  {
   "cell_type": "code",
   "execution_count": 140,
   "metadata": {},
   "outputs": [],
   "source": [
    "from sklearn.model_selection import train_test_split\n",
    "from imblearn.over_sampling import RandomOverSampler\n",
    "X_train,X_test,y_train,y_test=train_test_split(x_train,train_y,test_size=0.20,random_state=400)"
   ]
  },
  {
   "cell_type": "code",
   "execution_count": 141,
   "metadata": {},
   "outputs": [
    {
     "name": "stdout",
     "output_type": "stream",
     "text": [
      "(494169, 1000)\n",
      "(494169, 1)\n"
     ]
    }
   ],
   "source": [
    "print(X_train.shape)\n",
    "print(y_train.shape)"
   ]
  },
  {
   "cell_type": "code",
   "execution_count": 150,
   "metadata": {},
   "outputs": [],
   "source": [
    "sm = SMOTE(random_state=1)\n",
    "#RandomOverSampler(random_state=400)\n",
    "X_train_res, y_train_res = sm.fit_resample(X_train, y_train)"
   ]
  },
  {
   "cell_type": "code",
   "execution_count": 151,
   "metadata": {},
   "outputs": [
    {
     "data": {
      "text/html": [
       "<div>\n",
       "<style scoped>\n",
       "    .dataframe tbody tr th:only-of-type {\n",
       "        vertical-align: middle;\n",
       "    }\n",
       "\n",
       "    .dataframe tbody tr th {\n",
       "        vertical-align: top;\n",
       "    }\n",
       "\n",
       "    .dataframe thead th {\n",
       "        text-align: right;\n",
       "    }\n",
       "</style>\n",
       "<table border=\"1\" class=\"dataframe\">\n",
       "  <thead>\n",
       "    <tr style=\"text-align: right;\">\n",
       "      <th></th>\n",
       "      <th>is_exciting</th>\n",
       "    </tr>\n",
       "  </thead>\n",
       "  <tbody>\n",
       "    <tr>\n",
       "      <th>0</th>\n",
       "      <td>0</td>\n",
       "    </tr>\n",
       "    <tr>\n",
       "      <th>1</th>\n",
       "      <td>0</td>\n",
       "    </tr>\n",
       "    <tr>\n",
       "      <th>2</th>\n",
       "      <td>0</td>\n",
       "    </tr>\n",
       "    <tr>\n",
       "      <th>3</th>\n",
       "      <td>0</td>\n",
       "    </tr>\n",
       "    <tr>\n",
       "      <th>4</th>\n",
       "      <td>0</td>\n",
       "    </tr>\n",
       "  </tbody>\n",
       "</table>\n",
       "</div>"
      ],
      "text/plain": [
       "   is_exciting\n",
       "0            0\n",
       "1            0\n",
       "2            0\n",
       "3            0\n",
       "4            0"
      ]
     },
     "execution_count": 151,
     "metadata": {},
     "output_type": "execute_result"
    }
   ],
   "source": [
    "y_train_res.head()"
   ]
  },
  {
   "cell_type": "code",
   "execution_count": 152,
   "metadata": {},
   "outputs": [
    {
     "data": {
      "text/plain": [
       "is_exciting\n",
       "0              464931\n",
       "1              464931\n",
       "dtype: int64"
      ]
     },
     "execution_count": 152,
     "metadata": {},
     "output_type": "execute_result"
    }
   ],
   "source": [
    "y_train_res.value_counts()"
   ]
  },
  {
   "cell_type": "code",
   "execution_count": 153,
   "metadata": {},
   "outputs": [
    {
     "data": {
      "text/plain": [
       "(929862, 1000)"
      ]
     },
     "execution_count": 153,
     "metadata": {},
     "output_type": "execute_result"
    }
   ],
   "source": [
    "X_train_res.shape"
   ]
  },
  {
   "cell_type": "code",
   "execution_count": 154,
   "metadata": {},
   "outputs": [
    {
     "data": {
      "text/plain": [
       "(929862, 1)"
      ]
     },
     "execution_count": 154,
     "metadata": {},
     "output_type": "execute_result"
    }
   ],
   "source": [
    "y_train_res.shape"
   ]
  },
  {
   "cell_type": "code",
   "execution_count": 155,
   "metadata": {
    "scrolled": true
   },
   "outputs": [
    {
     "name": "stderr",
     "output_type": "stream",
     "text": [
      "Using TensorFlow backend.\n",
      "C:\\Users\\sowmy\\anaconda3\\envs\\tens\\lib\\site-packages\\tensorflow\\python\\framework\\dtypes.py:516: FutureWarning: Passing (type, 1) or '1type' as a synonym of type is deprecated; in a future version of numpy, it will be understood as (type, (1,)) / '(1,)type'.\n",
      "  _np_qint8 = np.dtype([(\"qint8\", np.int8, 1)])\n",
      "C:\\Users\\sowmy\\anaconda3\\envs\\tens\\lib\\site-packages\\tensorflow\\python\\framework\\dtypes.py:517: FutureWarning: Passing (type, 1) or '1type' as a synonym of type is deprecated; in a future version of numpy, it will be understood as (type, (1,)) / '(1,)type'.\n",
      "  _np_quint8 = np.dtype([(\"quint8\", np.uint8, 1)])\n",
      "C:\\Users\\sowmy\\anaconda3\\envs\\tens\\lib\\site-packages\\tensorflow\\python\\framework\\dtypes.py:518: FutureWarning: Passing (type, 1) or '1type' as a synonym of type is deprecated; in a future version of numpy, it will be understood as (type, (1,)) / '(1,)type'.\n",
      "  _np_qint16 = np.dtype([(\"qint16\", np.int16, 1)])\n",
      "C:\\Users\\sowmy\\anaconda3\\envs\\tens\\lib\\site-packages\\tensorflow\\python\\framework\\dtypes.py:519: FutureWarning: Passing (type, 1) or '1type' as a synonym of type is deprecated; in a future version of numpy, it will be understood as (type, (1,)) / '(1,)type'.\n",
      "  _np_quint16 = np.dtype([(\"quint16\", np.uint16, 1)])\n",
      "C:\\Users\\sowmy\\anaconda3\\envs\\tens\\lib\\site-packages\\tensorflow\\python\\framework\\dtypes.py:520: FutureWarning: Passing (type, 1) or '1type' as a synonym of type is deprecated; in a future version of numpy, it will be understood as (type, (1,)) / '(1,)type'.\n",
      "  _np_qint32 = np.dtype([(\"qint32\", np.int32, 1)])\n",
      "C:\\Users\\sowmy\\anaconda3\\envs\\tens\\lib\\site-packages\\tensorflow\\python\\framework\\dtypes.py:525: FutureWarning: Passing (type, 1) or '1type' as a synonym of type is deprecated; in a future version of numpy, it will be understood as (type, (1,)) / '(1,)type'.\n",
      "  np_resource = np.dtype([(\"resource\", np.ubyte, 1)])\n",
      "C:\\Users\\sowmy\\anaconda3\\envs\\tens\\lib\\site-packages\\tensorboard\\compat\\tensorflow_stub\\dtypes.py:541: FutureWarning: Passing (type, 1) or '1type' as a synonym of type is deprecated; in a future version of numpy, it will be understood as (type, (1,)) / '(1,)type'.\n",
      "  _np_qint8 = np.dtype([(\"qint8\", np.int8, 1)])\n",
      "C:\\Users\\sowmy\\anaconda3\\envs\\tens\\lib\\site-packages\\tensorboard\\compat\\tensorflow_stub\\dtypes.py:542: FutureWarning: Passing (type, 1) or '1type' as a synonym of type is deprecated; in a future version of numpy, it will be understood as (type, (1,)) / '(1,)type'.\n",
      "  _np_quint8 = np.dtype([(\"quint8\", np.uint8, 1)])\n",
      "C:\\Users\\sowmy\\anaconda3\\envs\\tens\\lib\\site-packages\\tensorboard\\compat\\tensorflow_stub\\dtypes.py:543: FutureWarning: Passing (type, 1) or '1type' as a synonym of type is deprecated; in a future version of numpy, it will be understood as (type, (1,)) / '(1,)type'.\n",
      "  _np_qint16 = np.dtype([(\"qint16\", np.int16, 1)])\n",
      "C:\\Users\\sowmy\\anaconda3\\envs\\tens\\lib\\site-packages\\tensorboard\\compat\\tensorflow_stub\\dtypes.py:544: FutureWarning: Passing (type, 1) or '1type' as a synonym of type is deprecated; in a future version of numpy, it will be understood as (type, (1,)) / '(1,)type'.\n",
      "  _np_quint16 = np.dtype([(\"quint16\", np.uint16, 1)])\n",
      "C:\\Users\\sowmy\\anaconda3\\envs\\tens\\lib\\site-packages\\tensorboard\\compat\\tensorflow_stub\\dtypes.py:545: FutureWarning: Passing (type, 1) or '1type' as a synonym of type is deprecated; in a future version of numpy, it will be understood as (type, (1,)) / '(1,)type'.\n",
      "  _np_qint32 = np.dtype([(\"qint32\", np.int32, 1)])\n",
      "C:\\Users\\sowmy\\anaconda3\\envs\\tens\\lib\\site-packages\\tensorboard\\compat\\tensorflow_stub\\dtypes.py:550: FutureWarning: Passing (type, 1) or '1type' as a synonym of type is deprecated; in a future version of numpy, it will be understood as (type, (1,)) / '(1,)type'.\n",
      "  np_resource = np.dtype([(\"resource\", np.ubyte, 1)])\n"
     ]
    }
   ],
   "source": [
    "from keras.models import Sequential\n",
    "from keras.layers import Dense,Dropout\n",
    "from keras.utils import to_categorical"
   ]
  },
  {
   "cell_type": "code",
   "execution_count": 156,
   "metadata": {},
   "outputs": [],
   "source": [
    "y_cat=to_categorical(y_train_res)"
   ]
  },
  {
   "cell_type": "code",
   "execution_count": 157,
   "metadata": {},
   "outputs": [
    {
     "data": {
      "text/plain": [
       "array([[1., 0.],\n",
       "       [1., 0.],\n",
       "       [1., 0.],\n",
       "       ...,\n",
       "       [0., 1.],\n",
       "       [0., 1.],\n",
       "       [0., 1.]], dtype=float32)"
      ]
     },
     "execution_count": 157,
     "metadata": {},
     "output_type": "execute_result"
    }
   ],
   "source": [
    "y_cat"
   ]
  },
  {
   "cell_type": "code",
   "execution_count": 158,
   "metadata": {},
   "outputs": [],
   "source": [
    "model=Sequential()"
   ]
  },
  {
   "cell_type": "code",
   "execution_count": 159,
   "metadata": {},
   "outputs": [],
   "source": [
    "model.add(Dense(514,input_shape=(1000,),activation='relu'))\n",
    "model.add(Dropout(0.5))\n",
    "model.add(Dense(2,activation='softmax'))"
   ]
  },
  {
   "cell_type": "code",
   "execution_count": 160,
   "metadata": {},
   "outputs": [],
   "source": [
    "model.compile(loss=\"categorical_crossentropy\",optimizer=\"adam\",metrics=['accuracy'])"
   ]
  },
  {
   "cell_type": "code",
   "execution_count": 161,
   "metadata": {},
   "outputs": [
    {
     "name": "stdout",
     "output_type": "stream",
     "text": [
      "WARNING:tensorflow:From C:\\Users\\sowmy\\anaconda3\\envs\\tens\\lib\\site-packages\\keras\\backend\\tensorflow_backend.py:422: The name tf.global_variables is deprecated. Please use tf.compat.v1.global_variables instead.\n",
      "\n",
      "Train on 650903 samples, validate on 278959 samples\n",
      "Epoch 1/5\n",
      "650903/650903 [==============================] - 175s 268us/step - loss: 0.3742 - accuracy: 0.8365 - val_loss: 0.3483 - val_accuracy: 0.8720\n",
      "Epoch 2/5\n",
      "650903/650903 [==============================] - 165s 254us/step - loss: 0.2306 - accuracy: 0.9135 - val_loss: 0.2165 - val_accuracy: 0.9284\n",
      "Epoch 3/5\n",
      "650903/650903 [==============================] - 176s 270us/step - loss: 0.1851 - accuracy: 0.9304 - val_loss: 0.1473 - val_accuracy: 0.9560\n",
      "Epoch 4/5\n",
      "650903/650903 [==============================] - 185s 284us/step - loss: 0.1580 - accuracy: 0.9408 - val_loss: 0.1345 - val_accuracy: 0.9584\n",
      "Epoch 5/5\n",
      "650903/650903 [==============================] - 166s 256us/step - loss: 0.1404 - accuracy: 0.9474 - val_loss: 0.0830 - val_accuracy: 0.9785\n"
     ]
    }
   ],
   "source": [
    "history = model.fit(X_train_res, y_cat,epochs=5,batch_size=64,verbose=1,validation_split=0.30)"
   ]
  },
  {
   "cell_type": "code",
   "execution_count": 162,
   "metadata": {},
   "outputs": [
    {
     "name": "stdout",
     "output_type": "stream",
     "text": [
      "[0 0 0 ... 0 0 0]\n",
      "[0 0 0 ... 0 0 0]\n"
     ]
    }
   ],
   "source": [
    "preds=model.predict_classes(X_test)\n",
    "print(preds)\n",
    "pred_test = model.predict_classes(x_test)\n",
    "print(pred_test)"
   ]
  },
  {
   "cell_type": "code",
   "execution_count": null,
   "metadata": {},
   "outputs": [],
   "source": [
    "prediction = model.predict(X_test)\n",
    "print(prediction)\n",
    "predi_test = model.predict(x_test)\n",
    "print(predi_test)"
   ]
  },
  {
   "cell_type": "code",
   "execution_count": null,
   "metadata": {},
   "outputs": [],
   "source": [
    "prob = model.predict_proba(X_test)\n",
    "prob"
   ]
  },
  {
   "cell_type": "code",
   "execution_count": 163,
   "metadata": {},
   "outputs": [
    {
     "data": {
      "image/png": "[encoded data removed]",
      "text/plain": [
       "<Figure size 432x288 with 1 Axes>"
      ]
     },
     "metadata": {
      "needs_background": "light"
     },
     "output_type": "display_data"
    }
   ],
   "source": [
    "plt.plot(history.history['loss'], label='train')\n",
    "plt.plot(history.history['val_loss'], label='test')\n",
    "plt.legend()\n",
    "plt.show()"
   ]
  },
  {
   "cell_type": "code",
   "execution_count": 164,
   "metadata": {},
   "outputs": [
    {
     "data": {
      "image/png": "[encoded data removed]",
      "text/plain": [
       "<Figure size 432x288 with 1 Axes>"
      ]
     },
     "metadata": {
      "needs_background": "light"
     },
     "output_type": "display_data"
    }
   ],
   "source": [
    "loss_train = history.history['accuracy']\n",
    "loss_val = history.history['val_accuracy']\n",
    "plt.plot(loss_train, label='Training accuracy')\n",
    "plt.plot(loss_val, label='validation accuracy')\n",
    "plt.title('Training and Validation accuracy')\n",
    "plt.xlabel('Epochs')\n",
    "plt.ylabel('Accuracy')\n",
    "plt.legend()\n",
    "plt.show()"
   ]
  },
  {
   "cell_type": "code",
   "execution_count": 165,
   "metadata": {},
   "outputs": [],
   "source": [
    "from sklearn.ensemble import RandomForestClassifier\n"
   ]
  },
  {
   "cell_type": "code",
   "execution_count": 166,
   "metadata": {},
   "outputs": [],
   "source": [
    "rnd = RandomForestClassifier(n_estimators=30,oob_score=True,random_state=400, class_weight='balanced')"
   ]
  },
  {
   "cell_type": "code",
   "execution_count": 167,
   "metadata": {},
   "outputs": [
    {
     "name": "stderr",
     "output_type": "stream",
     "text": [
      "C:\\Users\\sowmy\\anaconda3\\envs\\tens\\lib\\site-packages\\ipykernel_launcher.py:1: DataConversionWarning: A column-vector y was passed when a 1d array was expected. Please change the shape of y to (n_samples,), for example using ravel().\n",
      "  \"\"\"Entry point for launching an IPython kernel.\n",
      "C:\\Users\\sowmy\\anaconda3\\envs\\tens\\lib\\site-packages\\sklearn\\ensemble\\_forest.py:541: UserWarning: Some inputs do not have OOB scores. This probably means too few trees were used to compute any reliable oob estimates.\n",
      "  warn(\"Some inputs do not have OOB scores. \"\n",
      "C:\\Users\\sowmy\\anaconda3\\envs\\tens\\lib\\site-packages\\sklearn\\ensemble\\_forest.py:546: RuntimeWarning: invalid value encountered in true_divide\n",
      "  predictions[k].sum(axis=1)[:, np.newaxis])\n"
     ]
    },
    {
     "data": {
      "text/plain": [
       "RandomForestClassifier(class_weight='balanced', n_estimators=30, oob_score=True,\n",
       "                       random_state=400)"
      ]
     },
     "execution_count": 167,
     "metadata": {},
     "output_type": "execute_result"
    }
   ],
   "source": [
    "rnd.fit(X_train,y_train)"
   ]
  },
  {
   "cell_type": "code",
   "execution_count": 168,
   "metadata": {},
   "outputs": [
    {
     "name": "stdout",
     "output_type": "stream",
     "text": [
      "0.9381268060513344\n"
     ]
    }
   ],
   "source": [
    "from sklearn.metrics import confusion_matrix, accuracy_score, f1_score, classification_report\n",
    "rnd_pred= rnd.predict(X_test)\n",
    "print(accuracy_score(y_test, rnd_pred))"
   ]
  },
  {
   "cell_type": "code",
   "execution_count": 194,
   "metadata": {},
   "outputs": [
    {
     "data": {
      "text/plain": [
       "array([0, 0, 0, ..., 0, 0, 0])"
      ]
     },
     "execution_count": 194,
     "metadata": {},
     "output_type": "execute_result"
    }
   ],
   "source": [
    "pred = rnd.predict(x_test)\n",
    "pred"
   ]
  },
  {
   "cell_type": "code",
   "execution_count": 199,
   "metadata": {},
   "outputs": [
    {
     "data": {
      "text/html": [
       "<div>\n",
       "<style scoped>\n",
       "    .dataframe tbody tr th:only-of-type {\n",
       "        vertical-align: middle;\n",
       "    }\n",
       "\n",
       "    .dataframe tbody tr th {\n",
       "        vertical-align: top;\n",
       "    }\n",
       "\n",
       "    .dataframe thead th {\n",
       "        text-align: right;\n",
       "    }\n",
       "</style>\n",
       "<table border=\"1\" class=\"dataframe\">\n",
       "  <thead>\n",
       "    <tr style=\"text-align: right;\">\n",
       "      <th></th>\n",
       "      <th>projectid</th>\n",
       "      <th>essay</th>\n",
       "    </tr>\n",
       "  </thead>\n",
       "  <tbody>\n",
       "    <tr>\n",
       "      <th>0</th>\n",
       "      <td>316ed8fb3b81402ff6ac8f721bb31192</td>\n",
       "      <td>Can we read one more chapter? Do we have to go...</td>\n",
       "    </tr>\n",
       "    <tr>\n",
       "      <th>1</th>\n",
       "      <td>90de744e368a7e4883223ca49318ae30</td>\n",
       "      <td>Engaging reading materials sent right to my st...</td>\n",
       "    </tr>\n",
       "    <tr>\n",
       "      <th>2</th>\n",
       "      <td>32943bb1063267de6ed19fc0ceb4b9a7</td>\n",
       "      <td>Our second grade in rural Oregon is an adventu...</td>\n",
       "    </tr>\n",
       "    <tr>\n",
       "      <th>3</th>\n",
       "      <td>bb18f409abda2f264d5acda8cab577a9</td>\n",
       "      <td>Help give 12 Brooklyn students access and orga...</td>\n",
       "    </tr>\n",
       "    <tr>\n",
       "      <th>4</th>\n",
       "      <td>24761b686e18e5eace634607acbcc19f</td>\n",
       "      <td>Technology is changing the world as we speak. ...</td>\n",
       "    </tr>\n",
       "  </tbody>\n",
       "</table>\n",
       "</div>"
      ],
      "text/plain": [
       "                          projectid  \\\n",
       "0  316ed8fb3b81402ff6ac8f721bb31192   \n",
       "1  90de744e368a7e4883223ca49318ae30   \n",
       "2  32943bb1063267de6ed19fc0ceb4b9a7   \n",
       "3  bb18f409abda2f264d5acda8cab577a9   \n",
       "4  24761b686e18e5eace634607acbcc19f   \n",
       "\n",
       "                                               essay  \n",
       "0  Can we read one more chapter? Do we have to go...  \n",
       "1  Engaging reading materials sent right to my st...  \n",
       "2  Our second grade in rural Oregon is an adventu...  \n",
       "3  Help give 12 Brooklyn students access and orga...  \n",
       "4  Technology is changing the world as we speak. ...  "
      ]
     },
     "execution_count": 199,
     "metadata": {},
     "output_type": "execute_result"
    }
   ],
   "source": [
    "test.head()"
   ]
  },
  {
   "cell_type": "code",
   "execution_count": 200,
   "metadata": {},
   "outputs": [],
   "source": [
    "df = pd.DataFrame(test['projectid'])"
   ]
  },
  {
   "cell_type": "code",
   "execution_count": 201,
   "metadata": {},
   "outputs": [
    {
     "data": {
      "text/html": [
       "<div>\n",
       "<style scoped>\n",
       "    .dataframe tbody tr th:only-of-type {\n",
       "        vertical-align: middle;\n",
       "    }\n",
       "\n",
       "    .dataframe tbody tr th {\n",
       "        vertical-align: top;\n",
       "    }\n",
       "\n",
       "    .dataframe thead th {\n",
       "        text-align: right;\n",
       "    }\n",
       "</style>\n",
       "<table border=\"1\" class=\"dataframe\">\n",
       "  <thead>\n",
       "    <tr style=\"text-align: right;\">\n",
       "      <th></th>\n",
       "      <th>projectid</th>\n",
       "    </tr>\n",
       "  </thead>\n",
       "  <tbody>\n",
       "    <tr>\n",
       "      <th>0</th>\n",
       "      <td>316ed8fb3b81402ff6ac8f721bb31192</td>\n",
       "    </tr>\n",
       "    <tr>\n",
       "      <th>1</th>\n",
       "      <td>90de744e368a7e4883223ca49318ae30</td>\n",
       "    </tr>\n",
       "    <tr>\n",
       "      <th>2</th>\n",
       "      <td>32943bb1063267de6ed19fc0ceb4b9a7</td>\n",
       "    </tr>\n",
       "    <tr>\n",
       "      <th>3</th>\n",
       "      <td>bb18f409abda2f264d5acda8cab577a9</td>\n",
       "    </tr>\n",
       "    <tr>\n",
       "      <th>4</th>\n",
       "      <td>24761b686e18e5eace634607acbcc19f</td>\n",
       "    </tr>\n",
       "  </tbody>\n",
       "</table>\n",
       "</div>"
      ],
      "text/plain": [
       "                          projectid\n",
       "0  316ed8fb3b81402ff6ac8f721bb31192\n",
       "1  90de744e368a7e4883223ca49318ae30\n",
       "2  32943bb1063267de6ed19fc0ceb4b9a7\n",
       "3  bb18f409abda2f264d5acda8cab577a9\n",
       "4  24761b686e18e5eace634607acbcc19f"
      ]
     },
     "execution_count": 201,
     "metadata": {},
     "output_type": "execute_result"
    }
   ],
   "source": [
    "df.head()"
   ]
  },
  {
   "cell_type": "code",
   "execution_count": 202,
   "metadata": {},
   "outputs": [],
   "source": [
    "df['is_exciting'] = pred"
   ]
  },
  {
   "cell_type": "code",
   "execution_count": 203,
   "metadata": {},
   "outputs": [
    {
     "data": {
      "text/html": [
       "<div>\n",
       "<style scoped>\n",
       "    .dataframe tbody tr th:only-of-type {\n",
       "        vertical-align: middle;\n",
       "    }\n",
       "\n",
       "    .dataframe tbody tr th {\n",
       "        vertical-align: top;\n",
       "    }\n",
       "\n",
       "    .dataframe thead th {\n",
       "        text-align: right;\n",
       "    }\n",
       "</style>\n",
       "<table border=\"1\" class=\"dataframe\">\n",
       "  <thead>\n",
       "    <tr style=\"text-align: right;\">\n",
       "      <th></th>\n",
       "      <th>projectid</th>\n",
       "      <th>is_exciting</th>\n",
       "    </tr>\n",
       "  </thead>\n",
       "  <tbody>\n",
       "    <tr>\n",
       "      <th>0</th>\n",
       "      <td>316ed8fb3b81402ff6ac8f721bb31192</td>\n",
       "      <td>0</td>\n",
       "    </tr>\n",
       "    <tr>\n",
       "      <th>1</th>\n",
       "      <td>90de744e368a7e4883223ca49318ae30</td>\n",
       "      <td>0</td>\n",
       "    </tr>\n",
       "    <tr>\n",
       "      <th>2</th>\n",
       "      <td>32943bb1063267de6ed19fc0ceb4b9a7</td>\n",
       "      <td>0</td>\n",
       "    </tr>\n",
       "    <tr>\n",
       "      <th>3</th>\n",
       "      <td>bb18f409abda2f264d5acda8cab577a9</td>\n",
       "      <td>0</td>\n",
       "    </tr>\n",
       "    <tr>\n",
       "      <th>4</th>\n",
       "      <td>24761b686e18e5eace634607acbcc19f</td>\n",
       "      <td>0</td>\n",
       "    </tr>\n",
       "  </tbody>\n",
       "</table>\n",
       "</div>"
      ],
      "text/plain": [
       "                          projectid  is_exciting\n",
       "0  316ed8fb3b81402ff6ac8f721bb31192            0\n",
       "1  90de744e368a7e4883223ca49318ae30            0\n",
       "2  32943bb1063267de6ed19fc0ceb4b9a7            0\n",
       "3  bb18f409abda2f264d5acda8cab577a9            0\n",
       "4  24761b686e18e5eace634607acbcc19f            0"
      ]
     },
     "execution_count": 203,
     "metadata": {},
     "output_type": "execute_result"
    }
   ],
   "source": [
    "df.head()"
   ]
  },
  {
   "cell_type": "code",
   "execution_count": 204,
   "metadata": {},
   "outputs": [],
   "source": [
    "df.to_csv('prediction.csv', index=False)"
   ]
  },
  {
   "cell_type": "code",
   "execution_count": null,
   "metadata": {},
   "outputs": [],
   "source": []
  }
 ],
 "metadata": {
  "kernelspec": {
   "display_name": "Python 3",
   "language": "python",
   "name": "python3"
  }
 },
 "nbformat": 4,
 "nbformat_minor": 4
}
