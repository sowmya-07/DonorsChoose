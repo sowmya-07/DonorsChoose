{
 "cells": [
  {
   "cell_type": "code",
   "execution_count": 133,
   "metadata": {},
   "outputs": [],
   "source": [
    "import numpy as np\n",
    "import pandas as pd\n",
    "from sklearn.preprocessing import LabelEncoder\n",
    "import matplotlib.pyplot as plt\n",
    "%matplotlib inline\n",
    "import os"
   ]
  },
  {
   "cell_type": "code",
   "execution_count": 3,
   "metadata": {},
   "outputs": [],
   "source": [
    "proj = pd.read_csv('/Users/sowmy/Documents/JigsawAcad/CapstonProject_1/projects.csv/projects.csv')\n",
    "outc = pd.read_csv('/Users/sowmy/Documents/JigsawAcad/CapstonProject_1/outcomes.csv/outcomes.csv')\n",
    "essa = pd.read_csv('/Users/sowmy/Documents/JigsawAcad/CapstonProject_1/essays.csv/essays.csv')"
   ]
  },
  {
   "cell_type": "code",
   "execution_count": 4,
   "metadata": {},
   "outputs": [
    {
     "data": {
      "text/html": [
       "<div>\n",
       "<style scoped>\n",
       "    .dataframe tbody tr th:only-of-type {\n",
       "        vertical-align: middle;\n",
       "    }\n",
       "\n",
       "    .dataframe tbody tr th {\n",
       "        vertical-align: top;\n",
       "    }\n",
       "\n",
       "    .dataframe thead th {\n",
       "        text-align: right;\n",
       "    }\n",
       "</style>\n",
       "<table border=\"1\" class=\"dataframe\">\n",
       "  <thead>\n",
       "    <tr style=\"text-align: right;\">\n",
       "      <th></th>\n",
       "      <th>projectid</th>\n",
       "      <th>teacher_acctid</th>\n",
       "      <th>schoolid</th>\n",
       "      <th>school_ncesid</th>\n",
       "      <th>school_latitude</th>\n",
       "      <th>school_longitude</th>\n",
       "      <th>school_city</th>\n",
       "      <th>school_state</th>\n",
       "      <th>school_zip</th>\n",
       "      <th>school_metro</th>\n",
       "      <th>...</th>\n",
       "      <th>resource_type</th>\n",
       "      <th>poverty_level</th>\n",
       "      <th>grade_level</th>\n",
       "      <th>fulfillment_labor_materials</th>\n",
       "      <th>total_price_excluding_optional_support</th>\n",
       "      <th>total_price_including_optional_support</th>\n",
       "      <th>students_reached</th>\n",
       "      <th>eligible_double_your_impact_match</th>\n",
       "      <th>eligible_almost_home_match</th>\n",
       "      <th>date_posted</th>\n",
       "    </tr>\n",
       "  </thead>\n",
       "  <tbody>\n",
       "    <tr>\n",
       "      <th>0</th>\n",
       "      <td>316ed8fb3b81402ff6ac8f721bb31192</td>\n",
       "      <td>42d43fa6f37314365d08692e08680973</td>\n",
       "      <td>c0e6ce89b244764085691a1b8e28cb81</td>\n",
       "      <td>6.362701e+10</td>\n",
       "      <td>36.576340</td>\n",
       "      <td>-119.608713</td>\n",
       "      <td>Selma</td>\n",
       "      <td>CA</td>\n",
       "      <td>93662.0</td>\n",
       "      <td>NaN</td>\n",
       "      <td>...</td>\n",
       "      <td>Books</td>\n",
       "      <td>highest poverty</td>\n",
       "      <td>Grades 6-8</td>\n",
       "      <td>30.0</td>\n",
       "      <td>555.81</td>\n",
       "      <td>653.89</td>\n",
       "      <td>32.0</td>\n",
       "      <td>f</td>\n",
       "      <td>f</td>\n",
       "      <td>2014-05-12</td>\n",
       "    </tr>\n",
       "    <tr>\n",
       "      <th>1</th>\n",
       "      <td>90de744e368a7e4883223ca49318ae30</td>\n",
       "      <td>864eb466462bf704bf7a16a585ef296a</td>\n",
       "      <td>d711e47810900c96f26a5d0be30c446d</td>\n",
       "      <td>4.837020e+11</td>\n",
       "      <td>32.911179</td>\n",
       "      <td>-96.723640</td>\n",
       "      <td>Dallas</td>\n",
       "      <td>TX</td>\n",
       "      <td>75243.0</td>\n",
       "      <td>urban</td>\n",
       "      <td>...</td>\n",
       "      <td>Books</td>\n",
       "      <td>highest poverty</td>\n",
       "      <td>Grades PreK-2</td>\n",
       "      <td>30.0</td>\n",
       "      <td>296.47</td>\n",
       "      <td>348.79</td>\n",
       "      <td>22.0</td>\n",
       "      <td>f</td>\n",
       "      <td>f</td>\n",
       "      <td>2014-05-12</td>\n",
       "    </tr>\n",
       "    <tr>\n",
       "      <th>2</th>\n",
       "      <td>32943bb1063267de6ed19fc0ceb4b9a7</td>\n",
       "      <td>37f85135259ece793213aca9d8765542</td>\n",
       "      <td>665c3613013ba0a66e3a2a26b89f1b68</td>\n",
       "      <td>4.103270e+11</td>\n",
       "      <td>45.166039</td>\n",
       "      <td>-122.414576</td>\n",
       "      <td>Colton</td>\n",
       "      <td>OR</td>\n",
       "      <td>97017.0</td>\n",
       "      <td>rural</td>\n",
       "      <td>...</td>\n",
       "      <td>Technology</td>\n",
       "      <td>high poverty</td>\n",
       "      <td>Grades PreK-2</td>\n",
       "      <td>30.0</td>\n",
       "      <td>430.89</td>\n",
       "      <td>506.93</td>\n",
       "      <td>17.0</td>\n",
       "      <td>f</td>\n",
       "      <td>f</td>\n",
       "      <td>2014-05-11</td>\n",
       "    </tr>\n",
       "    <tr>\n",
       "      <th>3</th>\n",
       "      <td>bb18f409abda2f264d5acda8cab577a9</td>\n",
       "      <td>2133fc46f951f1e7d60645b0f9e48a6c</td>\n",
       "      <td>4f12c3fa0c1cce823c7ba1df57e90ccb</td>\n",
       "      <td>3.600153e+11</td>\n",
       "      <td>40.641727</td>\n",
       "      <td>-73.965655</td>\n",
       "      <td>Brooklyn</td>\n",
       "      <td>NY</td>\n",
       "      <td>11226.0</td>\n",
       "      <td>urban</td>\n",
       "      <td>...</td>\n",
       "      <td>Books</td>\n",
       "      <td>highest poverty</td>\n",
       "      <td>Grades 3-5</td>\n",
       "      <td>30.0</td>\n",
       "      <td>576.07</td>\n",
       "      <td>677.73</td>\n",
       "      <td>12.0</td>\n",
       "      <td>f</td>\n",
       "      <td>f</td>\n",
       "      <td>2014-05-11</td>\n",
       "    </tr>\n",
       "    <tr>\n",
       "      <th>4</th>\n",
       "      <td>24761b686e18e5eace634607acbcc19f</td>\n",
       "      <td>867ff478a63f5457eaf41049536c47cd</td>\n",
       "      <td>10179fd362d7b8cf0e89baa1ca3025bb</td>\n",
       "      <td>6.227100e+10</td>\n",
       "      <td>34.043939</td>\n",
       "      <td>-118.288371</td>\n",
       "      <td>Los Angeles</td>\n",
       "      <td>CA</td>\n",
       "      <td>90006.0</td>\n",
       "      <td>urban</td>\n",
       "      <td>...</td>\n",
       "      <td>Other</td>\n",
       "      <td>highest poverty</td>\n",
       "      <td>Grades PreK-2</td>\n",
       "      <td>30.0</td>\n",
       "      <td>408.40</td>\n",
       "      <td>480.47</td>\n",
       "      <td>24.0</td>\n",
       "      <td>f</td>\n",
       "      <td>f</td>\n",
       "      <td>2014-05-11</td>\n",
       "    </tr>\n",
       "  </tbody>\n",
       "</table>\n",
       "<p>5 rows × 35 columns</p>\n",
       "</div>"
      ],
      "text/plain": [
       "                          projectid                    teacher_acctid  \\\n",
       "0  316ed8fb3b81402ff6ac8f721bb31192  42d43fa6f37314365d08692e08680973   \n",
       "1  90de744e368a7e4883223ca49318ae30  864eb466462bf704bf7a16a585ef296a   \n",
       "2  32943bb1063267de6ed19fc0ceb4b9a7  37f85135259ece793213aca9d8765542   \n",
       "3  bb18f409abda2f264d5acda8cab577a9  2133fc46f951f1e7d60645b0f9e48a6c   \n",
       "4  24761b686e18e5eace634607acbcc19f  867ff478a63f5457eaf41049536c47cd   \n",
       "\n",
       "                           schoolid  school_ncesid  school_latitude  \\\n",
       "0  c0e6ce89b244764085691a1b8e28cb81   6.362701e+10        36.576340   \n",
       "1  d711e47810900c96f26a5d0be30c446d   4.837020e+11        32.911179   \n",
       "2  665c3613013ba0a66e3a2a26b89f1b68   4.103270e+11        45.166039   \n",
       "3  4f12c3fa0c1cce823c7ba1df57e90ccb   3.600153e+11        40.641727   \n",
       "4  10179fd362d7b8cf0e89baa1ca3025bb   6.227100e+10        34.043939   \n",
       "\n",
       "   school_longitude  school_city school_state  school_zip school_metro  ...  \\\n",
       "0       -119.608713        Selma           CA     93662.0          NaN  ...   \n",
       "1        -96.723640       Dallas           TX     75243.0        urban  ...   \n",
       "2       -122.414576       Colton           OR     97017.0        rural  ...   \n",
       "3        -73.965655     Brooklyn           NY     11226.0        urban  ...   \n",
       "4       -118.288371  Los Angeles           CA     90006.0        urban  ...   \n",
       "\n",
       "  resource_type    poverty_level    grade_level fulfillment_labor_materials  \\\n",
       "0         Books  highest poverty     Grades 6-8                        30.0   \n",
       "1         Books  highest poverty  Grades PreK-2                        30.0   \n",
       "2    Technology     high poverty  Grades PreK-2                        30.0   \n",
       "3         Books  highest poverty     Grades 3-5                        30.0   \n",
       "4         Other  highest poverty  Grades PreK-2                        30.0   \n",
       "\n",
       "  total_price_excluding_optional_support  \\\n",
       "0                                 555.81   \n",
       "1                                 296.47   \n",
       "2                                 430.89   \n",
       "3                                 576.07   \n",
       "4                                 408.40   \n",
       "\n",
       "  total_price_including_optional_support students_reached  \\\n",
       "0                                 653.89             32.0   \n",
       "1                                 348.79             22.0   \n",
       "2                                 506.93             17.0   \n",
       "3                                 677.73             12.0   \n",
       "4                                 480.47             24.0   \n",
       "\n",
       "  eligible_double_your_impact_match eligible_almost_home_match date_posted  \n",
       "0                                 f                          f  2014-05-12  \n",
       "1                                 f                          f  2014-05-12  \n",
       "2                                 f                          f  2014-05-11  \n",
       "3                                 f                          f  2014-05-11  \n",
       "4                                 f                          f  2014-05-11  \n",
       "\n",
       "[5 rows x 35 columns]"
      ]
     },
     "execution_count": 4,
     "metadata": {},
     "output_type": "execute_result"
    }
   ],
   "source": [
    "proj.head()"
   ]
  },
  {
   "cell_type": "code",
   "execution_count": 8,
   "metadata": {},
   "outputs": [],
   "source": [
    "#converting to datetime\n",
    "proj.date_posted = pd.to_datetime(proj['date_posted'])"
   ]
  },
  {
   "cell_type": "code",
   "execution_count": 9,
   "metadata": {},
   "outputs": [
    {
     "data": {
      "text/plain": [
       "Timestamp('2014-05-12 00:00:00')"
      ]
     },
     "execution_count": 9,
     "metadata": {},
     "output_type": "execute_result"
    }
   ],
   "source": [
    "proj.date_posted.max()"
   ]
  },
  {
   "cell_type": "code",
   "execution_count": 10,
   "metadata": {},
   "outputs": [
    {
     "data": {
      "text/plain": [
       "(664098, 35)"
      ]
     },
     "execution_count": 10,
     "metadata": {},
     "output_type": "execute_result"
    }
   ],
   "source": [
    "proj.shape"
   ]
  },
  {
   "cell_type": "code",
   "execution_count": 11,
   "metadata": {},
   "outputs": [
    {
     "data": {
      "text/plain": [
       "Index(['projectid', 'teacher_acctid', 'schoolid', 'school_ncesid',\n",
       "       'school_latitude', 'school_longitude', 'school_city', 'school_state',\n",
       "       'school_zip', 'school_metro', 'school_district', 'school_county',\n",
       "       'school_charter', 'school_magnet', 'school_year_round', 'school_nlns',\n",
       "       'school_kipp', 'school_charter_ready_promise', 'teacher_prefix',\n",
       "       'teacher_teach_for_america', 'teacher_ny_teaching_fellow',\n",
       "       'primary_focus_subject', 'primary_focus_area',\n",
       "       'secondary_focus_subject', 'secondary_focus_area', 'resource_type',\n",
       "       'poverty_level', 'grade_level', 'fulfillment_labor_materials',\n",
       "       'total_price_excluding_optional_support',\n",
       "       'total_price_including_optional_support', 'students_reached',\n",
       "       'eligible_double_your_impact_match', 'eligible_almost_home_match',\n",
       "       'date_posted'],\n",
       "      dtype='object')"
      ]
     },
     "execution_count": 11,
     "metadata": {},
     "output_type": "execute_result"
    }
   ],
   "source": [
    "proj.columns"
   ]
  },
  {
   "cell_type": "code",
   "execution_count": 12,
   "metadata": {},
   "outputs": [
    {
     "data": {
      "text/plain": [
       "projectid                                      0\n",
       "teacher_acctid                                 0\n",
       "schoolid                                       0\n",
       "school_ncesid                              42736\n",
       "school_latitude                                0\n",
       "school_longitude                               0\n",
       "school_city                                    0\n",
       "school_state                                   0\n",
       "school_zip                                     4\n",
       "school_metro                               81908\n",
       "school_district                              948\n",
       "school_county                                 17\n",
       "school_charter                                 0\n",
       "school_magnet                                  0\n",
       "school_year_round                              0\n",
       "school_nlns                                    0\n",
       "school_kipp                                    0\n",
       "school_charter_ready_promise                   0\n",
       "teacher_prefix                                 4\n",
       "teacher_teach_for_america                      0\n",
       "teacher_ny_teaching_fellow                     0\n",
       "primary_focus_subject                         39\n",
       "primary_focus_area                            39\n",
       "secondary_focus_subject                   207893\n",
       "secondary_focus_area                      207893\n",
       "resource_type                                 45\n",
       "poverty_level                                  0\n",
       "grade_level                                    9\n",
       "fulfillment_labor_materials                35082\n",
       "total_price_excluding_optional_support         0\n",
       "total_price_including_optional_support         0\n",
       "students_reached                             146\n",
       "eligible_double_your_impact_match              0\n",
       "eligible_almost_home_match                     0\n",
       "date_posted                                    0\n",
       "dtype: int64"
      ]
     },
     "execution_count": 12,
     "metadata": {},
     "output_type": "execute_result"
    }
   ],
   "source": [
    "proj.isnull().sum()"
   ]
  },
  {
   "cell_type": "code",
   "execution_count": 13,
   "metadata": {},
   "outputs": [
    {
     "data": {
      "text/html": [
       "<div>\n",
       "<style scoped>\n",
       "    .dataframe tbody tr th:only-of-type {\n",
       "        vertical-align: middle;\n",
       "    }\n",
       "\n",
       "    .dataframe tbody tr th {\n",
       "        vertical-align: top;\n",
       "    }\n",
       "\n",
       "    .dataframe thead th {\n",
       "        text-align: right;\n",
       "    }\n",
       "</style>\n",
       "<table border=\"1\" class=\"dataframe\">\n",
       "  <thead>\n",
       "    <tr style=\"text-align: right;\">\n",
       "      <th></th>\n",
       "      <th>projectid</th>\n",
       "      <th>teacher_acctid</th>\n",
       "      <th>title</th>\n",
       "      <th>short_description</th>\n",
       "      <th>need_statement</th>\n",
       "      <th>essay</th>\n",
       "    </tr>\n",
       "  </thead>\n",
       "  <tbody>\n",
       "    <tr>\n",
       "      <th>0</th>\n",
       "      <td>ffffc4f85b60efc5b52347df489d0238</td>\n",
       "      <td>c24011b20fc161ed02248e85beb59a90</td>\n",
       "      <td>iMath</td>\n",
       "      <td>It is imperative that teachers bring technolog...</td>\n",
       "      <td>My students need four iPods.</td>\n",
       "      <td>I am a fourth year fifth grade math teacher. T...</td>\n",
       "    </tr>\n",
       "    <tr>\n",
       "      <th>1</th>\n",
       "      <td>ffffac55ee02a49d1abc87ba6fc61135</td>\n",
       "      <td>947066d0af47e0566f334566553dd6a6</td>\n",
       "      <td>Recording Rockin' Readers</td>\n",
       "      <td>Can you imagine having to translate everything...</td>\n",
       "      <td>My students need a camcorder.</td>\n",
       "      <td>Can you imagine having to translate everything...</td>\n",
       "    </tr>\n",
       "    <tr>\n",
       "      <th>2</th>\n",
       "      <td>ffff97ed93720407d70a2787475932b0</td>\n",
       "      <td>462270f5d5c212162fcab11afa2623cb</td>\n",
       "      <td>Kindergarten In Need of Important Materials!</td>\n",
       "      <td>It takes a special person to donate to a group...</td>\n",
       "      <td>My students need 17 assorted classroom materia...</td>\n",
       "      <td>Hi. I teach a wonderful group of 4-5 year old ...</td>\n",
       "    </tr>\n",
       "    <tr>\n",
       "      <th>3</th>\n",
       "      <td>ffff7266778f71242675416e600b94e1</td>\n",
       "      <td>b9a8f14199e0d8109200ece179281f4f</td>\n",
       "      <td>Let's Find Out!</td>\n",
       "      <td>My Kindergarten students come from a variety o...</td>\n",
       "      <td>My students need 25 copies of Scholastic's \"Le...</td>\n",
       "      <td>My Kindergarten students come from a variety o...</td>\n",
       "    </tr>\n",
       "    <tr>\n",
       "      <th>4</th>\n",
       "      <td>ffff418bb42fad24347527ad96100f81</td>\n",
       "      <td>e885fb002a1d0d39aaed9d21a7683549</td>\n",
       "      <td>Whistle While We Work!</td>\n",
       "      <td>By using the cross curricular games requested,...</td>\n",
       "      <td>My students need grade level appropriate games...</td>\n",
       "      <td>All work and no play makes school a dull place...</td>\n",
       "    </tr>\n",
       "  </tbody>\n",
       "</table>\n",
       "</div>"
      ],
      "text/plain": [
       "                          projectid                    teacher_acctid  \\\n",
       "0  ffffc4f85b60efc5b52347df489d0238  c24011b20fc161ed02248e85beb59a90   \n",
       "1  ffffac55ee02a49d1abc87ba6fc61135  947066d0af47e0566f334566553dd6a6   \n",
       "2  ffff97ed93720407d70a2787475932b0  462270f5d5c212162fcab11afa2623cb   \n",
       "3  ffff7266778f71242675416e600b94e1  b9a8f14199e0d8109200ece179281f4f   \n",
       "4  ffff418bb42fad24347527ad96100f81  e885fb002a1d0d39aaed9d21a7683549   \n",
       "\n",
       "                                          title  \\\n",
       "0                                         iMath   \n",
       "1                     Recording Rockin' Readers   \n",
       "2  Kindergarten In Need of Important Materials!   \n",
       "3                               Let's Find Out!   \n",
       "4                        Whistle While We Work!   \n",
       "\n",
       "                                   short_description  \\\n",
       "0  It is imperative that teachers bring technolog...   \n",
       "1  Can you imagine having to translate everything...   \n",
       "2  It takes a special person to donate to a group...   \n",
       "3  My Kindergarten students come from a variety o...   \n",
       "4  By using the cross curricular games requested,...   \n",
       "\n",
       "                                      need_statement  \\\n",
       "0                       My students need four iPods.   \n",
       "1                     My students need a camcorder.    \n",
       "2  My students need 17 assorted classroom materia...   \n",
       "3  My students need 25 copies of Scholastic's \"Le...   \n",
       "4  My students need grade level appropriate games...   \n",
       "\n",
       "                                               essay  \n",
       "0  I am a fourth year fifth grade math teacher. T...  \n",
       "1  Can you imagine having to translate everything...  \n",
       "2  Hi. I teach a wonderful group of 4-5 year old ...  \n",
       "3  My Kindergarten students come from a variety o...  \n",
       "4  All work and no play makes school a dull place...  "
      ]
     },
     "execution_count": 13,
     "metadata": {},
     "output_type": "execute_result"
    }
   ],
   "source": [
    "essa.head()"
   ]
  },
  {
   "cell_type": "code",
   "execution_count": 14,
   "metadata": {},
   "outputs": [
    {
     "data": {
      "text/plain": [
       "(664098, 6)"
      ]
     },
     "execution_count": 14,
     "metadata": {},
     "output_type": "execute_result"
    }
   ],
   "source": [
    "essa.shape"
   ]
  },
  {
   "cell_type": "code",
   "execution_count": 15,
   "metadata": {},
   "outputs": [],
   "source": [
    "essa = essa.fillna('null')"
   ]
  },
  {
   "cell_type": "code",
   "execution_count": 16,
   "metadata": {},
   "outputs": [
    {
     "data": {
      "text/html": [
       "<div>\n",
       "<style scoped>\n",
       "    .dataframe tbody tr th:only-of-type {\n",
       "        vertical-align: middle;\n",
       "    }\n",
       "\n",
       "    .dataframe tbody tr th {\n",
       "        vertical-align: top;\n",
       "    }\n",
       "\n",
       "    .dataframe thead th {\n",
       "        text-align: right;\n",
       "    }\n",
       "</style>\n",
       "<table border=\"1\" class=\"dataframe\">\n",
       "  <thead>\n",
       "    <tr style=\"text-align: right;\">\n",
       "      <th></th>\n",
       "      <th>projectid</th>\n",
       "      <th>is_exciting</th>\n",
       "      <th>at_least_1_teacher_referred_donor</th>\n",
       "      <th>fully_funded</th>\n",
       "      <th>at_least_1_green_donation</th>\n",
       "      <th>great_chat</th>\n",
       "      <th>three_or_more_non_teacher_referred_donors</th>\n",
       "      <th>one_non_teacher_referred_donor_giving_100_plus</th>\n",
       "      <th>donation_from_thoughtful_donor</th>\n",
       "      <th>great_messages_proportion</th>\n",
       "      <th>teacher_referred_count</th>\n",
       "      <th>non_teacher_referred_count</th>\n",
       "    </tr>\n",
       "  </thead>\n",
       "  <tbody>\n",
       "    <tr>\n",
       "      <th>0</th>\n",
       "      <td>ffffc4f85b60efc5b52347df489d0238</td>\n",
       "      <td>f</td>\n",
       "      <td>NaN</td>\n",
       "      <td>f</td>\n",
       "      <td>NaN</td>\n",
       "      <td>f</td>\n",
       "      <td>NaN</td>\n",
       "      <td>NaN</td>\n",
       "      <td>NaN</td>\n",
       "      <td>NaN</td>\n",
       "      <td>NaN</td>\n",
       "      <td>NaN</td>\n",
       "    </tr>\n",
       "    <tr>\n",
       "      <th>1</th>\n",
       "      <td>ffffac55ee02a49d1abc87ba6fc61135</td>\n",
       "      <td>f</td>\n",
       "      <td>f</td>\n",
       "      <td>t</td>\n",
       "      <td>t</td>\n",
       "      <td>f</td>\n",
       "      <td>t</td>\n",
       "      <td>f</td>\n",
       "      <td>f</td>\n",
       "      <td>57.0</td>\n",
       "      <td>0.0</td>\n",
       "      <td>7.0</td>\n",
       "    </tr>\n",
       "    <tr>\n",
       "      <th>2</th>\n",
       "      <td>ffff97ed93720407d70a2787475932b0</td>\n",
       "      <td>f</td>\n",
       "      <td>f</td>\n",
       "      <td>t</td>\n",
       "      <td>t</td>\n",
       "      <td>t</td>\n",
       "      <td>t</td>\n",
       "      <td>t</td>\n",
       "      <td>f</td>\n",
       "      <td>100.0</td>\n",
       "      <td>0.0</td>\n",
       "      <td>3.0</td>\n",
       "    </tr>\n",
       "    <tr>\n",
       "      <th>3</th>\n",
       "      <td>ffff418bb42fad24347527ad96100f81</td>\n",
       "      <td>f</td>\n",
       "      <td>f</td>\n",
       "      <td>f</td>\n",
       "      <td>t</td>\n",
       "      <td>t</td>\n",
       "      <td>f</td>\n",
       "      <td>f</td>\n",
       "      <td>f</td>\n",
       "      <td>100.0</td>\n",
       "      <td>0.0</td>\n",
       "      <td>1.0</td>\n",
       "    </tr>\n",
       "    <tr>\n",
       "      <th>4</th>\n",
       "      <td>ffff2d9c769c8fb5335e949c615425eb</td>\n",
       "      <td>t</td>\n",
       "      <td>t</td>\n",
       "      <td>t</td>\n",
       "      <td>t</td>\n",
       "      <td>t</td>\n",
       "      <td>f</td>\n",
       "      <td>t</td>\n",
       "      <td>f</td>\n",
       "      <td>63.0</td>\n",
       "      <td>6.0</td>\n",
       "      <td>2.0</td>\n",
       "    </tr>\n",
       "  </tbody>\n",
       "</table>\n",
       "</div>"
      ],
      "text/plain": [
       "                          projectid is_exciting  \\\n",
       "0  ffffc4f85b60efc5b52347df489d0238           f   \n",
       "1  ffffac55ee02a49d1abc87ba6fc61135           f   \n",
       "2  ffff97ed93720407d70a2787475932b0           f   \n",
       "3  ffff418bb42fad24347527ad96100f81           f   \n",
       "4  ffff2d9c769c8fb5335e949c615425eb           t   \n",
       "\n",
       "  at_least_1_teacher_referred_donor fully_funded at_least_1_green_donation  \\\n",
       "0                               NaN            f                       NaN   \n",
       "1                                 f            t                         t   \n",
       "2                                 f            t                         t   \n",
       "3                                 f            f                         t   \n",
       "4                                 t            t                         t   \n",
       "\n",
       "  great_chat three_or_more_non_teacher_referred_donors  \\\n",
       "0          f                                       NaN   \n",
       "1          f                                         t   \n",
       "2          t                                         t   \n",
       "3          t                                         f   \n",
       "4          t                                         f   \n",
       "\n",
       "  one_non_teacher_referred_donor_giving_100_plus  \\\n",
       "0                                            NaN   \n",
       "1                                              f   \n",
       "2                                              t   \n",
       "3                                              f   \n",
       "4                                              t   \n",
       "\n",
       "  donation_from_thoughtful_donor  great_messages_proportion  \\\n",
       "0                            NaN                        NaN   \n",
       "1                              f                       57.0   \n",
       "2                              f                      100.0   \n",
       "3                              f                      100.0   \n",
       "4                              f                       63.0   \n",
       "\n",
       "   teacher_referred_count  non_teacher_referred_count  \n",
       "0                     NaN                         NaN  \n",
       "1                     0.0                         7.0  \n",
       "2                     0.0                         3.0  \n",
       "3                     0.0                         1.0  \n",
       "4                     6.0                         2.0  "
      ]
     },
     "execution_count": 16,
     "metadata": {},
     "output_type": "execute_result"
    }
   ],
   "source": [
    "outc.head()"
   ]
  },
  {
   "cell_type": "code",
   "execution_count": 17,
   "metadata": {},
   "outputs": [
    {
     "data": {
      "text/plain": [
       "projectid                                              0\n",
       "is_exciting                                            0\n",
       "at_least_1_teacher_referred_donor                  94398\n",
       "fully_funded                                           0\n",
       "at_least_1_green_donation                          94398\n",
       "great_chat                                             0\n",
       "three_or_more_non_teacher_referred_donors          94398\n",
       "one_non_teacher_referred_donor_giving_100_plus     94398\n",
       "donation_from_thoughtful_donor                     94398\n",
       "great_messages_proportion                         179839\n",
       "teacher_referred_count                             94398\n",
       "non_teacher_referred_count                         94398\n",
       "dtype: int64"
      ]
     },
     "execution_count": 17,
     "metadata": {},
     "output_type": "execute_result"
    }
   ],
   "source": [
    "outc.isnull().sum()"
   ]
  },
  {
   "cell_type": "code",
   "execution_count": 18,
   "metadata": {},
   "outputs": [
    {
     "data": {
      "text/plain": [
       "(619326, 12)"
      ]
     },
     "execution_count": 18,
     "metadata": {},
     "output_type": "execute_result"
    }
   ],
   "source": [
    "outc.shape"
   ]
  },
  {
   "cell_type": "code",
   "execution_count": 19,
   "metadata": {},
   "outputs": [],
   "source": [
    "#droping columns\n",
    "outc.drop(columns=['at_least_1_teacher_referred_donor','at_least_1_teacher_referred_donor',\n",
    "     'at_least_1_green_donation','three_or_more_non_teacher_referred_donors',\n",
    "    'one_non_teacher_referred_donor_giving_100_plus','donation_from_thoughtful_donor',\n",
    "     'great_messages_proportion','teacher_referred_count','non_teacher_referred_count','fully_funded','great_chat'], inplace=True)"
   ]
  },
  {
   "cell_type": "code",
   "execution_count": 20,
   "metadata": {},
   "outputs": [
    {
     "data": {
      "text/html": [
       "<div>\n",
       "<style scoped>\n",
       "    .dataframe tbody tr th:only-of-type {\n",
       "        vertical-align: middle;\n",
       "    }\n",
       "\n",
       "    .dataframe tbody tr th {\n",
       "        vertical-align: top;\n",
       "    }\n",
       "\n",
       "    .dataframe thead th {\n",
       "        text-align: right;\n",
       "    }\n",
       "</style>\n",
       "<table border=\"1\" class=\"dataframe\">\n",
       "  <thead>\n",
       "    <tr style=\"text-align: right;\">\n",
       "      <th></th>\n",
       "      <th>projectid</th>\n",
       "      <th>is_exciting</th>\n",
       "    </tr>\n",
       "  </thead>\n",
       "  <tbody>\n",
       "    <tr>\n",
       "      <th>0</th>\n",
       "      <td>ffffc4f85b60efc5b52347df489d0238</td>\n",
       "      <td>f</td>\n",
       "    </tr>\n",
       "    <tr>\n",
       "      <th>1</th>\n",
       "      <td>ffffac55ee02a49d1abc87ba6fc61135</td>\n",
       "      <td>f</td>\n",
       "    </tr>\n",
       "    <tr>\n",
       "      <th>2</th>\n",
       "      <td>ffff97ed93720407d70a2787475932b0</td>\n",
       "      <td>f</td>\n",
       "    </tr>\n",
       "    <tr>\n",
       "      <th>3</th>\n",
       "      <td>ffff418bb42fad24347527ad96100f81</td>\n",
       "      <td>f</td>\n",
       "    </tr>\n",
       "    <tr>\n",
       "      <th>4</th>\n",
       "      <td>ffff2d9c769c8fb5335e949c615425eb</td>\n",
       "      <td>t</td>\n",
       "    </tr>\n",
       "  </tbody>\n",
       "</table>\n",
       "</div>"
      ],
      "text/plain": [
       "                          projectid is_exciting\n",
       "0  ffffc4f85b60efc5b52347df489d0238           f\n",
       "1  ffffac55ee02a49d1abc87ba6fc61135           f\n",
       "2  ffff97ed93720407d70a2787475932b0           f\n",
       "3  ffff418bb42fad24347527ad96100f81           f\n",
       "4  ffff2d9c769c8fb5335e949c615425eb           t"
      ]
     },
     "execution_count": 20,
     "metadata": {},
     "output_type": "execute_result"
    }
   ],
   "source": [
    "outc.head()"
   ]
  },
  {
   "cell_type": "code",
   "execution_count": 21,
   "metadata": {},
   "outputs": [
    {
     "name": "stdout",
     "output_type": "stream",
     "text": [
      "<class 'pandas.core.frame.DataFrame'>\n",
      "RangeIndex: 619326 entries, 0 to 619325\n",
      "Data columns (total 2 columns):\n",
      " #   Column       Non-Null Count   Dtype \n",
      "---  ------       --------------   ----- \n",
      " 0   projectid    619326 non-null  object\n",
      " 1   is_exciting  619326 non-null  object\n",
      "dtypes: object(2)\n",
      "memory usage: 9.5+ MB\n"
     ]
    }
   ],
   "source": [
    "outc.info()"
   ]
  },
  {
   "cell_type": "code",
   "execution_count": 22,
   "metadata": {},
   "outputs": [],
   "source": [
    "#merging data_proj and data_essa dataframes\n",
    "data = pd.merge(proj, essa)\n"
   ]
  },
  {
   "cell_type": "code",
   "execution_count": 23,
   "metadata": {},
   "outputs": [
    {
     "data": {
      "text/html": [
       "<div>\n",
       "<style scoped>\n",
       "    .dataframe tbody tr th:only-of-type {\n",
       "        vertical-align: middle;\n",
       "    }\n",
       "\n",
       "    .dataframe tbody tr th {\n",
       "        vertical-align: top;\n",
       "    }\n",
       "\n",
       "    .dataframe thead th {\n",
       "        text-align: right;\n",
       "    }\n",
       "</style>\n",
       "<table border=\"1\" class=\"dataframe\">\n",
       "  <thead>\n",
       "    <tr style=\"text-align: right;\">\n",
       "      <th></th>\n",
       "      <th>projectid</th>\n",
       "      <th>teacher_acctid</th>\n",
       "      <th>schoolid</th>\n",
       "      <th>school_ncesid</th>\n",
       "      <th>school_latitude</th>\n",
       "      <th>school_longitude</th>\n",
       "      <th>school_city</th>\n",
       "      <th>school_state</th>\n",
       "      <th>school_zip</th>\n",
       "      <th>school_metro</th>\n",
       "      <th>...</th>\n",
       "      <th>total_price_excluding_optional_support</th>\n",
       "      <th>total_price_including_optional_support</th>\n",
       "      <th>students_reached</th>\n",
       "      <th>eligible_double_your_impact_match</th>\n",
       "      <th>eligible_almost_home_match</th>\n",
       "      <th>date_posted</th>\n",
       "      <th>title</th>\n",
       "      <th>short_description</th>\n",
       "      <th>need_statement</th>\n",
       "      <th>essay</th>\n",
       "    </tr>\n",
       "  </thead>\n",
       "  <tbody>\n",
       "    <tr>\n",
       "      <th>0</th>\n",
       "      <td>316ed8fb3b81402ff6ac8f721bb31192</td>\n",
       "      <td>42d43fa6f37314365d08692e08680973</td>\n",
       "      <td>c0e6ce89b244764085691a1b8e28cb81</td>\n",
       "      <td>6.362701e+10</td>\n",
       "      <td>36.576340</td>\n",
       "      <td>-119.608713</td>\n",
       "      <td>Selma</td>\n",
       "      <td>CA</td>\n",
       "      <td>93662.0</td>\n",
       "      <td>NaN</td>\n",
       "      <td>...</td>\n",
       "      <td>555.81</td>\n",
       "      <td>653.89</td>\n",
       "      <td>32.0</td>\n",
       "      <td>f</td>\n",
       "      <td>f</td>\n",
       "      <td>2014-05-12</td>\n",
       "      <td>Multiculturalism in Literacy</td>\n",
       "      <td>Can we read one more chapter? Do we have to go...</td>\n",
       "      <td>My students need 3 novel sets with multicultur...</td>\n",
       "      <td>Can we read one more chapter? Do we have to go...</td>\n",
       "    </tr>\n",
       "    <tr>\n",
       "      <th>1</th>\n",
       "      <td>90de744e368a7e4883223ca49318ae30</td>\n",
       "      <td>864eb466462bf704bf7a16a585ef296a</td>\n",
       "      <td>d711e47810900c96f26a5d0be30c446d</td>\n",
       "      <td>4.837020e+11</td>\n",
       "      <td>32.911179</td>\n",
       "      <td>-96.723640</td>\n",
       "      <td>Dallas</td>\n",
       "      <td>TX</td>\n",
       "      <td>75243.0</td>\n",
       "      <td>urban</td>\n",
       "      <td>...</td>\n",
       "      <td>296.47</td>\n",
       "      <td>348.79</td>\n",
       "      <td>22.0</td>\n",
       "      <td>f</td>\n",
       "      <td>f</td>\n",
       "      <td>2014-05-12</td>\n",
       "      <td>Reading is the Window to the World!</td>\n",
       "      <td>Engaging reading materials sent right to my st...</td>\n",
       "      <td>My students need exciting reading materials li...</td>\n",
       "      <td>Engaging reading materials sent right to my st...</td>\n",
       "    </tr>\n",
       "    <tr>\n",
       "      <th>2</th>\n",
       "      <td>32943bb1063267de6ed19fc0ceb4b9a7</td>\n",
       "      <td>37f85135259ece793213aca9d8765542</td>\n",
       "      <td>665c3613013ba0a66e3a2a26b89f1b68</td>\n",
       "      <td>4.103270e+11</td>\n",
       "      <td>45.166039</td>\n",
       "      <td>-122.414576</td>\n",
       "      <td>Colton</td>\n",
       "      <td>OR</td>\n",
       "      <td>97017.0</td>\n",
       "      <td>rural</td>\n",
       "      <td>...</td>\n",
       "      <td>430.89</td>\n",
       "      <td>506.93</td>\n",
       "      <td>17.0</td>\n",
       "      <td>f</td>\n",
       "      <td>f</td>\n",
       "      <td>2014-05-11</td>\n",
       "      <td>A Little Tech Goes A Long Way</td>\n",
       "      <td>Our second grade in rural Oregon is an adventu...</td>\n",
       "      <td>My students need an iPad Mini.</td>\n",
       "      <td>Our second grade in rural Oregon is an adventu...</td>\n",
       "    </tr>\n",
       "    <tr>\n",
       "      <th>3</th>\n",
       "      <td>bb18f409abda2f264d5acda8cab577a9</td>\n",
       "      <td>2133fc46f951f1e7d60645b0f9e48a6c</td>\n",
       "      <td>4f12c3fa0c1cce823c7ba1df57e90ccb</td>\n",
       "      <td>3.600153e+11</td>\n",
       "      <td>40.641727</td>\n",
       "      <td>-73.965655</td>\n",
       "      <td>Brooklyn</td>\n",
       "      <td>NY</td>\n",
       "      <td>11226.0</td>\n",
       "      <td>urban</td>\n",
       "      <td>...</td>\n",
       "      <td>576.07</td>\n",
       "      <td>677.73</td>\n",
       "      <td>12.0</td>\n",
       "      <td>f</td>\n",
       "      <td>f</td>\n",
       "      <td>2014-05-11</td>\n",
       "      <td>Provide Content Aligned, Leveled Texts, For Sc...</td>\n",
       "      <td>Help give 12 Brooklyn students access and orga...</td>\n",
       "      <td>My students need social studies literature res...</td>\n",
       "      <td>Help give 12 Brooklyn students access and orga...</td>\n",
       "    </tr>\n",
       "    <tr>\n",
       "      <th>4</th>\n",
       "      <td>24761b686e18e5eace634607acbcc19f</td>\n",
       "      <td>867ff478a63f5457eaf41049536c47cd</td>\n",
       "      <td>10179fd362d7b8cf0e89baa1ca3025bb</td>\n",
       "      <td>6.227100e+10</td>\n",
       "      <td>34.043939</td>\n",
       "      <td>-118.288371</td>\n",
       "      <td>Los Angeles</td>\n",
       "      <td>CA</td>\n",
       "      <td>90006.0</td>\n",
       "      <td>urban</td>\n",
       "      <td>...</td>\n",
       "      <td>408.40</td>\n",
       "      <td>480.47</td>\n",
       "      <td>24.0</td>\n",
       "      <td>f</td>\n",
       "      <td>f</td>\n",
       "      <td>2014-05-11</td>\n",
       "      <td>Multi-Media Cart</td>\n",
       "      <td>Technology is changing the world as we speak. ...</td>\n",
       "      <td>My students need a multi-media workstation car...</td>\n",
       "      <td>Technology is changing the world as we speak. ...</td>\n",
       "    </tr>\n",
       "  </tbody>\n",
       "</table>\n",
       "<p>5 rows × 39 columns</p>\n",
       "</div>"
      ],
      "text/plain": [
       "                          projectid                    teacher_acctid  \\\n",
       "0  316ed8fb3b81402ff6ac8f721bb31192  42d43fa6f37314365d08692e08680973   \n",
       "1  90de744e368a7e4883223ca49318ae30  864eb466462bf704bf7a16a585ef296a   \n",
       "2  32943bb1063267de6ed19fc0ceb4b9a7  37f85135259ece793213aca9d8765542   \n",
       "3  bb18f409abda2f264d5acda8cab577a9  2133fc46f951f1e7d60645b0f9e48a6c   \n",
       "4  24761b686e18e5eace634607acbcc19f  867ff478a63f5457eaf41049536c47cd   \n",
       "\n",
       "                           schoolid  school_ncesid  school_latitude  \\\n",
       "0  c0e6ce89b244764085691a1b8e28cb81   6.362701e+10        36.576340   \n",
       "1  d711e47810900c96f26a5d0be30c446d   4.837020e+11        32.911179   \n",
       "2  665c3613013ba0a66e3a2a26b89f1b68   4.103270e+11        45.166039   \n",
       "3  4f12c3fa0c1cce823c7ba1df57e90ccb   3.600153e+11        40.641727   \n",
       "4  10179fd362d7b8cf0e89baa1ca3025bb   6.227100e+10        34.043939   \n",
       "\n",
       "   school_longitude  school_city school_state  school_zip school_metro  ...  \\\n",
       "0       -119.608713        Selma           CA     93662.0          NaN  ...   \n",
       "1        -96.723640       Dallas           TX     75243.0        urban  ...   \n",
       "2       -122.414576       Colton           OR     97017.0        rural  ...   \n",
       "3        -73.965655     Brooklyn           NY     11226.0        urban  ...   \n",
       "4       -118.288371  Los Angeles           CA     90006.0        urban  ...   \n",
       "\n",
       "  total_price_excluding_optional_support  \\\n",
       "0                                 555.81   \n",
       "1                                 296.47   \n",
       "2                                 430.89   \n",
       "3                                 576.07   \n",
       "4                                 408.40   \n",
       "\n",
       "  total_price_including_optional_support students_reached  \\\n",
       "0                                 653.89             32.0   \n",
       "1                                 348.79             22.0   \n",
       "2                                 506.93             17.0   \n",
       "3                                 677.73             12.0   \n",
       "4                                 480.47             24.0   \n",
       "\n",
       "  eligible_double_your_impact_match eligible_almost_home_match date_posted  \\\n",
       "0                                 f                          f  2014-05-12   \n",
       "1                                 f                          f  2014-05-12   \n",
       "2                                 f                          f  2014-05-11   \n",
       "3                                 f                          f  2014-05-11   \n",
       "4                                 f                          f  2014-05-11   \n",
       "\n",
       "                                               title  \\\n",
       "0                       Multiculturalism in Literacy   \n",
       "1                Reading is the Window to the World!   \n",
       "2                      A Little Tech Goes A Long Way   \n",
       "3  Provide Content Aligned, Leveled Texts, For Sc...   \n",
       "4                                   Multi-Media Cart   \n",
       "\n",
       "                                   short_description  \\\n",
       "0  Can we read one more chapter? Do we have to go...   \n",
       "1  Engaging reading materials sent right to my st...   \n",
       "2  Our second grade in rural Oregon is an adventu...   \n",
       "3  Help give 12 Brooklyn students access and orga...   \n",
       "4  Technology is changing the world as we speak. ...   \n",
       "\n",
       "                                      need_statement  \\\n",
       "0  My students need 3 novel sets with multicultur...   \n",
       "1  My students need exciting reading materials li...   \n",
       "2                     My students need an iPad Mini.   \n",
       "3  My students need social studies literature res...   \n",
       "4  My students need a multi-media workstation car...   \n",
       "\n",
       "                                               essay  \n",
       "0  Can we read one more chapter? Do we have to go...  \n",
       "1  Engaging reading materials sent right to my st...  \n",
       "2  Our second grade in rural Oregon is an adventu...  \n",
       "3  Help give 12 Brooklyn students access and orga...  \n",
       "4  Technology is changing the world as we speak. ...  \n",
       "\n",
       "[5 rows x 39 columns]"
      ]
     },
     "execution_count": 23,
     "metadata": {},
     "output_type": "execute_result"
    }
   ],
   "source": [
    "data.head()"
   ]
  },
  {
   "cell_type": "code",
   "execution_count": 24,
   "metadata": {},
   "outputs": [
    {
     "data": {
      "text/plain": [
       "(664098, 39)"
      ]
     },
     "execution_count": 24,
     "metadata": {},
     "output_type": "execute_result"
    }
   ],
   "source": [
    "data.shape"
   ]
  },
  {
   "cell_type": "code",
   "execution_count": 25,
   "metadata": {},
   "outputs": [
    {
     "data": {
      "text/plain": [
       "Timestamp('2014-05-12 00:00:00')"
      ]
     },
     "execution_count": 25,
     "metadata": {},
     "output_type": "execute_result"
    }
   ],
   "source": [
    "data.date_posted.max()"
   ]
  },
  {
   "cell_type": "code",
   "execution_count": 26,
   "metadata": {},
   "outputs": [],
   "source": [
    "#merging data and data_outc\n",
    "doch = pd.merge(data,outc, on='projectid', how='left')"
   ]
  },
  {
   "cell_type": "code",
   "execution_count": 27,
   "metadata": {},
   "outputs": [
    {
     "data": {
      "text/html": [
       "<div>\n",
       "<style scoped>\n",
       "    .dataframe tbody tr th:only-of-type {\n",
       "        vertical-align: middle;\n",
       "    }\n",
       "\n",
       "    .dataframe tbody tr th {\n",
       "        vertical-align: top;\n",
       "    }\n",
       "\n",
       "    .dataframe thead th {\n",
       "        text-align: right;\n",
       "    }\n",
       "</style>\n",
       "<table border=\"1\" class=\"dataframe\">\n",
       "  <thead>\n",
       "    <tr style=\"text-align: right;\">\n",
       "      <th></th>\n",
       "      <th>projectid</th>\n",
       "      <th>teacher_acctid</th>\n",
       "      <th>schoolid</th>\n",
       "      <th>school_ncesid</th>\n",
       "      <th>school_latitude</th>\n",
       "      <th>school_longitude</th>\n",
       "      <th>school_city</th>\n",
       "      <th>school_state</th>\n",
       "      <th>school_zip</th>\n",
       "      <th>school_metro</th>\n",
       "      <th>...</th>\n",
       "      <th>total_price_including_optional_support</th>\n",
       "      <th>students_reached</th>\n",
       "      <th>eligible_double_your_impact_match</th>\n",
       "      <th>eligible_almost_home_match</th>\n",
       "      <th>date_posted</th>\n",
       "      <th>title</th>\n",
       "      <th>short_description</th>\n",
       "      <th>need_statement</th>\n",
       "      <th>essay</th>\n",
       "      <th>is_exciting</th>\n",
       "    </tr>\n",
       "  </thead>\n",
       "  <tbody>\n",
       "    <tr>\n",
       "      <th>0</th>\n",
       "      <td>316ed8fb3b81402ff6ac8f721bb31192</td>\n",
       "      <td>42d43fa6f37314365d08692e08680973</td>\n",
       "      <td>c0e6ce89b244764085691a1b8e28cb81</td>\n",
       "      <td>6.362701e+10</td>\n",
       "      <td>36.576340</td>\n",
       "      <td>-119.608713</td>\n",
       "      <td>Selma</td>\n",
       "      <td>CA</td>\n",
       "      <td>93662.0</td>\n",
       "      <td>NaN</td>\n",
       "      <td>...</td>\n",
       "      <td>653.89</td>\n",
       "      <td>32.0</td>\n",
       "      <td>f</td>\n",
       "      <td>f</td>\n",
       "      <td>2014-05-12</td>\n",
       "      <td>Multiculturalism in Literacy</td>\n",
       "      <td>Can we read one more chapter? Do we have to go...</td>\n",
       "      <td>My students need 3 novel sets with multicultur...</td>\n",
       "      <td>Can we read one more chapter? Do we have to go...</td>\n",
       "      <td>NaN</td>\n",
       "    </tr>\n",
       "    <tr>\n",
       "      <th>1</th>\n",
       "      <td>90de744e368a7e4883223ca49318ae30</td>\n",
       "      <td>864eb466462bf704bf7a16a585ef296a</td>\n",
       "      <td>d711e47810900c96f26a5d0be30c446d</td>\n",
       "      <td>4.837020e+11</td>\n",
       "      <td>32.911179</td>\n",
       "      <td>-96.723640</td>\n",
       "      <td>Dallas</td>\n",
       "      <td>TX</td>\n",
       "      <td>75243.0</td>\n",
       "      <td>urban</td>\n",
       "      <td>...</td>\n",
       "      <td>348.79</td>\n",
       "      <td>22.0</td>\n",
       "      <td>f</td>\n",
       "      <td>f</td>\n",
       "      <td>2014-05-12</td>\n",
       "      <td>Reading is the Window to the World!</td>\n",
       "      <td>Engaging reading materials sent right to my st...</td>\n",
       "      <td>My students need exciting reading materials li...</td>\n",
       "      <td>Engaging reading materials sent right to my st...</td>\n",
       "      <td>NaN</td>\n",
       "    </tr>\n",
       "    <tr>\n",
       "      <th>2</th>\n",
       "      <td>32943bb1063267de6ed19fc0ceb4b9a7</td>\n",
       "      <td>37f85135259ece793213aca9d8765542</td>\n",
       "      <td>665c3613013ba0a66e3a2a26b89f1b68</td>\n",
       "      <td>4.103270e+11</td>\n",
       "      <td>45.166039</td>\n",
       "      <td>-122.414576</td>\n",
       "      <td>Colton</td>\n",
       "      <td>OR</td>\n",
       "      <td>97017.0</td>\n",
       "      <td>rural</td>\n",
       "      <td>...</td>\n",
       "      <td>506.93</td>\n",
       "      <td>17.0</td>\n",
       "      <td>f</td>\n",
       "      <td>f</td>\n",
       "      <td>2014-05-11</td>\n",
       "      <td>A Little Tech Goes A Long Way</td>\n",
       "      <td>Our second grade in rural Oregon is an adventu...</td>\n",
       "      <td>My students need an iPad Mini.</td>\n",
       "      <td>Our second grade in rural Oregon is an adventu...</td>\n",
       "      <td>NaN</td>\n",
       "    </tr>\n",
       "    <tr>\n",
       "      <th>3</th>\n",
       "      <td>bb18f409abda2f264d5acda8cab577a9</td>\n",
       "      <td>2133fc46f951f1e7d60645b0f9e48a6c</td>\n",
       "      <td>4f12c3fa0c1cce823c7ba1df57e90ccb</td>\n",
       "      <td>3.600153e+11</td>\n",
       "      <td>40.641727</td>\n",
       "      <td>-73.965655</td>\n",
       "      <td>Brooklyn</td>\n",
       "      <td>NY</td>\n",
       "      <td>11226.0</td>\n",
       "      <td>urban</td>\n",
       "      <td>...</td>\n",
       "      <td>677.73</td>\n",
       "      <td>12.0</td>\n",
       "      <td>f</td>\n",
       "      <td>f</td>\n",
       "      <td>2014-05-11</td>\n",
       "      <td>Provide Content Aligned, Leveled Texts, For Sc...</td>\n",
       "      <td>Help give 12 Brooklyn students access and orga...</td>\n",
       "      <td>My students need social studies literature res...</td>\n",
       "      <td>Help give 12 Brooklyn students access and orga...</td>\n",
       "      <td>NaN</td>\n",
       "    </tr>\n",
       "    <tr>\n",
       "      <th>4</th>\n",
       "      <td>24761b686e18e5eace634607acbcc19f</td>\n",
       "      <td>867ff478a63f5457eaf41049536c47cd</td>\n",
       "      <td>10179fd362d7b8cf0e89baa1ca3025bb</td>\n",
       "      <td>6.227100e+10</td>\n",
       "      <td>34.043939</td>\n",
       "      <td>-118.288371</td>\n",
       "      <td>Los Angeles</td>\n",
       "      <td>CA</td>\n",
       "      <td>90006.0</td>\n",
       "      <td>urban</td>\n",
       "      <td>...</td>\n",
       "      <td>480.47</td>\n",
       "      <td>24.0</td>\n",
       "      <td>f</td>\n",
       "      <td>f</td>\n",
       "      <td>2014-05-11</td>\n",
       "      <td>Multi-Media Cart</td>\n",
       "      <td>Technology is changing the world as we speak. ...</td>\n",
       "      <td>My students need a multi-media workstation car...</td>\n",
       "      <td>Technology is changing the world as we speak. ...</td>\n",
       "      <td>NaN</td>\n",
       "    </tr>\n",
       "  </tbody>\n",
       "</table>\n",
       "<p>5 rows × 40 columns</p>\n",
       "</div>"
      ],
      "text/plain": [
       "                          projectid                    teacher_acctid  \\\n",
       "0  316ed8fb3b81402ff6ac8f721bb31192  42d43fa6f37314365d08692e08680973   \n",
       "1  90de744e368a7e4883223ca49318ae30  864eb466462bf704bf7a16a585ef296a   \n",
       "2  32943bb1063267de6ed19fc0ceb4b9a7  37f85135259ece793213aca9d8765542   \n",
       "3  bb18f409abda2f264d5acda8cab577a9  2133fc46f951f1e7d60645b0f9e48a6c   \n",
       "4  24761b686e18e5eace634607acbcc19f  867ff478a63f5457eaf41049536c47cd   \n",
       "\n",
       "                           schoolid  school_ncesid  school_latitude  \\\n",
       "0  c0e6ce89b244764085691a1b8e28cb81   6.362701e+10        36.576340   \n",
       "1  d711e47810900c96f26a5d0be30c446d   4.837020e+11        32.911179   \n",
       "2  665c3613013ba0a66e3a2a26b89f1b68   4.103270e+11        45.166039   \n",
       "3  4f12c3fa0c1cce823c7ba1df57e90ccb   3.600153e+11        40.641727   \n",
       "4  10179fd362d7b8cf0e89baa1ca3025bb   6.227100e+10        34.043939   \n",
       "\n",
       "   school_longitude  school_city school_state  school_zip school_metro  ...  \\\n",
       "0       -119.608713        Selma           CA     93662.0          NaN  ...   \n",
       "1        -96.723640       Dallas           TX     75243.0        urban  ...   \n",
       "2       -122.414576       Colton           OR     97017.0        rural  ...   \n",
       "3        -73.965655     Brooklyn           NY     11226.0        urban  ...   \n",
       "4       -118.288371  Los Angeles           CA     90006.0        urban  ...   \n",
       "\n",
       "  total_price_including_optional_support students_reached  \\\n",
       "0                                 653.89             32.0   \n",
       "1                                 348.79             22.0   \n",
       "2                                 506.93             17.0   \n",
       "3                                 677.73             12.0   \n",
       "4                                 480.47             24.0   \n",
       "\n",
       "  eligible_double_your_impact_match eligible_almost_home_match date_posted  \\\n",
       "0                                 f                          f  2014-05-12   \n",
       "1                                 f                          f  2014-05-12   \n",
       "2                                 f                          f  2014-05-11   \n",
       "3                                 f                          f  2014-05-11   \n",
       "4                                 f                          f  2014-05-11   \n",
       "\n",
       "                                               title  \\\n",
       "0                       Multiculturalism in Literacy   \n",
       "1                Reading is the Window to the World!   \n",
       "2                      A Little Tech Goes A Long Way   \n",
       "3  Provide Content Aligned, Leveled Texts, For Sc...   \n",
       "4                                   Multi-Media Cart   \n",
       "\n",
       "                                   short_description  \\\n",
       "0  Can we read one more chapter? Do we have to go...   \n",
       "1  Engaging reading materials sent right to my st...   \n",
       "2  Our second grade in rural Oregon is an adventu...   \n",
       "3  Help give 12 Brooklyn students access and orga...   \n",
       "4  Technology is changing the world as we speak. ...   \n",
       "\n",
       "                                      need_statement  \\\n",
       "0  My students need 3 novel sets with multicultur...   \n",
       "1  My students need exciting reading materials li...   \n",
       "2                     My students need an iPad Mini.   \n",
       "3  My students need social studies literature res...   \n",
       "4  My students need a multi-media workstation car...   \n",
       "\n",
       "                                               essay is_exciting  \n",
       "0  Can we read one more chapter? Do we have to go...         NaN  \n",
       "1  Engaging reading materials sent right to my st...         NaN  \n",
       "2  Our second grade in rural Oregon is an adventu...         NaN  \n",
       "3  Help give 12 Brooklyn students access and orga...         NaN  \n",
       "4  Technology is changing the world as we speak. ...         NaN  \n",
       "\n",
       "[5 rows x 40 columns]"
      ]
     },
     "execution_count": 27,
     "metadata": {},
     "output_type": "execute_result"
    }
   ],
   "source": [
    "doch.head()"
   ]
  },
  {
   "cell_type": "code",
   "execution_count": 28,
   "metadata": {},
   "outputs": [
    {
     "data": {
      "text/plain": [
       "(664098, 40)"
      ]
     },
     "execution_count": 28,
     "metadata": {},
     "output_type": "execute_result"
    }
   ],
   "source": [
    "doch.shape"
   ]
  },
  {
   "cell_type": "code",
   "execution_count": 29,
   "metadata": {},
   "outputs": [
    {
     "data": {
      "text/plain": [
       "Timestamp('2014-05-12 00:00:00')"
      ]
     },
     "execution_count": 29,
     "metadata": {},
     "output_type": "execute_result"
    }
   ],
   "source": [
    "doch.date_posted.max()"
   ]
  },
  {
   "cell_type": "code",
   "execution_count": 30,
   "metadata": {},
   "outputs": [
    {
     "data": {
      "text/plain": [
       "projectid                                      0\n",
       "teacher_acctid                                 0\n",
       "schoolid                                       0\n",
       "school_ncesid                              42736\n",
       "school_latitude                                0\n",
       "school_longitude                               0\n",
       "school_city                                    0\n",
       "school_state                                   0\n",
       "school_zip                                     4\n",
       "school_metro                               81908\n",
       "school_district                              948\n",
       "school_county                                 17\n",
       "school_charter                                 0\n",
       "school_magnet                                  0\n",
       "school_year_round                              0\n",
       "school_nlns                                    0\n",
       "school_kipp                                    0\n",
       "school_charter_ready_promise                   0\n",
       "teacher_prefix                                 4\n",
       "teacher_teach_for_america                      0\n",
       "teacher_ny_teaching_fellow                     0\n",
       "primary_focus_subject                         39\n",
       "primary_focus_area                            39\n",
       "secondary_focus_subject                   207893\n",
       "secondary_focus_area                      207893\n",
       "resource_type                                 45\n",
       "poverty_level                                  0\n",
       "grade_level                                    9\n",
       "fulfillment_labor_materials                35082\n",
       "total_price_excluding_optional_support         0\n",
       "total_price_including_optional_support         0\n",
       "students_reached                             146\n",
       "eligible_double_your_impact_match              0\n",
       "eligible_almost_home_match                     0\n",
       "date_posted                                    0\n",
       "title                                          0\n",
       "short_description                              0\n",
       "need_statement                                 0\n",
       "essay                                          0\n",
       "is_exciting                                44772\n",
       "dtype: int64"
      ]
     },
     "execution_count": 30,
     "metadata": {},
     "output_type": "execute_result"
    }
   ],
   "source": [
    "doch.isnull().sum()"
   ]
  },
  {
   "cell_type": "code",
   "execution_count": 31,
   "metadata": {},
   "outputs": [],
   "source": [
    "#Spliting data into  train and test set according to date \n",
    "train = doch[doch['date_posted'] <='2014-01-01']\n",
    "test = doch[doch['date_posted']>='2014-01-01']\n"
   ]
  },
  {
   "cell_type": "code",
   "execution_count": 32,
   "metadata": {},
   "outputs": [
    {
     "data": {
      "text/html": [
       "<div>\n",
       "<style scoped>\n",
       "    .dataframe tbody tr th:only-of-type {\n",
       "        vertical-align: middle;\n",
       "    }\n",
       "\n",
       "    .dataframe tbody tr th {\n",
       "        vertical-align: top;\n",
       "    }\n",
       "\n",
       "    .dataframe thead th {\n",
       "        text-align: right;\n",
       "    }\n",
       "</style>\n",
       "<table border=\"1\" class=\"dataframe\">\n",
       "  <thead>\n",
       "    <tr style=\"text-align: right;\">\n",
       "      <th></th>\n",
       "      <th>projectid</th>\n",
       "      <th>teacher_acctid</th>\n",
       "      <th>schoolid</th>\n",
       "      <th>school_ncesid</th>\n",
       "      <th>school_latitude</th>\n",
       "      <th>school_longitude</th>\n",
       "      <th>school_city</th>\n",
       "      <th>school_state</th>\n",
       "      <th>school_zip</th>\n",
       "      <th>school_metro</th>\n",
       "      <th>...</th>\n",
       "      <th>total_price_including_optional_support</th>\n",
       "      <th>students_reached</th>\n",
       "      <th>eligible_double_your_impact_match</th>\n",
       "      <th>eligible_almost_home_match</th>\n",
       "      <th>date_posted</th>\n",
       "      <th>title</th>\n",
       "      <th>short_description</th>\n",
       "      <th>need_statement</th>\n",
       "      <th>essay</th>\n",
       "      <th>is_exciting</th>\n",
       "    </tr>\n",
       "  </thead>\n",
       "  <tbody>\n",
       "    <tr>\n",
       "      <th>44405</th>\n",
       "      <td>bb085d3e4e07deeff4992ca2eb4d1bce</td>\n",
       "      <td>e8f9a695f9e07f94a66408c6ef1960dd</td>\n",
       "      <td>20331a9c4068c933774735311861fd9c</td>\n",
       "      <td>3.600078e+11</td>\n",
       "      <td>40.774338</td>\n",
       "      <td>-73.984751</td>\n",
       "      <td>New York</td>\n",
       "      <td>NY</td>\n",
       "      <td>10023.0</td>\n",
       "      <td>urban</td>\n",
       "      <td>...</td>\n",
       "      <td>908.45</td>\n",
       "      <td>100.0</td>\n",
       "      <td>f</td>\n",
       "      <td>f</td>\n",
       "      <td>2014-01-01</td>\n",
       "      <td>Technology - Like Jumping Through The Rabbit's...</td>\n",
       "      <td>Ever have that sinking feeling when the copy m...</td>\n",
       "      <td>My students need a laptop Chromebook computer ...</td>\n",
       "      <td>Ever have that sinking feeling when the copy m...</td>\n",
       "      <td>NaN</td>\n",
       "    </tr>\n",
       "    <tr>\n",
       "      <th>44406</th>\n",
       "      <td>cc06856f0e48ca63b529352abf4203fd</td>\n",
       "      <td>bcb9c8fcacb7ff431ba73d002b0e7d75</td>\n",
       "      <td>b74ff738ff6dff9943701adbaac7efc7</td>\n",
       "      <td>3.600078e+11</td>\n",
       "      <td>40.773753</td>\n",
       "      <td>-73.985376</td>\n",
       "      <td>New York</td>\n",
       "      <td>NY</td>\n",
       "      <td>10023.0</td>\n",
       "      <td>urban</td>\n",
       "      <td>...</td>\n",
       "      <td>545.14</td>\n",
       "      <td>198.0</td>\n",
       "      <td>f</td>\n",
       "      <td>f</td>\n",
       "      <td>2014-01-01</td>\n",
       "      <td>We Need Bunsen Burners!</td>\n",
       "      <td>The lab is where science comes to life and stu...</td>\n",
       "      <td>My students need 17 Bunsen burners for our lab...</td>\n",
       "      <td>The lab is where science comes to life and stu...</td>\n",
       "      <td>NaN</td>\n",
       "    </tr>\n",
       "    <tr>\n",
       "      <th>44407</th>\n",
       "      <td>ae1d159a475fcd677f12c964bf8e3d24</td>\n",
       "      <td>0e19db1513a0c79b954c9b6deab0a3ec</td>\n",
       "      <td>8be9741df5fca4a18c9786a2e924e6dc</td>\n",
       "      <td>5.063300e+10</td>\n",
       "      <td>35.351376</td>\n",
       "      <td>-94.340373</td>\n",
       "      <td>Fort Smith</td>\n",
       "      <td>AR</td>\n",
       "      <td>72903.0</td>\n",
       "      <td>urban</td>\n",
       "      <td>...</td>\n",
       "      <td>488.39</td>\n",
       "      <td>28.0</td>\n",
       "      <td>t</td>\n",
       "      <td>f</td>\n",
       "      <td>2014-01-01</td>\n",
       "      <td>Teaching Econ Through Technology</td>\n",
       "      <td>How bored do you get just sitting in a desk an...</td>\n",
       "      <td>My students need an iPad mini with cover!</td>\n",
       "      <td>How bored do you get just sitting in a desk an...</td>\n",
       "      <td>NaN</td>\n",
       "    </tr>\n",
       "    <tr>\n",
       "      <th>44408</th>\n",
       "      <td>c4d5660b590be04fbce7448581152150</td>\n",
       "      <td>da18d82137b7b748b62c0663ba981fd6</td>\n",
       "      <td>3f84ab7c50ec28a525a4ca895c501f5b</td>\n",
       "      <td>2.744190e+11</td>\n",
       "      <td>46.617071</td>\n",
       "      <td>-92.382084</td>\n",
       "      <td>Wrenshall</td>\n",
       "      <td>MN</td>\n",
       "      <td>55797.0</td>\n",
       "      <td>rural</td>\n",
       "      <td>...</td>\n",
       "      <td>228.49</td>\n",
       "      <td>15.0</td>\n",
       "      <td>f</td>\n",
       "      <td>f</td>\n",
       "      <td>2014-01-01</td>\n",
       "      <td>Shaken' It Up With Shuffles!</td>\n",
       "      <td>Recently, during a workshop, I was given a par...</td>\n",
       "      <td>My students need three iPod shuffles to rejuve...</td>\n",
       "      <td>Recently, during a workshop, I was given a par...</td>\n",
       "      <td>NaN</td>\n",
       "    </tr>\n",
       "    <tr>\n",
       "      <th>44409</th>\n",
       "      <td>ab9306f017a1866836db431ed4110f25</td>\n",
       "      <td>085c3acfa53bc13ea2d5b0752c523df8</td>\n",
       "      <td>a2da3241bccb97ea967039fe12734cc7</td>\n",
       "      <td>2.200125e+11</td>\n",
       "      <td>30.515228</td>\n",
       "      <td>-90.992871</td>\n",
       "      <td>Greenwel Spgs</td>\n",
       "      <td>LA</td>\n",
       "      <td>70739.0</td>\n",
       "      <td>NaN</td>\n",
       "      <td>...</td>\n",
       "      <td>354.92</td>\n",
       "      <td>21.0</td>\n",
       "      <td>f</td>\n",
       "      <td>f</td>\n",
       "      <td>2014-01-01</td>\n",
       "      <td>No Habla Ingles</td>\n",
       "      <td>Successful completion of kindergarten includes...</td>\n",
       "      <td>My students need 2 sets of realistic photo car...</td>\n",
       "      <td>Successful completion of kindergarten includes...</td>\n",
       "      <td>NaN</td>\n",
       "    </tr>\n",
       "  </tbody>\n",
       "</table>\n",
       "<p>5 rows × 40 columns</p>\n",
       "</div>"
      ],
      "text/plain": [
       "                              projectid                    teacher_acctid  \\\n",
       "44405  bb085d3e4e07deeff4992ca2eb4d1bce  e8f9a695f9e07f94a66408c6ef1960dd   \n",
       "44406  cc06856f0e48ca63b529352abf4203fd  bcb9c8fcacb7ff431ba73d002b0e7d75   \n",
       "44407  ae1d159a475fcd677f12c964bf8e3d24  0e19db1513a0c79b954c9b6deab0a3ec   \n",
       "44408  c4d5660b590be04fbce7448581152150  da18d82137b7b748b62c0663ba981fd6   \n",
       "44409  ab9306f017a1866836db431ed4110f25  085c3acfa53bc13ea2d5b0752c523df8   \n",
       "\n",
       "                               schoolid  school_ncesid  school_latitude  \\\n",
       "44405  20331a9c4068c933774735311861fd9c   3.600078e+11        40.774338   \n",
       "44406  b74ff738ff6dff9943701adbaac7efc7   3.600078e+11        40.773753   \n",
       "44407  8be9741df5fca4a18c9786a2e924e6dc   5.063300e+10        35.351376   \n",
       "44408  3f84ab7c50ec28a525a4ca895c501f5b   2.744190e+11        46.617071   \n",
       "44409  a2da3241bccb97ea967039fe12734cc7   2.200125e+11        30.515228   \n",
       "\n",
       "       school_longitude    school_city school_state  school_zip school_metro  \\\n",
       "44405        -73.984751       New York           NY     10023.0        urban   \n",
       "44406        -73.985376       New York           NY     10023.0        urban   \n",
       "44407        -94.340373     Fort Smith           AR     72903.0        urban   \n",
       "44408        -92.382084      Wrenshall           MN     55797.0        rural   \n",
       "44409        -90.992871  Greenwel Spgs           LA     70739.0          NaN   \n",
       "\n",
       "       ... total_price_including_optional_support students_reached  \\\n",
       "44405  ...                                 908.45            100.0   \n",
       "44406  ...                                 545.14            198.0   \n",
       "44407  ...                                 488.39             28.0   \n",
       "44408  ...                                 228.49             15.0   \n",
       "44409  ...                                 354.92             21.0   \n",
       "\n",
       "      eligible_double_your_impact_match eligible_almost_home_match  \\\n",
       "44405                                 f                          f   \n",
       "44406                                 f                          f   \n",
       "44407                                 t                          f   \n",
       "44408                                 f                          f   \n",
       "44409                                 f                          f   \n",
       "\n",
       "      date_posted                                              title  \\\n",
       "44405  2014-01-01  Technology - Like Jumping Through The Rabbit's...   \n",
       "44406  2014-01-01                            We Need Bunsen Burners!   \n",
       "44407  2014-01-01                   Teaching Econ Through Technology   \n",
       "44408  2014-01-01                       Shaken' It Up With Shuffles!   \n",
       "44409  2014-01-01                                    No Habla Ingles   \n",
       "\n",
       "                                       short_description  \\\n",
       "44405  Ever have that sinking feeling when the copy m...   \n",
       "44406  The lab is where science comes to life and stu...   \n",
       "44407  How bored do you get just sitting in a desk an...   \n",
       "44408  Recently, during a workshop, I was given a par...   \n",
       "44409  Successful completion of kindergarten includes...   \n",
       "\n",
       "                                          need_statement  \\\n",
       "44405  My students need a laptop Chromebook computer ...   \n",
       "44406  My students need 17 Bunsen burners for our lab...   \n",
       "44407          My students need an iPad mini with cover!   \n",
       "44408  My students need three iPod shuffles to rejuve...   \n",
       "44409  My students need 2 sets of realistic photo car...   \n",
       "\n",
       "                                                   essay is_exciting  \n",
       "44405  Ever have that sinking feeling when the copy m...         NaN  \n",
       "44406  The lab is where science comes to life and stu...         NaN  \n",
       "44407  How bored do you get just sitting in a desk an...         NaN  \n",
       "44408  Recently, during a workshop, I was given a par...         NaN  \n",
       "44409  Successful completion of kindergarten includes...         NaN  \n",
       "\n",
       "[5 rows x 40 columns]"
      ]
     },
     "execution_count": 32,
     "metadata": {},
     "output_type": "execute_result"
    }
   ],
   "source": [
    "train.head()"
   ]
  },
  {
   "cell_type": "code",
   "execution_count": 33,
   "metadata": {},
   "outputs": [
    {
     "data": {
      "text/html": [
       "<div>\n",
       "<style scoped>\n",
       "    .dataframe tbody tr th:only-of-type {\n",
       "        vertical-align: middle;\n",
       "    }\n",
       "\n",
       "    .dataframe tbody tr th {\n",
       "        vertical-align: top;\n",
       "    }\n",
       "\n",
       "    .dataframe thead th {\n",
       "        text-align: right;\n",
       "    }\n",
       "</style>\n",
       "<table border=\"1\" class=\"dataframe\">\n",
       "  <thead>\n",
       "    <tr style=\"text-align: right;\">\n",
       "      <th></th>\n",
       "      <th>projectid</th>\n",
       "      <th>teacher_acctid</th>\n",
       "      <th>schoolid</th>\n",
       "      <th>school_ncesid</th>\n",
       "      <th>school_latitude</th>\n",
       "      <th>school_longitude</th>\n",
       "      <th>school_city</th>\n",
       "      <th>school_state</th>\n",
       "      <th>school_zip</th>\n",
       "      <th>school_metro</th>\n",
       "      <th>...</th>\n",
       "      <th>total_price_including_optional_support</th>\n",
       "      <th>students_reached</th>\n",
       "      <th>eligible_double_your_impact_match</th>\n",
       "      <th>eligible_almost_home_match</th>\n",
       "      <th>date_posted</th>\n",
       "      <th>title</th>\n",
       "      <th>short_description</th>\n",
       "      <th>need_statement</th>\n",
       "      <th>essay</th>\n",
       "      <th>is_exciting</th>\n",
       "    </tr>\n",
       "  </thead>\n",
       "  <tbody>\n",
       "    <tr>\n",
       "      <th>0</th>\n",
       "      <td>316ed8fb3b81402ff6ac8f721bb31192</td>\n",
       "      <td>42d43fa6f37314365d08692e08680973</td>\n",
       "      <td>c0e6ce89b244764085691a1b8e28cb81</td>\n",
       "      <td>6.362701e+10</td>\n",
       "      <td>36.576340</td>\n",
       "      <td>-119.608713</td>\n",
       "      <td>Selma</td>\n",
       "      <td>CA</td>\n",
       "      <td>93662.0</td>\n",
       "      <td>NaN</td>\n",
       "      <td>...</td>\n",
       "      <td>653.89</td>\n",
       "      <td>32.0</td>\n",
       "      <td>f</td>\n",
       "      <td>f</td>\n",
       "      <td>2014-05-12</td>\n",
       "      <td>Multiculturalism in Literacy</td>\n",
       "      <td>Can we read one more chapter? Do we have to go...</td>\n",
       "      <td>My students need 3 novel sets with multicultur...</td>\n",
       "      <td>Can we read one more chapter? Do we have to go...</td>\n",
       "      <td>NaN</td>\n",
       "    </tr>\n",
       "    <tr>\n",
       "      <th>1</th>\n",
       "      <td>90de744e368a7e4883223ca49318ae30</td>\n",
       "      <td>864eb466462bf704bf7a16a585ef296a</td>\n",
       "      <td>d711e47810900c96f26a5d0be30c446d</td>\n",
       "      <td>4.837020e+11</td>\n",
       "      <td>32.911179</td>\n",
       "      <td>-96.723640</td>\n",
       "      <td>Dallas</td>\n",
       "      <td>TX</td>\n",
       "      <td>75243.0</td>\n",
       "      <td>urban</td>\n",
       "      <td>...</td>\n",
       "      <td>348.79</td>\n",
       "      <td>22.0</td>\n",
       "      <td>f</td>\n",
       "      <td>f</td>\n",
       "      <td>2014-05-12</td>\n",
       "      <td>Reading is the Window to the World!</td>\n",
       "      <td>Engaging reading materials sent right to my st...</td>\n",
       "      <td>My students need exciting reading materials li...</td>\n",
       "      <td>Engaging reading materials sent right to my st...</td>\n",
       "      <td>NaN</td>\n",
       "    </tr>\n",
       "    <tr>\n",
       "      <th>2</th>\n",
       "      <td>32943bb1063267de6ed19fc0ceb4b9a7</td>\n",
       "      <td>37f85135259ece793213aca9d8765542</td>\n",
       "      <td>665c3613013ba0a66e3a2a26b89f1b68</td>\n",
       "      <td>4.103270e+11</td>\n",
       "      <td>45.166039</td>\n",
       "      <td>-122.414576</td>\n",
       "      <td>Colton</td>\n",
       "      <td>OR</td>\n",
       "      <td>97017.0</td>\n",
       "      <td>rural</td>\n",
       "      <td>...</td>\n",
       "      <td>506.93</td>\n",
       "      <td>17.0</td>\n",
       "      <td>f</td>\n",
       "      <td>f</td>\n",
       "      <td>2014-05-11</td>\n",
       "      <td>A Little Tech Goes A Long Way</td>\n",
       "      <td>Our second grade in rural Oregon is an adventu...</td>\n",
       "      <td>My students need an iPad Mini.</td>\n",
       "      <td>Our second grade in rural Oregon is an adventu...</td>\n",
       "      <td>NaN</td>\n",
       "    </tr>\n",
       "    <tr>\n",
       "      <th>3</th>\n",
       "      <td>bb18f409abda2f264d5acda8cab577a9</td>\n",
       "      <td>2133fc46f951f1e7d60645b0f9e48a6c</td>\n",
       "      <td>4f12c3fa0c1cce823c7ba1df57e90ccb</td>\n",
       "      <td>3.600153e+11</td>\n",
       "      <td>40.641727</td>\n",
       "      <td>-73.965655</td>\n",
       "      <td>Brooklyn</td>\n",
       "      <td>NY</td>\n",
       "      <td>11226.0</td>\n",
       "      <td>urban</td>\n",
       "      <td>...</td>\n",
       "      <td>677.73</td>\n",
       "      <td>12.0</td>\n",
       "      <td>f</td>\n",
       "      <td>f</td>\n",
       "      <td>2014-05-11</td>\n",
       "      <td>Provide Content Aligned, Leveled Texts, For Sc...</td>\n",
       "      <td>Help give 12 Brooklyn students access and orga...</td>\n",
       "      <td>My students need social studies literature res...</td>\n",
       "      <td>Help give 12 Brooklyn students access and orga...</td>\n",
       "      <td>NaN</td>\n",
       "    </tr>\n",
       "    <tr>\n",
       "      <th>4</th>\n",
       "      <td>24761b686e18e5eace634607acbcc19f</td>\n",
       "      <td>867ff478a63f5457eaf41049536c47cd</td>\n",
       "      <td>10179fd362d7b8cf0e89baa1ca3025bb</td>\n",
       "      <td>6.227100e+10</td>\n",
       "      <td>34.043939</td>\n",
       "      <td>-118.288371</td>\n",
       "      <td>Los Angeles</td>\n",
       "      <td>CA</td>\n",
       "      <td>90006.0</td>\n",
       "      <td>urban</td>\n",
       "      <td>...</td>\n",
       "      <td>480.47</td>\n",
       "      <td>24.0</td>\n",
       "      <td>f</td>\n",
       "      <td>f</td>\n",
       "      <td>2014-05-11</td>\n",
       "      <td>Multi-Media Cart</td>\n",
       "      <td>Technology is changing the world as we speak. ...</td>\n",
       "      <td>My students need a multi-media workstation car...</td>\n",
       "      <td>Technology is changing the world as we speak. ...</td>\n",
       "      <td>NaN</td>\n",
       "    </tr>\n",
       "  </tbody>\n",
       "</table>\n",
       "<p>5 rows × 40 columns</p>\n",
       "</div>"
      ],
      "text/plain": [
       "                          projectid                    teacher_acctid  \\\n",
       "0  316ed8fb3b81402ff6ac8f721bb31192  42d43fa6f37314365d08692e08680973   \n",
       "1  90de744e368a7e4883223ca49318ae30  864eb466462bf704bf7a16a585ef296a   \n",
       "2  32943bb1063267de6ed19fc0ceb4b9a7  37f85135259ece793213aca9d8765542   \n",
       "3  bb18f409abda2f264d5acda8cab577a9  2133fc46f951f1e7d60645b0f9e48a6c   \n",
       "4  24761b686e18e5eace634607acbcc19f  867ff478a63f5457eaf41049536c47cd   \n",
       "\n",
       "                           schoolid  school_ncesid  school_latitude  \\\n",
       "0  c0e6ce89b244764085691a1b8e28cb81   6.362701e+10        36.576340   \n",
       "1  d711e47810900c96f26a5d0be30c446d   4.837020e+11        32.911179   \n",
       "2  665c3613013ba0a66e3a2a26b89f1b68   4.103270e+11        45.166039   \n",
       "3  4f12c3fa0c1cce823c7ba1df57e90ccb   3.600153e+11        40.641727   \n",
       "4  10179fd362d7b8cf0e89baa1ca3025bb   6.227100e+10        34.043939   \n",
       "\n",
       "   school_longitude  school_city school_state  school_zip school_metro  ...  \\\n",
       "0       -119.608713        Selma           CA     93662.0          NaN  ...   \n",
       "1        -96.723640       Dallas           TX     75243.0        urban  ...   \n",
       "2       -122.414576       Colton           OR     97017.0        rural  ...   \n",
       "3        -73.965655     Brooklyn           NY     11226.0        urban  ...   \n",
       "4       -118.288371  Los Angeles           CA     90006.0        urban  ...   \n",
       "\n",
       "  total_price_including_optional_support students_reached  \\\n",
       "0                                 653.89             32.0   \n",
       "1                                 348.79             22.0   \n",
       "2                                 506.93             17.0   \n",
       "3                                 677.73             12.0   \n",
       "4                                 480.47             24.0   \n",
       "\n",
       "  eligible_double_your_impact_match eligible_almost_home_match date_posted  \\\n",
       "0                                 f                          f  2014-05-12   \n",
       "1                                 f                          f  2014-05-12   \n",
       "2                                 f                          f  2014-05-11   \n",
       "3                                 f                          f  2014-05-11   \n",
       "4                                 f                          f  2014-05-11   \n",
       "\n",
       "                                               title  \\\n",
       "0                       Multiculturalism in Literacy   \n",
       "1                Reading is the Window to the World!   \n",
       "2                      A Little Tech Goes A Long Way   \n",
       "3  Provide Content Aligned, Leveled Texts, For Sc...   \n",
       "4                                   Multi-Media Cart   \n",
       "\n",
       "                                   short_description  \\\n",
       "0  Can we read one more chapter? Do we have to go...   \n",
       "1  Engaging reading materials sent right to my st...   \n",
       "2  Our second grade in rural Oregon is an adventu...   \n",
       "3  Help give 12 Brooklyn students access and orga...   \n",
       "4  Technology is changing the world as we speak. ...   \n",
       "\n",
       "                                      need_statement  \\\n",
       "0  My students need 3 novel sets with multicultur...   \n",
       "1  My students need exciting reading materials li...   \n",
       "2                     My students need an iPad Mini.   \n",
       "3  My students need social studies literature res...   \n",
       "4  My students need a multi-media workstation car...   \n",
       "\n",
       "                                               essay is_exciting  \n",
       "0  Can we read one more chapter? Do we have to go...         NaN  \n",
       "1  Engaging reading materials sent right to my st...         NaN  \n",
       "2  Our second grade in rural Oregon is an adventu...         NaN  \n",
       "3  Help give 12 Brooklyn students access and orga...         NaN  \n",
       "4  Technology is changing the world as we speak. ...         NaN  \n",
       "\n",
       "[5 rows x 40 columns]"
      ]
     },
     "execution_count": 33,
     "metadata": {},
     "output_type": "execute_result"
    }
   ],
   "source": [
    "test.head()"
   ]
  },
  {
   "cell_type": "code",
   "execution_count": 34,
   "metadata": {},
   "outputs": [
    {
     "data": {
      "text/plain": [
       "(44772, 40)"
      ]
     },
     "execution_count": 34,
     "metadata": {},
     "output_type": "execute_result"
    }
   ],
   "source": [
    "test.shape"
   ]
  },
  {
   "cell_type": "code",
   "execution_count": 35,
   "metadata": {},
   "outputs": [
    {
     "data": {
      "text/plain": [
       "projectid                                      0\n",
       "teacher_acctid                                 0\n",
       "schoolid                                       0\n",
       "school_ncesid                              38874\n",
       "school_latitude                                0\n",
       "school_longitude                               0\n",
       "school_city                                    0\n",
       "school_state                                   0\n",
       "school_zip                                     4\n",
       "school_metro                               75547\n",
       "school_district                              922\n",
       "school_county                                 17\n",
       "school_charter                                 0\n",
       "school_magnet                                  0\n",
       "school_year_round                              0\n",
       "school_nlns                                    0\n",
       "school_kipp                                    0\n",
       "school_charter_ready_promise                   0\n",
       "teacher_prefix                                 0\n",
       "teacher_teach_for_america                      0\n",
       "teacher_ny_teaching_fellow                     0\n",
       "primary_focus_subject                         36\n",
       "primary_focus_area                            36\n",
       "secondary_focus_subject                   194069\n",
       "secondary_focus_area                      194069\n",
       "resource_type                                 43\n",
       "poverty_level                                  0\n",
       "grade_level                                    7\n",
       "fulfillment_labor_materials                35082\n",
       "total_price_excluding_optional_support         0\n",
       "total_price_including_optional_support         0\n",
       "students_reached                             144\n",
       "eligible_double_your_impact_match              0\n",
       "eligible_almost_home_match                     0\n",
       "date_posted                                    0\n",
       "title                                          0\n",
       "short_description                              0\n",
       "need_statement                                 0\n",
       "essay                                          0\n",
       "is_exciting                                  367\n",
       "dtype: int64"
      ]
     },
     "execution_count": 35,
     "metadata": {},
     "output_type": "execute_result"
    }
   ],
   "source": [
    "train.isnull().sum()"
   ]
  },
  {
   "cell_type": "code",
   "execution_count": 36,
   "metadata": {},
   "outputs": [
    {
     "name": "stdout",
     "output_type": "stream",
     "text": [
      "1.709930e+11    904\n",
      "3.600120e+11    829\n",
      "3.600153e+11    690\n",
      "3.600097e+11    667\n",
      "6.162300e+10    629\n",
      "               ... \n",
      "4.820960e+11      1\n",
      "4.823910e+11      1\n",
      "1.201080e+11      1\n",
      "1.600930e+11      1\n",
      "2.502520e+11      1\n",
      "Name: school_ncesid, Length: 50752, dtype: int64\n"
     ]
    }
   ],
   "source": [
    "print(train.school_ncesid.value_counts())"
   ]
  },
  {
   "cell_type": "code",
   "execution_count": 37,
   "metadata": {},
   "outputs": [
    {
     "name": "stderr",
     "output_type": "stream",
     "text": [
      "C:\\Users\\sowmy\\anaconda3\\envs\\tens\\lib\\site-packages\\pandas\\core\\generic.py:5491: SettingWithCopyWarning: \n",
      "A value is trying to be set on a copy of a slice from a DataFrame.\n",
      "Try using .loc[row_indexer,col_indexer] = value instead\n",
      "\n",
      "See the caveats in the documentation: https://pandas.pydata.org/pandas-docs/stable/user_guide/indexing.html#returning-a-view-versus-a-copy\n",
      "  self[name] = value\n"
     ]
    }
   ],
   "source": [
    "#filling values with most occur values\n",
    "train.school_ncesid = train.school_ncesid.fillna(1.709930e+11)"
   ]
  },
  {
   "cell_type": "code",
   "execution_count": 39,
   "metadata": {},
   "outputs": [
    {
     "data": {
      "text/plain": [
       "CA    118555\n",
       "NY     69865\n",
       "NC     41218\n",
       "IL     37938\n",
       "TX     37220\n",
       "FL     28055\n",
       "SC     17592\n",
       "IN     16051\n",
       "OK     14103\n",
       "GA     13755\n",
       "PA     13305\n",
       "TN     13279\n",
       "LA     11664\n",
       "MO     11280\n",
       "MI     11029\n",
       "VA      9872\n",
       "WA      9722\n",
       "MD      8972\n",
       "AZ      8949\n",
       "NJ      8812\n",
       "UT      8707\n",
       "MA      8525\n",
       "NV      8333\n",
       "CT      7150\n",
       "OH      7021\n",
       "DC      6651\n",
       "MS      6622\n",
       "CO      6482\n",
       "WI      6434\n",
       "OR      6213\n",
       "AR      5251\n",
       "AL      5139\n",
       "MN      4140\n",
       "KY      4077\n",
       "ME      3165\n",
       "IA      2982\n",
       "KS      2669\n",
       "NM      2414\n",
       "HI      2342\n",
       "WV      2149\n",
       "RI      1987\n",
       "ID      1707\n",
       "DE      1464\n",
       "NE      1438\n",
       "NH      1302\n",
       "AK      1229\n",
       "SD       889\n",
       "MT       649\n",
       "VT       501\n",
       "ND       436\n",
       "WY       386\n",
       "La         3\n",
       "Name: school_state, dtype: int64"
      ]
     },
     "execution_count": 39,
     "metadata": {},
     "output_type": "execute_result"
    }
   ],
   "source": [
    "train.school_state.value_counts()"
   ]
  },
  {
   "cell_type": "code",
   "execution_count": 40,
   "metadata": {},
   "outputs": [
    {
     "data": {
      "text/plain": [
       "10456.0    1985\n",
       "10457.0    1615\n",
       "60609.0    1579\n",
       "10451.0    1566\n",
       "90011.0    1543\n",
       "           ... \n",
       "8741.0        1\n",
       "16046.0       1\n",
       "92365.0       1\n",
       "1106.0        1\n",
       "9001.0        1\n",
       "Name: school_zip, Length: 16315, dtype: int64"
      ]
     },
     "execution_count": 40,
     "metadata": {},
     "output_type": "execute_result"
    }
   ],
   "source": [
    "train.school_zip.value_counts()"
   ]
  },
  {
   "cell_type": "code",
   "execution_count": 41,
   "metadata": {},
   "outputs": [],
   "source": [
    "#filling values with most occured zip code\n",
    "train.school_zip = train.school_zip.fillna(10456.0)"
   ]
  },
  {
   "cell_type": "code",
   "execution_count": 42,
   "metadata": {},
   "outputs": [
    {
     "data": {
      "text/plain": [
       "urban       328914\n",
       "suburban    140885\n",
       "rural        74347\n",
       "Name: school_metro, dtype: int64"
      ]
     },
     "execution_count": 42,
     "metadata": {},
     "output_type": "execute_result"
    }
   ],
   "source": [
    "train.school_metro.value_counts()\n"
   ]
  },
  {
   "cell_type": "code",
   "execution_count": 43,
   "metadata": {},
   "outputs": [],
   "source": [
    "#filling values with most occured values\n",
    "train.school_metro = train.school_metro.fillna('urban')"
   ]
  },
  {
   "cell_type": "code",
   "execution_count": 44,
   "metadata": {},
   "outputs": [
    {
     "data": {
      "text/plain": [
       "New York City Dept Of Ed          53294\n",
       "Los Angeles Unif Sch Dist         38126\n",
       "Charlotte-mecklenburg Sch Dist     8336\n",
       "Clark Co School District           7528\n",
       "Hillsborough Co Pub Sch Dist       7288\n",
       "                                  ...  \n",
       "Selmaville Cmty Cons SD 10            1\n",
       "Argyle Central School Dist            1\n",
       "School Administrative Unit 6          1\n",
       "Hanover Horton Sch Dist               1\n",
       "Dalton Nunda Central SD               1\n",
       "Name: school_district, Length: 9043, dtype: int64"
      ]
     },
     "execution_count": 44,
     "metadata": {},
     "output_type": "execute_result"
    }
   ],
   "source": [
    "train.school_district.value_counts()\n"
   ]
  },
  {
   "cell_type": "code",
   "execution_count": 45,
   "metadata": {},
   "outputs": [],
   "source": [
    "#filling values with most occured values\n",
    "train.school_district = train.school_district.fillna(\"New York City Dept Of Ed\")"
   ]
  },
  {
   "cell_type": "code",
   "execution_count": 46,
   "metadata": {},
   "outputs": [
    {
     "data": {
      "text/plain": [
       "Los Angeles             47555\n",
       "Cook                    30067\n",
       "Kings (Brooklyn)        18631\n",
       "Bronx                   17492\n",
       "New York (Manhattan)    13351\n",
       "                        ...  \n",
       "Irwin                       1\n",
       "Crockett                    1\n",
       "Concho                      1\n",
       "Lanier                      1\n",
       "Sierra                      1\n",
       "Name: school_county, Length: 1689, dtype: int64"
      ]
     },
     "execution_count": 46,
     "metadata": {},
     "output_type": "execute_result"
    }
   ],
   "source": [
    "train.school_county.value_counts()"
   ]
  },
  {
   "cell_type": "code",
   "execution_count": 47,
   "metadata": {},
   "outputs": [],
   "source": [
    "#filling values with most occured values\n",
    "train.school_county = train.school_county.fillna(\"Los Angeles\")"
   ]
  },
  {
   "cell_type": "code",
   "execution_count": 48,
   "metadata": {},
   "outputs": [
    {
     "data": {
      "text/plain": [
       "Literacy                 188717\n",
       "Literature & Writing      76929\n",
       "Mathematics               74696\n",
       "Special Needs             39035\n",
       "Applied Sciences          29095\n",
       "Visual Arts               28778\n",
       "Environmental Science     24942\n",
       "Health & Life Science     23048\n",
       "Music                     19261\n",
       "History & Geography       15987\n",
       "Early Development         13228\n",
       "Other                     12793\n",
       "Social Sciences            9642\n",
       "ESL                        9207\n",
       "Character Education        9170\n",
       "Performing Arts            7942\n",
       "Gym & Fitness              6494\n",
       "Health & Wellness          5996\n",
       "College & Career Prep      5955\n",
       "Foreign Languages          5117\n",
       "Sports                     3291\n",
       "Extracurricular            2907\n",
       "Civics & Government        2332\n",
       "Economics                  1494\n",
       "Community Service          1394\n",
       "Parent Involvement         1219\n",
       "Nutrition                   988\n",
       "Name: primary_focus_subject, dtype: int64"
      ]
     },
     "execution_count": 48,
     "metadata": {},
     "output_type": "execute_result"
    }
   ],
   "source": [
    "train.primary_focus_subject.value_counts()"
   ]
  },
  {
   "cell_type": "code",
   "execution_count": 49,
   "metadata": {},
   "outputs": [],
   "source": [
    "#filling values with most occured values\n",
    "train.primary_focus_subject = train.primary_focus_subject.fillna(\"Literacy\")"
   ]
  },
  {
   "cell_type": "code",
   "execution_count": 50,
   "metadata": {},
   "outputs": [
    {
     "data": {
      "text/plain": [
       "Literacy & Language    279970\n",
       "Math & Science         151781\n",
       "Music & The Arts        55981\n",
       "Applied Learning        46666\n",
       "Special Needs           39035\n",
       "History & Civics        29455\n",
       "Health & Sports         16769\n",
       "Name: primary_focus_area, dtype: int64"
      ]
     },
     "execution_count": 50,
     "metadata": {},
     "output_type": "execute_result"
    }
   ],
   "source": [
    "train.primary_focus_area.value_counts()"
   ]
  },
  {
   "cell_type": "code",
   "execution_count": 51,
   "metadata": {},
   "outputs": [],
   "source": [
    "#filling values with most occured values\n",
    "train.primary_focus_area = train.primary_focus_area.fillna(\"Literacy & Language\")"
   ]
  },
  {
   "cell_type": "code",
   "execution_count": 52,
   "metadata": {},
   "outputs": [
    {
     "data": {
      "text/plain": [
       "Supplies      214309\n",
       "Technology    200162\n",
       "Books         134282\n",
       "Other          65218\n",
       "Trips           4769\n",
       "Visitors         910\n",
       "Name: resource_type, dtype: int64"
      ]
     },
     "execution_count": 52,
     "metadata": {},
     "output_type": "execute_result"
    }
   ],
   "source": [
    "train.resource_type.value_counts()"
   ]
  },
  {
   "cell_type": "code",
   "execution_count": 53,
   "metadata": {},
   "outputs": [],
   "source": [
    "#filling values with most occured values\n",
    "train.resource_type = train.resource_type.fillna(\"supplies\")"
   ]
  },
  {
   "cell_type": "code",
   "execution_count": 54,
   "metadata": {},
   "outputs": [
    {
     "data": {
      "text/plain": [
       "Grades PreK-2    228884\n",
       "Grades 3-5       190812\n",
       "Grades 6-8       107010\n",
       "Grades 9-12       92980\n",
       "Name: grade_level, dtype: int64"
      ]
     },
     "execution_count": 54,
     "metadata": {},
     "output_type": "execute_result"
    }
   ],
   "source": [
    "train.grade_level.value_counts()"
   ]
  },
  {
   "cell_type": "code",
   "execution_count": 55,
   "metadata": {},
   "outputs": [],
   "source": [
    "#filling values with most occured values\n",
    "train.grade_level = train.grade_level.fillna(\"Grades PreK-2\")"
   ]
  },
  {
   "cell_type": "code",
   "execution_count": 56,
   "metadata": {
    "scrolled": true
   },
   "outputs": [
    {
     "data": {
      "text/plain": [
       "Literature & Writing     65252\n",
       "Literacy                 61697\n",
       "Mathematics              50950\n",
       "Special Needs            26823\n",
       "ESL                      23089\n",
       "Early Development        19460\n",
       "Health & Life Science    17996\n",
       "Applied Sciences         16903\n",
       "Environmental Science    15955\n",
       "History & Geography      15592\n",
       "Visual Arts              13651\n",
       "Performing Arts          12952\n",
       "Social Sciences          12434\n",
       "Other                    11160\n",
       "Character Education      10832\n",
       "College & Career Prep     9490\n",
       "Health & Wellness         6930\n",
       "Music                     6761\n",
       "Extracurricular           5278\n",
       "Parent Involvement        4189\n",
       "Civics & Government       4013\n",
       "Gym & Fitness             3442\n",
       "Community Service         2878\n",
       "Sports                    2700\n",
       "Foreign Languages         2056\n",
       "Economics                 1827\n",
       "Nutrition                 1314\n",
       "Name: secondary_focus_subject, dtype: int64"
      ]
     },
     "execution_count": 56,
     "metadata": {},
     "output_type": "execute_result"
    }
   ],
   "source": [
    "train.secondary_focus_subject.value_counts()"
   ]
  },
  {
   "cell_type": "code",
   "execution_count": 57,
   "metadata": {},
   "outputs": [],
   "source": [
    "#filling values with most occured values\n",
    "train.secondary_focus_subject = train.secondary_focus_subject.fillna('Literature & Writing')"
   ]
  },
  {
   "cell_type": "code",
   "execution_count": 58,
   "metadata": {},
   "outputs": [
    {
     "data": {
      "text/plain": [
       "Literacy & Language    152094\n",
       "Math & Science         101804\n",
       "Applied Learning        63287\n",
       "History & Civics        33866\n",
       "Music & The Arts        33364\n",
       "Special Needs           26823\n",
       "Health & Sports         14386\n",
       "Name: secondary_focus_area, dtype: int64"
      ]
     },
     "execution_count": 58,
     "metadata": {},
     "output_type": "execute_result"
    }
   ],
   "source": [
    "train.secondary_focus_area.value_counts()"
   ]
  },
  {
   "cell_type": "code",
   "execution_count": 59,
   "metadata": {},
   "outputs": [],
   "source": [
    "#filling values with most occured values\n",
    "train.secondary_focus_area = train.secondary_focus_area.fillna('Literacy & Language')"
   ]
  },
  {
   "cell_type": "code",
   "execution_count": 60,
   "metadata": {},
   "outputs": [],
   "source": [
    "#filling values with mean value\n",
    "train.fulfillment_labor_materials = train.fulfillment_labor_materials.fillna(train.fulfillment_labor_materials.mean())"
   ]
  },
  {
   "cell_type": "code",
   "execution_count": 61,
   "metadata": {},
   "outputs": [],
   "source": [
    "#filling values with most occured values\n",
    "train.students_reached = train.students_reached.fillna(train.students_reached.mean())"
   ]
  },
  {
   "cell_type": "code",
   "execution_count": 62,
   "metadata": {},
   "outputs": [
    {
     "name": "stdout",
     "output_type": "stream",
     "text": [
      "<class 'pandas.core.frame.DataFrame'>\n",
      "Int64Index: 619693 entries, 44405 to 664097\n",
      "Data columns (total 40 columns):\n",
      " #   Column                                  Non-Null Count   Dtype         \n",
      "---  ------                                  --------------   -----         \n",
      " 0   projectid                               619693 non-null  object        \n",
      " 1   teacher_acctid                          619693 non-null  object        \n",
      " 2   schoolid                                619693 non-null  object        \n",
      " 3   school_ncesid                           619693 non-null  float64       \n",
      " 4   school_latitude                         619693 non-null  float64       \n",
      " 5   school_longitude                        619693 non-null  float64       \n",
      " 6   school_city                             619693 non-null  object        \n",
      " 7   school_state                            619693 non-null  object        \n",
      " 8   school_zip                              619693 non-null  float64       \n",
      " 9   school_metro                            619693 non-null  object        \n",
      " 10  school_district                         619693 non-null  object        \n",
      " 11  school_county                           619693 non-null  object        \n",
      " 12  school_charter                          619693 non-null  object        \n",
      " 13  school_magnet                           619693 non-null  object        \n",
      " 14  school_year_round                       619693 non-null  object        \n",
      " 15  school_nlns                             619693 non-null  object        \n",
      " 16  school_kipp                             619693 non-null  object        \n",
      " 17  school_charter_ready_promise            619693 non-null  object        \n",
      " 18  teacher_prefix                          619693 non-null  object        \n",
      " 19  teacher_teach_for_america               619693 non-null  object        \n",
      " 20  teacher_ny_teaching_fellow              619693 non-null  object        \n",
      " 21  primary_focus_subject                   619693 non-null  object        \n",
      " 22  primary_focus_area                      619693 non-null  object        \n",
      " 23  secondary_focus_subject                 619693 non-null  object        \n",
      " 24  secondary_focus_area                    619693 non-null  object        \n",
      " 25  resource_type                           619693 non-null  object        \n",
      " 26  poverty_level                           619693 non-null  object        \n",
      " 27  grade_level                             619693 non-null  object        \n",
      " 28  fulfillment_labor_materials             619693 non-null  float64       \n",
      " 29  total_price_excluding_optional_support  619693 non-null  float64       \n",
      " 30  total_price_including_optional_support  619693 non-null  float64       \n",
      " 31  students_reached                        619693 non-null  float64       \n",
      " 32  eligible_double_your_impact_match       619693 non-null  object        \n",
      " 33  eligible_almost_home_match              619693 non-null  object        \n",
      " 34  date_posted                             619693 non-null  datetime64[ns]\n",
      " 35  title                                   619693 non-null  object        \n",
      " 36  short_description                       619693 non-null  object        \n",
      " 37  need_statement                          619693 non-null  object        \n",
      " 38  essay                                   619693 non-null  object        \n",
      " 39  is_exciting                             619326 non-null  object        \n",
      "dtypes: datetime64[ns](1), float64(8), object(31)\n",
      "memory usage: 193.8+ MB\n"
     ]
    }
   ],
   "source": [
    "train.info()"
   ]
  },
  {
   "cell_type": "code",
   "execution_count": 64,
   "metadata": {},
   "outputs": [
    {
     "name": "stderr",
     "output_type": "stream",
     "text": [
      "C:\\Users\\sowmy\\anaconda3\\envs\\tens\\lib\\site-packages\\ipykernel_launcher.py:1: SettingWithCopyWarning: \n",
      "A value is trying to be set on a copy of a slice from a DataFrame.\n",
      "Try using .loc[row_indexer,col_indexer] = value instead\n",
      "\n",
      "See the caveats in the documentation: https://pandas.pydata.org/pandas-docs/stable/user_guide/indexing.html#returning-a-view-versus-a-copy\n",
      "  \"\"\"Entry point for launching an IPython kernel.\n"
     ]
    }
   ],
   "source": [
    "train['is_exciting'] = train['is_exciting'].fillna('f')"
   ]
  },
  {
   "cell_type": "code",
   "execution_count": 65,
   "metadata": {},
   "outputs": [
    {
     "name": "stderr",
     "output_type": "stream",
     "text": [
      "C:\\Users\\sowmy\\anaconda3\\envs\\tens\\lib\\site-packages\\ipykernel_launcher.py:3: SettingWithCopyWarning: \n",
      "A value is trying to be set on a copy of a slice from a DataFrame.\n",
      "Try using .loc[row_indexer,col_indexer] = value instead\n",
      "\n",
      "See the caveats in the documentation: https://pandas.pydata.org/pandas-docs/stable/user_guide/indexing.html#returning-a-view-versus-a-copy\n",
      "  This is separate from the ipykernel package so we can avoid doing imports until\n"
     ]
    }
   ],
   "source": [
    "#label encoding for object data type\n",
    "enc = LabelEncoder()\n",
    "train['is_exciting'] = (enc.fit_transform(train['is_exciting']))"
   ]
  },
  {
   "cell_type": "code",
   "execution_count": 66,
   "metadata": {},
   "outputs": [
    {
     "name": "stderr",
     "output_type": "stream",
     "text": [
      "C:\\Users\\sowmy\\anaconda3\\envs\\tens\\lib\\site-packages\\ipykernel_launcher.py:1: SettingWithCopyWarning: \n",
      "A value is trying to be set on a copy of a slice from a DataFrame.\n",
      "Try using .loc[row_indexer,col_indexer] = value instead\n",
      "\n",
      "See the caveats in the documentation: https://pandas.pydata.org/pandas-docs/stable/user_guide/indexing.html#returning-a-view-versus-a-copy\n",
      "  \"\"\"Entry point for launching an IPython kernel.\n",
      "C:\\Users\\sowmy\\anaconda3\\envs\\tens\\lib\\site-packages\\ipykernel_launcher.py:2: SettingWithCopyWarning: \n",
      "A value is trying to be set on a copy of a slice from a DataFrame.\n",
      "Try using .loc[row_indexer,col_indexer] = value instead\n",
      "\n",
      "See the caveats in the documentation: https://pandas.pydata.org/pandas-docs/stable/user_guide/indexing.html#returning-a-view-versus-a-copy\n",
      "  \n",
      "C:\\Users\\sowmy\\anaconda3\\envs\\tens\\lib\\site-packages\\ipykernel_launcher.py:3: SettingWithCopyWarning: \n",
      "A value is trying to be set on a copy of a slice from a DataFrame.\n",
      "Try using .loc[row_indexer,col_indexer] = value instead\n",
      "\n",
      "See the caveats in the documentation: https://pandas.pydata.org/pandas-docs/stable/user_guide/indexing.html#returning-a-view-versus-a-copy\n",
      "  This is separate from the ipykernel package so we can avoid doing imports until\n",
      "C:\\Users\\sowmy\\anaconda3\\envs\\tens\\lib\\site-packages\\ipykernel_launcher.py:4: SettingWithCopyWarning: \n",
      "A value is trying to be set on a copy of a slice from a DataFrame.\n",
      "Try using .loc[row_indexer,col_indexer] = value instead\n",
      "\n",
      "See the caveats in the documentation: https://pandas.pydata.org/pandas-docs/stable/user_guide/indexing.html#returning-a-view-versus-a-copy\n",
      "  after removing the cwd from sys.path.\n",
      "C:\\Users\\sowmy\\anaconda3\\envs\\tens\\lib\\site-packages\\ipykernel_launcher.py:5: SettingWithCopyWarning: \n",
      "A value is trying to be set on a copy of a slice from a DataFrame.\n",
      "Try using .loc[row_indexer,col_indexer] = value instead\n",
      "\n",
      "See the caveats in the documentation: https://pandas.pydata.org/pandas-docs/stable/user_guide/indexing.html#returning-a-view-versus-a-copy\n",
      "  \"\"\"\n",
      "C:\\Users\\sowmy\\anaconda3\\envs\\tens\\lib\\site-packages\\ipykernel_launcher.py:6: SettingWithCopyWarning: \n",
      "A value is trying to be set on a copy of a slice from a DataFrame.\n",
      "Try using .loc[row_indexer,col_indexer] = value instead\n",
      "\n",
      "See the caveats in the documentation: https://pandas.pydata.org/pandas-docs/stable/user_guide/indexing.html#returning-a-view-versus-a-copy\n",
      "  \n",
      "C:\\Users\\sowmy\\anaconda3\\envs\\tens\\lib\\site-packages\\ipykernel_launcher.py:7: SettingWithCopyWarning: \n",
      "A value is trying to be set on a copy of a slice from a DataFrame.\n",
      "Try using .loc[row_indexer,col_indexer] = value instead\n",
      "\n",
      "See the caveats in the documentation: https://pandas.pydata.org/pandas-docs/stable/user_guide/indexing.html#returning-a-view-versus-a-copy\n",
      "  import sys\n",
      "C:\\Users\\sowmy\\anaconda3\\envs\\tens\\lib\\site-packages\\ipykernel_launcher.py:8: SettingWithCopyWarning: \n",
      "A value is trying to be set on a copy of a slice from a DataFrame.\n",
      "Try using .loc[row_indexer,col_indexer] = value instead\n",
      "\n",
      "See the caveats in the documentation: https://pandas.pydata.org/pandas-docs/stable/user_guide/indexing.html#returning-a-view-versus-a-copy\n",
      "  \n"
     ]
    }
   ],
   "source": [
    "train['school_metro'] = (enc.fit_transform(train['school_metro']))\n",
    "train['school_magnet'] = (enc.fit_transform(train['school_magnet']))\n",
    "train['school_state'] = (enc.fit_transform(train['school_state']))\n",
    "train['school_charter'] = (enc.fit_transform(train['school_charter']))\n",
    "train['primary_focus_subject'] = (enc.fit_transform(train['primary_focus_subject']))\n",
    "train['primary_focus_area'] = (enc.fit_transform(train['primary_focus_area']))\n",
    "train['secondary_focus_subject'] = (enc.fit_transform(train['secondary_focus_subject']))\n",
    "train['grade_level'] = (enc.fit_transform(train['grade_level']))"
   ]
  },
  {
   "cell_type": "code",
   "execution_count": 67,
   "metadata": {},
   "outputs": [
    {
     "data": {
      "text/html": [
       "<div>\n",
       "<style scoped>\n",
       "    .dataframe tbody tr th:only-of-type {\n",
       "        vertical-align: middle;\n",
       "    }\n",
       "\n",
       "    .dataframe tbody tr th {\n",
       "        vertical-align: top;\n",
       "    }\n",
       "\n",
       "    .dataframe thead th {\n",
       "        text-align: right;\n",
       "    }\n",
       "</style>\n",
       "<table border=\"1\" class=\"dataframe\">\n",
       "  <thead>\n",
       "    <tr style=\"text-align: right;\">\n",
       "      <th></th>\n",
       "      <th>school_ncesid</th>\n",
       "      <th>school_latitude</th>\n",
       "      <th>school_longitude</th>\n",
       "      <th>school_state</th>\n",
       "      <th>school_zip</th>\n",
       "      <th>school_metro</th>\n",
       "      <th>school_charter</th>\n",
       "      <th>school_magnet</th>\n",
       "      <th>primary_focus_subject</th>\n",
       "      <th>primary_focus_area</th>\n",
       "      <th>secondary_focus_subject</th>\n",
       "      <th>grade_level</th>\n",
       "      <th>fulfillment_labor_materials</th>\n",
       "      <th>total_price_excluding_optional_support</th>\n",
       "      <th>total_price_including_optional_support</th>\n",
       "      <th>students_reached</th>\n",
       "      <th>is_exciting</th>\n",
       "    </tr>\n",
       "  </thead>\n",
       "  <tbody>\n",
       "    <tr>\n",
       "      <th>school_ncesid</th>\n",
       "      <td>1.000000</td>\n",
       "      <td>0.185431</td>\n",
       "      <td>0.409019</td>\n",
       "      <td>0.954247</td>\n",
       "      <td>-0.352839</td>\n",
       "      <td>-0.069597</td>\n",
       "      <td>-0.160938</td>\n",
       "      <td>-0.045202</td>\n",
       "      <td>-0.005869</td>\n",
       "      <td>-0.009746</td>\n",
       "      <td>0.000951</td>\n",
       "      <td>-0.009471</td>\n",
       "      <td>-0.077623</td>\n",
       "      <td>-0.000590</td>\n",
       "      <td>-0.000483</td>\n",
       "      <td>0.001988</td>\n",
       "      <td>-0.015358</td>\n",
       "    </tr>\n",
       "    <tr>\n",
       "      <th>school_latitude</th>\n",
       "      <td>0.185431</td>\n",
       "      <td>1.000000</td>\n",
       "      <td>0.143962</td>\n",
       "      <td>0.210187</td>\n",
       "      <td>-0.193974</td>\n",
       "      <td>0.119969</td>\n",
       "      <td>-0.022337</td>\n",
       "      <td>0.035199</td>\n",
       "      <td>0.024360</td>\n",
       "      <td>0.000651</td>\n",
       "      <td>0.024976</td>\n",
       "      <td>0.001758</td>\n",
       "      <td>-0.071431</td>\n",
       "      <td>0.000346</td>\n",
       "      <td>0.000419</td>\n",
       "      <td>-0.002583</td>\n",
       "      <td>0.021964</td>\n",
       "    </tr>\n",
       "    <tr>\n",
       "      <th>school_longitude</th>\n",
       "      <td>0.409019</td>\n",
       "      <td>0.143962</td>\n",
       "      <td>1.000000</td>\n",
       "      <td>0.416806</td>\n",
       "      <td>-0.937184</td>\n",
       "      <td>-0.007354</td>\n",
       "      <td>-0.051335</td>\n",
       "      <td>0.037302</td>\n",
       "      <td>0.009355</td>\n",
       "      <td>-0.012768</td>\n",
       "      <td>0.030660</td>\n",
       "      <td>-0.005901</td>\n",
       "      <td>-0.109741</td>\n",
       "      <td>-0.000815</td>\n",
       "      <td>-0.000647</td>\n",
       "      <td>0.000308</td>\n",
       "      <td>-0.003731</td>\n",
       "    </tr>\n",
       "    <tr>\n",
       "      <th>school_state</th>\n",
       "      <td>0.954247</td>\n",
       "      <td>0.210187</td>\n",
       "      <td>0.416806</td>\n",
       "      <td>1.000000</td>\n",
       "      <td>-0.362794</td>\n",
       "      <td>-0.043160</td>\n",
       "      <td>-0.093418</td>\n",
       "      <td>-0.055685</td>\n",
       "      <td>-0.000767</td>\n",
       "      <td>-0.006509</td>\n",
       "      <td>0.002769</td>\n",
       "      <td>-0.010341</td>\n",
       "      <td>-0.073179</td>\n",
       "      <td>-0.000265</td>\n",
       "      <td>-0.000167</td>\n",
       "      <td>0.001797</td>\n",
       "      <td>-0.011081</td>\n",
       "    </tr>\n",
       "    <tr>\n",
       "      <th>school_zip</th>\n",
       "      <td>-0.352839</td>\n",
       "      <td>-0.193974</td>\n",
       "      <td>-0.937184</td>\n",
       "      <td>-0.362794</td>\n",
       "      <td>1.000000</td>\n",
       "      <td>-0.008137</td>\n",
       "      <td>0.061331</td>\n",
       "      <td>-0.025848</td>\n",
       "      <td>-0.016243</td>\n",
       "      <td>0.010451</td>\n",
       "      <td>-0.036821</td>\n",
       "      <td>0.007772</td>\n",
       "      <td>0.099326</td>\n",
       "      <td>0.000073</td>\n",
       "      <td>-0.000080</td>\n",
       "      <td>0.000640</td>\n",
       "      <td>0.000650</td>\n",
       "    </tr>\n",
       "    <tr>\n",
       "      <th>school_metro</th>\n",
       "      <td>-0.069597</td>\n",
       "      <td>0.119969</td>\n",
       "      <td>-0.007354</td>\n",
       "      <td>-0.043160</td>\n",
       "      <td>-0.008137</td>\n",
       "      <td>1.000000</td>\n",
       "      <td>0.101925</td>\n",
       "      <td>0.140666</td>\n",
       "      <td>0.017249</td>\n",
       "      <td>-0.002027</td>\n",
       "      <td>0.003485</td>\n",
       "      <td>0.006922</td>\n",
       "      <td>-0.020302</td>\n",
       "      <td>0.001432</td>\n",
       "      <td>0.001452</td>\n",
       "      <td>-0.000751</td>\n",
       "      <td>0.021013</td>\n",
       "    </tr>\n",
       "    <tr>\n",
       "      <th>school_charter</th>\n",
       "      <td>-0.160938</td>\n",
       "      <td>-0.022337</td>\n",
       "      <td>-0.051335</td>\n",
       "      <td>-0.093418</td>\n",
       "      <td>0.061331</td>\n",
       "      <td>0.101925</td>\n",
       "      <td>1.000000</td>\n",
       "      <td>-0.084498</td>\n",
       "      <td>-0.010080</td>\n",
       "      <td>-0.012682</td>\n",
       "      <td>-0.002003</td>\n",
       "      <td>0.006698</td>\n",
       "      <td>0.035613</td>\n",
       "      <td>0.000214</td>\n",
       "      <td>0.000166</td>\n",
       "      <td>0.000770</td>\n",
       "      <td>0.046520</td>\n",
       "    </tr>\n",
       "    <tr>\n",
       "      <th>school_magnet</th>\n",
       "      <td>-0.045202</td>\n",
       "      <td>0.035199</td>\n",
       "      <td>0.037302</td>\n",
       "      <td>-0.055685</td>\n",
       "      <td>-0.025848</td>\n",
       "      <td>0.140666</td>\n",
       "      <td>-0.084498</td>\n",
       "      <td>1.000000</td>\n",
       "      <td>-0.012719</td>\n",
       "      <td>0.002765</td>\n",
       "      <td>-0.002178</td>\n",
       "      <td>-0.007431</td>\n",
       "      <td>-0.025991</td>\n",
       "      <td>0.000093</td>\n",
       "      <td>0.000110</td>\n",
       "      <td>0.003108</td>\n",
       "      <td>-0.002275</td>\n",
       "    </tr>\n",
       "    <tr>\n",
       "      <th>primary_focus_subject</th>\n",
       "      <td>-0.005869</td>\n",
       "      <td>0.024360</td>\n",
       "      <td>0.009355</td>\n",
       "      <td>-0.000767</td>\n",
       "      <td>-0.016243</td>\n",
       "      <td>0.017249</td>\n",
       "      <td>-0.010080</td>\n",
       "      <td>-0.012719</td>\n",
       "      <td>1.000000</td>\n",
       "      <td>0.428522</td>\n",
       "      <td>0.047799</td>\n",
       "      <td>-0.003951</td>\n",
       "      <td>0.002241</td>\n",
       "      <td>-0.001213</td>\n",
       "      <td>-0.001151</td>\n",
       "      <td>-0.002756</td>\n",
       "      <td>0.008834</td>\n",
       "    </tr>\n",
       "    <tr>\n",
       "      <th>primary_focus_area</th>\n",
       "      <td>-0.009746</td>\n",
       "      <td>0.000651</td>\n",
       "      <td>-0.012768</td>\n",
       "      <td>-0.006509</td>\n",
       "      <td>0.010451</td>\n",
       "      <td>-0.002027</td>\n",
       "      <td>-0.012682</td>\n",
       "      <td>0.002765</td>\n",
       "      <td>0.428522</td>\n",
       "      <td>1.000000</td>\n",
       "      <td>-0.024218</td>\n",
       "      <td>-0.066213</td>\n",
       "      <td>0.009678</td>\n",
       "      <td>-0.003505</td>\n",
       "      <td>-0.003538</td>\n",
       "      <td>-0.002903</td>\n",
       "      <td>0.012536</td>\n",
       "    </tr>\n",
       "    <tr>\n",
       "      <th>secondary_focus_subject</th>\n",
       "      <td>0.000951</td>\n",
       "      <td>0.024976</td>\n",
       "      <td>0.030660</td>\n",
       "      <td>0.002769</td>\n",
       "      <td>-0.036821</td>\n",
       "      <td>0.003485</td>\n",
       "      <td>-0.002003</td>\n",
       "      <td>-0.002178</td>\n",
       "      <td>0.047799</td>\n",
       "      <td>-0.024218</td>\n",
       "      <td>1.000000</td>\n",
       "      <td>-0.033889</td>\n",
       "      <td>-0.002750</td>\n",
       "      <td>-0.000739</td>\n",
       "      <td>-0.000704</td>\n",
       "      <td>-0.000288</td>\n",
       "      <td>0.001081</td>\n",
       "    </tr>\n",
       "    <tr>\n",
       "      <th>grade_level</th>\n",
       "      <td>-0.009471</td>\n",
       "      <td>0.001758</td>\n",
       "      <td>-0.005901</td>\n",
       "      <td>-0.010341</td>\n",
       "      <td>0.007772</td>\n",
       "      <td>0.006922</td>\n",
       "      <td>0.006698</td>\n",
       "      <td>-0.007431</td>\n",
       "      <td>-0.003951</td>\n",
       "      <td>-0.066213</td>\n",
       "      <td>-0.033889</td>\n",
       "      <td>1.000000</td>\n",
       "      <td>0.006578</td>\n",
       "      <td>0.000067</td>\n",
       "      <td>0.000081</td>\n",
       "      <td>-0.010202</td>\n",
       "      <td>0.006770</td>\n",
       "    </tr>\n",
       "    <tr>\n",
       "      <th>fulfillment_labor_materials</th>\n",
       "      <td>-0.077623</td>\n",
       "      <td>-0.071431</td>\n",
       "      <td>-0.109741</td>\n",
       "      <td>-0.073179</td>\n",
       "      <td>0.099326</td>\n",
       "      <td>-0.020302</td>\n",
       "      <td>0.035613</td>\n",
       "      <td>-0.025991</td>\n",
       "      <td>0.002241</td>\n",
       "      <td>0.009678</td>\n",
       "      <td>-0.002750</td>\n",
       "      <td>0.006578</td>\n",
       "      <td>1.000000</td>\n",
       "      <td>-0.000543</td>\n",
       "      <td>-0.001123</td>\n",
       "      <td>-0.002938</td>\n",
       "      <td>0.149845</td>\n",
       "    </tr>\n",
       "    <tr>\n",
       "      <th>total_price_excluding_optional_support</th>\n",
       "      <td>-0.000590</td>\n",
       "      <td>0.000346</td>\n",
       "      <td>-0.000815</td>\n",
       "      <td>-0.000265</td>\n",
       "      <td>0.000073</td>\n",
       "      <td>0.001432</td>\n",
       "      <td>0.000214</td>\n",
       "      <td>0.000093</td>\n",
       "      <td>-0.001213</td>\n",
       "      <td>-0.003505</td>\n",
       "      <td>-0.000739</td>\n",
       "      <td>0.000067</td>\n",
       "      <td>-0.000543</td>\n",
       "      <td>1.000000</td>\n",
       "      <td>0.999998</td>\n",
       "      <td>0.000537</td>\n",
       "      <td>-0.000792</td>\n",
       "    </tr>\n",
       "    <tr>\n",
       "      <th>total_price_including_optional_support</th>\n",
       "      <td>-0.000483</td>\n",
       "      <td>0.000419</td>\n",
       "      <td>-0.000647</td>\n",
       "      <td>-0.000167</td>\n",
       "      <td>-0.000080</td>\n",
       "      <td>0.001452</td>\n",
       "      <td>0.000166</td>\n",
       "      <td>0.000110</td>\n",
       "      <td>-0.001151</td>\n",
       "      <td>-0.003538</td>\n",
       "      <td>-0.000704</td>\n",
       "      <td>0.000081</td>\n",
       "      <td>-0.001123</td>\n",
       "      <td>0.999998</td>\n",
       "      <td>1.000000</td>\n",
       "      <td>0.000528</td>\n",
       "      <td>-0.000884</td>\n",
       "    </tr>\n",
       "    <tr>\n",
       "      <th>students_reached</th>\n",
       "      <td>0.001988</td>\n",
       "      <td>-0.002583</td>\n",
       "      <td>0.000308</td>\n",
       "      <td>0.001797</td>\n",
       "      <td>0.000640</td>\n",
       "      <td>-0.000751</td>\n",
       "      <td>0.000770</td>\n",
       "      <td>0.003108</td>\n",
       "      <td>-0.002756</td>\n",
       "      <td>-0.002903</td>\n",
       "      <td>-0.000288</td>\n",
       "      <td>-0.010202</td>\n",
       "      <td>-0.002938</td>\n",
       "      <td>0.000537</td>\n",
       "      <td>0.000528</td>\n",
       "      <td>1.000000</td>\n",
       "      <td>-0.000962</td>\n",
       "    </tr>\n",
       "    <tr>\n",
       "      <th>is_exciting</th>\n",
       "      <td>-0.015358</td>\n",
       "      <td>0.021964</td>\n",
       "      <td>-0.003731</td>\n",
       "      <td>-0.011081</td>\n",
       "      <td>0.000650</td>\n",
       "      <td>0.021013</td>\n",
       "      <td>0.046520</td>\n",
       "      <td>-0.002275</td>\n",
       "      <td>0.008834</td>\n",
       "      <td>0.012536</td>\n",
       "      <td>0.001081</td>\n",
       "      <td>0.006770</td>\n",
       "      <td>0.149845</td>\n",
       "      <td>-0.000792</td>\n",
       "      <td>-0.000884</td>\n",
       "      <td>-0.000962</td>\n",
       "      <td>1.000000</td>\n",
       "    </tr>\n",
       "  </tbody>\n",
       "</table>\n",
       "</div>"
      ],
      "text/plain": [
       "                                        school_ncesid  school_latitude  \\\n",
       "school_ncesid                                1.000000         0.185431   \n",
       "school_latitude                              0.185431         1.000000   \n",
       "school_longitude                             0.409019         0.143962   \n",
       "school_state                                 0.954247         0.210187   \n",
       "school_zip                                  -0.352839        -0.193974   \n",
       "school_metro                                -0.069597         0.119969   \n",
       "school_charter                              -0.160938        -0.022337   \n",
       "school_magnet                               -0.045202         0.035199   \n",
       "primary_focus_subject                       -0.005869         0.024360   \n",
       "primary_focus_area                          -0.009746         0.000651   \n",
       "secondary_focus_subject                      0.000951         0.024976   \n",
       "grade_level                                 -0.009471         0.001758   \n",
       "fulfillment_labor_materials                 -0.077623        -0.071431   \n",
       "total_price_excluding_optional_support      -0.000590         0.000346   \n",
       "total_price_including_optional_support      -0.000483         0.000419   \n",
       "students_reached                             0.001988        -0.002583   \n",
       "is_exciting                                 -0.015358         0.021964   \n",
       "\n",
       "                                        school_longitude  school_state  \\\n",
       "school_ncesid                                   0.409019      0.954247   \n",
       "school_latitude                                 0.143962      0.210187   \n",
       "school_longitude                                1.000000      0.416806   \n",
       "school_state                                    0.416806      1.000000   \n",
       "school_zip                                     -0.937184     -0.362794   \n",
       "school_metro                                   -0.007354     -0.043160   \n",
       "school_charter                                 -0.051335     -0.093418   \n",
       "school_magnet                                   0.037302     -0.055685   \n",
       "primary_focus_subject                           0.009355     -0.000767   \n",
       "primary_focus_area                             -0.012768     -0.006509   \n",
       "secondary_focus_subject                         0.030660      0.002769   \n",
       "grade_level                                    -0.005901     -0.010341   \n",
       "fulfillment_labor_materials                    -0.109741     -0.073179   \n",
       "total_price_excluding_optional_support         -0.000815     -0.000265   \n",
       "total_price_including_optional_support         -0.000647     -0.000167   \n",
       "students_reached                                0.000308      0.001797   \n",
       "is_exciting                                    -0.003731     -0.011081   \n",
       "\n",
       "                                        school_zip  school_metro  \\\n",
       "school_ncesid                            -0.352839     -0.069597   \n",
       "school_latitude                          -0.193974      0.119969   \n",
       "school_longitude                         -0.937184     -0.007354   \n",
       "school_state                             -0.362794     -0.043160   \n",
       "school_zip                                1.000000     -0.008137   \n",
       "school_metro                             -0.008137      1.000000   \n",
       "school_charter                            0.061331      0.101925   \n",
       "school_magnet                            -0.025848      0.140666   \n",
       "primary_focus_subject                    -0.016243      0.017249   \n",
       "primary_focus_area                        0.010451     -0.002027   \n",
       "secondary_focus_subject                  -0.036821      0.003485   \n",
       "grade_level                               0.007772      0.006922   \n",
       "fulfillment_labor_materials               0.099326     -0.020302   \n",
       "total_price_excluding_optional_support    0.000073      0.001432   \n",
       "total_price_including_optional_support   -0.000080      0.001452   \n",
       "students_reached                          0.000640     -0.000751   \n",
       "is_exciting                               0.000650      0.021013   \n",
       "\n",
       "                                        school_charter  school_magnet  \\\n",
       "school_ncesid                                -0.160938      -0.045202   \n",
       "school_latitude                              -0.022337       0.035199   \n",
       "school_longitude                             -0.051335       0.037302   \n",
       "school_state                                 -0.093418      -0.055685   \n",
       "school_zip                                    0.061331      -0.025848   \n",
       "school_metro                                  0.101925       0.140666   \n",
       "school_charter                                1.000000      -0.084498   \n",
       "school_magnet                                -0.084498       1.000000   \n",
       "primary_focus_subject                        -0.010080      -0.012719   \n",
       "primary_focus_area                           -0.012682       0.002765   \n",
       "secondary_focus_subject                      -0.002003      -0.002178   \n",
       "grade_level                                   0.006698      -0.007431   \n",
       "fulfillment_labor_materials                   0.035613      -0.025991   \n",
       "total_price_excluding_optional_support        0.000214       0.000093   \n",
       "total_price_including_optional_support        0.000166       0.000110   \n",
       "students_reached                              0.000770       0.003108   \n",
       "is_exciting                                   0.046520      -0.002275   \n",
       "\n",
       "                                        primary_focus_subject  \\\n",
       "school_ncesid                                       -0.005869   \n",
       "school_latitude                                      0.024360   \n",
       "school_longitude                                     0.009355   \n",
       "school_state                                        -0.000767   \n",
       "school_zip                                          -0.016243   \n",
       "school_metro                                         0.017249   \n",
       "school_charter                                      -0.010080   \n",
       "school_magnet                                       -0.012719   \n",
       "primary_focus_subject                                1.000000   \n",
       "primary_focus_area                                   0.428522   \n",
       "secondary_focus_subject                              0.047799   \n",
       "grade_level                                         -0.003951   \n",
       "fulfillment_labor_materials                          0.002241   \n",
       "total_price_excluding_optional_support              -0.001213   \n",
       "total_price_including_optional_support              -0.001151   \n",
       "students_reached                                    -0.002756   \n",
       "is_exciting                                          0.008834   \n",
       "\n",
       "                                        primary_focus_area  \\\n",
       "school_ncesid                                    -0.009746   \n",
       "school_latitude                                   0.000651   \n",
       "school_longitude                                 -0.012768   \n",
       "school_state                                     -0.006509   \n",
       "school_zip                                        0.010451   \n",
       "school_metro                                     -0.002027   \n",
       "school_charter                                   -0.012682   \n",
       "school_magnet                                     0.002765   \n",
       "primary_focus_subject                             0.428522   \n",
       "primary_focus_area                                1.000000   \n",
       "secondary_focus_subject                          -0.024218   \n",
       "grade_level                                      -0.066213   \n",
       "fulfillment_labor_materials                       0.009678   \n",
       "total_price_excluding_optional_support           -0.003505   \n",
       "total_price_including_optional_support           -0.003538   \n",
       "students_reached                                 -0.002903   \n",
       "is_exciting                                       0.012536   \n",
       "\n",
       "                                        secondary_focus_subject  grade_level  \\\n",
       "school_ncesid                                          0.000951    -0.009471   \n",
       "school_latitude                                        0.024976     0.001758   \n",
       "school_longitude                                       0.030660    -0.005901   \n",
       "school_state                                           0.002769    -0.010341   \n",
       "school_zip                                            -0.036821     0.007772   \n",
       "school_metro                                           0.003485     0.006922   \n",
       "school_charter                                        -0.002003     0.006698   \n",
       "school_magnet                                         -0.002178    -0.007431   \n",
       "primary_focus_subject                                  0.047799    -0.003951   \n",
       "primary_focus_area                                    -0.024218    -0.066213   \n",
       "secondary_focus_subject                                1.000000    -0.033889   \n",
       "grade_level                                           -0.033889     1.000000   \n",
       "fulfillment_labor_materials                           -0.002750     0.006578   \n",
       "total_price_excluding_optional_support                -0.000739     0.000067   \n",
       "total_price_including_optional_support                -0.000704     0.000081   \n",
       "students_reached                                      -0.000288    -0.010202   \n",
       "is_exciting                                            0.001081     0.006770   \n",
       "\n",
       "                                        fulfillment_labor_materials  \\\n",
       "school_ncesid                                             -0.077623   \n",
       "school_latitude                                           -0.071431   \n",
       "school_longitude                                          -0.109741   \n",
       "school_state                                              -0.073179   \n",
       "school_zip                                                 0.099326   \n",
       "school_metro                                              -0.020302   \n",
       "school_charter                                             0.035613   \n",
       "school_magnet                                             -0.025991   \n",
       "primary_focus_subject                                      0.002241   \n",
       "primary_focus_area                                         0.009678   \n",
       "secondary_focus_subject                                   -0.002750   \n",
       "grade_level                                                0.006578   \n",
       "fulfillment_labor_materials                                1.000000   \n",
       "total_price_excluding_optional_support                    -0.000543   \n",
       "total_price_including_optional_support                    -0.001123   \n",
       "students_reached                                          -0.002938   \n",
       "is_exciting                                                0.149845   \n",
       "\n",
       "                                        total_price_excluding_optional_support  \\\n",
       "school_ncesid                                                        -0.000590   \n",
       "school_latitude                                                       0.000346   \n",
       "school_longitude                                                     -0.000815   \n",
       "school_state                                                         -0.000265   \n",
       "school_zip                                                            0.000073   \n",
       "school_metro                                                          0.001432   \n",
       "school_charter                                                        0.000214   \n",
       "school_magnet                                                         0.000093   \n",
       "primary_focus_subject                                                -0.001213   \n",
       "primary_focus_area                                                   -0.003505   \n",
       "secondary_focus_subject                                              -0.000739   \n",
       "grade_level                                                           0.000067   \n",
       "fulfillment_labor_materials                                          -0.000543   \n",
       "total_price_excluding_optional_support                                1.000000   \n",
       "total_price_including_optional_support                                0.999998   \n",
       "students_reached                                                      0.000537   \n",
       "is_exciting                                                          -0.000792   \n",
       "\n",
       "                                        total_price_including_optional_support  \\\n",
       "school_ncesid                                                        -0.000483   \n",
       "school_latitude                                                       0.000419   \n",
       "school_longitude                                                     -0.000647   \n",
       "school_state                                                         -0.000167   \n",
       "school_zip                                                           -0.000080   \n",
       "school_metro                                                          0.001452   \n",
       "school_charter                                                        0.000166   \n",
       "school_magnet                                                         0.000110   \n",
       "primary_focus_subject                                                -0.001151   \n",
       "primary_focus_area                                                   -0.003538   \n",
       "secondary_focus_subject                                              -0.000704   \n",
       "grade_level                                                           0.000081   \n",
       "fulfillment_labor_materials                                          -0.001123   \n",
       "total_price_excluding_optional_support                                0.999998   \n",
       "total_price_including_optional_support                                1.000000   \n",
       "students_reached                                                      0.000528   \n",
       "is_exciting                                                          -0.000884   \n",
       "\n",
       "                                        students_reached  is_exciting  \n",
       "school_ncesid                                   0.001988    -0.015358  \n",
       "school_latitude                                -0.002583     0.021964  \n",
       "school_longitude                                0.000308    -0.003731  \n",
       "school_state                                    0.001797    -0.011081  \n",
       "school_zip                                      0.000640     0.000650  \n",
       "school_metro                                   -0.000751     0.021013  \n",
       "school_charter                                  0.000770     0.046520  \n",
       "school_magnet                                   0.003108    -0.002275  \n",
       "primary_focus_subject                          -0.002756     0.008834  \n",
       "primary_focus_area                             -0.002903     0.012536  \n",
       "secondary_focus_subject                        -0.000288     0.001081  \n",
       "grade_level                                    -0.010202     0.006770  \n",
       "fulfillment_labor_materials                    -0.002938     0.149845  \n",
       "total_price_excluding_optional_support          0.000537    -0.000792  \n",
       "total_price_including_optional_support          0.000528    -0.000884  \n",
       "students_reached                                1.000000    -0.000962  \n",
       "is_exciting                                    -0.000962     1.000000  "
      ]
     },
     "execution_count": 67,
     "metadata": {},
     "output_type": "execute_result"
    }
   ],
   "source": [
    "#checking correlation for train dataset\n",
    "train.corr()"
   ]
  },
  {
   "cell_type": "code",
   "execution_count": 68,
   "metadata": {},
   "outputs": [
    {
     "name": "stdout",
     "output_type": "stream",
     "text": [
      "<class 'pandas.core.frame.DataFrame'>\n",
      "Int64Index: 619693 entries, 44405 to 664097\n",
      "Data columns (total 40 columns):\n",
      " #   Column                                  Non-Null Count   Dtype         \n",
      "---  ------                                  --------------   -----         \n",
      " 0   projectid                               619693 non-null  object        \n",
      " 1   teacher_acctid                          619693 non-null  object        \n",
      " 2   schoolid                                619693 non-null  object        \n",
      " 3   school_ncesid                           619693 non-null  float64       \n",
      " 4   school_latitude                         619693 non-null  float64       \n",
      " 5   school_longitude                        619693 non-null  float64       \n",
      " 6   school_city                             619693 non-null  object        \n",
      " 7   school_state                            619693 non-null  int32         \n",
      " 8   school_zip                              619693 non-null  float64       \n",
      " 9   school_metro                            619693 non-null  int32         \n",
      " 10  school_district                         619693 non-null  object        \n",
      " 11  school_county                           619693 non-null  object        \n",
      " 12  school_charter                          619693 non-null  int32         \n",
      " 13  school_magnet                           619693 non-null  int32         \n",
      " 14  school_year_round                       619693 non-null  object        \n",
      " 15  school_nlns                             619693 non-null  object        \n",
      " 16  school_kipp                             619693 non-null  object        \n",
      " 17  school_charter_ready_promise            619693 non-null  object        \n",
      " 18  teacher_prefix                          619693 non-null  object        \n",
      " 19  teacher_teach_for_america               619693 non-null  object        \n",
      " 20  teacher_ny_teaching_fellow              619693 non-null  object        \n",
      " 21  primary_focus_subject                   619693 non-null  int32         \n",
      " 22  primary_focus_area                      619693 non-null  int32         \n",
      " 23  secondary_focus_subject                 619693 non-null  int32         \n",
      " 24  secondary_focus_area                    619693 non-null  object        \n",
      " 25  resource_type                           619693 non-null  object        \n",
      " 26  poverty_level                           619693 non-null  object        \n",
      " 27  grade_level                             619693 non-null  int32         \n",
      " 28  fulfillment_labor_materials             619693 non-null  float64       \n",
      " 29  total_price_excluding_optional_support  619693 non-null  float64       \n",
      " 30  total_price_including_optional_support  619693 non-null  float64       \n",
      " 31  students_reached                        619693 non-null  float64       \n",
      " 32  eligible_double_your_impact_match       619693 non-null  object        \n",
      " 33  eligible_almost_home_match              619693 non-null  object        \n",
      " 34  date_posted                             619693 non-null  datetime64[ns]\n",
      " 35  title                                   619693 non-null  object        \n",
      " 36  short_description                       619693 non-null  object        \n",
      " 37  need_statement                          619693 non-null  object        \n",
      " 38  essay                                   619693 non-null  object        \n",
      " 39  is_exciting                             619693 non-null  int32         \n",
      "dtypes: datetime64[ns](1), float64(8), int32(9), object(22)\n",
      "memory usage: 172.6+ MB\n"
     ]
    }
   ],
   "source": [
    "train.info()"
   ]
  },
  {
   "cell_type": "code",
   "execution_count": 69,
   "metadata": {},
   "outputs": [
    {
     "data": {
      "text/plain": [
       "projectid                                 0\n",
       "teacher_acctid                            0\n",
       "schoolid                                  0\n",
       "school_ncesid                             0\n",
       "school_latitude                           0\n",
       "school_longitude                          0\n",
       "school_city                               0\n",
       "school_state                              0\n",
       "school_zip                                0\n",
       "school_metro                              0\n",
       "school_district                           0\n",
       "school_county                             0\n",
       "school_charter                            0\n",
       "school_magnet                             0\n",
       "school_year_round                         0\n",
       "school_nlns                               0\n",
       "school_kipp                               0\n",
       "school_charter_ready_promise              0\n",
       "teacher_prefix                            0\n",
       "teacher_teach_for_america                 0\n",
       "teacher_ny_teaching_fellow                0\n",
       "primary_focus_subject                     0\n",
       "primary_focus_area                        0\n",
       "secondary_focus_subject                   0\n",
       "secondary_focus_area                      0\n",
       "resource_type                             0\n",
       "poverty_level                             0\n",
       "grade_level                               0\n",
       "fulfillment_labor_materials               0\n",
       "total_price_excluding_optional_support    0\n",
       "total_price_including_optional_support    0\n",
       "students_reached                          0\n",
       "eligible_double_your_impact_match         0\n",
       "eligible_almost_home_match                0\n",
       "date_posted                               0\n",
       "title                                     0\n",
       "short_description                         0\n",
       "need_statement                            0\n",
       "essay                                     0\n",
       "is_exciting                               0\n",
       "dtype: int64"
      ]
     },
     "execution_count": 69,
     "metadata": {},
     "output_type": "execute_result"
    }
   ],
   "source": [
    "train.isnull().sum()"
   ]
  },
  {
   "cell_type": "code",
   "execution_count": 70,
   "metadata": {},
   "outputs": [
    {
     "data": {
      "text/plain": [
       "Index(['projectid', 'teacher_acctid', 'schoolid', 'school_ncesid',\n",
       "       'school_latitude', 'school_longitude', 'school_city', 'school_state',\n",
       "       'school_zip', 'school_metro', 'school_district', 'school_county',\n",
       "       'school_charter', 'school_magnet', 'school_year_round', 'school_nlns',\n",
       "       'school_kipp', 'school_charter_ready_promise', 'teacher_prefix',\n",
       "       'teacher_teach_for_america', 'teacher_ny_teaching_fellow',\n",
       "       'primary_focus_subject', 'primary_focus_area',\n",
       "       'secondary_focus_subject', 'secondary_focus_area', 'resource_type',\n",
       "       'poverty_level', 'grade_level', 'fulfillment_labor_materials',\n",
       "       'total_price_excluding_optional_support',\n",
       "       'total_price_including_optional_support', 'students_reached',\n",
       "       'eligible_double_your_impact_match', 'eligible_almost_home_match',\n",
       "       'date_posted', 'title', 'short_description', 'need_statement', 'essay',\n",
       "       'is_exciting'],\n",
       "      dtype='object')"
      ]
     },
     "execution_count": 70,
     "metadata": {},
     "output_type": "execute_result"
    }
   ],
   "source": [
    "#doch['date_posted']=pd.to_datetime(doch['date_posted'])\n",
    "#train = doch[doch['date_posted']<='2014-01-01']\n",
    "#test=doch[doch['date_posted']>='2014-01-01']\n",
    "train.columns"
   ]
  },
  {
   "cell_type": "code",
   "execution_count": 71,
   "metadata": {},
   "outputs": [
    {
     "name": "stderr",
     "output_type": "stream",
     "text": [
      "C:\\Users\\sowmy\\anaconda3\\envs\\tens\\lib\\site-packages\\pandas\\core\\frame.py:4312: SettingWithCopyWarning: \n",
      "A value is trying to be set on a copy of a slice from a DataFrame\n",
      "\n",
      "See the caveats in the documentation: https://pandas.pydata.org/pandas-docs/stable/user_guide/indexing.html#returning-a-view-versus-a-copy\n",
      "  errors=errors,\n"
     ]
    }
   ],
   "source": [
    "#droping columns \n",
    "train.drop(['school_nlns','school_charter_ready_promise'], axis=1, inplace=True)"
   ]
  },
  {
   "cell_type": "code",
   "execution_count": 72,
   "metadata": {},
   "outputs": [],
   "source": [
    "train.drop(['teacher_acctid', 'schoolid','school_latitude', 'school_longitude', 'school_city', \n",
    "            'school_zip', 'school_district', 'school_county','teacher_prefix','teacher_teach_for_america', 'teacher_ny_teaching_fellow','secondary_focus_subject',\n",
    "            'secondary_focus_area', 'resource_type',\n",
    "            'poverty_level', 'grade_level', 'fulfillment_labor_materials','total_price_excluding_optional_support',\n",
    "            'total_price_including_optional_support','eligible_double_your_impact_match', 'eligible_almost_home_match','date_posted', 'title', \n",
    "            'short_description', 'need_statement','school_ncesid', 'school_state', 'school_metro',\n",
    "            'school_charter', 'school_magnet', 'primary_focus_subject','primary_focus_area', 'students_reached',], axis=1, inplace=True)"
   ]
  },
  {
   "cell_type": "code",
   "execution_count": 73,
   "metadata": {},
   "outputs": [
    {
     "data": {
      "text/plain": [
       "(619693, 5)"
      ]
     },
     "execution_count": 73,
     "metadata": {},
     "output_type": "execute_result"
    }
   ],
   "source": [
    "train.shape"
   ]
  },
  {
   "cell_type": "code",
   "execution_count": 74,
   "metadata": {},
   "outputs": [],
   "source": [
    "train.drop(['school_year_round', 'school_kipp'], axis=1, inplace=True)"
   ]
  },
  {
   "cell_type": "code",
   "execution_count": 75,
   "metadata": {},
   "outputs": [
    {
     "data": {
      "text/plain": [
       "Index(['projectid', 'essay', 'is_exciting'], dtype='object')"
      ]
     },
     "execution_count": 75,
     "metadata": {},
     "output_type": "execute_result"
    }
   ],
   "source": [
    "train.columns"
   ]
  },
  {
   "cell_type": "code",
   "execution_count": 76,
   "metadata": {},
   "outputs": [
    {
     "data": {
      "text/html": [
       "<div>\n",
       "<style scoped>\n",
       "    .dataframe tbody tr th:only-of-type {\n",
       "        vertical-align: middle;\n",
       "    }\n",
       "\n",
       "    .dataframe tbody tr th {\n",
       "        vertical-align: top;\n",
       "    }\n",
       "\n",
       "    .dataframe thead th {\n",
       "        text-align: right;\n",
       "    }\n",
       "</style>\n",
       "<table border=\"1\" class=\"dataframe\">\n",
       "  <thead>\n",
       "    <tr style=\"text-align: right;\">\n",
       "      <th></th>\n",
       "      <th>projectid</th>\n",
       "      <th>essay</th>\n",
       "      <th>is_exciting</th>\n",
       "    </tr>\n",
       "  </thead>\n",
       "  <tbody>\n",
       "    <tr>\n",
       "      <th>44405</th>\n",
       "      <td>bb085d3e4e07deeff4992ca2eb4d1bce</td>\n",
       "      <td>Ever have that sinking feeling when the copy m...</td>\n",
       "      <td>0</td>\n",
       "    </tr>\n",
       "    <tr>\n",
       "      <th>44406</th>\n",
       "      <td>cc06856f0e48ca63b529352abf4203fd</td>\n",
       "      <td>The lab is where science comes to life and stu...</td>\n",
       "      <td>0</td>\n",
       "    </tr>\n",
       "    <tr>\n",
       "      <th>44407</th>\n",
       "      <td>ae1d159a475fcd677f12c964bf8e3d24</td>\n",
       "      <td>How bored do you get just sitting in a desk an...</td>\n",
       "      <td>0</td>\n",
       "    </tr>\n",
       "    <tr>\n",
       "      <th>44408</th>\n",
       "      <td>c4d5660b590be04fbce7448581152150</td>\n",
       "      <td>Recently, during a workshop, I was given a par...</td>\n",
       "      <td>0</td>\n",
       "    </tr>\n",
       "    <tr>\n",
       "      <th>44409</th>\n",
       "      <td>ab9306f017a1866836db431ed4110f25</td>\n",
       "      <td>Successful completion of kindergarten includes...</td>\n",
       "      <td>0</td>\n",
       "    </tr>\n",
       "  </tbody>\n",
       "</table>\n",
       "</div>"
      ],
      "text/plain": [
       "                              projectid  \\\n",
       "44405  bb085d3e4e07deeff4992ca2eb4d1bce   \n",
       "44406  cc06856f0e48ca63b529352abf4203fd   \n",
       "44407  ae1d159a475fcd677f12c964bf8e3d24   \n",
       "44408  c4d5660b590be04fbce7448581152150   \n",
       "44409  ab9306f017a1866836db431ed4110f25   \n",
       "\n",
       "                                                   essay  is_exciting  \n",
       "44405  Ever have that sinking feeling when the copy m...            0  \n",
       "44406  The lab is where science comes to life and stu...            0  \n",
       "44407  How bored do you get just sitting in a desk an...            0  \n",
       "44408  Recently, during a workshop, I was given a par...            0  \n",
       "44409  Successful completion of kindergarten includes...            0  "
      ]
     },
     "execution_count": 76,
     "metadata": {},
     "output_type": "execute_result"
    }
   ],
   "source": [
    "train.head()"
   ]
  },
  {
   "cell_type": "code",
   "execution_count": 77,
   "metadata": {},
   "outputs": [
    {
     "name": "stdout",
     "output_type": "stream",
     "text": [
      "<class 'pandas.core.frame.DataFrame'>\n",
      "Int64Index: 619693 entries, 44405 to 664097\n",
      "Data columns (total 3 columns):\n",
      " #   Column       Non-Null Count   Dtype \n",
      "---  ------       --------------   ----- \n",
      " 0   projectid    619693 non-null  object\n",
      " 1   essay        619693 non-null  object\n",
      " 2   is_exciting  619693 non-null  int32 \n",
      "dtypes: int32(1), object(2)\n",
      "memory usage: 16.5+ MB\n"
     ]
    }
   ],
   "source": [
    "train.info()"
   ]
  },
  {
   "cell_type": "code",
   "execution_count": 78,
   "metadata": {},
   "outputs": [
    {
     "name": "stderr",
     "output_type": "stream",
     "text": [
      "C:\\Users\\sowmy\\anaconda3\\envs\\tens\\lib\\site-packages\\pandas\\core\\generic.py:5491: SettingWithCopyWarning: \n",
      "A value is trying to be set on a copy of a slice from a DataFrame.\n",
      "Try using .loc[row_indexer,col_indexer] = value instead\n",
      "\n",
      "See the caveats in the documentation: https://pandas.pydata.org/pandas-docs/stable/user_guide/indexing.html#returning-a-view-versus-a-copy\n",
      "  self[name] = value\n"
     ]
    }
   ],
   "source": [
    "train.essay = train.essay.astype(str)"
   ]
  },
  {
   "cell_type": "code",
   "execution_count": 79,
   "metadata": {},
   "outputs": [],
   "source": [
    "#converting lower values\n",
    "train.essay = train.essay.str.lower()"
   ]
  },
  {
   "cell_type": "code",
   "execution_count": 80,
   "metadata": {},
   "outputs": [],
   "source": [
    "train.essay = train.essay.str.strip() "
   ]
  },
  {
   "cell_type": "code",
   "execution_count": 81,
   "metadata": {},
   "outputs": [
    {
     "name": "stderr",
     "output_type": "stream",
     "text": [
      "C:\\Users\\sowmy\\anaconda3\\envs\\tens\\lib\\site-packages\\pandas\\core\\series.py:4485: SettingWithCopyWarning: \n",
      "A value is trying to be set on a copy of a slice from a DataFrame\n",
      "\n",
      "See the caveats in the documentation: https://pandas.pydata.org/pandas-docs/stable/user_guide/indexing.html#returning-a-view-versus-a-copy\n",
      "  method=method,\n"
     ]
    }
   ],
   "source": [
    "#https://stackoverflow.com/questions/44227748/removing-newlines-from-messy-strings-in-pandas-dataframe-cells\n",
    "#removing unnecessary charecters from the paragraph\n",
    "train.essay.replace(to_replace=[r\"\\\\t|\\\\n|\\\\r\", \"\\t|\\n|\\r\"], value=[\"\",\"\"], regex=True, inplace=True)\n"
   ]
  },
  {
   "cell_type": "code",
   "execution_count": 82,
   "metadata": {},
   "outputs": [
    {
     "data": {
      "text/html": [
       "<div>\n",
       "<style scoped>\n",
       "    .dataframe tbody tr th:only-of-type {\n",
       "        vertical-align: middle;\n",
       "    }\n",
       "\n",
       "    .dataframe tbody tr th {\n",
       "        vertical-align: top;\n",
       "    }\n",
       "\n",
       "    .dataframe thead th {\n",
       "        text-align: right;\n",
       "    }\n",
       "</style>\n",
       "<table border=\"1\" class=\"dataframe\">\n",
       "  <thead>\n",
       "    <tr style=\"text-align: right;\">\n",
       "      <th></th>\n",
       "      <th>projectid</th>\n",
       "      <th>essay</th>\n",
       "      <th>is_exciting</th>\n",
       "    </tr>\n",
       "  </thead>\n",
       "  <tbody>\n",
       "    <tr>\n",
       "      <th>44405</th>\n",
       "      <td>bb085d3e4e07deeff4992ca2eb4d1bce</td>\n",
       "      <td>ever have that sinking feeling when the copy m...</td>\n",
       "      <td>0</td>\n",
       "    </tr>\n",
       "    <tr>\n",
       "      <th>44406</th>\n",
       "      <td>cc06856f0e48ca63b529352abf4203fd</td>\n",
       "      <td>the lab is where science comes to life and stu...</td>\n",
       "      <td>0</td>\n",
       "    </tr>\n",
       "    <tr>\n",
       "      <th>44407</th>\n",
       "      <td>ae1d159a475fcd677f12c964bf8e3d24</td>\n",
       "      <td>how bored do you get just sitting in a desk an...</td>\n",
       "      <td>0</td>\n",
       "    </tr>\n",
       "    <tr>\n",
       "      <th>44408</th>\n",
       "      <td>c4d5660b590be04fbce7448581152150</td>\n",
       "      <td>recently, during a workshop, i was given a par...</td>\n",
       "      <td>0</td>\n",
       "    </tr>\n",
       "    <tr>\n",
       "      <th>44409</th>\n",
       "      <td>ab9306f017a1866836db431ed4110f25</td>\n",
       "      <td>successful completion of kindergarten includes...</td>\n",
       "      <td>0</td>\n",
       "    </tr>\n",
       "  </tbody>\n",
       "</table>\n",
       "</div>"
      ],
      "text/plain": [
       "                              projectid  \\\n",
       "44405  bb085d3e4e07deeff4992ca2eb4d1bce   \n",
       "44406  cc06856f0e48ca63b529352abf4203fd   \n",
       "44407  ae1d159a475fcd677f12c964bf8e3d24   \n",
       "44408  c4d5660b590be04fbce7448581152150   \n",
       "44409  ab9306f017a1866836db431ed4110f25   \n",
       "\n",
       "                                                   essay  is_exciting  \n",
       "44405  ever have that sinking feeling when the copy m...            0  \n",
       "44406  the lab is where science comes to life and stu...            0  \n",
       "44407  how bored do you get just sitting in a desk an...            0  \n",
       "44408  recently, during a workshop, i was given a par...            0  \n",
       "44409  successful completion of kindergarten includes...            0  "
      ]
     },
     "execution_count": 82,
     "metadata": {},
     "output_type": "execute_result"
    }
   ],
   "source": [
    "train.head()"
   ]
  },
  {
   "cell_type": "code",
   "execution_count": 83,
   "metadata": {},
   "outputs": [
    {
     "name": "stderr",
     "output_type": "stream",
     "text": [
      "C:\\Users\\sowmy\\anaconda3\\envs\\tens\\lib\\site-packages\\pandas\\core\\series.py:4485: SettingWithCopyWarning: \n",
      "A value is trying to be set on a copy of a slice from a DataFrame\n",
      "\n",
      "See the caveats in the documentation: https://pandas.pydata.org/pandas-docs/stable/user_guide/indexing.html#returning-a-view-versus-a-copy\n",
      "  method=method,\n"
     ]
    }
   ],
   "source": [
    "#https://stackoverflow.com/questions/41719259/how-to-remove-numbers-from-string-terms-in-a-pandas-dataframe#:~:text=Similarly%2C%20you%20can%20use%20.,the%20end%20of%20each%20string.&text=if%20you%20want%20to%20change%20source%20dataframe%20use%20inplace%3DTrue%20.\n",
    "#removing numbers from the text\n",
    "train.essay.replace('\\d+', '', regex=True, inplace=True)\n"
   ]
  },
  {
   "cell_type": "code",
   "execution_count": 84,
   "metadata": {},
   "outputs": [
    {
     "data": {
      "text/html": [
       "<div>\n",
       "<style scoped>\n",
       "    .dataframe tbody tr th:only-of-type {\n",
       "        vertical-align: middle;\n",
       "    }\n",
       "\n",
       "    .dataframe tbody tr th {\n",
       "        vertical-align: top;\n",
       "    }\n",
       "\n",
       "    .dataframe thead th {\n",
       "        text-align: right;\n",
       "    }\n",
       "</style>\n",
       "<table border=\"1\" class=\"dataframe\">\n",
       "  <thead>\n",
       "    <tr style=\"text-align: right;\">\n",
       "      <th></th>\n",
       "      <th>projectid</th>\n",
       "      <th>essay</th>\n",
       "      <th>is_exciting</th>\n",
       "    </tr>\n",
       "  </thead>\n",
       "  <tbody>\n",
       "    <tr>\n",
       "      <th>44405</th>\n",
       "      <td>bb085d3e4e07deeff4992ca2eb4d1bce</td>\n",
       "      <td>ever have that sinking feeling when the copy m...</td>\n",
       "      <td>0</td>\n",
       "    </tr>\n",
       "    <tr>\n",
       "      <th>44406</th>\n",
       "      <td>cc06856f0e48ca63b529352abf4203fd</td>\n",
       "      <td>the lab is where science comes to life and stu...</td>\n",
       "      <td>0</td>\n",
       "    </tr>\n",
       "    <tr>\n",
       "      <th>44407</th>\n",
       "      <td>ae1d159a475fcd677f12c964bf8e3d24</td>\n",
       "      <td>how bored do you get just sitting in a desk an...</td>\n",
       "      <td>0</td>\n",
       "    </tr>\n",
       "    <tr>\n",
       "      <th>44408</th>\n",
       "      <td>c4d5660b590be04fbce7448581152150</td>\n",
       "      <td>recently, during a workshop, i was given a par...</td>\n",
       "      <td>0</td>\n",
       "    </tr>\n",
       "    <tr>\n",
       "      <th>44409</th>\n",
       "      <td>ab9306f017a1866836db431ed4110f25</td>\n",
       "      <td>successful completion of kindergarten includes...</td>\n",
       "      <td>0</td>\n",
       "    </tr>\n",
       "  </tbody>\n",
       "</table>\n",
       "</div>"
      ],
      "text/plain": [
       "                              projectid  \\\n",
       "44405  bb085d3e4e07deeff4992ca2eb4d1bce   \n",
       "44406  cc06856f0e48ca63b529352abf4203fd   \n",
       "44407  ae1d159a475fcd677f12c964bf8e3d24   \n",
       "44408  c4d5660b590be04fbce7448581152150   \n",
       "44409  ab9306f017a1866836db431ed4110f25   \n",
       "\n",
       "                                                   essay  is_exciting  \n",
       "44405  ever have that sinking feeling when the copy m...            0  \n",
       "44406  the lab is where science comes to life and stu...            0  \n",
       "44407  how bored do you get just sitting in a desk an...            0  \n",
       "44408  recently, during a workshop, i was given a par...            0  \n",
       "44409  successful completion of kindergarten includes...            0  "
      ]
     },
     "execution_count": 84,
     "metadata": {},
     "output_type": "execute_result"
    }
   ],
   "source": [
    "train.head()"
   ]
  },
  {
   "cell_type": "code",
   "execution_count": 85,
   "metadata": {},
   "outputs": [],
   "source": [
    "#removing punctuation marks from text\n",
    "import string   \n",
    "def remove_punctuations(text):\n",
    "    for punctuation in string.punctuation:\n",
    "        text = text.replace(punctuation, '')\n",
    "    return text"
   ]
  },
  {
   "cell_type": "code",
   "execution_count": 86,
   "metadata": {},
   "outputs": [
    {
     "name": "stderr",
     "output_type": "stream",
     "text": [
      "C:\\Users\\sowmy\\anaconda3\\envs\\tens\\lib\\site-packages\\pandas\\core\\generic.py:5491: SettingWithCopyWarning: \n",
      "A value is trying to be set on a copy of a slice from a DataFrame.\n",
      "Try using .loc[row_indexer,col_indexer] = value instead\n",
      "\n",
      "See the caveats in the documentation: https://pandas.pydata.org/pandas-docs/stable/user_guide/indexing.html#returning-a-view-versus-a-copy\n",
      "  self[name] = value\n"
     ]
    }
   ],
   "source": [
    "train.essay = train.essay.apply(remove_punctuations)\n"
   ]
  },
  {
   "cell_type": "code",
   "execution_count": 87,
   "metadata": {},
   "outputs": [],
   "source": [
    "train_x = train[['projectid','essay']]"
   ]
  },
  {
   "cell_type": "code",
   "execution_count": 88,
   "metadata": {},
   "outputs": [],
   "source": [
    "train_y = train[['is_exciting']]"
   ]
  },
  {
   "cell_type": "code",
   "execution_count": 89,
   "metadata": {},
   "outputs": [
    {
     "data": {
      "text/html": [
       "<div>\n",
       "<style scoped>\n",
       "    .dataframe tbody tr th:only-of-type {\n",
       "        vertical-align: middle;\n",
       "    }\n",
       "\n",
       "    .dataframe tbody tr th {\n",
       "        vertical-align: top;\n",
       "    }\n",
       "\n",
       "    .dataframe thead th {\n",
       "        text-align: right;\n",
       "    }\n",
       "</style>\n",
       "<table border=\"1\" class=\"dataframe\">\n",
       "  <thead>\n",
       "    <tr style=\"text-align: right;\">\n",
       "      <th></th>\n",
       "      <th>projectid</th>\n",
       "      <th>essay</th>\n",
       "    </tr>\n",
       "  </thead>\n",
       "  <tbody>\n",
       "    <tr>\n",
       "      <th>44405</th>\n",
       "      <td>bb085d3e4e07deeff4992ca2eb4d1bce</td>\n",
       "      <td>ever have that sinking feeling when the copy m...</td>\n",
       "    </tr>\n",
       "    <tr>\n",
       "      <th>44406</th>\n",
       "      <td>cc06856f0e48ca63b529352abf4203fd</td>\n",
       "      <td>the lab is where science comes to life and stu...</td>\n",
       "    </tr>\n",
       "    <tr>\n",
       "      <th>44407</th>\n",
       "      <td>ae1d159a475fcd677f12c964bf8e3d24</td>\n",
       "      <td>how bored do you get just sitting in a desk an...</td>\n",
       "    </tr>\n",
       "    <tr>\n",
       "      <th>44408</th>\n",
       "      <td>c4d5660b590be04fbce7448581152150</td>\n",
       "      <td>recently during a workshop i was given a parag...</td>\n",
       "    </tr>\n",
       "    <tr>\n",
       "      <th>44409</th>\n",
       "      <td>ab9306f017a1866836db431ed4110f25</td>\n",
       "      <td>successful completion of kindergarten includes...</td>\n",
       "    </tr>\n",
       "  </tbody>\n",
       "</table>\n",
       "</div>"
      ],
      "text/plain": [
       "                              projectid  \\\n",
       "44405  bb085d3e4e07deeff4992ca2eb4d1bce   \n",
       "44406  cc06856f0e48ca63b529352abf4203fd   \n",
       "44407  ae1d159a475fcd677f12c964bf8e3d24   \n",
       "44408  c4d5660b590be04fbce7448581152150   \n",
       "44409  ab9306f017a1866836db431ed4110f25   \n",
       "\n",
       "                                                   essay  \n",
       "44405  ever have that sinking feeling when the copy m...  \n",
       "44406  the lab is where science comes to life and stu...  \n",
       "44407  how bored do you get just sitting in a desk an...  \n",
       "44408  recently during a workshop i was given a parag...  \n",
       "44409  successful completion of kindergarten includes...  "
      ]
     },
     "execution_count": 89,
     "metadata": {},
     "output_type": "execute_result"
    }
   ],
   "source": [
    "train_x.head()"
   ]
  },
  {
   "cell_type": "code",
   "execution_count": 90,
   "metadata": {},
   "outputs": [
    {
     "data": {
      "text/html": [
       "<div>\n",
       "<style scoped>\n",
       "    .dataframe tbody tr th:only-of-type {\n",
       "        vertical-align: middle;\n",
       "    }\n",
       "\n",
       "    .dataframe tbody tr th {\n",
       "        vertical-align: top;\n",
       "    }\n",
       "\n",
       "    .dataframe thead th {\n",
       "        text-align: right;\n",
       "    }\n",
       "</style>\n",
       "<table border=\"1\" class=\"dataframe\">\n",
       "  <thead>\n",
       "    <tr style=\"text-align: right;\">\n",
       "      <th></th>\n",
       "      <th>projectid</th>\n",
       "      <th>teacher_acctid</th>\n",
       "      <th>schoolid</th>\n",
       "      <th>school_ncesid</th>\n",
       "      <th>school_latitude</th>\n",
       "      <th>school_longitude</th>\n",
       "      <th>school_city</th>\n",
       "      <th>school_state</th>\n",
       "      <th>school_zip</th>\n",
       "      <th>school_metro</th>\n",
       "      <th>...</th>\n",
       "      <th>total_price_including_optional_support</th>\n",
       "      <th>students_reached</th>\n",
       "      <th>eligible_double_your_impact_match</th>\n",
       "      <th>eligible_almost_home_match</th>\n",
       "      <th>date_posted</th>\n",
       "      <th>title</th>\n",
       "      <th>short_description</th>\n",
       "      <th>need_statement</th>\n",
       "      <th>essay</th>\n",
       "      <th>is_exciting</th>\n",
       "    </tr>\n",
       "  </thead>\n",
       "  <tbody>\n",
       "    <tr>\n",
       "      <th>0</th>\n",
       "      <td>316ed8fb3b81402ff6ac8f721bb31192</td>\n",
       "      <td>42d43fa6f37314365d08692e08680973</td>\n",
       "      <td>c0e6ce89b244764085691a1b8e28cb81</td>\n",
       "      <td>6.362701e+10</td>\n",
       "      <td>36.576340</td>\n",
       "      <td>-119.608713</td>\n",
       "      <td>Selma</td>\n",
       "      <td>CA</td>\n",
       "      <td>93662.0</td>\n",
       "      <td>NaN</td>\n",
       "      <td>...</td>\n",
       "      <td>653.89</td>\n",
       "      <td>32.0</td>\n",
       "      <td>f</td>\n",
       "      <td>f</td>\n",
       "      <td>2014-05-12</td>\n",
       "      <td>Multiculturalism in Literacy</td>\n",
       "      <td>Can we read one more chapter? Do we have to go...</td>\n",
       "      <td>My students need 3 novel sets with multicultur...</td>\n",
       "      <td>Can we read one more chapter? Do we have to go...</td>\n",
       "      <td>NaN</td>\n",
       "    </tr>\n",
       "    <tr>\n",
       "      <th>1</th>\n",
       "      <td>90de744e368a7e4883223ca49318ae30</td>\n",
       "      <td>864eb466462bf704bf7a16a585ef296a</td>\n",
       "      <td>d711e47810900c96f26a5d0be30c446d</td>\n",
       "      <td>4.837020e+11</td>\n",
       "      <td>32.911179</td>\n",
       "      <td>-96.723640</td>\n",
       "      <td>Dallas</td>\n",
       "      <td>TX</td>\n",
       "      <td>75243.0</td>\n",
       "      <td>urban</td>\n",
       "      <td>...</td>\n",
       "      <td>348.79</td>\n",
       "      <td>22.0</td>\n",
       "      <td>f</td>\n",
       "      <td>f</td>\n",
       "      <td>2014-05-12</td>\n",
       "      <td>Reading is the Window to the World!</td>\n",
       "      <td>Engaging reading materials sent right to my st...</td>\n",
       "      <td>My students need exciting reading materials li...</td>\n",
       "      <td>Engaging reading materials sent right to my st...</td>\n",
       "      <td>NaN</td>\n",
       "    </tr>\n",
       "    <tr>\n",
       "      <th>2</th>\n",
       "      <td>32943bb1063267de6ed19fc0ceb4b9a7</td>\n",
       "      <td>37f85135259ece793213aca9d8765542</td>\n",
       "      <td>665c3613013ba0a66e3a2a26b89f1b68</td>\n",
       "      <td>4.103270e+11</td>\n",
       "      <td>45.166039</td>\n",
       "      <td>-122.414576</td>\n",
       "      <td>Colton</td>\n",
       "      <td>OR</td>\n",
       "      <td>97017.0</td>\n",
       "      <td>rural</td>\n",
       "      <td>...</td>\n",
       "      <td>506.93</td>\n",
       "      <td>17.0</td>\n",
       "      <td>f</td>\n",
       "      <td>f</td>\n",
       "      <td>2014-05-11</td>\n",
       "      <td>A Little Tech Goes A Long Way</td>\n",
       "      <td>Our second grade in rural Oregon is an adventu...</td>\n",
       "      <td>My students need an iPad Mini.</td>\n",
       "      <td>Our second grade in rural Oregon is an adventu...</td>\n",
       "      <td>NaN</td>\n",
       "    </tr>\n",
       "    <tr>\n",
       "      <th>3</th>\n",
       "      <td>bb18f409abda2f264d5acda8cab577a9</td>\n",
       "      <td>2133fc46f951f1e7d60645b0f9e48a6c</td>\n",
       "      <td>4f12c3fa0c1cce823c7ba1df57e90ccb</td>\n",
       "      <td>3.600153e+11</td>\n",
       "      <td>40.641727</td>\n",
       "      <td>-73.965655</td>\n",
       "      <td>Brooklyn</td>\n",
       "      <td>NY</td>\n",
       "      <td>11226.0</td>\n",
       "      <td>urban</td>\n",
       "      <td>...</td>\n",
       "      <td>677.73</td>\n",
       "      <td>12.0</td>\n",
       "      <td>f</td>\n",
       "      <td>f</td>\n",
       "      <td>2014-05-11</td>\n",
       "      <td>Provide Content Aligned, Leveled Texts, For Sc...</td>\n",
       "      <td>Help give 12 Brooklyn students access and orga...</td>\n",
       "      <td>My students need social studies literature res...</td>\n",
       "      <td>Help give 12 Brooklyn students access and orga...</td>\n",
       "      <td>NaN</td>\n",
       "    </tr>\n",
       "    <tr>\n",
       "      <th>4</th>\n",
       "      <td>24761b686e18e5eace634607acbcc19f</td>\n",
       "      <td>867ff478a63f5457eaf41049536c47cd</td>\n",
       "      <td>10179fd362d7b8cf0e89baa1ca3025bb</td>\n",
       "      <td>6.227100e+10</td>\n",
       "      <td>34.043939</td>\n",
       "      <td>-118.288371</td>\n",
       "      <td>Los Angeles</td>\n",
       "      <td>CA</td>\n",
       "      <td>90006.0</td>\n",
       "      <td>urban</td>\n",
       "      <td>...</td>\n",
       "      <td>480.47</td>\n",
       "      <td>24.0</td>\n",
       "      <td>f</td>\n",
       "      <td>f</td>\n",
       "      <td>2014-05-11</td>\n",
       "      <td>Multi-Media Cart</td>\n",
       "      <td>Technology is changing the world as we speak. ...</td>\n",
       "      <td>My students need a multi-media workstation car...</td>\n",
       "      <td>Technology is changing the world as we speak. ...</td>\n",
       "      <td>NaN</td>\n",
       "    </tr>\n",
       "  </tbody>\n",
       "</table>\n",
       "<p>5 rows × 40 columns</p>\n",
       "</div>"
      ],
      "text/plain": [
       "                          projectid                    teacher_acctid  \\\n",
       "0  316ed8fb3b81402ff6ac8f721bb31192  42d43fa6f37314365d08692e08680973   \n",
       "1  90de744e368a7e4883223ca49318ae30  864eb466462bf704bf7a16a585ef296a   \n",
       "2  32943bb1063267de6ed19fc0ceb4b9a7  37f85135259ece793213aca9d8765542   \n",
       "3  bb18f409abda2f264d5acda8cab577a9  2133fc46f951f1e7d60645b0f9e48a6c   \n",
       "4  24761b686e18e5eace634607acbcc19f  867ff478a63f5457eaf41049536c47cd   \n",
       "\n",
       "                           schoolid  school_ncesid  school_latitude  \\\n",
       "0  c0e6ce89b244764085691a1b8e28cb81   6.362701e+10        36.576340   \n",
       "1  d711e47810900c96f26a5d0be30c446d   4.837020e+11        32.911179   \n",
       "2  665c3613013ba0a66e3a2a26b89f1b68   4.103270e+11        45.166039   \n",
       "3  4f12c3fa0c1cce823c7ba1df57e90ccb   3.600153e+11        40.641727   \n",
       "4  10179fd362d7b8cf0e89baa1ca3025bb   6.227100e+10        34.043939   \n",
       "\n",
       "   school_longitude  school_city school_state  school_zip school_metro  ...  \\\n",
       "0       -119.608713        Selma           CA     93662.0          NaN  ...   \n",
       "1        -96.723640       Dallas           TX     75243.0        urban  ...   \n",
       "2       -122.414576       Colton           OR     97017.0        rural  ...   \n",
       "3        -73.965655     Brooklyn           NY     11226.0        urban  ...   \n",
       "4       -118.288371  Los Angeles           CA     90006.0        urban  ...   \n",
       "\n",
       "  total_price_including_optional_support students_reached  \\\n",
       "0                                 653.89             32.0   \n",
       "1                                 348.79             22.0   \n",
       "2                                 506.93             17.0   \n",
       "3                                 677.73             12.0   \n",
       "4                                 480.47             24.0   \n",
       "\n",
       "  eligible_double_your_impact_match eligible_almost_home_match date_posted  \\\n",
       "0                                 f                          f  2014-05-12   \n",
       "1                                 f                          f  2014-05-12   \n",
       "2                                 f                          f  2014-05-11   \n",
       "3                                 f                          f  2014-05-11   \n",
       "4                                 f                          f  2014-05-11   \n",
       "\n",
       "                                               title  \\\n",
       "0                       Multiculturalism in Literacy   \n",
       "1                Reading is the Window to the World!   \n",
       "2                      A Little Tech Goes A Long Way   \n",
       "3  Provide Content Aligned, Leveled Texts, For Sc...   \n",
       "4                                   Multi-Media Cart   \n",
       "\n",
       "                                   short_description  \\\n",
       "0  Can we read one more chapter? Do we have to go...   \n",
       "1  Engaging reading materials sent right to my st...   \n",
       "2  Our second grade in rural Oregon is an adventu...   \n",
       "3  Help give 12 Brooklyn students access and orga...   \n",
       "4  Technology is changing the world as we speak. ...   \n",
       "\n",
       "                                      need_statement  \\\n",
       "0  My students need 3 novel sets with multicultur...   \n",
       "1  My students need exciting reading materials li...   \n",
       "2                     My students need an iPad Mini.   \n",
       "3  My students need social studies literature res...   \n",
       "4  My students need a multi-media workstation car...   \n",
       "\n",
       "                                               essay is_exciting  \n",
       "0  Can we read one more chapter? Do we have to go...         NaN  \n",
       "1  Engaging reading materials sent right to my st...         NaN  \n",
       "2  Our second grade in rural Oregon is an adventu...         NaN  \n",
       "3  Help give 12 Brooklyn students access and orga...         NaN  \n",
       "4  Technology is changing the world as we speak. ...         NaN  \n",
       "\n",
       "[5 rows x 40 columns]"
      ]
     },
     "execution_count": 90,
     "metadata": {},
     "output_type": "execute_result"
    }
   ],
   "source": [
    "test.head()"
   ]
  },
  {
   "cell_type": "code",
   "execution_count": 91,
   "metadata": {},
   "outputs": [
    {
     "name": "stderr",
     "output_type": "stream",
     "text": [
      "C:\\Users\\sowmy\\anaconda3\\envs\\tens\\lib\\site-packages\\pandas\\core\\frame.py:4312: SettingWithCopyWarning: \n",
      "A value is trying to be set on a copy of a slice from a DataFrame\n",
      "\n",
      "See the caveats in the documentation: https://pandas.pydata.org/pandas-docs/stable/user_guide/indexing.html#returning-a-view-versus-a-copy\n",
      "  errors=errors,\n"
     ]
    }
   ],
   "source": [
    "test.drop(['teacher_acctid', 'schoolid','school_latitude', 'school_longitude', 'school_city', \n",
    "            'school_zip', 'school_district', 'school_county','teacher_prefix','teacher_teach_for_america', 'teacher_ny_teaching_fellow','secondary_focus_subject',\n",
    "            'secondary_focus_area', 'resource_type',\n",
    "            'poverty_level', 'grade_level', 'fulfillment_labor_materials','total_price_excluding_optional_support',\n",
    "            'total_price_including_optional_support','eligible_double_your_impact_match', 'eligible_almost_home_match','date_posted', 'title', \n",
    "            'short_description', 'need_statement','school_ncesid', 'school_state', 'school_metro',\n",
    "            'school_charter', 'school_magnet', 'primary_focus_subject','primary_focus_area', 'students_reached',], axis=1, inplace=True)"
   ]
  },
  {
   "cell_type": "code",
   "execution_count": 92,
   "metadata": {},
   "outputs": [],
   "source": [
    "test.drop(['school_nlns','school_charter_ready_promise','school_year_round','school_kipp'], axis=1, inplace=True)"
   ]
  },
  {
   "cell_type": "code",
   "execution_count": 93,
   "metadata": {},
   "outputs": [
    {
     "data": {
      "text/html": [
       "<div>\n",
       "<style scoped>\n",
       "    .dataframe tbody tr th:only-of-type {\n",
       "        vertical-align: middle;\n",
       "    }\n",
       "\n",
       "    .dataframe tbody tr th {\n",
       "        vertical-align: top;\n",
       "    }\n",
       "\n",
       "    .dataframe thead th {\n",
       "        text-align: right;\n",
       "    }\n",
       "</style>\n",
       "<table border=\"1\" class=\"dataframe\">\n",
       "  <thead>\n",
       "    <tr style=\"text-align: right;\">\n",
       "      <th></th>\n",
       "      <th>projectid</th>\n",
       "      <th>essay</th>\n",
       "      <th>is_exciting</th>\n",
       "    </tr>\n",
       "  </thead>\n",
       "  <tbody>\n",
       "    <tr>\n",
       "      <th>0</th>\n",
       "      <td>316ed8fb3b81402ff6ac8f721bb31192</td>\n",
       "      <td>Can we read one more chapter? Do we have to go...</td>\n",
       "      <td>NaN</td>\n",
       "    </tr>\n",
       "    <tr>\n",
       "      <th>1</th>\n",
       "      <td>90de744e368a7e4883223ca49318ae30</td>\n",
       "      <td>Engaging reading materials sent right to my st...</td>\n",
       "      <td>NaN</td>\n",
       "    </tr>\n",
       "    <tr>\n",
       "      <th>2</th>\n",
       "      <td>32943bb1063267de6ed19fc0ceb4b9a7</td>\n",
       "      <td>Our second grade in rural Oregon is an adventu...</td>\n",
       "      <td>NaN</td>\n",
       "    </tr>\n",
       "    <tr>\n",
       "      <th>3</th>\n",
       "      <td>bb18f409abda2f264d5acda8cab577a9</td>\n",
       "      <td>Help give 12 Brooklyn students access and orga...</td>\n",
       "      <td>NaN</td>\n",
       "    </tr>\n",
       "    <tr>\n",
       "      <th>4</th>\n",
       "      <td>24761b686e18e5eace634607acbcc19f</td>\n",
       "      <td>Technology is changing the world as we speak. ...</td>\n",
       "      <td>NaN</td>\n",
       "    </tr>\n",
       "  </tbody>\n",
       "</table>\n",
       "</div>"
      ],
      "text/plain": [
       "                          projectid  \\\n",
       "0  316ed8fb3b81402ff6ac8f721bb31192   \n",
       "1  90de744e368a7e4883223ca49318ae30   \n",
       "2  32943bb1063267de6ed19fc0ceb4b9a7   \n",
       "3  bb18f409abda2f264d5acda8cab577a9   \n",
       "4  24761b686e18e5eace634607acbcc19f   \n",
       "\n",
       "                                               essay is_exciting  \n",
       "0  Can we read one more chapter? Do we have to go...         NaN  \n",
       "1  Engaging reading materials sent right to my st...         NaN  \n",
       "2  Our second grade in rural Oregon is an adventu...         NaN  \n",
       "3  Help give 12 Brooklyn students access and orga...         NaN  \n",
       "4  Technology is changing the world as we speak. ...         NaN  "
      ]
     },
     "execution_count": 93,
     "metadata": {},
     "output_type": "execute_result"
    }
   ],
   "source": [
    "test.head()"
   ]
  },
  {
   "cell_type": "code",
   "execution_count": 94,
   "metadata": {},
   "outputs": [],
   "source": [
    "test_x = test[['projectid','essay']]"
   ]
  },
  {
   "cell_type": "code",
   "execution_count": 95,
   "metadata": {},
   "outputs": [],
   "source": [
    "li = list(train_x.essay)"
   ]
  },
  {
   "cell_type": "code",
   "execution_count": 96,
   "metadata": {},
   "outputs": [],
   "source": [
    "import sklearn.feature_extraction.text as text\n",
    "tfidf=text.TfidfVectorizer(input=li,stop_words='english',max_features=1000,ngram_range=(1,2))"
   ]
  },
  {
   "cell_type": "code",
   "execution_count": 97,
   "metadata": {},
   "outputs": [],
   "source": [
    "x_train=tfidf.fit_transform(li)"
   ]
  },
  {
   "cell_type": "code",
   "execution_count": 98,
   "metadata": {},
   "outputs": [],
   "source": [
    "x_test = tfidf.fit_transform(test_x.essay)"
   ]
  },
  {
   "cell_type": "code",
   "execution_count": 99,
   "metadata": {},
   "outputs": [],
   "source": [
    "testy = test[['is_exciting']]"
   ]
  },
  {
   "cell_type": "code",
   "execution_count": 100,
   "metadata": {},
   "outputs": [
    {
     "data": {
      "text/plain": [
       "(619693, 1000)"
      ]
     },
     "execution_count": 100,
     "metadata": {},
     "output_type": "execute_result"
    }
   ],
   "source": [
    "x_train.shape"
   ]
  },
  {
   "cell_type": "code",
   "execution_count": 101,
   "metadata": {},
   "outputs": [],
   "source": [
    "from sklearn.model_selection import train_test_split\n",
    "X_train,X_test,y_train,y_test=train_test_split(x_train,train_y,test_size=0.20,random_state=400)"
   ]
  },
  {
   "cell_type": "code",
   "execution_count": 102,
   "metadata": {},
   "outputs": [
    {
     "data": {
      "text/html": [
       "<div>\n",
       "<style scoped>\n",
       "    .dataframe tbody tr th:only-of-type {\n",
       "        vertical-align: middle;\n",
       "    }\n",
       "\n",
       "    .dataframe tbody tr th {\n",
       "        vertical-align: top;\n",
       "    }\n",
       "\n",
       "    .dataframe thead th {\n",
       "        text-align: right;\n",
       "    }\n",
       "</style>\n",
       "<table border=\"1\" class=\"dataframe\">\n",
       "  <thead>\n",
       "    <tr style=\"text-align: right;\">\n",
       "      <th></th>\n",
       "      <th>is_exciting</th>\n",
       "    </tr>\n",
       "  </thead>\n",
       "  <tbody>\n",
       "    <tr>\n",
       "      <th>318216</th>\n",
       "      <td>1</td>\n",
       "    </tr>\n",
       "    <tr>\n",
       "      <th>450630</th>\n",
       "      <td>0</td>\n",
       "    </tr>\n",
       "    <tr>\n",
       "      <th>123867</th>\n",
       "      <td>0</td>\n",
       "    </tr>\n",
       "    <tr>\n",
       "      <th>139843</th>\n",
       "      <td>0</td>\n",
       "    </tr>\n",
       "    <tr>\n",
       "      <th>300710</th>\n",
       "      <td>0</td>\n",
       "    </tr>\n",
       "  </tbody>\n",
       "</table>\n",
       "</div>"
      ],
      "text/plain": [
       "        is_exciting\n",
       "318216            1\n",
       "450630            0\n",
       "123867            0\n",
       "139843            0\n",
       "300710            0"
      ]
     },
     "execution_count": 102,
     "metadata": {},
     "output_type": "execute_result"
    }
   ],
   "source": [
    "y_train.head()"
   ]
  },
  {
   "cell_type": "code",
   "execution_count": 103,
   "metadata": {},
   "outputs": [
    {
     "data": {
      "text/plain": [
       "(619693, 1000)"
      ]
     },
     "execution_count": 103,
     "metadata": {},
     "output_type": "execute_result"
    }
   ],
   "source": [
    "x_train.shape"
   ]
  },
  {
   "cell_type": "code",
   "execution_count": 104,
   "metadata": {
    "scrolled": true
   },
   "outputs": [
    {
     "name": "stderr",
     "output_type": "stream",
     "text": [
      "Using TensorFlow backend.\n",
      "C:\\Users\\sowmy\\anaconda3\\envs\\tens\\lib\\site-packages\\tensorflow\\python\\framework\\dtypes.py:516: FutureWarning: Passing (type, 1) or '1type' as a synonym of type is deprecated; in a future version of numpy, it will be understood as (type, (1,)) / '(1,)type'.\n",
      "  _np_qint8 = np.dtype([(\"qint8\", np.int8, 1)])\n",
      "C:\\Users\\sowmy\\anaconda3\\envs\\tens\\lib\\site-packages\\tensorflow\\python\\framework\\dtypes.py:517: FutureWarning: Passing (type, 1) or '1type' as a synonym of type is deprecated; in a future version of numpy, it will be understood as (type, (1,)) / '(1,)type'.\n",
      "  _np_quint8 = np.dtype([(\"quint8\", np.uint8, 1)])\n",
      "C:\\Users\\sowmy\\anaconda3\\envs\\tens\\lib\\site-packages\\tensorflow\\python\\framework\\dtypes.py:518: FutureWarning: Passing (type, 1) or '1type' as a synonym of type is deprecated; in a future version of numpy, it will be understood as (type, (1,)) / '(1,)type'.\n",
      "  _np_qint16 = np.dtype([(\"qint16\", np.int16, 1)])\n",
      "C:\\Users\\sowmy\\anaconda3\\envs\\tens\\lib\\site-packages\\tensorflow\\python\\framework\\dtypes.py:519: FutureWarning: Passing (type, 1) or '1type' as a synonym of type is deprecated; in a future version of numpy, it will be understood as (type, (1,)) / '(1,)type'.\n",
      "  _np_quint16 = np.dtype([(\"quint16\", np.uint16, 1)])\n",
      "C:\\Users\\sowmy\\anaconda3\\envs\\tens\\lib\\site-packages\\tensorflow\\python\\framework\\dtypes.py:520: FutureWarning: Passing (type, 1) or '1type' as a synonym of type is deprecated; in a future version of numpy, it will be understood as (type, (1,)) / '(1,)type'.\n",
      "  _np_qint32 = np.dtype([(\"qint32\", np.int32, 1)])\n",
      "C:\\Users\\sowmy\\anaconda3\\envs\\tens\\lib\\site-packages\\tensorflow\\python\\framework\\dtypes.py:525: FutureWarning: Passing (type, 1) or '1type' as a synonym of type is deprecated; in a future version of numpy, it will be understood as (type, (1,)) / '(1,)type'.\n",
      "  np_resource = np.dtype([(\"resource\", np.ubyte, 1)])\n",
      "C:\\Users\\sowmy\\anaconda3\\envs\\tens\\lib\\site-packages\\tensorboard\\compat\\tensorflow_stub\\dtypes.py:541: FutureWarning: Passing (type, 1) or '1type' as a synonym of type is deprecated; in a future version of numpy, it will be understood as (type, (1,)) / '(1,)type'.\n",
      "  _np_qint8 = np.dtype([(\"qint8\", np.int8, 1)])\n",
      "C:\\Users\\sowmy\\anaconda3\\envs\\tens\\lib\\site-packages\\tensorboard\\compat\\tensorflow_stub\\dtypes.py:542: FutureWarning: Passing (type, 1) or '1type' as a synonym of type is deprecated; in a future version of numpy, it will be understood as (type, (1,)) / '(1,)type'.\n",
      "  _np_quint8 = np.dtype([(\"quint8\", np.uint8, 1)])\n",
      "C:\\Users\\sowmy\\anaconda3\\envs\\tens\\lib\\site-packages\\tensorboard\\compat\\tensorflow_stub\\dtypes.py:543: FutureWarning: Passing (type, 1) or '1type' as a synonym of type is deprecated; in a future version of numpy, it will be understood as (type, (1,)) / '(1,)type'.\n",
      "  _np_qint16 = np.dtype([(\"qint16\", np.int16, 1)])\n",
      "C:\\Users\\sowmy\\anaconda3\\envs\\tens\\lib\\site-packages\\tensorboard\\compat\\tensorflow_stub\\dtypes.py:544: FutureWarning: Passing (type, 1) or '1type' as a synonym of type is deprecated; in a future version of numpy, it will be understood as (type, (1,)) / '(1,)type'.\n",
      "  _np_quint16 = np.dtype([(\"quint16\", np.uint16, 1)])\n",
      "C:\\Users\\sowmy\\anaconda3\\envs\\tens\\lib\\site-packages\\tensorboard\\compat\\tensorflow_stub\\dtypes.py:545: FutureWarning: Passing (type, 1) or '1type' as a synonym of type is deprecated; in a future version of numpy, it will be understood as (type, (1,)) / '(1,)type'.\n",
      "  _np_qint32 = np.dtype([(\"qint32\", np.int32, 1)])\n",
      "C:\\Users\\sowmy\\anaconda3\\envs\\tens\\lib\\site-packages\\tensorboard\\compat\\tensorflow_stub\\dtypes.py:550: FutureWarning: Passing (type, 1) or '1type' as a synonym of type is deprecated; in a future version of numpy, it will be understood as (type, (1,)) / '(1,)type'.\n",
      "  np_resource = np.dtype([(\"resource\", np.ubyte, 1)])\n"
     ]
    }
   ],
   "source": [
    "from keras.models import Sequential\n",
    "from keras.layers import Dense,Dropout\n",
    "from keras.utils import to_categorical\n"
   ]
  },
  {
   "cell_type": "code",
   "execution_count": 105,
   "metadata": {},
   "outputs": [],
   "source": [
    "y_train=to_categorical(y_train)"
   ]
  },
  {
   "cell_type": "code",
   "execution_count": 106,
   "metadata": {},
   "outputs": [
    {
     "data": {
      "text/plain": [
       "array([[0., 1.],\n",
       "       [1., 0.],\n",
       "       [1., 0.],\n",
       "       ...,\n",
       "       [1., 0.],\n",
       "       [1., 0.],\n",
       "       [1., 0.]], dtype=float32)"
      ]
     },
     "execution_count": 106,
     "metadata": {},
     "output_type": "execute_result"
    }
   ],
   "source": [
    "y_train"
   ]
  },
  {
   "cell_type": "code",
   "execution_count": 107,
   "metadata": {},
   "outputs": [],
   "source": [
    "model=Sequential()"
   ]
  },
  {
   "cell_type": "code",
   "execution_count": 108,
   "metadata": {},
   "outputs": [],
   "source": [
    "model.add(Dense(512,input_shape=(1000,),activation='relu'))\n",
    "model.add(Dropout(0.5))\n",
    "model.add(Dense(2,activation='softmax'))"
   ]
  },
  {
   "cell_type": "code",
   "execution_count": 109,
   "metadata": {},
   "outputs": [],
   "source": [
    "model.compile(loss=\"categorical_crossentropy\",optimizer=\"adam\",metrics=['accuracy'])"
   ]
  },
  {
   "cell_type": "code",
   "execution_count": 112,
   "metadata": {},
   "outputs": [
    {
     "name": "stdout",
     "output_type": "stream",
     "text": [
      "Train on 396603 samples, validate on 99151 samples\n",
      "Epoch 1/5\n",
      "396603/396603 [==============================] - 90s 226us/step - loss: 0.1932 - accuracy: 0.9413 - val_loss: 0.2180 - val_accuracy: 0.9399\n",
      "Epoch 2/5\n",
      "396603/396603 [==============================] - 88s 223us/step - loss: 0.1881 - accuracy: 0.9417 - val_loss: 0.2212 - val_accuracy: 0.9399\n",
      "Epoch 3/5\n",
      "396603/396603 [==============================] - 88s 222us/step - loss: 0.1829 - accuracy: 0.9426 - val_loss: 0.2226 - val_accuracy: 0.9396\n",
      "Epoch 4/5\n",
      "396603/396603 [==============================] - 100s 253us/step - loss: 0.1782 - accuracy: 0.9434 - val_loss: 0.2280 - val_accuracy: 0.9396\n",
      "Epoch 5/5\n",
      "396603/396603 [==============================] - 88s 221us/step - loss: 0.1727 - accuracy: 0.9444 - val_loss: 0.2280 - val_accuracy: 0.9394\n"
     ]
    },
    {
     "data": {
      "text/plain": [
       "<keras.callbacks.callbacks.History at 0x2397976fb48>"
      ]
     },
     "execution_count": 112,
     "metadata": {},
     "output_type": "execute_result"
    }
   ],
   "source": [
    "model.fit(X_train,y_train,epochs=5,batch_size=64,verbose=1,validation_split=0.20)"
   ]
  },
  {
   "cell_type": "code",
   "execution_count": 113,
   "metadata": {},
   "outputs": [
    {
     "data": {
      "text/plain": [
       "array([0, 0, 0, ..., 0, 0, 0], dtype=int64)"
      ]
     },
     "execution_count": 113,
     "metadata": {},
     "output_type": "execute_result"
    }
   ],
   "source": [
    "preds=model.predict_classes(X_test)\n",
    "preds"
   ]
  },
  {
   "cell_type": "code",
   "execution_count": 114,
   "metadata": {},
   "outputs": [
    {
     "data": {
      "text/plain": [
       "array([[0., 1.],\n",
       "       [1., 0.],\n",
       "       [1., 0.],\n",
       "       ...,\n",
       "       [1., 0.],\n",
       "       [1., 0.],\n",
       "       [1., 0.]], dtype=float32)"
      ]
     },
     "execution_count": 114,
     "metadata": {},
     "output_type": "execute_result"
    }
   ],
   "source": [
    "y_train"
   ]
  },
  {
   "cell_type": "code",
   "execution_count": 115,
   "metadata": {},
   "outputs": [
    {
     "data": {
      "text/plain": [
       "array([[9.8848492e-01, 1.1515051e-02],\n",
       "       [9.7266912e-01, 2.7330887e-02],\n",
       "       [9.9871790e-01, 1.2820850e-03],\n",
       "       ...,\n",
       "       [9.1950154e-01, 8.0498427e-02],\n",
       "       [9.9920124e-01, 7.9878862e-04],\n",
       "       [9.4410807e-01, 5.5891920e-02]], dtype=float32)"
      ]
     },
     "execution_count": 115,
     "metadata": {},
     "output_type": "execute_result"
    }
   ],
   "source": [
    "prediction = model.predict(X_test)\n",
    "prediction"
   ]
  },
  {
   "cell_type": "code",
   "execution_count": 117,
   "metadata": {},
   "outputs": [
    {
     "data": {
      "text/plain": [
       "array([[9.8848492e-01, 1.1515051e-02],\n",
       "       [9.7266912e-01, 2.7330887e-02],\n",
       "       [9.9871790e-01, 1.2820850e-03],\n",
       "       ...,\n",
       "       [9.1950154e-01, 8.0498427e-02],\n",
       "       [9.9920124e-01, 7.9878862e-04],\n",
       "       [9.4410807e-01, 5.5891920e-02]], dtype=float32)"
      ]
     },
     "execution_count": 117,
     "metadata": {},
     "output_type": "execute_result"
    }
   ],
   "source": [
    "prob = model.predict_proba(X_test)\n",
    "prob"
   ]
  },
  {
   "cell_type": "code",
   "execution_count": 118,
   "metadata": {},
   "outputs": [],
   "source": [
    "import sklearn.linear_model as linear_model\n",
    "clf=linear_model.LogisticRegression()"
   ]
  },
  {
   "cell_type": "code",
   "execution_count": 119,
   "metadata": {},
   "outputs": [
    {
     "name": "stderr",
     "output_type": "stream",
     "text": [
      "C:\\Users\\sowmy\\anaconda3\\envs\\tens\\lib\\site-packages\\sklearn\\utils\\validation.py:72: DataConversionWarning: A column-vector y was passed when a 1d array was expected. Please change the shape of y to (n_samples, ), for example using ravel().\n",
      "  return f(**kwargs)\n",
      "C:\\Users\\sowmy\\anaconda3\\envs\\tens\\lib\\site-packages\\sklearn\\linear_model\\_logistic.py:764: ConvergenceWarning: lbfgs failed to converge (status=1):\n",
      "STOP: TOTAL NO. of ITERATIONS REACHED LIMIT.\n",
      "\n",
      "Increase the number of iterations (max_iter) or scale the data as shown in:\n",
      "    https://scikit-learn.org/stable/modules/preprocessing.html\n",
      "Please also refer to the documentation for alternative solver options:\n",
      "    https://scikit-learn.org/stable/modules/linear_model.html#logistic-regression\n",
      "  extra_warning_msg=_LOGISTIC_SOLVER_CONVERGENCE_MSG)\n"
     ]
    }
   ],
   "source": [
    "mod=clf.fit(x_train,train_y)"
   ]
  },
  {
   "cell_type": "code",
   "execution_count": 120,
   "metadata": {},
   "outputs": [
    {
     "data": {
      "text/plain": [
       "array([[0.96421598, 0.03578402],\n",
       "       [0.96509284, 0.03490716],\n",
       "       [0.99689414, 0.00310586],\n",
       "       ...,\n",
       "       [0.9288855 , 0.0711145 ],\n",
       "       [0.97460307, 0.02539693],\n",
       "       [0.89979891, 0.10020109]])"
      ]
     },
     "execution_count": 120,
     "metadata": {},
     "output_type": "execute_result"
    }
   ],
   "source": [
    "mod.predict_proba(X_test)"
   ]
  },
  {
   "cell_type": "code",
   "execution_count": 121,
   "metadata": {},
   "outputs": [
    {
     "data": {
      "text/plain": [
       "array([0, 1])"
      ]
     },
     "execution_count": 121,
     "metadata": {},
     "output_type": "execute_result"
    }
   ],
   "source": [
    "mod.classes_"
   ]
  },
  {
   "cell_type": "code",
   "execution_count": 122,
   "metadata": {},
   "outputs": [
    {
     "name": "stderr",
     "output_type": "stream",
     "text": [
      "C:\\Users\\sowmy\\anaconda3\\envs\\tens\\lib\\site-packages\\sklearn\\utils\\validation.py:72: DataConversionWarning: A column-vector y was passed when a 1d array was expected. Please change the shape of y to (n_samples, ), for example using ravel().\n",
      "  return f(**kwargs)\n",
      "C:\\Users\\sowmy\\anaconda3\\envs\\tens\\lib\\site-packages\\sklearn\\linear_model\\_logistic.py:764: ConvergenceWarning: lbfgs failed to converge (status=1):\n",
      "STOP: TOTAL NO. of ITERATIONS REACHED LIMIT.\n",
      "\n",
      "Increase the number of iterations (max_iter) or scale the data as shown in:\n",
      "    https://scikit-learn.org/stable/modules/preprocessing.html\n",
      "Please also refer to the documentation for alternative solver options:\n",
      "    https://scikit-learn.org/stable/modules/linear_model.html#logistic-regression\n",
      "  extra_warning_msg=_LOGISTIC_SOLVER_CONVERGENCE_MSG)\n",
      "C:\\Users\\sowmy\\anaconda3\\envs\\tens\\lib\\site-packages\\sklearn\\utils\\validation.py:72: DataConversionWarning: A column-vector y was passed when a 1d array was expected. Please change the shape of y to (n_samples, ), for example using ravel().\n",
      "  return f(**kwargs)\n",
      "C:\\Users\\sowmy\\anaconda3\\envs\\tens\\lib\\site-packages\\sklearn\\linear_model\\_logistic.py:764: ConvergenceWarning: lbfgs failed to converge (status=1):\n",
      "STOP: TOTAL NO. of ITERATIONS REACHED LIMIT.\n",
      "\n",
      "Increase the number of iterations (max_iter) or scale the data as shown in:\n",
      "    https://scikit-learn.org/stable/modules/preprocessing.html\n",
      "Please also refer to the documentation for alternative solver options:\n",
      "    https://scikit-learn.org/stable/modules/linear_model.html#logistic-regression\n",
      "  extra_warning_msg=_LOGISTIC_SOLVER_CONVERGENCE_MSG)\n",
      "C:\\Users\\sowmy\\anaconda3\\envs\\tens\\lib\\site-packages\\sklearn\\utils\\validation.py:72: DataConversionWarning: A column-vector y was passed when a 1d array was expected. Please change the shape of y to (n_samples, ), for example using ravel().\n",
      "  return f(**kwargs)\n",
      "C:\\Users\\sowmy\\anaconda3\\envs\\tens\\lib\\site-packages\\sklearn\\linear_model\\_logistic.py:764: ConvergenceWarning: lbfgs failed to converge (status=1):\n",
      "STOP: TOTAL NO. of ITERATIONS REACHED LIMIT.\n",
      "\n",
      "Increase the number of iterations (max_iter) or scale the data as shown in:\n",
      "    https://scikit-learn.org/stable/modules/preprocessing.html\n",
      "Please also refer to the documentation for alternative solver options:\n",
      "    https://scikit-learn.org/stable/modules/linear_model.html#logistic-regression\n",
      "  extra_warning_msg=_LOGISTIC_SOLVER_CONVERGENCE_MSG)\n",
      "C:\\Users\\sowmy\\anaconda3\\envs\\tens\\lib\\site-packages\\sklearn\\utils\\validation.py:72: DataConversionWarning: A column-vector y was passed when a 1d array was expected. Please change the shape of y to (n_samples, ), for example using ravel().\n",
      "  return f(**kwargs)\n",
      "C:\\Users\\sowmy\\anaconda3\\envs\\tens\\lib\\site-packages\\sklearn\\linear_model\\_logistic.py:764: ConvergenceWarning: lbfgs failed to converge (status=1):\n",
      "STOP: TOTAL NO. of ITERATIONS REACHED LIMIT.\n",
      "\n",
      "Increase the number of iterations (max_iter) or scale the data as shown in:\n",
      "    https://scikit-learn.org/stable/modules/preprocessing.html\n",
      "Please also refer to the documentation for alternative solver options:\n",
      "    https://scikit-learn.org/stable/modules/linear_model.html#logistic-regression\n",
      "  extra_warning_msg=_LOGISTIC_SOLVER_CONVERGENCE_MSG)\n",
      "C:\\Users\\sowmy\\anaconda3\\envs\\tens\\lib\\site-packages\\sklearn\\utils\\validation.py:72: DataConversionWarning: A column-vector y was passed when a 1d array was expected. Please change the shape of y to (n_samples, ), for example using ravel().\n",
      "  return f(**kwargs)\n",
      "C:\\Users\\sowmy\\anaconda3\\envs\\tens\\lib\\site-packages\\sklearn\\linear_model\\_logistic.py:764: ConvergenceWarning: lbfgs failed to converge (status=1):\n",
      "STOP: TOTAL NO. of ITERATIONS REACHED LIMIT.\n",
      "\n",
      "Increase the number of iterations (max_iter) or scale the data as shown in:\n",
      "    https://scikit-learn.org/stable/modules/preprocessing.html\n",
      "Please also refer to the documentation for alternative solver options:\n",
      "    https://scikit-learn.org/stable/modules/linear_model.html#logistic-regression\n",
      "  extra_warning_msg=_LOGISTIC_SOLVER_CONVERGENCE_MSG)\n"
     ]
    }
   ],
   "source": [
    "from sklearn.model_selection import cross_val_score\n",
    "crossval_scores = cross_val_score(linear_model.LogisticRegression(), x_train, train_y, scoring='roc_auc', cv=5)"
   ]
  },
  {
   "cell_type": "code",
   "execution_count": 123,
   "metadata": {},
   "outputs": [
    {
     "data": {
      "text/plain": [
       "array([0.5373096 , 0.56790271, 0.60150335, 0.75958234, 0.80600184])"
      ]
     },
     "execution_count": 123,
     "metadata": {},
     "output_type": "execute_result"
    }
   ],
   "source": [
    "crossval_scores"
   ]
  },
  {
   "cell_type": "code",
   "execution_count": 124,
   "metadata": {},
   "outputs": [],
   "source": [
    "#creating dataframe for kfold\n",
    "kfold = pd.DataFrame(crossval_scores)"
   ]
  },
  {
   "cell_type": "code",
   "execution_count": 125,
   "metadata": {},
   "outputs": [
    {
     "data": {
      "text/html": [
       "<div>\n",
       "<style scoped>\n",
       "    .dataframe tbody tr th:only-of-type {\n",
       "        vertical-align: middle;\n",
       "    }\n",
       "\n",
       "    .dataframe tbody tr th {\n",
       "        vertical-align: top;\n",
       "    }\n",
       "\n",
       "    .dataframe thead th {\n",
       "        text-align: right;\n",
       "    }\n",
       "</style>\n",
       "<table border=\"1\" class=\"dataframe\">\n",
       "  <thead>\n",
       "    <tr style=\"text-align: right;\">\n",
       "      <th></th>\n",
       "      <th>0</th>\n",
       "    </tr>\n",
       "  </thead>\n",
       "  <tbody>\n",
       "    <tr>\n",
       "      <th>0</th>\n",
       "      <td>0.537310</td>\n",
       "    </tr>\n",
       "    <tr>\n",
       "      <th>1</th>\n",
       "      <td>0.567903</td>\n",
       "    </tr>\n",
       "    <tr>\n",
       "      <th>2</th>\n",
       "      <td>0.601503</td>\n",
       "    </tr>\n",
       "    <tr>\n",
       "      <th>3</th>\n",
       "      <td>0.759582</td>\n",
       "    </tr>\n",
       "    <tr>\n",
       "      <th>4</th>\n",
       "      <td>0.806002</td>\n",
       "    </tr>\n",
       "  </tbody>\n",
       "</table>\n",
       "</div>"
      ],
      "text/plain": [
       "          0\n",
       "0  0.537310\n",
       "1  0.567903\n",
       "2  0.601503\n",
       "3  0.759582\n",
       "4  0.806002"
      ]
     },
     "execution_count": 125,
     "metadata": {},
     "output_type": "execute_result"
    }
   ],
   "source": [
    "kfold.head()"
   ]
  },
  {
   "cell_type": "code",
   "execution_count": 126,
   "metadata": {},
   "outputs": [],
   "source": [
    "kfold.columns = ['AUC']\n"
   ]
  },
  {
   "cell_type": "code",
   "execution_count": 127,
   "metadata": {},
   "outputs": [
    {
     "data": {
      "text/html": [
       "<div>\n",
       "<style scoped>\n",
       "    .dataframe tbody tr th:only-of-type {\n",
       "        vertical-align: middle;\n",
       "    }\n",
       "\n",
       "    .dataframe tbody tr th {\n",
       "        vertical-align: top;\n",
       "    }\n",
       "\n",
       "    .dataframe thead th {\n",
       "        text-align: right;\n",
       "    }\n",
       "</style>\n",
       "<table border=\"1\" class=\"dataframe\">\n",
       "  <thead>\n",
       "    <tr style=\"text-align: right;\">\n",
       "      <th></th>\n",
       "      <th>AUC</th>\n",
       "    </tr>\n",
       "  </thead>\n",
       "  <tbody>\n",
       "    <tr>\n",
       "      <th>0</th>\n",
       "      <td>0.537310</td>\n",
       "    </tr>\n",
       "    <tr>\n",
       "      <th>1</th>\n",
       "      <td>0.567903</td>\n",
       "    </tr>\n",
       "    <tr>\n",
       "      <th>2</th>\n",
       "      <td>0.601503</td>\n",
       "    </tr>\n",
       "    <tr>\n",
       "      <th>3</th>\n",
       "      <td>0.759582</td>\n",
       "    </tr>\n",
       "    <tr>\n",
       "      <th>4</th>\n",
       "      <td>0.806002</td>\n",
       "    </tr>\n",
       "  </tbody>\n",
       "</table>\n",
       "</div>"
      ],
      "text/plain": [
       "        AUC\n",
       "0  0.537310\n",
       "1  0.567903\n",
       "2  0.601503\n",
       "3  0.759582\n",
       "4  0.806002"
      ]
     },
     "execution_count": 127,
     "metadata": {},
     "output_type": "execute_result"
    }
   ],
   "source": [
    "kfold.head()"
   ]
  },
  {
   "cell_type": "code",
   "execution_count": 128,
   "metadata": {},
   "outputs": [],
   "source": [
    "#saving as csv file \n",
    "kfold.to_csv('kfold.csv')"
   ]
  },
  {
   "cell_type": "code",
   "execution_count": 129,
   "metadata": {},
   "outputs": [
    {
     "data": {
      "text/plain": [
       "array([[0.96421598, 0.03578402],\n",
       "       [0.96509284, 0.03490716],\n",
       "       [0.99689414, 0.00310586],\n",
       "       ...,\n",
       "       [0.9288855 , 0.0711145 ],\n",
       "       [0.97460307, 0.02539693],\n",
       "       [0.89979891, 0.10020109]])"
      ]
     },
     "execution_count": 129,
     "metadata": {},
     "output_type": "execute_result"
    }
   ],
   "source": [
    "#probability prediction for X_test\n",
    "mod.predict_proba(X_test)"
   ]
  },
  {
   "cell_type": "code",
   "execution_count": 130,
   "metadata": {},
   "outputs": [
    {
     "data": {
      "text/plain": [
       "(array([0.        , 0.        , 0.        , ..., 0.99734275, 0.99735989,\n",
       "        1.        ]),\n",
       " array([0.00000000e+00, 1.37419266e-04, 4.12257799e-04, ...,\n",
       "        1.00000000e+00, 1.00000000e+00, 1.00000000e+00]),\n",
       " array([1.55780879e+00, 5.57808788e-01, 4.28031726e-01, ...,\n",
       "        1.69655561e-03, 1.69446650e-03, 1.12139492e-04]))"
      ]
     },
     "execution_count": 130,
     "metadata": {},
     "output_type": "execute_result"
    }
   ],
   "source": [
    "#RocCurve\n",
    "import sklearn.metrics as metrics\n",
    "metrics.roc_curve(y_test,mod.predict_proba(X_test)[:,1])"
   ]
  },
  {
   "cell_type": "code",
   "execution_count": 131,
   "metadata": {},
   "outputs": [],
   "source": [
    "fpr,tpr,thresholds=metrics.roc_curve(y_test,mod.predict_proba(X_test)[:,1])"
   ]
  },
  {
   "cell_type": "code",
   "execution_count": 134,
   "metadata": {},
   "outputs": [
    {
     "data": {
      "text/plain": [
       "[<matplotlib.lines.Line2D at 0x2387b9a51c8>]"
      ]
     },
     "execution_count": 134,
     "metadata": {},
     "output_type": "execute_result"
    },
    {
     "data": {
      "image/png": "[encoded data removed]",
      "text/plain": [
       "<Figure size 432x288 with 1 Axes>"
      ]
     },
     "metadata": {
      "needs_background": "light"
     },
     "output_type": "display_data"
    }
   ],
   "source": [
    "plt.plot(fpr,tpr,\"-\")"
   ]
  },
  {
   "cell_type": "code",
   "execution_count": 135,
   "metadata": {},
   "outputs": [
    {
     "data": {
      "text/plain": [
       "0.7039749952156746"
      ]
     },
     "execution_count": 135,
     "metadata": {},
     "output_type": "execute_result"
    }
   ],
   "source": [
    "metrics.roc_auc_score(y_test,mod.predict_proba(X_test)[:,1])"
   ]
  },
  {
   "cell_type": "code",
   "execution_count": 136,
   "metadata": {},
   "outputs": [
    {
     "data": {
      "text/plain": [
       "array([[116662,      0],\n",
       "       [  7276,      1]], dtype=int64)"
      ]
     },
     "execution_count": 136,
     "metadata": {},
     "output_type": "execute_result"
    }
   ],
   "source": [
    "metrics.confusion_matrix(y_test,mod.predict(X_test))"
   ]
  },
  {
   "cell_type": "code",
   "execution_count": 137,
   "metadata": {},
   "outputs": [
    {
     "name": "stdout",
     "output_type": "stream",
     "text": [
      "              precision    recall  f1-score   support\n",
      "\n",
      "           0       0.94      1.00      0.97    116662\n",
      "           1       1.00      0.00      0.00      7277\n",
      "\n",
      "    accuracy                           0.94    123939\n",
      "   macro avg       0.97      0.50      0.49    123939\n",
      "weighted avg       0.94      0.94      0.91    123939\n",
      "\n"
     ]
    }
   ],
   "source": [
    "print(metrics.classification_report(y_test,mod.predict(X_test)))"
   ]
  },
  {
   "cell_type": "code",
   "execution_count": 138,
   "metadata": {},
   "outputs": [],
   "source": [
    "from sklearn.ensemble import RandomForestClassifier"
   ]
  },
  {
   "cell_type": "code",
   "execution_count": 139,
   "metadata": {},
   "outputs": [],
   "source": [
    "clf1=RandomForestClassifier(n_estimators=80,oob_score=True,n_jobs=-1,random_state=400)"
   ]
  },
  {
   "cell_type": "code",
   "execution_count": 140,
   "metadata": {},
   "outputs": [
    {
     "data": {
      "text/plain": [
       "RandomForestClassifier(n_estimators=80, n_jobs=-1, oob_score=True,\n",
       "                       random_state=400)"
      ]
     },
     "execution_count": 140,
     "metadata": {},
     "output_type": "execute_result"
    }
   ],
   "source": [
    "clf1.fit(X_train,y_train)"
   ]
  },
  {
   "cell_type": "code",
   "execution_count": 141,
   "metadata": {},
   "outputs": [
    {
     "data": {
      "text/plain": [
       "0.9395486471112688"
      ]
     },
     "execution_count": 141,
     "metadata": {},
     "output_type": "execute_result"
    }
   ],
   "source": [
    "clf1.oob_score_"
   ]
  },
  {
   "cell_type": "code",
   "execution_count": 142,
   "metadata": {},
   "outputs": [
    {
     "data": {
      "text/plain": [
       "array([0.00097417, 0.00135313, 0.00322171, 0.00079599, 0.0008467 ,\n",
       "       0.00150793, 0.00074641, 0.00207308, 0.00067902, 0.00092046,\n",
       "       0.00077609, 0.00098033, 0.00054213, 0.00165062, 0.0007765 ,\n",
       "       0.0006774 , 0.00076341, 0.00107981, 0.00074205, 0.00065587,\n",
       "       0.00047421, 0.00059556, 0.00093459, 0.0006656 , 0.00117994,\n",
       "       0.00058545, 0.00061111, 0.00222862, 0.001488  , 0.00091597,\n",
       "       0.00109971, 0.00074453, 0.00046421, 0.0017409 , 0.00083814,\n",
       "       0.00062535, 0.00067284, 0.00056093, 0.00066934, 0.00066071,\n",
       "       0.00075186, 0.00046711, 0.00077343, 0.00146918, 0.00092546,\n",
       "       0.00168937, 0.00120025, 0.00096935, 0.00066762, 0.00089958,\n",
       "       0.00061776, 0.00059316, 0.00216611, 0.00080579, 0.00065463,\n",
       "       0.00063304, 0.00103948, 0.00111897, 0.00044363, 0.000874  ,\n",
       "       0.00073758, 0.00132809, 0.00068229, 0.00090953, 0.00095065,\n",
       "       0.00137108, 0.00081973, 0.00089369, 0.0009379 , 0.00105702,\n",
       "       0.00066691, 0.00119608, 0.00102336, 0.00182603, 0.00186781,\n",
       "       0.001133  , 0.00096224, 0.00063074, 0.00075195, 0.00233968,\n",
       "       0.00299092, 0.00069565, 0.00071756, 0.00086356, 0.0009863 ,\n",
       "       0.00099534, 0.00104185, 0.00137101, 0.00098305, 0.00057628,\n",
       "       0.00150374, 0.001318  , 0.00033906, 0.00068052, 0.00044296,\n",
       "       0.00096702, 0.00093031, 0.00059087, 0.0005831 , 0.00053532,\n",
       "       0.00082981, 0.00065243, 0.00046642, 0.00110124, 0.00068845,\n",
       "       0.00111052, 0.0009873 , 0.00076871, 0.00077581, 0.00122235,\n",
       "       0.00063003, 0.00153022, 0.00101   , 0.00124483, 0.00140895,\n",
       "       0.00068507, 0.0008824 , 0.00119108, 0.00093229, 0.00059067,\n",
       "       0.00131608, 0.00212047, 0.00062717, 0.00068226, 0.00081622,\n",
       "       0.00064747, 0.00117845, 0.00079875, 0.00149743, 0.0032507 ,\n",
       "       0.00072057, 0.00093941, 0.00126687, 0.00068491, 0.0041944 ,\n",
       "       0.00121032, 0.00121173, 0.0009252 , 0.0008575 , 0.00063626,\n",
       "       0.00066524, 0.00160981, 0.00082962, 0.00075463, 0.00294867,\n",
       "       0.0004702 , 0.00095176, 0.00083575, 0.00092156, 0.00087955,\n",
       "       0.00108567, 0.00080578, 0.00076008, 0.00085215, 0.00176362,\n",
       "       0.00094466, 0.00097525, 0.00100919, 0.00087794, 0.00054474,\n",
       "       0.00114178, 0.00109785, 0.00070596, 0.00091058, 0.00074145,\n",
       "       0.00066148, 0.0002991 , 0.00091201, 0.00102159, 0.00127687,\n",
       "       0.00072178, 0.00060511, 0.00087134, 0.00076745, 0.00070186,\n",
       "       0.00064433, 0.00194096, 0.00071875, 0.00101876, 0.00127147,\n",
       "       0.00085176, 0.00106198, 0.00083143, 0.00072064, 0.0010769 ,\n",
       "       0.00111841, 0.00118302, 0.0012745 , 0.00062297, 0.00068556,\n",
       "       0.00166175, 0.00073339, 0.00064695, 0.00281544, 0.00074951,\n",
       "       0.00086211, 0.00058054, 0.00056498, 0.00147649, 0.00073558,\n",
       "       0.00087887, 0.00053109, 0.00119395, 0.00143293, 0.00082613,\n",
       "       0.00077031, 0.00091017, 0.00103433, 0.0018367 , 0.00123225,\n",
       "       0.00073747, 0.00102032, 0.00050166, 0.00090229, 0.00073865,\n",
       "       0.00059775, 0.00117307, 0.00169085, 0.00111346, 0.00101933,\n",
       "       0.00106951, 0.00079221, 0.00099709, 0.00111717, 0.0012412 ,\n",
       "       0.00106926, 0.00074413, 0.00163121, 0.00069478, 0.00073477,\n",
       "       0.00079411, 0.00051162, 0.0004621 , 0.00166524, 0.00106079,\n",
       "       0.00086105, 0.00059948, 0.00072985, 0.00087166, 0.00077655,\n",
       "       0.00063003, 0.00049439, 0.00194378, 0.00061896, 0.00109346,\n",
       "       0.00072348, 0.00107482, 0.00085478, 0.00071437, 0.00050816,\n",
       "       0.00088483, 0.00093936, 0.00090448, 0.00086904, 0.00140542,\n",
       "       0.00063975, 0.00126093, 0.00170436, 0.00164206, 0.00110551,\n",
       "       0.00058307, 0.00090159, 0.00133658, 0.00056906, 0.0008367 ,\n",
       "       0.00054578, 0.00070577, 0.00085348, 0.00086292, 0.0013591 ,\n",
       "       0.00087435, 0.00056934, 0.0011282 , 0.00094383, 0.00073321,\n",
       "       0.00121181, 0.00057177, 0.00065986, 0.00179956, 0.00083848,\n",
       "       0.00127526, 0.00080586, 0.00195675, 0.00121924, 0.00054921,\n",
       "       0.0014595 , 0.0006676 , 0.00068435, 0.00082178, 0.00086558,\n",
       "       0.00083399, 0.00115002, 0.00068519, 0.00123736, 0.00066698,\n",
       "       0.00065057, 0.00057215, 0.00079111, 0.00157766, 0.00091659,\n",
       "       0.00086778, 0.00113435, 0.00149261, 0.00079559, 0.00089853,\n",
       "       0.00068151, 0.00076563, 0.00064256, 0.00068834, 0.00071147,\n",
       "       0.00049026, 0.00060086, 0.00059834, 0.00060409, 0.00087013,\n",
       "       0.0006553 , 0.00132952, 0.0008587 , 0.000774  , 0.0008241 ,\n",
       "       0.00067349, 0.00079136, 0.00079697, 0.00071001, 0.00072253,\n",
       "       0.00048379, 0.00154835, 0.00042606, 0.00109404, 0.00089014,\n",
       "       0.00074384, 0.00168662, 0.00086764, 0.00057776, 0.00128298,\n",
       "       0.00098532, 0.00065007, 0.00133381, 0.00075301, 0.00043818,\n",
       "       0.00042267, 0.00099965, 0.00056265, 0.00063432, 0.00085086,\n",
       "       0.00103362, 0.00075608, 0.00102257, 0.0012819 , 0.00103266,\n",
       "       0.00111386, 0.00127629, 0.00293261, 0.00113134, 0.00119242,\n",
       "       0.0005745 , 0.00192875, 0.00076238, 0.00187701, 0.00059913,\n",
       "       0.00081561, 0.00203973, 0.00076258, 0.00110364, 0.00155508,\n",
       "       0.00104639, 0.0009475 , 0.00068687, 0.00087646, 0.00087293,\n",
       "       0.00117865, 0.00115949, 0.00079494, 0.00198056, 0.00211241,\n",
       "       0.00078821, 0.00051624, 0.00068768, 0.00097579, 0.00068428,\n",
       "       0.00068757, 0.00389961, 0.00036231, 0.00067675, 0.0008266 ,\n",
       "       0.00187456, 0.00114413, 0.00094268, 0.00222352, 0.00087406,\n",
       "       0.00131551, 0.00076749, 0.00074359, 0.00052869, 0.0010472 ,\n",
       "       0.00071104, 0.00192388, 0.00093498, 0.00070396, 0.0012936 ,\n",
       "       0.00060573, 0.00063698, 0.00068434, 0.00093689, 0.00063059,\n",
       "       0.00103079, 0.00097203, 0.00063653, 0.00063682, 0.00158828,\n",
       "       0.0010968 , 0.00071808, 0.00207886, 0.0007056 , 0.0012121 ,\n",
       "       0.00075973, 0.00053044, 0.00088042, 0.00098213, 0.00053877,\n",
       "       0.00114574, 0.00118185, 0.00072221, 0.00095459, 0.00098578,\n",
       "       0.00093852, 0.00059672, 0.00069583, 0.00059934, 0.00126678,\n",
       "       0.00078517, 0.00087865, 0.00127306, 0.0009218 , 0.00097346,\n",
       "       0.00074613, 0.00094939, 0.00083761, 0.00077854, 0.00101294,\n",
       "       0.00070725, 0.00050343, 0.0006451 , 0.00125494, 0.00086967,\n",
       "       0.0005224 , 0.00082998, 0.00093247, 0.00095724, 0.00077965,\n",
       "       0.00105401, 0.00230447, 0.00081937, 0.00218191, 0.00078892,\n",
       "       0.00145466, 0.00087955, 0.00044475, 0.00050301, 0.00199145,\n",
       "       0.00135686, 0.00097404, 0.00060371, 0.0010472 , 0.00199274,\n",
       "       0.00062464, 0.00103464, 0.00045923, 0.001226  , 0.00043441,\n",
       "       0.00038001, 0.00079569, 0.00374927, 0.00067104, 0.00072018,\n",
       "       0.00094147, 0.00209382, 0.00366259, 0.00068878, 0.00050639,\n",
       "       0.00056705, 0.00079232, 0.00080152, 0.00071861, 0.0006583 ,\n",
       "       0.00079549, 0.00136179, 0.00094277, 0.00065783, 0.00070972,\n",
       "       0.00193553, 0.00067644, 0.00076756, 0.00127244, 0.00158244,\n",
       "       0.00212009, 0.00089827, 0.00061666, 0.0023705 , 0.00046962,\n",
       "       0.00121717, 0.00110606, 0.00109397, 0.00080496, 0.00138852,\n",
       "       0.00118466, 0.00138542, 0.00157454, 0.00185092, 0.00069508,\n",
       "       0.00090685, 0.00062543, 0.00087802, 0.00100325, 0.00065731,\n",
       "       0.00108074, 0.00084974, 0.00072916, 0.00117012, 0.0033311 ,\n",
       "       0.00072121, 0.00090886, 0.00081195, 0.00125797, 0.00121925,\n",
       "       0.0008153 , 0.00050942, 0.00056645, 0.00087342, 0.00144562,\n",
       "       0.00066354, 0.00053737, 0.00053123, 0.00059469, 0.00096389,\n",
       "       0.0005891 , 0.00287839, 0.00067823, 0.00060247, 0.00106303,\n",
       "       0.00075099, 0.00104261, 0.00133424, 0.00075701, 0.00079982,\n",
       "       0.00067722, 0.00089388, 0.00215155, 0.00070474, 0.00070129,\n",
       "       0.00190772, 0.0006667 , 0.00061589, 0.00063932, 0.00080488,\n",
       "       0.00083838, 0.00134604, 0.00049963, 0.0011091 , 0.00057523,\n",
       "       0.00122883, 0.00108175, 0.00089439, 0.00069069, 0.00082824,\n",
       "       0.00081457, 0.00080766, 0.0006528 , 0.00096346, 0.00068378,\n",
       "       0.00057597, 0.00063603, 0.00081977, 0.00162516, 0.00067805,\n",
       "       0.00088016, 0.00101961, 0.00346772, 0.00077608, 0.00093795,\n",
       "       0.00175587, 0.00065863, 0.00104246, 0.00321409, 0.00056955,\n",
       "       0.00072368, 0.00100892, 0.00080814, 0.00096665, 0.00094702,\n",
       "       0.00093276, 0.0007148 , 0.00084528, 0.00117232, 0.00087264,\n",
       "       0.00070523, 0.0010346 , 0.00152622, 0.00193836, 0.0014628 ,\n",
       "       0.00069507, 0.00083735, 0.00113382, 0.00067689, 0.00128989,\n",
       "       0.00055981, 0.00113953, 0.00095511, 0.0006138 , 0.00113899,\n",
       "       0.00097106, 0.00121549, 0.00079099, 0.0010156 , 0.0012754 ,\n",
       "       0.00046789, 0.00078889, 0.00070843, 0.00057992, 0.00109541,\n",
       "       0.00054032, 0.00065779, 0.00070131, 0.00074575, 0.00075259,\n",
       "       0.00070119, 0.00166638, 0.00081152, 0.0007104 , 0.00036618,\n",
       "       0.00176325, 0.00044813, 0.00057469, 0.00099455, 0.00062902,\n",
       "       0.00052479, 0.00109541, 0.0010789 , 0.00081355, 0.00126682,\n",
       "       0.0006374 , 0.00105082, 0.00144479, 0.00083905, 0.00179675,\n",
       "       0.00053413, 0.00092279, 0.00070626, 0.00056429, 0.00050491,\n",
       "       0.00082654, 0.00071086, 0.00061471, 0.00087425, 0.00082538,\n",
       "       0.00093195, 0.00134275, 0.00089119, 0.00069712, 0.0027174 ,\n",
       "       0.00083182, 0.00078796, 0.00055195, 0.00095661, 0.0012771 ,\n",
       "       0.00052864, 0.00066475, 0.00055014, 0.00085051, 0.00219211,\n",
       "       0.00110558, 0.00066181, 0.00082908, 0.00119608, 0.00166608,\n",
       "       0.00104531, 0.00070439, 0.0007409 , 0.00063609, 0.00110154,\n",
       "       0.00095521, 0.00074947, 0.00119672, 0.00052164, 0.00073881,\n",
       "       0.0011324 , 0.00279155, 0.00082534, 0.0007919 , 0.00079776,\n",
       "       0.00173077, 0.00320226, 0.00079896, 0.00054146, 0.00086317,\n",
       "       0.00075211, 0.00064147, 0.00082339, 0.00082641, 0.00092517,\n",
       "       0.00130214, 0.00110293, 0.00055106, 0.00067456, 0.00059778,\n",
       "       0.00119987, 0.00127619, 0.00071599, 0.00061156, 0.00064043,\n",
       "       0.00063043, 0.00115622, 0.00091667, 0.00059002, 0.00054047,\n",
       "       0.00058493, 0.00198532, 0.00040622, 0.0011285 , 0.00181298,\n",
       "       0.00069125, 0.0005755 , 0.0011037 , 0.00081307, 0.00212325,\n",
       "       0.00066826, 0.00080423, 0.00070843, 0.00052467, 0.00084534,\n",
       "       0.00150181, 0.00149774, 0.00113298, 0.00066191, 0.00078022,\n",
       "       0.00106751, 0.00110034, 0.00065796, 0.00096685, 0.00137585,\n",
       "       0.00487123, 0.00076839, 0.00069289, 0.00061218, 0.0006497 ,\n",
       "       0.00048642, 0.00152345, 0.0006633 , 0.00047236, 0.0011602 ,\n",
       "       0.001342  , 0.00172441, 0.00072788, 0.00071455, 0.00053595,\n",
       "       0.00064828, 0.00131576, 0.00062403, 0.00075741, 0.00055748,\n",
       "       0.0007459 , 0.00089965, 0.00066642, 0.00104181, 0.00081237,\n",
       "       0.00073662, 0.00067525, 0.00143541, 0.00079294, 0.00082323,\n",
       "       0.00152155, 0.00075012, 0.00091385, 0.00066122, 0.00060666,\n",
       "       0.00081649, 0.00085866, 0.00086394, 0.00116324, 0.00094711,\n",
       "       0.00052035, 0.00046466, 0.00109245, 0.00264636, 0.00069601,\n",
       "       0.0017623 , 0.00078648, 0.00075948, 0.00089356, 0.00133279,\n",
       "       0.00077019, 0.00060005, 0.00087484, 0.00047631, 0.0006197 ,\n",
       "       0.00068052, 0.00059666, 0.0007906 , 0.00075967, 0.00047925,\n",
       "       0.00115846, 0.00106645, 0.00102691, 0.00066049, 0.0013112 ,\n",
       "       0.00067957, 0.00088188, 0.00080063, 0.00063952, 0.00094662,\n",
       "       0.00099225, 0.00071954, 0.00065932, 0.00086698, 0.00119464,\n",
       "       0.00065581, 0.00103213, 0.00065445, 0.00069652, 0.00097486,\n",
       "       0.00078516, 0.00055325, 0.00074309, 0.00144631, 0.00142343,\n",
       "       0.0008075 , 0.00081143, 0.00116677, 0.00126479, 0.00100328,\n",
       "       0.00229537, 0.0053944 , 0.00185627, 0.00102569, 0.00098263,\n",
       "       0.0004262 , 0.00051721, 0.00063393, 0.00075548, 0.00080993,\n",
       "       0.00154307, 0.00051813, 0.00080376, 0.00080092, 0.00066813,\n",
       "       0.00068419, 0.00059581, 0.00068975, 0.00058715, 0.00081885,\n",
       "       0.00084665, 0.00066424, 0.00072692, 0.00053078, 0.00136237,\n",
       "       0.00086767, 0.00088949, 0.00127812, 0.00057514, 0.00182546,\n",
       "       0.00109566, 0.00061277, 0.00097867, 0.00093934, 0.00076275,\n",
       "       0.00106816, 0.0007105 , 0.00077276, 0.00099624, 0.00118046,\n",
       "       0.00082467, 0.00097884, 0.00063324, 0.00093692, 0.00087981,\n",
       "       0.00059206, 0.00075344, 0.00069915, 0.00101008, 0.00146969,\n",
       "       0.00134219, 0.00163915, 0.00065129, 0.0017119 , 0.00080312,\n",
       "       0.00089423, 0.00076263, 0.00041101, 0.00058678, 0.00071808,\n",
       "       0.00083284, 0.00068291, 0.00053233, 0.00070393, 0.00075442,\n",
       "       0.00366046, 0.00080038, 0.00036015, 0.00210791, 0.00135982,\n",
       "       0.00136683, 0.00088381, 0.00056385, 0.00191373, 0.00071057,\n",
       "       0.00062788, 0.00101327, 0.00074177, 0.00050357, 0.00105015,\n",
       "       0.00127164, 0.0015662 , 0.00122348, 0.00096939, 0.00059222,\n",
       "       0.00117615, 0.00094079, 0.00156217, 0.00123557, 0.00098832,\n",
       "       0.00281348, 0.00082123, 0.00106754, 0.00116359, 0.00090965,\n",
       "       0.00079048, 0.0005225 , 0.00106881, 0.001448  , 0.00052861,\n",
       "       0.00091658, 0.00067106, 0.00070477, 0.00071522, 0.00053613,\n",
       "       0.00096313, 0.00129278, 0.00097458, 0.00089074, 0.00087853,\n",
       "       0.00065364, 0.00066691, 0.00064847, 0.00125894, 0.00123992,\n",
       "       0.0010254 , 0.00103949, 0.0007342 , 0.00147002, 0.00296701,\n",
       "       0.00061384, 0.00176041, 0.00176837, 0.00061378, 0.00065863,\n",
       "       0.00076122, 0.00152982, 0.00096442, 0.00083076, 0.00076357,\n",
       "       0.00079627, 0.00096787, 0.00061405, 0.00098877, 0.0006308 ,\n",
       "       0.00078795, 0.00067605, 0.00282424, 0.00065182, 0.00109861,\n",
       "       0.00061822, 0.00058136, 0.00219137, 0.00071782, 0.00132766,\n",
       "       0.00099524, 0.00053128, 0.00076847, 0.00103009, 0.0012347 ,\n",
       "       0.00095941, 0.00126669, 0.00302111, 0.00084907, 0.0006125 ,\n",
       "       0.00170085, 0.00066505, 0.00258537, 0.0006296 , 0.00124573,\n",
       "       0.00082466, 0.00167088, 0.00075031, 0.00282568, 0.00090261,\n",
       "       0.00183647, 0.00069446, 0.00065775, 0.00052615, 0.00154194])"
      ]
     },
     "execution_count": 142,
     "metadata": {},
     "output_type": "execute_result"
    }
   ],
   "source": [
    "clf1.feature_importances_"
   ]
  },
  {
   "cell_type": "code",
   "execution_count": 143,
   "metadata": {},
   "outputs": [],
   "source": [
    "imp_feat=pd.Series(clf1.feature_importances_)"
   ]
  },
  {
   "cell_type": "code",
   "execution_count": 144,
   "metadata": {},
   "outputs": [
    {
     "data": {
      "text/plain": [
       "831    0.005394\n",
       "740    0.004871\n",
       "134    0.004194\n",
       "381    0.003900\n",
       "472    0.003749\n",
       "         ...   \n",
       "629    0.000366\n",
       "382    0.000362\n",
       "897    0.000360\n",
       "92     0.000339\n",
       "166    0.000299\n",
       "Length: 1000, dtype: float64"
      ]
     },
     "execution_count": 144,
     "metadata": {},
     "output_type": "execute_result"
    }
   ],
   "source": [
    "imp_feat.sort_values(ascending=False)"
   ]
  },
  {
   "cell_type": "code",
   "execution_count": 145,
   "metadata": {},
   "outputs": [
    {
     "data": {
      "text/plain": [
       "[array([[0.025 , 0.975 ],\n",
       "        [0.075 , 0.925 ],\n",
       "        [0.    , 1.    ],\n",
       "        ...,\n",
       "        [0.05  , 0.95  ],\n",
       "        [0.0375, 0.9625],\n",
       "        [0.0625, 0.9375]]),\n",
       " array([[0.975 , 0.025 ],\n",
       "        [0.925 , 0.075 ],\n",
       "        [1.    , 0.    ],\n",
       "        ...,\n",
       "        [0.95  , 0.05  ],\n",
       "        [0.9625, 0.0375],\n",
       "        [0.9375, 0.0625]])]"
      ]
     },
     "execution_count": 145,
     "metadata": {},
     "output_type": "execute_result"
    }
   ],
   "source": [
    "clf1.predict_proba(X_test)"
   ]
  },
  {
   "cell_type": "code",
   "execution_count": null,
   "metadata": {},
   "outputs": [],
   "source": []
  },
  {
   "cell_type": "code",
   "execution_count": null,
   "metadata": {},
   "outputs": [],
   "source": []
  }
 ],
 "metadata": {
  "kernelspec": {
   "display_name": "Python 3",
   "language": "python",
   "name": "python3"
  },
  "language_info": {
   "codemirror_mode": {
    "name": "ipython",
    "version": 3
   },
   "file_extension": ".py",
   "mimetype": "text/x-python",
   "name": "python",
   "nbconvert_exporter": "python",
   "pygments_lexer": "ipython3",
   "version": "3.7.9"
  }
 },
 "nbformat": 4,
 "nbformat_minor": 4
}
